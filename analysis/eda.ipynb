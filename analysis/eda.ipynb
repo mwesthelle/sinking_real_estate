{
 "cells": [
  {
   "cell_type": "markdown",
   "metadata": {},
   "source": [
    "# Análise Exploratória de Dados"
   ]
  },
  {
   "cell_type": "markdown",
   "metadata": {},
   "source": [
    "## Preparação"
   ]
  },
  {
   "cell_type": "code",
   "execution_count": 322,
   "metadata": {},
   "outputs": [],
   "source": [
    "import warnings\n",
    "\n",
    "import polars as pl\n",
    "\n",
    "from df_utils import (\n",
    "    get_list_column_max_len,\n",
    "    normalize_schemas,\n",
    "    one_hot_encode_list_column,\n",
    ")\n",
    "from geo_location import extract_polygons_from_folder, mark_points_in_polygons\n",
    "\n",
    "warnings.filterwarnings('ignore', category=pl.exceptions.MapWithoutReturnDtypeWarning)"
   ]
  },
  {
   "cell_type": "markdown",
   "metadata": {},
   "source": [
    "## Leitura de dados\n",
    "\n",
    "Os dados se encontram no formato NDJSON, também conhecido como JSONLines,\n",
    "em que há um objeto JSON por linha no arquivo."
   ]
  },
  {
   "cell_type": "code",
   "execution_count": 323,
   "metadata": {},
   "outputs": [],
   "source": [
    "neighborhoods = [\"cidade_baixa\", \"centro_historico\", \"menino_deus\", \"sarandi\"]\n",
    "\n",
    "neighborhoods_df_map = {\n",
    "    neighborhood: pl.read_ndjson(f\"data/{neighborhood}_listings.json\")\n",
    "    for neighborhood in neighborhoods\n",
    "}"
   ]
  },
  {
   "cell_type": "markdown",
   "metadata": {},
   "source": [
    "## Entendimento dos dados e pré-processamento"
   ]
  },
  {
   "cell_type": "markdown",
   "metadata": {},
   "source": [
    "Gostaríamos de concatenar os dados das diferentes fontes, para facilitar a análise."
   ]
  },
  {
   "cell_type": "code",
   "execution_count": 324,
   "metadata": {},
   "outputs": [
    {
     "name": "stdout",
     "output_type": "stream",
     "text": [
      "Os dados não têm esquema homogêneo.\n"
     ]
    }
   ],
   "source": [
    "try:\n",
    "    pl.concat(neighborhoods_df_map.values())\n",
    "except pl.exceptions.SchemaError:\n",
    "    print(\"Os dados não têm esquema homogêneo.\")"
   ]
  },
  {
   "cell_type": "markdown",
   "metadata": {},
   "source": [
    "A concatenação direta não é possível, pois a estrutura dos dados não é homogênea."
   ]
  },
  {
   "cell_type": "code",
   "execution_count": 325,
   "metadata": {},
   "outputs": [
    {
     "name": "stdout",
     "output_type": "stream",
     "text": [
      "cidade_baixa\n",
      "============\n",
      "Schema([('listing', Struct({'legacyId': String, 'amenities': List(String), 'title': String, 'unitTypes': List(String), 'updatedAt': String, 'resale': Boolean, 'address': Struct({'city': String, 'neighborhood': String, 'street': String, 'streetNumber': String, 'point': Struct({'source': String, 'approximateLat': Float64, 'approximateLon': Float64, 'radius': Int64, 'lat': Float64, 'lon': Float64}), 'stateAcronym': String}), 'nonActivationReason': String, 'parkingSpaces': List(Int64), 'portal': String, 'whatsappNumber': String, 'acceptExchange': Boolean, 'listingsCount': Int64, 'createdAt': String, 'bedrooms': List(Int64), 'advertiserId': String, 'floors': List(Int64), 'totalAreas': List(Int64), 'listingType': String, 'unitsOnTheFloor': Int64, 'publicationType': String, 'advertiserContact': Struct({'chat': String, 'phones': List(String)}), 'showPrice': Boolean, 'providerId': String, 'id': String, 'externalId': String, 'buildings': Int64, 'bathrooms': List(Int64), 'constructionStatus': String, 'stamps': List(String), 'capacityLimit': List(Int64), 'status': String, 'contractType': String, 'pricingInfos': List(Struct({'businessType': String, 'yearlyIptu': Int64, 'price': Int64, 'monthlyCondoFee': Int64, 'rentalInfo': Struct({'period': String, 'warranties': List(Null)})})), 'unitFloor': Int64, 'sourceId': String, 'usableAreas': List(Int64), 'suites': List(Int64), 'displayAddressType': String, 'description': String, 'usageTypes': List(String), 'propertyType': String, 'unitSubTypes': List(String)})), ('account', Struct({'id': String, 'name': String, 'logoUrl': String, 'licenseNumber': String, 'showAddress': Boolean, 'legacyVivarealId': Int64, 'legacyZapId': Int64, 'createdDate': String, 'tier': String})), ('medias', List(Struct({'id': String, 'url': String, 'type': String}))), ('accountLink', Struct({'name': String, 'href': String, 'rel': String, 'data': Struct({})})), ('link', Struct({'name': String, 'href': String, 'rel': String, 'data': Struct({'city': String, 'neighborhood': String, 'state': String, 'street': String, 'streetNumber': String, 'zone': String})}))])\n",
      "\n",
      "centro_historico\n",
      "================\n",
      "Schema([('listing', Struct({'legacyId': String, 'amenities': List(String), 'title': String, 'unitTypes': List(String), 'updatedAt': String, 'resale': Boolean, 'address': Struct({'city': String, 'neighborhood': String, 'street': String, 'streetNumber': String, 'point': Struct({'source': String, 'approximateLat': Float64, 'approximateLon': Float64, 'radius': Int64, 'lat': Float64, 'lon': Float64}), 'stateAcronym': String}), 'nonActivationReason': String, 'parkingSpaces': List(Int64), 'portal': String, 'whatsappNumber': String, 'acceptExchange': Boolean, 'listingsCount': Int64, 'createdAt': String, 'bedrooms': List(Int64), 'advertiserId': String, 'floors': List(Int64), 'totalAreas': List(Int64), 'listingType': String, 'unitsOnTheFloor': Int64, 'publicationType': String, 'advertiserContact': Struct({'chat': String, 'phones': List(String)}), 'showPrice': Boolean, 'providerId': String, 'id': String, 'externalId': String, 'buildings': Int64, 'bathrooms': List(Int64), 'constructionStatus': String, 'stamps': List(String), 'capacityLimit': List(Null), 'status': String, 'contractType': String, 'pricingInfos': List(Struct({'businessType': String, 'yearlyIptu': Int64, 'price': Int64, 'monthlyCondoFee': Int64, 'rentalInfo': Struct({'period': String, 'warranties': List(Null), 'monthlyRentalTotalPrice': Int64})})), 'unitFloor': Int64, 'sourceId': String, 'usableAreas': List(Int64), 'suites': List(Int64), 'displayAddressType': String, 'description': String, 'usageTypes': List(String), 'propertyType': String, 'unitSubTypes': List(String)})), ('account', Struct({'id': String, 'name': String, 'logoUrl': String, 'licenseNumber': String, 'showAddress': Boolean, 'legacyVivarealId': Int64, 'legacyZapId': Int64, 'createdDate': String, 'tier': String})), ('medias', List(Struct({'id': String, 'url': String, 'type': String}))), ('accountLink', Struct({'name': String, 'href': String, 'rel': String, 'data': Struct({})})), ('link', Struct({'name': String, 'href': String, 'rel': String, 'data': Struct({'city': String, 'neighborhood': String, 'state': String, 'street': String, 'streetNumber': String, 'zone': String})}))])\n",
      "\n",
      "menino_deus\n",
      "===========\n",
      "Schema([('listing', Struct({'legacyId': String, 'amenities': List(String), 'title': String, 'unitTypes': List(String), 'updatedAt': String, 'resale': Boolean, 'address': Struct({'city': String, 'neighborhood': String, 'street': String, 'streetNumber': String, 'point': Struct({'source': String, 'approximateLat': Float64, 'approximateLon': Float64, 'radius': Int64, 'lat': Float64, 'lon': Float64}), 'stateAcronym': String}), 'nonActivationReason': String, 'parkingSpaces': List(Int64), 'portal': String, 'whatsappNumber': String, 'acceptExchange': Boolean, 'listingsCount': Int64, 'createdAt': String, 'bedrooms': List(Int64), 'advertiserId': String, 'floors': List(Int64), 'totalAreas': List(Int64), 'listingType': String, 'unitsOnTheFloor': Int64, 'publicationType': String, 'advertiserContact': Struct({'chat': String, 'phones': List(String)}), 'showPrice': Boolean, 'providerId': String, 'id': String, 'externalId': String, 'buildings': Int64, 'bathrooms': List(Int64), 'constructionStatus': String, 'stamps': List(String), 'capacityLimit': List(Null), 'status': String, 'contractType': String, 'pricingInfos': List(Struct({'businessType': String, 'yearlyIptu': Int64, 'price': Int64, 'monthlyCondoFee': Int64, 'rentalInfo': Struct({'period': String, 'warranties': List(Null), 'monthlyRentalTotalPrice': Int64})})), 'unitFloor': Int64, 'sourceId': String, 'usableAreas': List(Int64), 'suites': List(Int64), 'displayAddressType': String, 'description': String, 'usageTypes': List(String), 'propertyType': String, 'unitSubTypes': List(String)})), ('account', Struct({'id': String, 'name': String, 'logoUrl': String, 'licenseNumber': String, 'showAddress': Boolean, 'legacyVivarealId': Int64, 'legacyZapId': Int64, 'createdDate': String, 'tier': String})), ('medias', List(Struct({'id': String, 'url': String, 'type': String}))), ('accountLink', Struct({'name': String, 'href': String, 'rel': String, 'data': Struct({})})), ('link', Struct({'name': String, 'href': String, 'rel': String, 'data': Struct({'city': String, 'neighborhood': String, 'state': String, 'street': String, 'streetNumber': String, 'zone': String})}))])\n",
      "\n",
      "sarandi\n",
      "=======\n",
      "Schema([('listing', Struct({'legacyId': String, 'amenities': List(String), 'title': String, 'unitTypes': List(String), 'updatedAt': String, 'resale': Boolean, 'address': Struct({'city': String, 'neighborhood': String, 'street': String, 'streetNumber': String, 'point': Struct({'source': String, 'approximateLat': Float64, 'approximateLon': Float64, 'radius': Int64, 'lat': Float64, 'lon': Float64}), 'stateAcronym': String}), 'nonActivationReason': String, 'parkingSpaces': List(Int64), 'portal': String, 'whatsappNumber': String, 'acceptExchange': Boolean, 'listingsCount': Int64, 'createdAt': String, 'bedrooms': List(Int64), 'advertiserId': String, 'floors': List(Int64), 'totalAreas': List(Int64), 'listingType': String, 'unitsOnTheFloor': Int64, 'publicationType': String, 'advertiserContact': Struct({'chat': String, 'phones': List(String)}), 'showPrice': Boolean, 'providerId': String, 'id': String, 'externalId': String, 'buildings': Int64, 'bathrooms': List(Int64), 'constructionStatus': String, 'stamps': List(String), 'capacityLimit': List(Int64), 'status': String, 'contractType': String, 'pricingInfos': List(Struct({'businessType': String, 'yearlyIptu': Int64, 'price': Int64, 'monthlyCondoFee': Int64})), 'unitFloor': Int64, 'sourceId': String, 'usableAreas': List(Int64), 'suites': List(Int64), 'displayAddressType': String, 'description': String, 'usageTypes': List(String), 'propertyType': String, 'unitSubTypes': List(String)})), ('account', Struct({'id': String, 'name': String, 'logoUrl': String, 'licenseNumber': String, 'showAddress': Boolean, 'legacyVivarealId': Int64, 'legacyZapId': Int64, 'createdDate': String, 'tier': String})), ('medias', List(Struct({'id': String, 'url': String, 'type': String}))), ('accountLink', Struct({'name': String, 'href': String, 'rel': String, 'data': Struct({})})), ('link', Struct({'name': String, 'href': String, 'rel': String, 'data': Struct({'city': String, 'neighborhood': String, 'state': String, 'street': String, 'streetNumber': String, 'zone': String})}))])\n",
      "\n"
     ]
    }
   ],
   "source": [
    "for name, df in neighborhoods_df_map.items():\n",
    "    print(name)\n",
    "    print(\"=\" * len(name))\n",
    "    print(df.schema)\n",
    "    print()"
   ]
  },
  {
   "cell_type": "markdown",
   "metadata": {},
   "source": [
    "A maior diferença parece estar na estrutura aninhada `rentalInfo`,\n",
    "que não é presente nos dados vindos do bairro Sarandi."
   ]
  },
  {
   "cell_type": "code",
   "execution_count": 326,
   "metadata": {},
   "outputs": [],
   "source": [
    "dfs = list(neighborhoods_df_map.values())\n",
    "normalized_dfs = normalize_schemas(dfs)\n",
    "df = pl.concat(normalized_dfs)"
   ]
  },
  {
   "cell_type": "code",
   "execution_count": 327,
   "metadata": {},
   "outputs": [
    {
     "data": {
      "text/html": [
       "<div><style>\n",
       ".dataframe > thead > tr,\n",
       ".dataframe > tbody > tr {\n",
       "  text-align: right;\n",
       "  white-space: pre-wrap;\n",
       "}\n",
       "</style>\n",
       "<small>shape: (2, 5)</small><table border=\"1\" class=\"dataframe\"><thead><tr><th>listing</th><th>account</th><th>medias</th><th>accountLink</th><th>link</th></tr><tr><td>struct[43]</td><td>struct[9]</td><td>list[struct[3]]</td><td>struct[4]</td><td>struct[4]</td></tr></thead><tbody><tr><td>{&quot;26349587&quot;,[&quot;DISABLED_ACCESS&quot;, &quot;INTEGRATED_ENVIRONMENTS&quot;, … &quot;PARTY_HALL&quot;],&quot;Apartamento de 46 metros quadrados no bairro Cidade Baixa com 1 quarto&quot;,[&quot;APARTMENT&quot;],&quot;2024-12-17T11:12:11.169+00:00&quot;,false,{&quot;Porto Alegre&quot;,&quot;Cidade Baixa&quot;,&quot;Rua Joaquim Nabuco&quot;,null,{&quot;GOOGLE&quot;,-30.041,-51.219,140,null,null},&quot;RS&quot;},&quot;NonActivationReason_NONE&quot;,[],&quot;GRUPOZAP&quot;,&quot;&quot;,true,null,&quot;2019-11-05T13:09:45.557+00:00&quot;,[1],&quot;dfadbe19-2554-5480-56eb-0780d0ee4019&quot;,[8],[48],&quot;USED&quot;,4,&quot;PREMIUM&quot;,{&quot;&quot;,[&quot;5130130100&quot;]},true,&quot;&quot;,&quot;2463567709&quot;,&quot;ZAP1593841&quot;,0,[1],&quot;ConstructionStatus_NONE&quot;,[],&quot;ACTIVE&quot;,&quot;OWNER&quot;,[{&quot;SALE&quot;,600,290000,300,{null,[],null}}],0,&quot;a5adbade-589d-3c61-97b7-e4014f21cf3d&quot;,[46],[],&quot;STREET&quot;,&quot;Apartamento em excelente estado, iluminado e silencioso, mobiliado com móveis embutidos , conceito aberto, cozinha e sala integrados, gás central, aquecimento em todas as torneiras, fica ar condicionado do quarto e todos os móveis embutidos quarto, banheiro, sala, cozinha e homeoffice.&quot;,[&quot;RESIDENTIAL&quot;],&quot;UNIT&quot;,[],[0]}</td><td>{&quot;dfadbe19-2554-5480-56eb-0780d0ee4019&quot;,&quot;BÁRBARA EINSFELD DE BORBA&quot;,null,&quot;&quot;,true,345436,3136761,&quot;2018-05-11T05:14:21Z&quot;,&quot;&quot;}</td><td>[{&quot;7cb4b1098bf75603a7f2561456bc2883&quot;,&quot;https://resizedimgs.zapimoveis.com.br/{action}/{width}x{height}/vr.images.sp/7cb4b1098bf75603a7f2561456bc2883.webp&quot;,&quot;IMAGE&quot;}, {&quot;3ad45448360d515b4bbb3d833537b5e4&quot;,&quot;https://resizedimgs.zapimoveis.com.br/{action}/{width}x{height}/vr.images.sp/3ad45448360d515b4bbb3d833537b5e4.webp&quot;,&quot;IMAGE&quot;}, … {&quot;3c74183638571539a2c2f9f568a72d7a&quot;,&quot;https://resizedimgs.zapimoveis.com.br/{action}/{width}x{height}/vr.images.sp/3c74183638571539a2c2f9f568a72d7a.webp&quot;,&quot;IMAGE&quot;}]</td><td>{&quot;BÁRBARA EINSFELD DE BORBA&quot;,&quot;/imobiliaria/345436/&quot;,&quot;&quot;,{}}</td><td>{&quot;Apartamento com 1 Quarto à venda, 46m²&quot;,&quot;/imovel/venda-apartamento-1-quarto-mobiliado-cidade-baixa-porto-alegre-46m2-id-2463567709/&quot;,&quot;&quot;,{&quot;Porto Alegre&quot;,&quot;Cidade Baixa&quot;,&quot;&quot;,&quot;Rua Joaquim Nabuco&quot;,&quot;&quot;,&quot;&quot;}}</td></tr><tr><td>{&quot;&quot;,[],&quot;Compre apartamento silencioso,55,10m2 de área útil,2 quartos, piso parquet,living 2 ambientes,banhei&quot;,[&quot;APARTMENT&quot;],&quot;2024-12-26T12:00:41.422+00:00&quot;,false,{&quot;Porto Alegre&quot;,&quot;Cidade Baixa&quot;,&quot;Rua José do Patrocínio&quot;,&quot;357&quot;,{&quot;GOOGLE&quot;,null,null,null,-30.038562,-51.224749},&quot;RS&quot;},&quot;NonActivationReason_NONE&quot;,[],&quot;GRUPOZAP&quot;,&quot;51999671489&quot;,false,7,&quot;2024-12-01T21:22:02.001+00:00&quot;,[2],&quot;90879777-b9cc-65b9-28c8-c86f00947af9&quot;,[],[66],&quot;USED&quot;,0,&quot;PREMIUM&quot;,{&quot;&quot;,[&quot;5132084035&quot;, &quot;51999671489&quot;]},true,&quot;13887&quot;,&quot;2760694515&quot;,&quot;VR527903&quot;,0,[1],&quot;ConstructionStatus_NONE&quot;,[],&quot;ACTIVE&quot;,&quot;REAL_ESTATE&quot;,[{&quot;SALE&quot;,0,275000,290,{null,[],null}}],0,&quot;40017671-36da-3cb2-98e7-116dd4abcba1&quot;,[56],[0],&quot;ALL&quot;,&quot;Compre apartamento silencioso,55,10m2 de área útil,2 quartos, piso parquet,living 2 ambientes,banheiro social ,cozinha e área de serviço. O condomínio fica localizado em Rua José do Patrocínio no bairro Cidade Baixa em Porto Alegre. Está bem situado, próximo a pontos de interesse de Cidade Baixa, tais como Azambuja, Praça General Daltro Filho, Faculdade de Direito da Funda. Escola Sup. do Ministério Público, Praça Salvador Allende, e Policlínica Militar de Porto Alegre.Aceitamos Fiinanciamento Bancário e Fgts.Marque hoje mesmo uma visita com um de nossos Consultores Imobiliários caddstrados! ]]&gt;&quot;,[&quot;RESIDENTIAL&quot;],&quot;UNIT&quot;,[],[]}</td><td>{&quot;90879777-b9cc-65b9-28c8-c86f00947af9&quot;,&quot;Sperinde Vendas&quot;,&quot;https://resizedimgs.zapimoveis.com.br/{action}/{width}x{height}/vr.images.sp/fb5adab24465e4ba59ba7d6e4ac1de9e.webp&quot;,&quot;00411-J-RS&quot;,true,33518,2594637,&quot;2018-03-27T18:49:45Z&quot;,&quot;diamond&quot;}</td><td>[{&quot;3d8f346437754cf315cc942816497178&quot;,&quot;https://resizedimgs.zapimoveis.com.br/{action}/{width}x{height}/vr.images.sp/3d8f346437754cf315cc942816497178.webp&quot;,&quot;IMAGE&quot;}, {&quot;d309f06d26092646e716b47e93936c7d&quot;,&quot;https://resizedimgs.zapimoveis.com.br/{action}/{width}x{height}/vr.images.sp/d309f06d26092646e716b47e93936c7d.webp&quot;,&quot;IMAGE&quot;}, … {&quot;e0ddfeed8f77c5410adbbbe842aba483&quot;,&quot;https://resizedimgs.zapimoveis.com.br/{action}/{width}x{height}/vr.images.sp/e0ddfeed8f77c5410adbbbe842aba483.webp&quot;,&quot;IMAGE&quot;}]</td><td>{&quot;Sperinde Vendas&quot;,&quot;/imobiliaria/33518/&quot;,&quot;&quot;,{}}</td><td>{&quot;Apartamento com 2 Quartos à venda, 56m²&quot;,&quot;/imovel/venda-apartamento-2-quartos-cidade-baixa-porto-alegre-56m2-id-2760694515/&quot;,&quot;&quot;,{&quot;Porto Alegre&quot;,&quot;Cidade Baixa&quot;,&quot;&quot;,&quot;Rua José do Patrocínio&quot;,&quot;357&quot;,&quot;&quot;}}</td></tr></tbody></table></div>"
      ],
      "text/plain": [
       "shape: (2, 5)\n",
       "┌───────────────────┬───────────────────┬───────────────────┬───────────────────┬──────────────────┐\n",
       "│ listing           ┆ account           ┆ medias            ┆ accountLink       ┆ link             │\n",
       "│ ---               ┆ ---               ┆ ---               ┆ ---               ┆ ---              │\n",
       "│ struct[43]        ┆ struct[9]         ┆ list[struct[3]]   ┆ struct[4]         ┆ struct[4]        │\n",
       "╞═══════════════════╪═══════════════════╪═══════════════════╪═══════════════════╪══════════════════╡\n",
       "│ {\"26349587\",[\"DIS ┆ {\"dfadbe19-2554-5 ┆ [{\"7cb4b1098bf756 ┆ {\"BÁRBARA         ┆ {\"Apartamento    │\n",
       "│ ABLED_ACCESS\"…    ┆ 480-56eb-0780…    ┆ 03a7f2561456b…    ┆ EINSFELD DE       ┆ com 1 Quarto à   │\n",
       "│                   ┆                   ┆                   ┆ BORBA\",\"…         ┆ v…               │\n",
       "│ {\"\",[],\"Compre    ┆ {\"90879777-b9cc-6 ┆ [{\"3d8f346437754c ┆ {\"Sperinde Vendas ┆ {\"Apartamento    │\n",
       "│ apartamento sil…  ┆ 5b9-28c8-c86f…    ┆ f315cc9428164…    ┆ \",\"/imobiliar…    ┆ com 2 Quartos à  │\n",
       "│                   ┆                   ┆                   ┆                   ┆ …                │\n",
       "└───────────────────┴───────────────────┴───────────────────┴───────────────────┴──────────────────┘"
      ]
     },
     "execution_count": 327,
     "metadata": {},
     "output_type": "execute_result"
    }
   ],
   "source": [
    "df.head(2)"
   ]
  },
  {
   "cell_type": "markdown",
   "metadata": {},
   "source": [
    "A maior parte das informações que consideramos importantes para nossa análise estão\n",
    "na coluna `listing`, que tem uma estrutura aninhada complexa.\n",
    "Aplainamos a estrutura para simplificar a análise, e ainda mantemos o link do anúncio,\n",
    "presente na coluna `link`, e informações do anunciante (`account`)\n",
    "para facilitar a consulta para análises mais aprofundadas."
   ]
  },
  {
   "cell_type": "code",
   "execution_count": 328,
   "metadata": {},
   "outputs": [],
   "source": [
    "df = df.select([pl.col(\"listing\").struct.unnest(), pl.col(\"account\"), pl.col(\"link\")])\n",
    "df = df.rename({\"id\": \"listingId\"})\n",
    "df = df.select([pl.all().exclude(\"account\"), pl.col(\"account\").struct.unnest()])\n",
    "df = df.rename(\n",
    "    {\n",
    "        \"id\": \"accountId\",\n",
    "        \"name\": \"accountName\",\n",
    "        \"createdDate\": \"accountCreatedDate\",\n",
    "        \"tier\": \"accountTier\",\n",
    "    }\n",
    ")\n",
    "df = df.select(\n",
    "    [pl.all().exclude(\"link\"), pl.col(\"link\").struct.field(\"href\").alias(\"link_href\")]\n",
    ")"
   ]
  },
  {
   "cell_type": "code",
   "execution_count": 329,
   "metadata": {},
   "outputs": [
    {
     "data": {
      "text/html": [
       "<div><style>\n",
       ".dataframe > thead > tr,\n",
       ".dataframe > tbody > tr {\n",
       "  text-align: right;\n",
       "  white-space: pre-wrap;\n",
       "}\n",
       "</style>\n",
       "<small>shape: (2, 53)</small><table border=\"1\" class=\"dataframe\"><thead><tr><th>legacyId</th><th>amenities</th><th>title</th><th>unitTypes</th><th>updatedAt</th><th>resale</th><th>address</th><th>nonActivationReason</th><th>parkingSpaces</th><th>portal</th><th>whatsappNumber</th><th>acceptExchange</th><th>listingsCount</th><th>createdAt</th><th>bedrooms</th><th>advertiserId</th><th>floors</th><th>totalAreas</th><th>listingType</th><th>unitsOnTheFloor</th><th>publicationType</th><th>advertiserContact</th><th>showPrice</th><th>providerId</th><th>listingId</th><th>externalId</th><th>buildings</th><th>bathrooms</th><th>constructionStatus</th><th>stamps</th><th>status</th><th>contractType</th><th>pricingInfos</th><th>unitFloor</th><th>sourceId</th><th>usableAreas</th><th>suites</th><th>displayAddressType</th><th>description</th><th>usageTypes</th><th>propertyType</th><th>unitSubTypes</th><th>capacityLimit</th><th>accountId</th><th>accountName</th><th>logoUrl</th><th>licenseNumber</th><th>showAddress</th><th>legacyVivarealId</th><th>legacyZapId</th><th>accountCreatedDate</th><th>accountTier</th><th>link_href</th></tr><tr><td>str</td><td>list[str]</td><td>str</td><td>list[str]</td><td>str</td><td>bool</td><td>struct[6]</td><td>str</td><td>list[i64]</td><td>str</td><td>str</td><td>bool</td><td>i64</td><td>str</td><td>list[i64]</td><td>str</td><td>list[i64]</td><td>list[i64]</td><td>str</td><td>i64</td><td>str</td><td>struct[2]</td><td>bool</td><td>str</td><td>str</td><td>str</td><td>i64</td><td>list[i64]</td><td>str</td><td>list[str]</td><td>str</td><td>str</td><td>list[struct[5]]</td><td>i64</td><td>str</td><td>list[i64]</td><td>list[i64]</td><td>str</td><td>str</td><td>list[str]</td><td>str</td><td>list[str]</td><td>list[i64]</td><td>str</td><td>str</td><td>str</td><td>str</td><td>bool</td><td>i64</td><td>i64</td><td>str</td><td>str</td><td>str</td></tr></thead><tbody><tr><td>&quot;26349587&quot;</td><td>[&quot;DISABLED_ACCESS&quot;, &quot;INTEGRATED_ENVIRONMENTS&quot;, … &quot;PARTY_HALL&quot;]</td><td>&quot;Apartamento de 46 metros quadr…</td><td>[&quot;APARTMENT&quot;]</td><td>&quot;2024-12-17T11:12:11.169+00:00&quot;</td><td>false</td><td>{&quot;Porto Alegre&quot;,&quot;Cidade Baixa&quot;,&quot;Rua Joaquim Nabuco&quot;,null,{&quot;GOOGLE&quot;,-30.041,-51.219,140,null,null},&quot;RS&quot;}</td><td>&quot;NonActivationReason_NONE&quot;</td><td>[]</td><td>&quot;GRUPOZAP&quot;</td><td>&quot;&quot;</td><td>true</td><td>null</td><td>&quot;2019-11-05T13:09:45.557+00:00&quot;</td><td>[1]</td><td>&quot;dfadbe19-2554-5480-56eb-0780d0…</td><td>[8]</td><td>[48]</td><td>&quot;USED&quot;</td><td>4</td><td>&quot;PREMIUM&quot;</td><td>{&quot;&quot;,[&quot;5130130100&quot;]}</td><td>true</td><td>&quot;&quot;</td><td>&quot;2463567709&quot;</td><td>&quot;ZAP1593841&quot;</td><td>0</td><td>[1]</td><td>&quot;ConstructionStatus_NONE&quot;</td><td>[]</td><td>&quot;ACTIVE&quot;</td><td>&quot;OWNER&quot;</td><td>[{&quot;SALE&quot;,600,290000,300,{null,[],null}}]</td><td>0</td><td>&quot;a5adbade-589d-3c61-97b7-e4014f…</td><td>[46]</td><td>[]</td><td>&quot;STREET&quot;</td><td>&quot;Apartamento em excelente estad…</td><td>[&quot;RESIDENTIAL&quot;]</td><td>&quot;UNIT&quot;</td><td>[]</td><td>[0]</td><td>&quot;dfadbe19-2554-5480-56eb-0780d0…</td><td>&quot;BÁRBARA EINSFELD DE BORBA&quot;</td><td>null</td><td>&quot;&quot;</td><td>true</td><td>345436</td><td>3136761</td><td>&quot;2018-05-11T05:14:21Z&quot;</td><td>&quot;&quot;</td><td>&quot;/imovel/venda-apartamento-1-qu…</td></tr><tr><td>&quot;&quot;</td><td>[]</td><td>&quot;Compre apartamento silencioso,…</td><td>[&quot;APARTMENT&quot;]</td><td>&quot;2024-12-26T12:00:41.422+00:00&quot;</td><td>false</td><td>{&quot;Porto Alegre&quot;,&quot;Cidade Baixa&quot;,&quot;Rua José do Patrocínio&quot;,&quot;357&quot;,{&quot;GOOGLE&quot;,null,null,null,-30.038562,-51.224749},&quot;RS&quot;}</td><td>&quot;NonActivationReason_NONE&quot;</td><td>[]</td><td>&quot;GRUPOZAP&quot;</td><td>&quot;51999671489&quot;</td><td>false</td><td>7</td><td>&quot;2024-12-01T21:22:02.001+00:00&quot;</td><td>[2]</td><td>&quot;90879777-b9cc-65b9-28c8-c86f00…</td><td>[]</td><td>[66]</td><td>&quot;USED&quot;</td><td>0</td><td>&quot;PREMIUM&quot;</td><td>{&quot;&quot;,[&quot;5132084035&quot;, &quot;51999671489&quot;]}</td><td>true</td><td>&quot;13887&quot;</td><td>&quot;2760694515&quot;</td><td>&quot;VR527903&quot;</td><td>0</td><td>[1]</td><td>&quot;ConstructionStatus_NONE&quot;</td><td>[]</td><td>&quot;ACTIVE&quot;</td><td>&quot;REAL_ESTATE&quot;</td><td>[{&quot;SALE&quot;,0,275000,290,{null,[],null}}]</td><td>0</td><td>&quot;40017671-36da-3cb2-98e7-116dd4…</td><td>[56]</td><td>[0]</td><td>&quot;ALL&quot;</td><td>&quot;Compre apartamento silencioso,…</td><td>[&quot;RESIDENTIAL&quot;]</td><td>&quot;UNIT&quot;</td><td>[]</td><td>[]</td><td>&quot;90879777-b9cc-65b9-28c8-c86f00…</td><td>&quot;Sperinde Vendas&quot;</td><td>&quot;https://resizedimgs.zapimoveis…</td><td>&quot;00411-J-RS&quot;</td><td>true</td><td>33518</td><td>2594637</td><td>&quot;2018-03-27T18:49:45Z&quot;</td><td>&quot;diamond&quot;</td><td>&quot;/imovel/venda-apartamento-2-qu…</td></tr></tbody></table></div>"
      ],
      "text/plain": [
       "shape: (2, 53)\n",
       "┌──────────┬───────────┬───────────┬───────────┬───┬───────────┬───────────┬───────────┬───────────┐\n",
       "│ legacyId ┆ amenities ┆ title     ┆ unitTypes ┆ … ┆ legacyZap ┆ accountCr ┆ accountTi ┆ link_href │\n",
       "│ ---      ┆ ---       ┆ ---       ┆ ---       ┆   ┆ Id        ┆ eatedDate ┆ er        ┆ ---       │\n",
       "│ str      ┆ list[str] ┆ str       ┆ list[str] ┆   ┆ ---       ┆ ---       ┆ ---       ┆ str       │\n",
       "│          ┆           ┆           ┆           ┆   ┆ i64       ┆ str       ┆ str       ┆           │\n",
       "╞══════════╪═══════════╪═══════════╪═══════════╪═══╪═══════════╪═══════════╪═══════════╪═══════════╡\n",
       "│ 26349587 ┆ [\"DISABLE ┆ Apartamen ┆ [\"APARTME ┆ … ┆ 3136761   ┆ 2018-05-1 ┆           ┆ /imovel/v │\n",
       "│          ┆ D_ACCESS\" ┆ to de 46  ┆ NT\"]      ┆   ┆           ┆ 1T05:14:2 ┆           ┆ enda-apar │\n",
       "│          ┆ , \"INTEGR ┆ metros    ┆           ┆   ┆           ┆ 1Z        ┆           ┆ tamento-1 │\n",
       "│          ┆ ATE…      ┆ quadr…    ┆           ┆   ┆           ┆           ┆           ┆ -qu…      │\n",
       "│          ┆ []        ┆ Compre    ┆ [\"APARTME ┆ … ┆ 2594637   ┆ 2018-03-2 ┆ diamond   ┆ /imovel/v │\n",
       "│          ┆           ┆ apartamen ┆ NT\"]      ┆   ┆           ┆ 7T18:49:4 ┆           ┆ enda-apar │\n",
       "│          ┆           ┆ to silenc ┆           ┆   ┆           ┆ 5Z        ┆           ┆ tamento-2 │\n",
       "│          ┆           ┆ ioso,…    ┆           ┆   ┆           ┆           ┆           ┆ -qu…      │\n",
       "└──────────┴───────────┴───────────┴───────────┴───┴───────────┴───────────┴───────────┴───────────┘"
      ]
     },
     "execution_count": 329,
     "metadata": {},
     "output_type": "execute_result"
    }
   ],
   "source": [
    "df.head(2)"
   ]
  },
  {
   "cell_type": "markdown",
   "metadata": {},
   "source": [
    "Qual o tamanho da massa de dados?"
   ]
  },
  {
   "cell_type": "code",
   "execution_count": 330,
   "metadata": {},
   "outputs": [
    {
     "data": {
      "text/plain": [
       "17341"
      ]
     },
     "execution_count": 330,
     "metadata": {},
     "output_type": "execute_result"
    }
   ],
   "source": [
    "df.height"
   ]
  },
  {
   "cell_type": "markdown",
   "metadata": {},
   "source": [
    "Obtivemos 17.341 amostras."
   ]
  },
  {
   "cell_type": "markdown",
   "metadata": {},
   "source": [
    "Quantas amostras de cada bairro?"
   ]
  },
  {
   "cell_type": "code",
   "execution_count": 331,
   "metadata": {},
   "outputs": [],
   "source": [
    "df = df.unnest(\"address\")"
   ]
  },
  {
   "cell_type": "code",
   "execution_count": 332,
   "metadata": {},
   "outputs": [
    {
     "data": {
      "text/html": [
       "<div><style>\n",
       ".dataframe > thead > tr,\n",
       ".dataframe > tbody > tr {\n",
       "  text-align: right;\n",
       "  white-space: pre-wrap;\n",
       "}\n",
       "</style>\n",
       "<small>shape: (36, 2)</small><table border=\"1\" class=\"dataframe\"><thead><tr><th>neighborhood</th><th>len</th></tr><tr><td>str</td><td>u32</td></tr></thead><tbody><tr><td>&quot;Centro Histórico&quot;</td><td>6407</td></tr><tr><td>&quot;Menino Deus&quot;</td><td>5215</td></tr><tr><td>&quot;Sarandi&quot;</td><td>2615</td></tr><tr><td>&quot;Cidade Baixa&quot;</td><td>2052</td></tr><tr><td>&quot;Santa Tereza&quot;</td><td>268</td></tr><tr><td>&hellip;</td><td>&hellip;</td></tr><tr><td>&quot;Jardim Europa&quot;</td><td>1</td></tr><tr><td>&quot;Humaitá&quot;</td><td>1</td></tr><tr><td>&quot;Agronomia&quot;</td><td>1</td></tr><tr><td>&quot;Rio Branco&quot;</td><td>1</td></tr><tr><td>&quot;Jardim São Pedro&quot;</td><td>1</td></tr></tbody></table></div>"
      ],
      "text/plain": [
       "shape: (36, 2)\n",
       "┌──────────────────┬──────┐\n",
       "│ neighborhood     ┆ len  │\n",
       "│ ---              ┆ ---  │\n",
       "│ str              ┆ u32  │\n",
       "╞══════════════════╪══════╡\n",
       "│ Centro Histórico ┆ 6407 │\n",
       "│ Menino Deus      ┆ 5215 │\n",
       "│ Sarandi          ┆ 2615 │\n",
       "│ Cidade Baixa     ┆ 2052 │\n",
       "│ Santa Tereza     ┆ 268  │\n",
       "│ …                ┆ …    │\n",
       "│ Jardim Europa    ┆ 1    │\n",
       "│ Humaitá          ┆ 1    │\n",
       "│ Agronomia        ┆ 1    │\n",
       "│ Rio Branco       ┆ 1    │\n",
       "│ Jardim São Pedro ┆ 1    │\n",
       "└──────────────────┴──────┘"
      ]
     },
     "execution_count": 332,
     "metadata": {},
     "output_type": "execute_result"
    }
   ],
   "source": [
    "df.group_by(\"neighborhood\").len().sort(by=\"len\", descending=True)"
   ]
  },
  {
   "cell_type": "markdown",
   "metadata": {},
   "source": [
    "Nota-se que o processo de extração trouxe dados de outros bairros, além dos desejados,\n",
    "mas em menor quantidade."
   ]
  },
  {
   "cell_type": "code",
   "execution_count": 333,
   "metadata": {},
   "outputs": [],
   "source": [
    "target_neighborhoods = [\"Centro Histórico\", \"Cidade Baixa\", \"Menino Deus\", \"Sarandi\"]"
   ]
  },
  {
   "cell_type": "code",
   "execution_count": 334,
   "metadata": {},
   "outputs": [],
   "source": [
    "df = df.filter(pl.col(\"neighborhood\").is_in(target_neighborhoods))"
   ]
  },
  {
   "cell_type": "code",
   "execution_count": 335,
   "metadata": {},
   "outputs": [
    {
     "data": {
      "text/html": [
       "<div><style>\n",
       ".dataframe > thead > tr,\n",
       ".dataframe > tbody > tr {\n",
       "  text-align: right;\n",
       "  white-space: pre-wrap;\n",
       "}\n",
       "</style>\n",
       "<small>shape: (4, 2)</small><table border=\"1\" class=\"dataframe\"><thead><tr><th>neighborhood</th><th>len</th></tr><tr><td>str</td><td>u32</td></tr></thead><tbody><tr><td>&quot;Centro Histórico&quot;</td><td>6407</td></tr><tr><td>&quot;Menino Deus&quot;</td><td>5215</td></tr><tr><td>&quot;Sarandi&quot;</td><td>2615</td></tr><tr><td>&quot;Cidade Baixa&quot;</td><td>2052</td></tr></tbody></table></div>"
      ],
      "text/plain": [
       "shape: (4, 2)\n",
       "┌──────────────────┬──────┐\n",
       "│ neighborhood     ┆ len  │\n",
       "│ ---              ┆ ---  │\n",
       "│ str              ┆ u32  │\n",
       "╞══════════════════╪══════╡\n",
       "│ Centro Histórico ┆ 6407 │\n",
       "│ Menino Deus      ┆ 5215 │\n",
       "│ Sarandi          ┆ 2615 │\n",
       "│ Cidade Baixa     ┆ 2052 │\n",
       "└──────────────────┴──────┘"
      ]
     },
     "execution_count": 335,
     "metadata": {},
     "output_type": "execute_result"
    }
   ],
   "source": [
    "df.group_by(\"neighborhood\").len().sort(by=\"len\", descending=True)"
   ]
  },
  {
   "cell_type": "code",
   "execution_count": 336,
   "metadata": {},
   "outputs": [
    {
     "data": {
      "text/plain": [
       "16289"
      ]
     },
     "execution_count": 336,
     "metadata": {},
     "output_type": "execute_result"
    }
   ],
   "source": [
    "df.height"
   ]
  },
  {
   "cell_type": "markdown",
   "metadata": {},
   "source": [
    "Restam 16.289 amostras."
   ]
  },
  {
   "cell_type": "markdown",
   "metadata": {},
   "source": [
    "A massa de dados é relativamente pequena, totalizando 16.289 imóveis."
   ]
  },
  {
   "cell_type": "markdown",
   "metadata": {},
   "source": [
    "Existem dados duplicados?"
   ]
  },
  {
   "cell_type": "code",
   "execution_count": 337,
   "metadata": {},
   "outputs": [
    {
     "data": {
      "text/plain": [
       "1708"
      ]
     },
     "execution_count": 337,
     "metadata": {},
     "output_type": "execute_result"
    }
   ],
   "source": [
    "df.filter(pl.col(\"listingId\").is_duplicated()).height"
   ]
  },
  {
   "cell_type": "markdown",
   "metadata": {},
   "source": [
    "Sim, 1.708 amostras são duplicadas."
   ]
  },
  {
   "cell_type": "code",
   "execution_count": 343,
   "metadata": {},
   "outputs": [],
   "source": [
    "df = df.unique(subset=\"listingId\")"
   ]
  },
  {
   "cell_type": "code",
   "execution_count": 344,
   "metadata": {},
   "outputs": [
    {
     "data": {
      "text/plain": [
       "15432"
      ]
     },
     "execution_count": 344,
     "metadata": {},
     "output_type": "execute_result"
    }
   ],
   "source": [
    "df.height"
   ]
  },
  {
   "cell_type": "code",
   "execution_count": 345,
   "metadata": {},
   "outputs": [
    {
     "data": {
      "text/html": [
       "<div><style>\n",
       ".dataframe > thead > tr,\n",
       ".dataframe > tbody > tr {\n",
       "  text-align: right;\n",
       "  white-space: pre-wrap;\n",
       "}\n",
       "</style>\n",
       "<small>shape: (4, 2)</small><table border=\"1\" class=\"dataframe\"><thead><tr><th>neighborhood</th><th>len</th></tr><tr><td>str</td><td>u32</td></tr></thead><tbody><tr><td>&quot;Centro Histórico&quot;</td><td>6059</td></tr><tr><td>&quot;Menino Deus&quot;</td><td>4815</td></tr><tr><td>&quot;Sarandi&quot;</td><td>2551</td></tr><tr><td>&quot;Cidade Baixa&quot;</td><td>2007</td></tr></tbody></table></div>"
      ],
      "text/plain": [
       "shape: (4, 2)\n",
       "┌──────────────────┬──────┐\n",
       "│ neighborhood     ┆ len  │\n",
       "│ ---              ┆ ---  │\n",
       "│ str              ┆ u32  │\n",
       "╞══════════════════╪══════╡\n",
       "│ Centro Histórico ┆ 6059 │\n",
       "│ Menino Deus      ┆ 4815 │\n",
       "│ Sarandi          ┆ 2551 │\n",
       "│ Cidade Baixa     ┆ 2007 │\n",
       "└──────────────────┴──────┘"
      ]
     },
     "execution_count": 345,
     "metadata": {},
     "output_type": "execute_result"
    }
   ],
   "source": [
    "df.group_by(\"neighborhood\").len().sort(by=\"len\", descending=True)"
   ]
  },
  {
   "cell_type": "markdown",
   "metadata": {},
   "source": [
    "### Descarte de informações não importantes"
   ]
  },
  {
   "cell_type": "markdown",
   "metadata": {},
   "source": [
    "Existe muita informação ruidosa nesses dados.\n",
    "Escolhemos as seguintes colunas para descarte."
   ]
  },
  {
   "cell_type": "code",
   "execution_count": 346,
   "metadata": {},
   "outputs": [
    {
     "data": {
      "text/html": [
       "<div><style>\n",
       ".dataframe > thead > tr,\n",
       ".dataframe > tbody > tr {\n",
       "  text-align: right;\n",
       "  white-space: pre-wrap;\n",
       "}\n",
       "</style>\n",
       "<small>shape: (1, 58)</small><table border=\"1\" class=\"dataframe\"><thead><tr><th>legacyId</th><th>amenities</th><th>title</th><th>unitTypes</th><th>updatedAt</th><th>resale</th><th>city</th><th>neighborhood</th><th>street</th><th>streetNumber</th><th>point</th><th>stateAcronym</th><th>nonActivationReason</th><th>parkingSpaces</th><th>portal</th><th>whatsappNumber</th><th>acceptExchange</th><th>listingsCount</th><th>createdAt</th><th>bedrooms</th><th>advertiserId</th><th>floors</th><th>totalAreas</th><th>listingType</th><th>unitsOnTheFloor</th><th>publicationType</th><th>advertiserContact</th><th>showPrice</th><th>providerId</th><th>listingId</th><th>externalId</th><th>buildings</th><th>bathrooms</th><th>constructionStatus</th><th>stamps</th><th>status</th><th>contractType</th><th>pricingInfos</th><th>unitFloor</th><th>sourceId</th><th>usableAreas</th><th>suites</th><th>displayAddressType</th><th>description</th><th>usageTypes</th><th>propertyType</th><th>unitSubTypes</th><th>capacityLimit</th><th>accountId</th><th>accountName</th><th>logoUrl</th><th>licenseNumber</th><th>showAddress</th><th>legacyVivarealId</th><th>legacyZapId</th><th>accountCreatedDate</th><th>accountTier</th><th>link_href</th></tr><tr><td>str</td><td>list[str]</td><td>str</td><td>list[str]</td><td>str</td><td>bool</td><td>str</td><td>str</td><td>str</td><td>str</td><td>struct[6]</td><td>str</td><td>str</td><td>list[i64]</td><td>str</td><td>str</td><td>bool</td><td>i64</td><td>str</td><td>list[i64]</td><td>str</td><td>list[i64]</td><td>list[i64]</td><td>str</td><td>i64</td><td>str</td><td>struct[2]</td><td>bool</td><td>str</td><td>str</td><td>str</td><td>i64</td><td>list[i64]</td><td>str</td><td>list[str]</td><td>str</td><td>str</td><td>list[struct[5]]</td><td>i64</td><td>str</td><td>list[i64]</td><td>list[i64]</td><td>str</td><td>str</td><td>list[str]</td><td>str</td><td>list[str]</td><td>list[i64]</td><td>str</td><td>str</td><td>str</td><td>str</td><td>bool</td><td>i64</td><td>i64</td><td>str</td><td>str</td><td>str</td></tr></thead><tbody><tr><td>&quot;&quot;</td><td>[&quot;CABLE_TV&quot;, &quot;WATCHMAN&quot;, … &quot;INTERCOM&quot;]</td><td>&quot;Excelente oportunidade! Reserv…</td><td>[&quot;CONDOMINIUM&quot;]</td><td>&quot;2024-12-25T23:31:38.579+00:00&quot;</td><td>false</td><td>&quot;Porto Alegre&quot;</td><td>&quot;Sarandi&quot;</td><td>&quot;Avenida Ecoville&quot;</td><td>&quot;190&quot;</td><td>{&quot;GOOGLE&quot;,null,null,null,-29.995522,-51.12181}</td><td>&quot;RS&quot;</td><td>&quot;NonActivationReason_NONE&quot;</td><td>[4]</td><td>&quot;GRUPOZAP&quot;</td><td>&quot;51980148586&quot;</td><td>false</td><td>null</td><td>&quot;2024-10-08T12:40:16.613+00:00&quot;</td><td>[3]</td><td>&quot;0f4fcd4f-2e91-4211-8062-f0f0ca…</td><td>[]</td><td>[346]</td><td>&quot;USED&quot;</td><td>0</td><td>&quot;STANDARD&quot;</td><td>{&quot;&quot;,[&quot;5134148586&quot;, &quot;51980148586&quot;]}</td><td>true</td><td>&quot;45354&quot;</td><td>&quot;2747898832&quot;</td><td>&quot;9922763&quot;</td><td>0</td><td>[3]</td><td>&quot;ConstructionStatus_NONE&quot;</td><td>[&quot;DATAZAP_APPROVED_SALE&quot;]</td><td>&quot;ACTIVE&quot;</td><td>&quot;REAL_ESTATE&quot;</td><td>[{&quot;SALE&quot;,null,1470000,750,{null,[],null}}]</td><td>0</td><td>&quot;bed8b6ee-40c6-3795-827b-1e6972…</td><td>[370]</td><td>[1]</td><td>&quot;ALL&quot;</td><td>&quot;Crédito Real Vende excelente c…</td><td>[&quot;RESIDENTIAL&quot;]</td><td>&quot;UNIT&quot;</td><td>[]</td><td>[]</td><td>&quot;0f4fcd4f-2e91-4211-8062-f0f0ca…</td><td>&quot;Crédito Real | Zona Norte&quot;</td><td>&quot;https://resizedimgs.zapimoveis…</td><td>&quot;&quot;</td><td>false</td><td>554181</td><td>3588750</td><td>&quot;2019-07-05T19:36:59Z&quot;</td><td>&quot;&quot;</td><td>&quot;/imovel/venda-casa-de-condomin…</td></tr></tbody></table></div>"
      ],
      "text/plain": [
       "shape: (1, 58)\n",
       "┌──────────┬───────────┬───────────┬───────────┬───┬───────────┬───────────┬───────────┬───────────┐\n",
       "│ legacyId ┆ amenities ┆ title     ┆ unitTypes ┆ … ┆ legacyZap ┆ accountCr ┆ accountTi ┆ link_href │\n",
       "│ ---      ┆ ---       ┆ ---       ┆ ---       ┆   ┆ Id        ┆ eatedDate ┆ er        ┆ ---       │\n",
       "│ str      ┆ list[str] ┆ str       ┆ list[str] ┆   ┆ ---       ┆ ---       ┆ ---       ┆ str       │\n",
       "│          ┆           ┆           ┆           ┆   ┆ i64       ┆ str       ┆ str       ┆           │\n",
       "╞══════════╪═══════════╪═══════════╪═══════════╪═══╪═══════════╪═══════════╪═══════════╪═══════════╡\n",
       "│          ┆ [\"CABLE_T ┆ Excelente ┆ [\"CONDOMI ┆ … ┆ 3588750   ┆ 2019-07-0 ┆           ┆ /imovel/v │\n",
       "│          ┆ V\", \"WATC ┆ oportunid ┆ NIUM\"]    ┆   ┆           ┆ 5T19:36:5 ┆           ┆ enda-casa │\n",
       "│          ┆ HMAN\", …  ┆ ade!      ┆           ┆   ┆           ┆ 9Z        ┆           ┆ -de-condo │\n",
       "│          ┆ \"IN…      ┆ Reserv…   ┆           ┆   ┆           ┆           ┆           ┆ min…      │\n",
       "└──────────┴───────────┴───────────┴───────────┴───┴───────────┴───────────┴───────────┴───────────┘"
      ]
     },
     "execution_count": 346,
     "metadata": {},
     "output_type": "execute_result"
    }
   ],
   "source": [
    "df.head(1)"
   ]
  },
  {
   "cell_type": "code",
   "execution_count": 347,
   "metadata": {},
   "outputs": [],
   "source": [
    "COLUMNS_TO_DROP = [\n",
    "    \"advertiserId\",\n",
    "    \"constructionStatus\",\n",
    "    \"portal\",\n",
    "    \"stamps\",\n",
    "    \"advertiserContact\",\n",
    "    \"whatsappNumber\",\n",
    "    \"title\",\n",
    "    \"nonActivationReason\",\n",
    "    \"status\",\n",
    "    \"legacyId\",\n",
    "    \"externalId\",\n",
    "    \"listingsCount\",\n",
    "    \"createdAt\",\n",
    "    \"updatedAt\",\n",
    "    \"showPrice\",\n",
    "    \"acceptExchange\",\n",
    "    \"description\",\n",
    "    \"sourceId\",\n",
    "    \"providerId\",\n",
    "    \"accountName\",\n",
    "    \"accountCreatedDate\",\n",
    "    \"accountTier\",\n",
    "    \"licenseNumber\",\n",
    "    \"logoUrl\",\n",
    "    \"legacyVivarealId\",\n",
    "    \"legacyZapId\",\n",
    "    \"showAddress\"\n",
    "]\n",
    "\n",
    "df = df.drop(COLUMNS_TO_DROP)"
   ]
  },
  {
   "cell_type": "code",
   "execution_count": 348,
   "metadata": {},
   "outputs": [
    {
     "data": {
      "text/html": [
       "<div><style>\n",
       ".dataframe > thead > tr,\n",
       ".dataframe > tbody > tr {\n",
       "  text-align: right;\n",
       "  white-space: pre-wrap;\n",
       "}\n",
       "</style>\n",
       "<small>shape: (3, 31)</small><table border=\"1\" class=\"dataframe\"><thead><tr><th>amenities</th><th>unitTypes</th><th>resale</th><th>city</th><th>neighborhood</th><th>street</th><th>streetNumber</th><th>point</th><th>stateAcronym</th><th>parkingSpaces</th><th>bedrooms</th><th>floors</th><th>totalAreas</th><th>listingType</th><th>unitsOnTheFloor</th><th>publicationType</th><th>listingId</th><th>buildings</th><th>bathrooms</th><th>contractType</th><th>pricingInfos</th><th>unitFloor</th><th>usableAreas</th><th>suites</th><th>displayAddressType</th><th>usageTypes</th><th>propertyType</th><th>unitSubTypes</th><th>capacityLimit</th><th>accountId</th><th>link_href</th></tr><tr><td>list[str]</td><td>list[str]</td><td>bool</td><td>str</td><td>str</td><td>str</td><td>str</td><td>struct[6]</td><td>str</td><td>list[i64]</td><td>list[i64]</td><td>list[i64]</td><td>list[i64]</td><td>str</td><td>i64</td><td>str</td><td>str</td><td>i64</td><td>list[i64]</td><td>str</td><td>list[struct[5]]</td><td>i64</td><td>list[i64]</td><td>list[i64]</td><td>str</td><td>list[str]</td><td>str</td><td>list[str]</td><td>list[i64]</td><td>str</td><td>str</td></tr></thead><tbody><tr><td>[&quot;CABLE_TV&quot;, &quot;WATCHMAN&quot;, … &quot;INTERCOM&quot;]</td><td>[&quot;CONDOMINIUM&quot;]</td><td>false</td><td>&quot;Porto Alegre&quot;</td><td>&quot;Sarandi&quot;</td><td>&quot;Avenida Ecoville&quot;</td><td>&quot;190&quot;</td><td>{&quot;GOOGLE&quot;,null,null,null,-29.995522,-51.12181}</td><td>&quot;RS&quot;</td><td>[4]</td><td>[3]</td><td>[]</td><td>[346]</td><td>&quot;USED&quot;</td><td>0</td><td>&quot;STANDARD&quot;</td><td>&quot;2747898832&quot;</td><td>0</td><td>[3]</td><td>&quot;REAL_ESTATE&quot;</td><td>[{&quot;SALE&quot;,null,1470000,750,{null,[],null}}]</td><td>0</td><td>[370]</td><td>[1]</td><td>&quot;ALL&quot;</td><td>[&quot;RESIDENTIAL&quot;]</td><td>&quot;UNIT&quot;</td><td>[]</td><td>[]</td><td>&quot;0f4fcd4f-2e91-4211-8062-f0f0ca…</td><td>&quot;/imovel/venda-casa-de-condomin…</td></tr><tr><td>[]</td><td>[&quot;OFFICE&quot;]</td><td>false</td><td>&quot;Porto Alegre&quot;</td><td>&quot;Centro Histórico&quot;</td><td>&quot;Rua Coronel Fernando Machado&quot;</td><td>&quot;981&quot;</td><td>{&quot;GOOGLE&quot;,null,null,null,-30.035119,-51.227712}</td><td>&quot;RS&quot;</td><td>[]</td><td>[0]</td><td>[]</td><td>[109]</td><td>&quot;USED&quot;</td><td>0</td><td>&quot;STANDARD&quot;</td><td>&quot;2762307994&quot;</td><td>0</td><td>[1]</td><td>&quot;REAL_ESTATE&quot;</td><td>[{&quot;SALE&quot;,68,320000,448,{null,[],null}}]</td><td>0</td><td>[106]</td><td>[0]</td><td>&quot;ALL&quot;</td><td>[&quot;COMMERCIAL&quot;]</td><td>&quot;UNIT&quot;</td><td>[]</td><td>[]</td><td>&quot;10929a8c-7227-5aff-fb05-6bf394…</td><td>&quot;/imovel/venda-conjunto-comerci…</td></tr><tr><td>[&quot;GARAGE&quot;]</td><td>[&quot;APARTMENT&quot;]</td><td>false</td><td>&quot;Porto Alegre&quot;</td><td>&quot;Sarandi&quot;</td><td>&quot;Rua Gabriel Franco da Luz&quot;</td><td>&quot;560&quot;</td><td>{&quot;GOOGLE&quot;,null,null,null,-29.981459,-51.123619}</td><td>&quot;RS&quot;</td><td>[1]</td><td>[2]</td><td>[]</td><td>[1]</td><td>&quot;USED&quot;</td><td>0</td><td>&quot;STANDARD&quot;</td><td>&quot;2742952916&quot;</td><td>0</td><td>[1]</td><td>&quot;REAL_ESTATE&quot;</td><td>[{&quot;SALE&quot;,30,185000,214,{null,[],null}}]</td><td>0</td><td>[45]</td><td>[0]</td><td>&quot;ALL&quot;</td><td>[&quot;RESIDENTIAL&quot;]</td><td>&quot;UNIT&quot;</td><td>[]</td><td>[]</td><td>&quot;b1c30c71-820c-306e-8445-5e50cc…</td><td>&quot;/imovel/venda-apartamento-2-qu…</td></tr></tbody></table></div>"
      ],
      "text/plain": [
       "shape: (3, 31)\n",
       "┌────────────┬────────────┬────────┬────────┬───┬────────────┬────────────┬────────────┬───────────┐\n",
       "│ amenities  ┆ unitTypes  ┆ resale ┆ city   ┆ … ┆ unitSubTyp ┆ capacityLi ┆ accountId  ┆ link_href │\n",
       "│ ---        ┆ ---        ┆ ---    ┆ ---    ┆   ┆ es         ┆ mit        ┆ ---        ┆ ---       │\n",
       "│ list[str]  ┆ list[str]  ┆ bool   ┆ str    ┆   ┆ ---        ┆ ---        ┆ str        ┆ str       │\n",
       "│            ┆            ┆        ┆        ┆   ┆ list[str]  ┆ list[i64]  ┆            ┆           │\n",
       "╞════════════╪════════════╪════════╪════════╪═══╪════════════╪════════════╪════════════╪═══════════╡\n",
       "│ [\"CABLE_TV ┆ [\"CONDOMIN ┆ false  ┆ Porto  ┆ … ┆ []         ┆ []         ┆ 0f4fcd4f-2 ┆ /imovel/v │\n",
       "│ \", \"WATCHM ┆ IUM\"]      ┆        ┆ Alegre ┆   ┆            ┆            ┆ e91-4211-8 ┆ enda-casa │\n",
       "│ AN\", …     ┆            ┆        ┆        ┆   ┆            ┆            ┆ 062-f0f0ca ┆ -de-condo │\n",
       "│ \"IN…       ┆            ┆        ┆        ┆   ┆            ┆            ┆ …          ┆ min…      │\n",
       "│ []         ┆ [\"OFFICE\"] ┆ false  ┆ Porto  ┆ … ┆ []         ┆ []         ┆ 10929a8c-7 ┆ /imovel/v │\n",
       "│            ┆            ┆        ┆ Alegre ┆   ┆            ┆            ┆ 227-5aff-f ┆ enda-conj │\n",
       "│            ┆            ┆        ┆        ┆   ┆            ┆            ┆ b05-6bf394 ┆ unto-come │\n",
       "│            ┆            ┆        ┆        ┆   ┆            ┆            ┆ …          ┆ rci…      │\n",
       "│ [\"GARAGE\"] ┆ [\"APARTMEN ┆ false  ┆ Porto  ┆ … ┆ []         ┆ []         ┆ b1c30c71-8 ┆ /imovel/v │\n",
       "│            ┆ T\"]        ┆        ┆ Alegre ┆   ┆            ┆            ┆ 20c-306e-8 ┆ enda-apar │\n",
       "│            ┆            ┆        ┆        ┆   ┆            ┆            ┆ 445-5e50cc ┆ tamento-2 │\n",
       "│            ┆            ┆        ┆        ┆   ┆            ┆            ┆ …          ┆ -qu…      │\n",
       "└────────────┴────────────┴────────┴────────┴───┴────────────┴────────────┴────────────┴───────────┘"
      ]
     },
     "execution_count": 348,
     "metadata": {},
     "output_type": "execute_result"
    }
   ],
   "source": [
    "df.head(3)"
   ]
  },
  {
   "cell_type": "markdown",
   "metadata": {},
   "source": [
    "### Atributos em forma de lista"
   ]
  },
  {
   "cell_type": "markdown",
   "metadata": {},
   "source": [
    "Sabemos que `amenities` descrevem as amenidades presentes em um dado imóvel,\n",
    "o que pode ser interessante transformar em atributos preditores para nossas regressões.\n",
    "\n",
    "Entretanto, ainda precisamos entender outras colunas que tem listas como valores.\n",
    "Várias delas não parecem fazer sentido em ter multiplicidade: em que contexto o número\n",
    "de quartos (bedrooms) precisa ser uma lista? Número de banheiros? Área utilizável?\n",
    "Uma unidade pode pertencer ao mesmo tempo a mais de um tipo (comercial, casa)?\n",
    "\n",
    "Em primeiro lugar, tentamos entender quais listas de fato vêm a possuir mais de um\n",
    "elemento.\n"
   ]
  },
  {
   "cell_type": "code",
   "execution_count": 349,
   "metadata": {},
   "outputs": [
    {
     "name": "stdout",
     "output_type": "stream",
     "text": [
      "floors       : 1\n",
      "unitSubTypes : 2\n",
      "suites       : 1\n",
      "unitTypes    : 1\n",
      "pricingInfos : 2\n",
      "parkingSpaces: 2\n",
      "totalAreas   : 2\n",
      "bathrooms    : 2\n",
      "bedrooms     : 2\n",
      "usableAreas  : 2\n",
      "usageTypes   : 2\n",
      "capacityLimit: 1\n"
     ]
    }
   ],
   "source": [
    "LIST_COLUMNS = [\n",
    "    \"floors\",\n",
    "    \"unitSubTypes\",\n",
    "    \"suites\",\n",
    "    \"unitTypes\",\n",
    "    \"pricingInfos\",\n",
    "    \"parkingSpaces\",\n",
    "    \"totalAreas\",\n",
    "    \"bathrooms\",\n",
    "    \"bedrooms\",\n",
    "    \"usableAreas\",\n",
    "    \"usageTypes\",\n",
    "    \"capacityLimit\",\n",
    "]\n",
    "\n",
    "max_colname_width = max(len(name) for name in LIST_COLUMNS)\n",
    "arrays_with_size_larger_than_one = []\n",
    "for colname in LIST_COLUMNS:\n",
    "    column_max_length = get_list_column_max_len(df, colname)\n",
    "    print(f\"{colname:<{max_colname_width}}: {column_max_length}\")\n",
    "    if column_max_length > 1:\n",
    "        arrays_with_size_larger_than_one.append(colname)"
   ]
  },
  {
   "cell_type": "markdown",
   "metadata": {},
   "source": [
    "A primeira coisa a se fazer, para facilitar o restante da nossa análise e pré-processamento,\n",
    "é transformar aquelas colunas que são sempre listas de um elemento em colunas escalares."
   ]
  },
  {
   "cell_type": "code",
   "execution_count": 350,
   "metadata": {},
   "outputs": [],
   "source": [
    "single_element_list_columns = [\n",
    "    \"capacityLimit\",\n",
    "    \"unitTypes\",\n",
    "    \"floors\",\n",
    "    \"suites\",\n",
    "]\n",
    "\n",
    "df = df.with_columns(\n",
    "    [pl.col(col).list.first().alias(col) for col in single_element_list_columns]\n",
    ")"
   ]
  },
  {
   "cell_type": "code",
   "execution_count": 351,
   "metadata": {},
   "outputs": [
    {
     "data": {
      "text/html": [
       "<div><style>\n",
       ".dataframe > thead > tr,\n",
       ".dataframe > tbody > tr {\n",
       "  text-align: right;\n",
       "  white-space: pre-wrap;\n",
       "}\n",
       "</style>\n",
       "<small>shape: (2, 31)</small><table border=\"1\" class=\"dataframe\"><thead><tr><th>amenities</th><th>unitTypes</th><th>resale</th><th>city</th><th>neighborhood</th><th>street</th><th>streetNumber</th><th>point</th><th>stateAcronym</th><th>parkingSpaces</th><th>bedrooms</th><th>floors</th><th>totalAreas</th><th>listingType</th><th>unitsOnTheFloor</th><th>publicationType</th><th>listingId</th><th>buildings</th><th>bathrooms</th><th>contractType</th><th>pricingInfos</th><th>unitFloor</th><th>usableAreas</th><th>suites</th><th>displayAddressType</th><th>usageTypes</th><th>propertyType</th><th>unitSubTypes</th><th>capacityLimit</th><th>accountId</th><th>link_href</th></tr><tr><td>list[str]</td><td>str</td><td>bool</td><td>str</td><td>str</td><td>str</td><td>str</td><td>struct[6]</td><td>str</td><td>list[i64]</td><td>list[i64]</td><td>i64</td><td>list[i64]</td><td>str</td><td>i64</td><td>str</td><td>str</td><td>i64</td><td>list[i64]</td><td>str</td><td>list[struct[5]]</td><td>i64</td><td>list[i64]</td><td>i64</td><td>str</td><td>list[str]</td><td>str</td><td>list[str]</td><td>i64</td><td>str</td><td>str</td></tr></thead><tbody><tr><td>[&quot;CABLE_TV&quot;, &quot;WATCHMAN&quot;, … &quot;INTERCOM&quot;]</td><td>&quot;CONDOMINIUM&quot;</td><td>false</td><td>&quot;Porto Alegre&quot;</td><td>&quot;Sarandi&quot;</td><td>&quot;Avenida Ecoville&quot;</td><td>&quot;190&quot;</td><td>{&quot;GOOGLE&quot;,null,null,null,-29.995522,-51.12181}</td><td>&quot;RS&quot;</td><td>[4]</td><td>[3]</td><td>null</td><td>[346]</td><td>&quot;USED&quot;</td><td>0</td><td>&quot;STANDARD&quot;</td><td>&quot;2747898832&quot;</td><td>0</td><td>[3]</td><td>&quot;REAL_ESTATE&quot;</td><td>[{&quot;SALE&quot;,null,1470000,750,{null,[],null}}]</td><td>0</td><td>[370]</td><td>1</td><td>&quot;ALL&quot;</td><td>[&quot;RESIDENTIAL&quot;]</td><td>&quot;UNIT&quot;</td><td>[]</td><td>null</td><td>&quot;0f4fcd4f-2e91-4211-8062-f0f0ca…</td><td>&quot;/imovel/venda-casa-de-condomin…</td></tr><tr><td>[]</td><td>&quot;OFFICE&quot;</td><td>false</td><td>&quot;Porto Alegre&quot;</td><td>&quot;Centro Histórico&quot;</td><td>&quot;Rua Coronel Fernando Machado&quot;</td><td>&quot;981&quot;</td><td>{&quot;GOOGLE&quot;,null,null,null,-30.035119,-51.227712}</td><td>&quot;RS&quot;</td><td>[]</td><td>[0]</td><td>null</td><td>[109]</td><td>&quot;USED&quot;</td><td>0</td><td>&quot;STANDARD&quot;</td><td>&quot;2762307994&quot;</td><td>0</td><td>[1]</td><td>&quot;REAL_ESTATE&quot;</td><td>[{&quot;SALE&quot;,68,320000,448,{null,[],null}}]</td><td>0</td><td>[106]</td><td>0</td><td>&quot;ALL&quot;</td><td>[&quot;COMMERCIAL&quot;]</td><td>&quot;UNIT&quot;</td><td>[]</td><td>null</td><td>&quot;10929a8c-7227-5aff-fb05-6bf394…</td><td>&quot;/imovel/venda-conjunto-comerci…</td></tr></tbody></table></div>"
      ],
      "text/plain": [
       "shape: (2, 31)\n",
       "┌────────────┬────────────┬────────┬────────┬───┬────────────┬────────────┬────────────┬───────────┐\n",
       "│ amenities  ┆ unitTypes  ┆ resale ┆ city   ┆ … ┆ unitSubTyp ┆ capacityLi ┆ accountId  ┆ link_href │\n",
       "│ ---        ┆ ---        ┆ ---    ┆ ---    ┆   ┆ es         ┆ mit        ┆ ---        ┆ ---       │\n",
       "│ list[str]  ┆ str        ┆ bool   ┆ str    ┆   ┆ ---        ┆ ---        ┆ str        ┆ str       │\n",
       "│            ┆            ┆        ┆        ┆   ┆ list[str]  ┆ i64        ┆            ┆           │\n",
       "╞════════════╪════════════╪════════╪════════╪═══╪════════════╪════════════╪════════════╪═══════════╡\n",
       "│ [\"CABLE_TV ┆ CONDOMINIU ┆ false  ┆ Porto  ┆ … ┆ []         ┆ null       ┆ 0f4fcd4f-2 ┆ /imovel/v │\n",
       "│ \", \"WATCHM ┆ M          ┆        ┆ Alegre ┆   ┆            ┆            ┆ e91-4211-8 ┆ enda-casa │\n",
       "│ AN\", …     ┆            ┆        ┆        ┆   ┆            ┆            ┆ 062-f0f0ca ┆ -de-condo │\n",
       "│ \"IN…       ┆            ┆        ┆        ┆   ┆            ┆            ┆ …          ┆ min…      │\n",
       "│ []         ┆ OFFICE     ┆ false  ┆ Porto  ┆ … ┆ []         ┆ null       ┆ 10929a8c-7 ┆ /imovel/v │\n",
       "│            ┆            ┆        ┆ Alegre ┆   ┆            ┆            ┆ 227-5aff-f ┆ enda-conj │\n",
       "│            ┆            ┆        ┆        ┆   ┆            ┆            ┆ b05-6bf394 ┆ unto-come │\n",
       "│            ┆            ┆        ┆        ┆   ┆            ┆            ┆ …          ┆ rci…      │\n",
       "└────────────┴────────────┴────────┴────────┴───┴────────────┴────────────┴────────────┴───────────┘"
      ]
     },
     "execution_count": 351,
     "metadata": {},
     "output_type": "execute_result"
    }
   ],
   "source": [
    "df.head(2)"
   ]
  },
  {
   "cell_type": "markdown",
   "metadata": {},
   "source": [
    "A seguir, procuramos entender a coluna `pricingInfos`."
   ]
  },
  {
   "cell_type": "code",
   "execution_count": 352,
   "metadata": {},
   "outputs": [
    {
     "data": {
      "text/html": [
       "<div><style>\n",
       ".dataframe > thead > tr,\n",
       ".dataframe > tbody > tr {\n",
       "  text-align: right;\n",
       "  white-space: pre-wrap;\n",
       "}\n",
       "</style>\n",
       "<small>shape: (3, 31)</small><table border=\"1\" class=\"dataframe\"><thead><tr><th>amenities</th><th>unitTypes</th><th>resale</th><th>city</th><th>neighborhood</th><th>street</th><th>streetNumber</th><th>point</th><th>stateAcronym</th><th>parkingSpaces</th><th>bedrooms</th><th>floors</th><th>totalAreas</th><th>listingType</th><th>unitsOnTheFloor</th><th>publicationType</th><th>listingId</th><th>buildings</th><th>bathrooms</th><th>contractType</th><th>pricingInfos</th><th>unitFloor</th><th>usableAreas</th><th>suites</th><th>displayAddressType</th><th>usageTypes</th><th>propertyType</th><th>unitSubTypes</th><th>capacityLimit</th><th>accountId</th><th>link_href</th></tr><tr><td>list[str]</td><td>str</td><td>bool</td><td>str</td><td>str</td><td>str</td><td>str</td><td>struct[6]</td><td>str</td><td>list[i64]</td><td>list[i64]</td><td>i64</td><td>list[i64]</td><td>str</td><td>i64</td><td>str</td><td>str</td><td>i64</td><td>list[i64]</td><td>str</td><td>list[struct[5]]</td><td>i64</td><td>list[i64]</td><td>i64</td><td>str</td><td>list[str]</td><td>str</td><td>list[str]</td><td>i64</td><td>str</td><td>str</td></tr></thead><tbody><tr><td>[&quot;GATED_COMMUNITY&quot;, &quot;ALARM_SYSTEM&quot;]</td><td>&quot;CONDOMINIUM&quot;</td><td>false</td><td>&quot;Porto Alegre&quot;</td><td>&quot;Sarandi&quot;</td><td>&quot;Avenida Willy Eugênio Fleck&quot;</td><td>&quot;1495&quot;</td><td>{&quot;GOOGLE&quot;,null,null,null,-30.004463,-51.119792}</td><td>&quot;RS&quot;</td><td>[4]</td><td>[4]</td><td>0</td><td>[600]</td><td>&quot;USED&quot;</td><td>0</td><td>&quot;STANDARD&quot;</td><td>&quot;2764522928&quot;</td><td>0</td><td>[5]</td><td>&quot;REAL_ESTATE&quot;</td><td>[{&quot;RENTAL&quot;,450,25000,2000,{null,[],null}}, {&quot;SALE&quot;,450,3500000,2000,{null,[],null}}]</td><td>0</td><td>[450]</td><td>4</td><td>&quot;ALL&quot;</td><td>[&quot;RESIDENTIAL&quot;]</td><td>&quot;UNIT&quot;</td><td>[]</td><td>null</td><td>&quot;d2ec76cf-7984-e8c9-73a8-b32a76…</td><td>&quot;/imovel/venda-casa-de-condomin…</td></tr><tr><td>[&quot;MEZZANINE&quot;, &quot;HOME_OFFICE&quot;]</td><td>&quot;SHED_DEPOSIT_WAREHOUSE&quot;</td><td>false</td><td>&quot;Porto Alegre&quot;</td><td>&quot;Sarandi&quot;</td><td>null</td><td>null</td><td>{&quot;GOOGLE&quot;,-29.993,-51.142,250,null,null}</td><td>&quot;RS&quot;</td><td>[]</td><td>[]</td><td>null</td><td>[745]</td><td>&quot;USED&quot;</td><td>0</td><td>&quot;STANDARD&quot;</td><td>&quot;2701907307&quot;</td><td>0</td><td>[2]</td><td>&quot;REAL_ESTATE&quot;</td><td>[{&quot;RENTAL&quot;,null,13500,null,{null,[],null}}, {&quot;SALE&quot;,null,2100000,null,{null,[],null}}]</td><td>0</td><td>[745]</td><td>null</td><td>&quot;NEIGHBORHOOD&quot;</td><td>[&quot;COMMERCIAL&quot;]</td><td>&quot;UNIT&quot;</td><td>[]</td><td>null</td><td>&quot;22b62d2f-12d9-2fb9-3a0d-80261c…</td><td>&quot;/imovel/venda-galpao-deposito-…</td></tr><tr><td>[]</td><td>&quot;BUSINESS&quot;</td><td>false</td><td>&quot;Porto Alegre&quot;</td><td>&quot;Cidade Baixa&quot;</td><td>&quot;Travessa do Carmo&quot;</td><td>null</td><td>{&quot;GOOGLE&quot;,-30.039,-51.226,140,null,null}</td><td>&quot;RS&quot;</td><td>[0]</td><td>[0]</td><td>0</td><td>[125]</td><td>&quot;USED&quot;</td><td>0</td><td>&quot;STANDARD&quot;</td><td>&quot;2647956266&quot;</td><td>0</td><td>[2]</td><td>&quot;REAL_ESTATE&quot;</td><td>[{&quot;RENTAL&quot;,190,3300,0,{null,[],null}}, {&quot;SALE&quot;,190,860000,0,{null,[],null}}]</td><td>0</td><td>[125]</td><td>0</td><td>&quot;STREET&quot;</td><td>[&quot;COMMERCIAL&quot;]</td><td>&quot;UNIT&quot;</td><td>[]</td><td>null</td><td>&quot;127bf420-5036-7a0d-d2af-19f8c9…</td><td>&quot;/imovel/venda-loja-salao-cidad…</td></tr></tbody></table></div>"
      ],
      "text/plain": [
       "shape: (3, 31)\n",
       "┌────────────┬────────────┬────────┬────────┬───┬────────────┬────────────┬────────────┬───────────┐\n",
       "│ amenities  ┆ unitTypes  ┆ resale ┆ city   ┆ … ┆ unitSubTyp ┆ capacityLi ┆ accountId  ┆ link_href │\n",
       "│ ---        ┆ ---        ┆ ---    ┆ ---    ┆   ┆ es         ┆ mit        ┆ ---        ┆ ---       │\n",
       "│ list[str]  ┆ str        ┆ bool   ┆ str    ┆   ┆ ---        ┆ ---        ┆ str        ┆ str       │\n",
       "│            ┆            ┆        ┆        ┆   ┆ list[str]  ┆ i64        ┆            ┆           │\n",
       "╞════════════╪════════════╪════════╪════════╪═══╪════════════╪════════════╪════════════╪═══════════╡\n",
       "│ [\"GATED_CO ┆ CONDOMINIU ┆ false  ┆ Porto  ┆ … ┆ []         ┆ null       ┆ d2ec76cf-7 ┆ /imovel/v │\n",
       "│ MMUNITY\",  ┆ M          ┆        ┆ Alegre ┆   ┆            ┆            ┆ 984-e8c9-7 ┆ enda-casa │\n",
       "│ \"ALARM_SYS ┆            ┆        ┆        ┆   ┆            ┆            ┆ 3a8-b32a76 ┆ -de-condo │\n",
       "│ …          ┆            ┆        ┆        ┆   ┆            ┆            ┆ …          ┆ min…      │\n",
       "│ [\"MEZZANIN ┆ SHED_DEPOS ┆ false  ┆ Porto  ┆ … ┆ []         ┆ null       ┆ 22b62d2f-1 ┆ /imovel/v │\n",
       "│ E\", \"HOME_ ┆ IT_WAREHOU ┆        ┆ Alegre ┆   ┆            ┆            ┆ 2d9-2fb9-3 ┆ enda-galp │\n",
       "│ OFFICE\"]   ┆ SE         ┆        ┆        ┆   ┆            ┆            ┆ a0d-80261c ┆ ao-deposi │\n",
       "│            ┆            ┆        ┆        ┆   ┆            ┆            ┆ …          ┆ to-…      │\n",
       "│ []         ┆ BUSINESS   ┆ false  ┆ Porto  ┆ … ┆ []         ┆ null       ┆ 127bf420-5 ┆ /imovel/v │\n",
       "│            ┆            ┆        ┆ Alegre ┆   ┆            ┆            ┆ 036-7a0d-d ┆ enda-loja │\n",
       "│            ┆            ┆        ┆        ┆   ┆            ┆            ┆ 2af-19f8c9 ┆ -salao-ci │\n",
       "│            ┆            ┆        ┆        ┆   ┆            ┆            ┆ …          ┆ dad…      │\n",
       "└────────────┴────────────┴────────┴────────┴───┴────────────┴────────────┴────────────┴───────────┘"
      ]
     },
     "execution_count": 352,
     "metadata": {},
     "output_type": "execute_result"
    }
   ],
   "source": [
    "df.filter(pl.col(\"pricingInfos\").list.len() > 1).head(3)"
   ]
  },
  {
   "cell_type": "code",
   "execution_count": 353,
   "metadata": {},
   "outputs": [
    {
     "data": {
      "text/html": [
       "<div><style>\n",
       ".dataframe > thead > tr,\n",
       ".dataframe > tbody > tr {\n",
       "  text-align: right;\n",
       "  white-space: pre-wrap;\n",
       "}\n",
       "</style>\n",
       "<small>shape: (2, 1)</small><table border=\"1\" class=\"dataframe\"><thead><tr><th>businessType</th></tr><tr><td>str</td></tr></thead><tbody><tr><td>&quot;SALE&quot;</td></tr><tr><td>&quot;RENTAL&quot;</td></tr></tbody></table></div>"
      ],
      "text/plain": [
       "shape: (2, 1)\n",
       "┌──────────────┐\n",
       "│ businessType │\n",
       "│ ---          │\n",
       "│ str          │\n",
       "╞══════════════╡\n",
       "│ SALE         │\n",
       "│ RENTAL       │\n",
       "└──────────────┘"
      ]
     },
     "execution_count": 353,
     "metadata": {},
     "output_type": "execute_result"
    }
   ],
   "source": [
    "df.select(pl.col(\"pricingInfos\").explode().struct.field(\"businessType\").unique())"
   ]
  },
  {
   "cell_type": "markdown",
   "metadata": {},
   "source": [
    "Quando ocorre multiplicidade, é porque o imóvel pode ser comprado ou alugado.\n",
    "Para nossos propósitos, nos interessamos tão somente em propriedades à venda, e apenas no valor de compra.\n",
    "Desta forma, podemos descartar todas as outras informações e imóveis que não estão disponíveis para compra,\n",
    "o que é revelado pelo atributo `businessType` de `pricingInfos`."
   ]
  },
  {
   "cell_type": "code",
   "execution_count": 354,
   "metadata": {},
   "outputs": [],
   "source": [
    "df = (\n",
    "    df.explode(pl.col(\"pricingInfos\"))\n",
    "    .unnest(\"pricingInfos\")\n",
    "    .filter(pl.col(\"businessType\") != \"RENTAL\")\n",
    ")"
   ]
  },
  {
   "cell_type": "code",
   "execution_count": 355,
   "metadata": {},
   "outputs": [
    {
     "data": {
      "text/plain": [
       "15432"
      ]
     },
     "execution_count": 355,
     "metadata": {},
     "output_type": "execute_result"
    }
   ],
   "source": [
    "df.height"
   ]
  },
  {
   "cell_type": "code",
   "execution_count": 356,
   "metadata": {},
   "outputs": [
    {
     "data": {
      "text/html": [
       "<div><style>\n",
       ".dataframe > thead > tr,\n",
       ".dataframe > tbody > tr {\n",
       "  text-align: right;\n",
       "  white-space: pre-wrap;\n",
       "}\n",
       "</style>\n",
       "<small>shape: (2, 35)</small><table border=\"1\" class=\"dataframe\"><thead><tr><th>amenities</th><th>unitTypes</th><th>resale</th><th>city</th><th>neighborhood</th><th>street</th><th>streetNumber</th><th>point</th><th>stateAcronym</th><th>parkingSpaces</th><th>bedrooms</th><th>floors</th><th>totalAreas</th><th>listingType</th><th>unitsOnTheFloor</th><th>publicationType</th><th>listingId</th><th>buildings</th><th>bathrooms</th><th>contractType</th><th>businessType</th><th>yearlyIptu</th><th>price</th><th>monthlyCondoFee</th><th>rentalInfo</th><th>unitFloor</th><th>usableAreas</th><th>suites</th><th>displayAddressType</th><th>usageTypes</th><th>propertyType</th><th>unitSubTypes</th><th>capacityLimit</th><th>accountId</th><th>link_href</th></tr><tr><td>list[str]</td><td>str</td><td>bool</td><td>str</td><td>str</td><td>str</td><td>str</td><td>struct[6]</td><td>str</td><td>list[i64]</td><td>list[i64]</td><td>i64</td><td>list[i64]</td><td>str</td><td>i64</td><td>str</td><td>str</td><td>i64</td><td>list[i64]</td><td>str</td><td>str</td><td>i64</td><td>i64</td><td>i64</td><td>struct[3]</td><td>i64</td><td>list[i64]</td><td>i64</td><td>str</td><td>list[str]</td><td>str</td><td>list[str]</td><td>i64</td><td>str</td><td>str</td></tr></thead><tbody><tr><td>[&quot;CABLE_TV&quot;, &quot;WATCHMAN&quot;, … &quot;INTERCOM&quot;]</td><td>&quot;CONDOMINIUM&quot;</td><td>false</td><td>&quot;Porto Alegre&quot;</td><td>&quot;Sarandi&quot;</td><td>&quot;Avenida Ecoville&quot;</td><td>&quot;190&quot;</td><td>{&quot;GOOGLE&quot;,null,null,null,-29.995522,-51.12181}</td><td>&quot;RS&quot;</td><td>[4]</td><td>[3]</td><td>null</td><td>[346]</td><td>&quot;USED&quot;</td><td>0</td><td>&quot;STANDARD&quot;</td><td>&quot;2747898832&quot;</td><td>0</td><td>[3]</td><td>&quot;REAL_ESTATE&quot;</td><td>&quot;SALE&quot;</td><td>null</td><td>1470000</td><td>750</td><td>{null,[],null}</td><td>0</td><td>[370]</td><td>1</td><td>&quot;ALL&quot;</td><td>[&quot;RESIDENTIAL&quot;]</td><td>&quot;UNIT&quot;</td><td>[]</td><td>null</td><td>&quot;0f4fcd4f-2e91-4211-8062-f0f0ca…</td><td>&quot;/imovel/venda-casa-de-condomin…</td></tr><tr><td>[]</td><td>&quot;OFFICE&quot;</td><td>false</td><td>&quot;Porto Alegre&quot;</td><td>&quot;Centro Histórico&quot;</td><td>&quot;Rua Coronel Fernando Machado&quot;</td><td>&quot;981&quot;</td><td>{&quot;GOOGLE&quot;,null,null,null,-30.035119,-51.227712}</td><td>&quot;RS&quot;</td><td>[]</td><td>[0]</td><td>null</td><td>[109]</td><td>&quot;USED&quot;</td><td>0</td><td>&quot;STANDARD&quot;</td><td>&quot;2762307994&quot;</td><td>0</td><td>[1]</td><td>&quot;REAL_ESTATE&quot;</td><td>&quot;SALE&quot;</td><td>68</td><td>320000</td><td>448</td><td>{null,[],null}</td><td>0</td><td>[106]</td><td>0</td><td>&quot;ALL&quot;</td><td>[&quot;COMMERCIAL&quot;]</td><td>&quot;UNIT&quot;</td><td>[]</td><td>null</td><td>&quot;10929a8c-7227-5aff-fb05-6bf394…</td><td>&quot;/imovel/venda-conjunto-comerci…</td></tr></tbody></table></div>"
      ],
      "text/plain": [
       "shape: (2, 35)\n",
       "┌────────────┬────────────┬────────┬────────┬───┬────────────┬────────────┬────────────┬───────────┐\n",
       "│ amenities  ┆ unitTypes  ┆ resale ┆ city   ┆ … ┆ unitSubTyp ┆ capacityLi ┆ accountId  ┆ link_href │\n",
       "│ ---        ┆ ---        ┆ ---    ┆ ---    ┆   ┆ es         ┆ mit        ┆ ---        ┆ ---       │\n",
       "│ list[str]  ┆ str        ┆ bool   ┆ str    ┆   ┆ ---        ┆ ---        ┆ str        ┆ str       │\n",
       "│            ┆            ┆        ┆        ┆   ┆ list[str]  ┆ i64        ┆            ┆           │\n",
       "╞════════════╪════════════╪════════╪════════╪═══╪════════════╪════════════╪════════════╪═══════════╡\n",
       "│ [\"CABLE_TV ┆ CONDOMINIU ┆ false  ┆ Porto  ┆ … ┆ []         ┆ null       ┆ 0f4fcd4f-2 ┆ /imovel/v │\n",
       "│ \", \"WATCHM ┆ M          ┆        ┆ Alegre ┆   ┆            ┆            ┆ e91-4211-8 ┆ enda-casa │\n",
       "│ AN\", …     ┆            ┆        ┆        ┆   ┆            ┆            ┆ 062-f0f0ca ┆ -de-condo │\n",
       "│ \"IN…       ┆            ┆        ┆        ┆   ┆            ┆            ┆ …          ┆ min…      │\n",
       "│ []         ┆ OFFICE     ┆ false  ┆ Porto  ┆ … ┆ []         ┆ null       ┆ 10929a8c-7 ┆ /imovel/v │\n",
       "│            ┆            ┆        ┆ Alegre ┆   ┆            ┆            ┆ 227-5aff-f ┆ enda-conj │\n",
       "│            ┆            ┆        ┆        ┆   ┆            ┆            ┆ b05-6bf394 ┆ unto-come │\n",
       "│            ┆            ┆        ┆        ┆   ┆            ┆            ┆ …          ┆ rci…      │\n",
       "└────────────┴────────────┴────────┴────────┴───┴────────────┴────────────┴────────────┴───────────┘"
      ]
     },
     "execution_count": 356,
     "metadata": {},
     "output_type": "execute_result"
    }
   ],
   "source": [
    "df.head(2)"
   ]
  },
  {
   "cell_type": "markdown",
   "metadata": {},
   "source": [
    "Podemos descartar `businessType`, que não é mais útil, e `rentalInfo`, pois não é relevante para nosso propósito."
   ]
  },
  {
   "cell_type": "code",
   "execution_count": 357,
   "metadata": {},
   "outputs": [],
   "source": [
    "df = df.drop(\"businessType\", \"rentalInfo\")"
   ]
  },
  {
   "cell_type": "markdown",
   "metadata": {},
   "source": [
    "A seguir, buscamos entender `unitSubTypes`."
   ]
  },
  {
   "cell_type": "code",
   "execution_count": 358,
   "metadata": {},
   "outputs": [
    {
     "data": {
      "text/html": [
       "<div><style>\n",
       ".dataframe > thead > tr,\n",
       ".dataframe > tbody > tr {\n",
       "  text-align: right;\n",
       "  white-space: pre-wrap;\n",
       "}\n",
       "</style>\n",
       "<small>shape: (3, 33)</small><table border=\"1\" class=\"dataframe\"><thead><tr><th>amenities</th><th>unitTypes</th><th>resale</th><th>city</th><th>neighborhood</th><th>street</th><th>streetNumber</th><th>point</th><th>stateAcronym</th><th>parkingSpaces</th><th>bedrooms</th><th>floors</th><th>totalAreas</th><th>listingType</th><th>unitsOnTheFloor</th><th>publicationType</th><th>listingId</th><th>buildings</th><th>bathrooms</th><th>contractType</th><th>yearlyIptu</th><th>price</th><th>monthlyCondoFee</th><th>unitFloor</th><th>usableAreas</th><th>suites</th><th>displayAddressType</th><th>usageTypes</th><th>propertyType</th><th>unitSubTypes</th><th>capacityLimit</th><th>accountId</th><th>link_href</th></tr><tr><td>list[str]</td><td>str</td><td>bool</td><td>str</td><td>str</td><td>str</td><td>str</td><td>struct[6]</td><td>str</td><td>list[i64]</td><td>list[i64]</td><td>i64</td><td>list[i64]</td><td>str</td><td>i64</td><td>str</td><td>str</td><td>i64</td><td>list[i64]</td><td>str</td><td>i64</td><td>i64</td><td>i64</td><td>i64</td><td>list[i64]</td><td>i64</td><td>str</td><td>list[str]</td><td>str</td><td>list[str]</td><td>i64</td><td>str</td><td>str</td></tr></thead><tbody><tr><td>[&quot;GYM&quot;, &quot;BARBECUE_GRILL&quot;, … &quot;AIR_CONDITIONING&quot;]</td><td>&quot;APARTMENT&quot;</td><td>false</td><td>&quot;Porto Alegre&quot;</td><td>&quot;Cidade Baixa&quot;</td><td>&quot;Avenida Loureiro da Silva&quot;</td><td>&quot;1870&quot;</td><td>{&quot;GOOGLE&quot;,null,null,null,-30.035237,-51.224475}</td><td>&quot;RS&quot;</td><td>[2]</td><td>[1, 2]</td><td>13</td><td>[103, 170]</td><td>&quot;USED&quot;</td><td>0</td><td>&quot;STANDARD&quot;</td><td>&quot;2747249760&quot;</td><td>0</td><td>[1, 2]</td><td>&quot;REAL_ESTATE&quot;</td><td>2300</td><td>749000</td><td>1172</td><td>12</td><td>[103]</td><td>1</td><td>&quot;ALL&quot;</td><td>[&quot;RESIDENTIAL&quot;]</td><td>&quot;UNIT&quot;</td><td>[&quot;PENTHOUSE&quot;, &quot;DUPLEX&quot;]</td><td>null</td><td>&quot;7e682d41-74f9-029f-8684-cf6062…</td><td>&quot;/imovel/venda-cobertura-2-quar…</td></tr><tr><td>[&quot;POOL&quot;, &quot;PARTY_HALL&quot;, … &quot;PETS_ALLOWED&quot;]</td><td>&quot;HOME&quot;</td><td>false</td><td>&quot;Porto Alegre&quot;</td><td>&quot;Sarandi&quot;</td><td>&quot;Avenida Willy Eugênio Fleck&quot;</td><td>&quot;1500&quot;</td><td>{&quot;GOOGLE&quot;,null,null,null,-30.003095,-51.120302}</td><td>&quot;RS&quot;</td><td>[2]</td><td>[3]</td><td>null</td><td>[188]</td><td>&quot;USED&quot;</td><td>0</td><td>&quot;STANDARD&quot;</td><td>&quot;2725647696&quot;</td><td>0</td><td>[3]</td><td>&quot;REAL_ESTATE&quot;</td><td>2700</td><td>990000</td><td>700</td><td>0</td><td>[157]</td><td>1</td><td>&quot;ALL&quot;</td><td>[&quot;RESIDENTIAL&quot;]</td><td>&quot;UNIT&quot;</td><td>[&quot;CONDOMINIUM&quot;, &quot;TWO_STORY_HOUSE&quot;]</td><td>null</td><td>&quot;96742062-22f8-d633-1a99-e0fdd5…</td><td>&quot;/imovel/venda-casa-de-condomin…</td></tr><tr><td>[&quot;RECREATION_AREA&quot;, &quot;GYM&quot;, … &quot;AIR_CONDITIONING&quot;]</td><td>&quot;HOME&quot;</td><td>false</td><td>&quot;Porto Alegre&quot;</td><td>&quot;Sarandi&quot;</td><td>&quot;Avenida Ecoville&quot;</td><td>&quot;790&quot;</td><td>{&quot;GOOGLE&quot;,null,null,null,-30.001304,-51.121844}</td><td>&quot;RS&quot;</td><td>[2]</td><td>[3]</td><td>null</td><td>[150]</td><td>&quot;USED&quot;</td><td>0</td><td>&quot;STANDARD&quot;</td><td>&quot;2747155497&quot;</td><td>0</td><td>[3]</td><td>&quot;REAL_ESTATE&quot;</td><td>null</td><td>1200000</td><td>800</td><td>0</td><td>[150]</td><td>1</td><td>&quot;ALL&quot;</td><td>[&quot;RESIDENTIAL&quot;]</td><td>&quot;UNIT&quot;</td><td>[&quot;CONDOMINIUM&quot;, &quot;TWO_STORY_HOUSE&quot;]</td><td>null</td><td>&quot;bb09d356-3f68-827c-5066-a6412c…</td><td>&quot;/imovel/venda-casa-de-condomin…</td></tr></tbody></table></div>"
      ],
      "text/plain": [
       "shape: (3, 33)\n",
       "┌────────────┬───────────┬────────┬────────┬───┬────────────┬────────────┬────────────┬────────────┐\n",
       "│ amenities  ┆ unitTypes ┆ resale ┆ city   ┆ … ┆ unitSubTyp ┆ capacityLi ┆ accountId  ┆ link_href  │\n",
       "│ ---        ┆ ---       ┆ ---    ┆ ---    ┆   ┆ es         ┆ mit        ┆ ---        ┆ ---        │\n",
       "│ list[str]  ┆ str       ┆ bool   ┆ str    ┆   ┆ ---        ┆ ---        ┆ str        ┆ str        │\n",
       "│            ┆           ┆        ┆        ┆   ┆ list[str]  ┆ i64        ┆            ┆            │\n",
       "╞════════════╪═══════════╪════════╪════════╪═══╪════════════╪════════════╪════════════╪════════════╡\n",
       "│ [\"GYM\",    ┆ APARTMENT ┆ false  ┆ Porto  ┆ … ┆ [\"PENTHOUS ┆ null       ┆ 7e682d41-7 ┆ /imovel/ve │\n",
       "│ \"BARBECUE_ ┆           ┆        ┆ Alegre ┆   ┆ E\",        ┆            ┆ 4f9-029f-8 ┆ nda-cobert │\n",
       "│ GRILL\", …  ┆           ┆        ┆        ┆   ┆ \"DUPLEX\"]  ┆            ┆ 684-cf6062 ┆ ura-2-quar │\n",
       "│ \"A…        ┆           ┆        ┆        ┆   ┆            ┆            ┆ …          ┆ …          │\n",
       "│ [\"POOL\",   ┆ HOME      ┆ false  ┆ Porto  ┆ … ┆ [\"CONDOMIN ┆ null       ┆ 96742062-2 ┆ /imovel/ve │\n",
       "│ \"PARTY_HAL ┆           ┆        ┆ Alegre ┆   ┆ IUM\", \"TWO ┆            ┆ 2f8-d633-1 ┆ nda-casa-d │\n",
       "│ L\", …      ┆           ┆        ┆        ┆   ┆ _STORY_HOU ┆            ┆ a99-e0fdd5 ┆ e-condomin │\n",
       "│ \"PETS…     ┆           ┆        ┆        ┆   ┆ …          ┆            ┆ …          ┆ …          │\n",
       "│ [\"RECREATI ┆ HOME      ┆ false  ┆ Porto  ┆ … ┆ [\"CONDOMIN ┆ null       ┆ bb09d356-3 ┆ /imovel/ve │\n",
       "│ ON_AREA\",  ┆           ┆        ┆ Alegre ┆   ┆ IUM\", \"TWO ┆            ┆ f68-827c-5 ┆ nda-casa-d │\n",
       "│ \"GYM\", …   ┆           ┆        ┆        ┆   ┆ _STORY_HOU ┆            ┆ 066-a6412c ┆ e-condomin │\n",
       "│ \"…         ┆           ┆        ┆        ┆   ┆ …          ┆            ┆ …          ┆ …          │\n",
       "└────────────┴───────────┴────────┴────────┴───┴────────────┴────────────┴────────────┴────────────┘"
      ]
     },
     "execution_count": 358,
     "metadata": {},
     "output_type": "execute_result"
    }
   ],
   "source": [
    "df.filter(pl.col(\"unitSubTypes\").list.len() > 1).head(3)"
   ]
  },
  {
   "cell_type": "markdown",
   "metadata": {},
   "source": [
    "`unitSubTypes`, neste caso, define duas categorias que se aplicam ao imóvel."
   ]
  },
  {
   "cell_type": "markdown",
   "metadata": {},
   "source": [
    "Por outro lado, um imóvel pode não ter nenhum subtipo? E, se sim, isso é comum?"
   ]
  },
  {
   "cell_type": "code",
   "execution_count": 359,
   "metadata": {},
   "outputs": [
    {
     "data": {
      "text/plain": [
       "14743"
      ]
     },
     "execution_count": 359,
     "metadata": {},
     "output_type": "execute_result"
    }
   ],
   "source": [
    "df.filter(pl.col(\"unitSubTypes\").list.len() == 0).height"
   ]
  },
  {
   "cell_type": "markdown",
   "metadata": {},
   "source": [
    "De fato, esse é o mais comum dos casos. Se esse dado fosse presente para todos os registros,\n",
    "poderia ser um atributo interessante. Como não é o caso, o descartamos."
   ]
  },
  {
   "cell_type": "code",
   "execution_count": 360,
   "metadata": {},
   "outputs": [],
   "source": [
    "df = df.drop(\"unitSubTypes\")"
   ]
  },
  {
   "cell_type": "code",
   "execution_count": 361,
   "metadata": {},
   "outputs": [
    {
     "data": {
      "text/html": [
       "<div><style>\n",
       ".dataframe > thead > tr,\n",
       ".dataframe > tbody > tr {\n",
       "  text-align: right;\n",
       "  white-space: pre-wrap;\n",
       "}\n",
       "</style>\n",
       "<small>shape: (3, 32)</small><table border=\"1\" class=\"dataframe\"><thead><tr><th>amenities</th><th>unitTypes</th><th>resale</th><th>city</th><th>neighborhood</th><th>street</th><th>streetNumber</th><th>point</th><th>stateAcronym</th><th>parkingSpaces</th><th>bedrooms</th><th>floors</th><th>totalAreas</th><th>listingType</th><th>unitsOnTheFloor</th><th>publicationType</th><th>listingId</th><th>buildings</th><th>bathrooms</th><th>contractType</th><th>yearlyIptu</th><th>price</th><th>monthlyCondoFee</th><th>unitFloor</th><th>usableAreas</th><th>suites</th><th>displayAddressType</th><th>usageTypes</th><th>propertyType</th><th>capacityLimit</th><th>accountId</th><th>link_href</th></tr><tr><td>list[str]</td><td>str</td><td>bool</td><td>str</td><td>str</td><td>str</td><td>str</td><td>struct[6]</td><td>str</td><td>list[i64]</td><td>list[i64]</td><td>i64</td><td>list[i64]</td><td>str</td><td>i64</td><td>str</td><td>str</td><td>i64</td><td>list[i64]</td><td>str</td><td>i64</td><td>i64</td><td>i64</td><td>i64</td><td>list[i64]</td><td>i64</td><td>str</td><td>list[str]</td><td>str</td><td>i64</td><td>str</td><td>str</td></tr></thead><tbody><tr><td>[&quot;CABLE_TV&quot;, &quot;WATCHMAN&quot;, … &quot;INTERCOM&quot;]</td><td>&quot;CONDOMINIUM&quot;</td><td>false</td><td>&quot;Porto Alegre&quot;</td><td>&quot;Sarandi&quot;</td><td>&quot;Avenida Ecoville&quot;</td><td>&quot;190&quot;</td><td>{&quot;GOOGLE&quot;,null,null,null,-29.995522,-51.12181}</td><td>&quot;RS&quot;</td><td>[4]</td><td>[3]</td><td>null</td><td>[346]</td><td>&quot;USED&quot;</td><td>0</td><td>&quot;STANDARD&quot;</td><td>&quot;2747898832&quot;</td><td>0</td><td>[3]</td><td>&quot;REAL_ESTATE&quot;</td><td>null</td><td>1470000</td><td>750</td><td>0</td><td>[370]</td><td>1</td><td>&quot;ALL&quot;</td><td>[&quot;RESIDENTIAL&quot;]</td><td>&quot;UNIT&quot;</td><td>null</td><td>&quot;0f4fcd4f-2e91-4211-8062-f0f0ca…</td><td>&quot;/imovel/venda-casa-de-condomin…</td></tr><tr><td>[]</td><td>&quot;OFFICE&quot;</td><td>false</td><td>&quot;Porto Alegre&quot;</td><td>&quot;Centro Histórico&quot;</td><td>&quot;Rua Coronel Fernando Machado&quot;</td><td>&quot;981&quot;</td><td>{&quot;GOOGLE&quot;,null,null,null,-30.035119,-51.227712}</td><td>&quot;RS&quot;</td><td>[]</td><td>[0]</td><td>null</td><td>[109]</td><td>&quot;USED&quot;</td><td>0</td><td>&quot;STANDARD&quot;</td><td>&quot;2762307994&quot;</td><td>0</td><td>[1]</td><td>&quot;REAL_ESTATE&quot;</td><td>68</td><td>320000</td><td>448</td><td>0</td><td>[106]</td><td>0</td><td>&quot;ALL&quot;</td><td>[&quot;COMMERCIAL&quot;]</td><td>&quot;UNIT&quot;</td><td>null</td><td>&quot;10929a8c-7227-5aff-fb05-6bf394…</td><td>&quot;/imovel/venda-conjunto-comerci…</td></tr><tr><td>[&quot;GARAGE&quot;]</td><td>&quot;APARTMENT&quot;</td><td>false</td><td>&quot;Porto Alegre&quot;</td><td>&quot;Sarandi&quot;</td><td>&quot;Rua Gabriel Franco da Luz&quot;</td><td>&quot;560&quot;</td><td>{&quot;GOOGLE&quot;,null,null,null,-29.981459,-51.123619}</td><td>&quot;RS&quot;</td><td>[1]</td><td>[2]</td><td>null</td><td>[1]</td><td>&quot;USED&quot;</td><td>0</td><td>&quot;STANDARD&quot;</td><td>&quot;2742952916&quot;</td><td>0</td><td>[1]</td><td>&quot;REAL_ESTATE&quot;</td><td>30</td><td>185000</td><td>214</td><td>0</td><td>[45]</td><td>0</td><td>&quot;ALL&quot;</td><td>[&quot;RESIDENTIAL&quot;]</td><td>&quot;UNIT&quot;</td><td>null</td><td>&quot;b1c30c71-820c-306e-8445-5e50cc…</td><td>&quot;/imovel/venda-apartamento-2-qu…</td></tr></tbody></table></div>"
      ],
      "text/plain": [
       "shape: (3, 32)\n",
       "┌────────────┬────────────┬────────┬────────┬───┬────────────┬────────────┬────────────┬───────────┐\n",
       "│ amenities  ┆ unitTypes  ┆ resale ┆ city   ┆ … ┆ propertyTy ┆ capacityLi ┆ accountId  ┆ link_href │\n",
       "│ ---        ┆ ---        ┆ ---    ┆ ---    ┆   ┆ pe         ┆ mit        ┆ ---        ┆ ---       │\n",
       "│ list[str]  ┆ str        ┆ bool   ┆ str    ┆   ┆ ---        ┆ ---        ┆ str        ┆ str       │\n",
       "│            ┆            ┆        ┆        ┆   ┆ str        ┆ i64        ┆            ┆           │\n",
       "╞════════════╪════════════╪════════╪════════╪═══╪════════════╪════════════╪════════════╪═══════════╡\n",
       "│ [\"CABLE_TV ┆ CONDOMINIU ┆ false  ┆ Porto  ┆ … ┆ UNIT       ┆ null       ┆ 0f4fcd4f-2 ┆ /imovel/v │\n",
       "│ \", \"WATCHM ┆ M          ┆        ┆ Alegre ┆   ┆            ┆            ┆ e91-4211-8 ┆ enda-casa │\n",
       "│ AN\", …     ┆            ┆        ┆        ┆   ┆            ┆            ┆ 062-f0f0ca ┆ -de-condo │\n",
       "│ \"IN…       ┆            ┆        ┆        ┆   ┆            ┆            ┆ …          ┆ min…      │\n",
       "│ []         ┆ OFFICE     ┆ false  ┆ Porto  ┆ … ┆ UNIT       ┆ null       ┆ 10929a8c-7 ┆ /imovel/v │\n",
       "│            ┆            ┆        ┆ Alegre ┆   ┆            ┆            ┆ 227-5aff-f ┆ enda-conj │\n",
       "│            ┆            ┆        ┆        ┆   ┆            ┆            ┆ b05-6bf394 ┆ unto-come │\n",
       "│            ┆            ┆        ┆        ┆   ┆            ┆            ┆ …          ┆ rci…      │\n",
       "│ [\"GARAGE\"] ┆ APARTMENT  ┆ false  ┆ Porto  ┆ … ┆ UNIT       ┆ null       ┆ b1c30c71-8 ┆ /imovel/v │\n",
       "│            ┆            ┆        ┆ Alegre ┆   ┆            ┆            ┆ 20c-306e-8 ┆ enda-apar │\n",
       "│            ┆            ┆        ┆        ┆   ┆            ┆            ┆ 445-5e50cc ┆ tamento-2 │\n",
       "│            ┆            ┆        ┆        ┆   ┆            ┆            ┆ …          ┆ -qu…      │\n",
       "└────────────┴────────────┴────────┴────────┴───┴────────────┴────────────┴────────────┴───────────┘"
      ]
     },
     "execution_count": 361,
     "metadata": {},
     "output_type": "execute_result"
    }
   ],
   "source": [
    "df.head(3)"
   ]
  },
  {
   "cell_type": "code",
   "execution_count": 362,
   "metadata": {},
   "outputs": [
    {
     "data": {
      "text/html": [
       "<div><style>\n",
       ".dataframe > thead > tr,\n",
       ".dataframe > tbody > tr {\n",
       "  text-align: right;\n",
       "  white-space: pre-wrap;\n",
       "}\n",
       "</style>\n",
       "<small>shape: (5, 32)</small><table border=\"1\" class=\"dataframe\"><thead><tr><th>amenities</th><th>unitTypes</th><th>resale</th><th>city</th><th>neighborhood</th><th>street</th><th>streetNumber</th><th>point</th><th>stateAcronym</th><th>parkingSpaces</th><th>bedrooms</th><th>floors</th><th>totalAreas</th><th>listingType</th><th>unitsOnTheFloor</th><th>publicationType</th><th>listingId</th><th>buildings</th><th>bathrooms</th><th>contractType</th><th>yearlyIptu</th><th>price</th><th>monthlyCondoFee</th><th>unitFloor</th><th>usableAreas</th><th>suites</th><th>displayAddressType</th><th>usageTypes</th><th>propertyType</th><th>capacityLimit</th><th>accountId</th><th>link_href</th></tr><tr><td>list[str]</td><td>str</td><td>bool</td><td>str</td><td>str</td><td>str</td><td>str</td><td>struct[6]</td><td>str</td><td>list[i64]</td><td>list[i64]</td><td>i64</td><td>list[i64]</td><td>str</td><td>i64</td><td>str</td><td>str</td><td>i64</td><td>list[i64]</td><td>str</td><td>i64</td><td>i64</td><td>i64</td><td>i64</td><td>list[i64]</td><td>i64</td><td>str</td><td>list[str]</td><td>str</td><td>i64</td><td>str</td><td>str</td></tr></thead><tbody><tr><td>[&quot;GYM&quot;, &quot;BARBECUE_GRILL&quot;, … &quot;AIR_CONDITIONING&quot;]</td><td>&quot;APARTMENT&quot;</td><td>false</td><td>&quot;Porto Alegre&quot;</td><td>&quot;Cidade Baixa&quot;</td><td>&quot;Avenida Loureiro da Silva&quot;</td><td>&quot;1870&quot;</td><td>{&quot;GOOGLE&quot;,null,null,null,-30.035237,-51.224475}</td><td>&quot;RS&quot;</td><td>[2]</td><td>[1, 2]</td><td>13</td><td>[103, 170]</td><td>&quot;USED&quot;</td><td>0</td><td>&quot;STANDARD&quot;</td><td>&quot;2747249760&quot;</td><td>0</td><td>[1, 2]</td><td>&quot;REAL_ESTATE&quot;</td><td>2300</td><td>749000</td><td>1172</td><td>12</td><td>[103]</td><td>1</td><td>&quot;ALL&quot;</td><td>[&quot;RESIDENTIAL&quot;]</td><td>&quot;UNIT&quot;</td><td>null</td><td>&quot;7e682d41-74f9-029f-8684-cf6062…</td><td>&quot;/imovel/venda-cobertura-2-quar…</td></tr><tr><td>[&quot;GARAGE&quot;]</td><td>&quot;APARTMENT&quot;</td><td>false</td><td>&quot;Porto Alegre&quot;</td><td>&quot;Menino Deus&quot;</td><td>&quot;Rua Barbedo&quot;</td><td>&quot;756&quot;</td><td>{&quot;GOOGLE&quot;,null,null,null,-30.05755,-51.22319}</td><td>&quot;RS&quot;</td><td>[1]</td><td>[2, 3]</td><td>null</td><td>[113, 115]</td><td>&quot;USED&quot;</td><td>0</td><td>&quot;PREMIUM&quot;</td><td>&quot;2721965242&quot;</td><td>0</td><td>[1, 2]</td><td>&quot;REAL_ESTATE&quot;</td><td>0</td><td>510000</td><td>450</td><td>0</td><td>[95, 97]</td><td>1</td><td>&quot;ALL&quot;</td><td>[&quot;RESIDENTIAL&quot;]</td><td>&quot;UNIT&quot;</td><td>null</td><td>&quot;bdd8f146-4dd2-66d3-fcd8-d46a0e…</td><td>&quot;/imovel/venda-apartamento-3-qu…</td></tr><tr><td>[&quot;SERVICE_AREA&quot;, &quot;ELEVATOR&quot;, … &quot;EXTERIOR_VIEW&quot;]</td><td>&quot;APARTMENT&quot;</td><td>false</td><td>&quot;Porto Alegre&quot;</td><td>&quot;Centro Histórico&quot;</td><td>&quot;Rua Riachuelo&quot;</td><td>&quot;1305&quot;</td><td>{&quot;GOOGLE&quot;,null,null,null,-30.031668,-51.22865}</td><td>&quot;RS&quot;</td><td>[1]</td><td>[2, 3]</td><td>24</td><td>[110]</td><td>&quot;USED&quot;</td><td>0</td><td>&quot;STANDARD&quot;</td><td>&quot;2715453947&quot;</td><td>0</td><td>[2]</td><td>&quot;REAL_ESTATE&quot;</td><td>1000</td><td>510000</td><td>0</td><td>0</td><td>[91]</td><td>null</td><td>&quot;ALL&quot;</td><td>[&quot;RESIDENTIAL&quot;]</td><td>&quot;UNIT&quot;</td><td>null</td><td>&quot;ba926be5-f8ec-df09-3e86-160b73…</td><td>&quot;/imovel/venda-apartamento-3-qu…</td></tr><tr><td>[&quot;GOURMET_BALCONY&quot;, &quot;INTERCOM&quot;, … &quot;POOL&quot;]</td><td>&quot;PENTHOUSE&quot;</td><td>false</td><td>&quot;Porto Alegre&quot;</td><td>&quot;Menino Deus&quot;</td><td>&quot;Rua José de Alencar&quot;</td><td>&quot;485&quot;</td><td>{&quot;GOOGLE&quot;,null,null,null,-30.060107,-51.226836}</td><td>&quot;RS&quot;</td><td>[0]</td><td>[1, 2]</td><td>10</td><td>[112, 1521]</td><td>&quot;USED&quot;</td><td>0</td><td>&quot;PREMIERE_1&quot;</td><td>&quot;2750183194&quot;</td><td>0</td><td>[1, 2]</td><td>&quot;REAL_ESTATE&quot;</td><td>1400</td><td>498000</td><td>890</td><td>0</td><td>[97]</td><td>1</td><td>&quot;ALL&quot;</td><td>[&quot;RESIDENTIAL&quot;]</td><td>&quot;UNIT&quot;</td><td>null</td><td>&quot;657d04ba-5eeb-f4c5-ddf5-0fbb0c…</td><td>&quot;/imovel/venda-cobertura-2-quar…</td></tr><tr><td>[]</td><td>&quot;APARTMENT&quot;</td><td>false</td><td>&quot;Porto Alegre&quot;</td><td>&quot;Centro Histórico&quot;</td><td>&quot;Avenida Borges de Medeiros&quot;</td><td>null</td><td>{&quot;GOOGLE&quot;,-30.036,-51.228,140,null,null}</td><td>&quot;RS&quot;</td><td>[0]</td><td>[2, 3]</td><td>null</td><td>[149, 150]</td><td>&quot;USED&quot;</td><td>0</td><td>&quot;PREMIUM&quot;</td><td>&quot;2710656723&quot;</td><td>0</td><td>[2, 3]</td><td>&quot;REAL_ESTATE&quot;</td><td>100</td><td>450000</td><td>675</td><td>0</td><td>[125]</td><td>1</td><td>&quot;STREET&quot;</td><td>[&quot;RESIDENTIAL&quot;]</td><td>&quot;UNIT&quot;</td><td>null</td><td>&quot;7e36b937-1397-0660-b03b-ff1d4a…</td><td>&quot;/imovel/venda-apartamento-3-qu…</td></tr></tbody></table></div>"
      ],
      "text/plain": [
       "shape: (5, 32)\n",
       "┌────────────┬───────────┬────────┬────────┬───┬────────────┬────────────┬────────────┬────────────┐\n",
       "│ amenities  ┆ unitTypes ┆ resale ┆ city   ┆ … ┆ propertyTy ┆ capacityLi ┆ accountId  ┆ link_href  │\n",
       "│ ---        ┆ ---       ┆ ---    ┆ ---    ┆   ┆ pe         ┆ mit        ┆ ---        ┆ ---        │\n",
       "│ list[str]  ┆ str       ┆ bool   ┆ str    ┆   ┆ ---        ┆ ---        ┆ str        ┆ str        │\n",
       "│            ┆           ┆        ┆        ┆   ┆ str        ┆ i64        ┆            ┆            │\n",
       "╞════════════╪═══════════╪════════╪════════╪═══╪════════════╪════════════╪════════════╪════════════╡\n",
       "│ [\"GYM\",    ┆ APARTMENT ┆ false  ┆ Porto  ┆ … ┆ UNIT       ┆ null       ┆ 7e682d41-7 ┆ /imovel/ve │\n",
       "│ \"BARBECUE_ ┆           ┆        ┆ Alegre ┆   ┆            ┆            ┆ 4f9-029f-8 ┆ nda-cobert │\n",
       "│ GRILL\", …  ┆           ┆        ┆        ┆   ┆            ┆            ┆ 684-cf6062 ┆ ura-2-quar │\n",
       "│ \"A…        ┆           ┆        ┆        ┆   ┆            ┆            ┆ …          ┆ …          │\n",
       "│ [\"GARAGE\"] ┆ APARTMENT ┆ false  ┆ Porto  ┆ … ┆ UNIT       ┆ null       ┆ bdd8f146-4 ┆ /imovel/ve │\n",
       "│            ┆           ┆        ┆ Alegre ┆   ┆            ┆            ┆ dd2-66d3-f ┆ nda-aparta │\n",
       "│            ┆           ┆        ┆        ┆   ┆            ┆            ┆ cd8-d46a0e ┆ mento-3-qu │\n",
       "│            ┆           ┆        ┆        ┆   ┆            ┆            ┆ …          ┆ …          │\n",
       "│ [\"SERVICE_ ┆ APARTMENT ┆ false  ┆ Porto  ┆ … ┆ UNIT       ┆ null       ┆ ba926be5-f ┆ /imovel/ve │\n",
       "│ AREA\", \"EL ┆           ┆        ┆ Alegre ┆   ┆            ┆            ┆ 8ec-df09-3 ┆ nda-aparta │\n",
       "│ EVATOR\",   ┆           ┆        ┆        ┆   ┆            ┆            ┆ e86-160b73 ┆ mento-3-qu │\n",
       "│ ……         ┆           ┆        ┆        ┆   ┆            ┆            ┆ …          ┆ …          │\n",
       "│ [\"GOURMET_ ┆ PENTHOUSE ┆ false  ┆ Porto  ┆ … ┆ UNIT       ┆ null       ┆ 657d04ba-5 ┆ /imovel/ve │\n",
       "│ BALCONY\",  ┆           ┆        ┆ Alegre ┆   ┆            ┆            ┆ eeb-f4c5-d ┆ nda-cobert │\n",
       "│ \"INTERCOM\" ┆           ┆        ┆        ┆   ┆            ┆            ┆ df5-0fbb0c ┆ ura-2-quar │\n",
       "│ …          ┆           ┆        ┆        ┆   ┆            ┆            ┆ …          ┆ …          │\n",
       "│ []         ┆ APARTMENT ┆ false  ┆ Porto  ┆ … ┆ UNIT       ┆ null       ┆ 7e36b937-1 ┆ /imovel/ve │\n",
       "│            ┆           ┆        ┆ Alegre ┆   ┆            ┆            ┆ 397-0660-b ┆ nda-aparta │\n",
       "│            ┆           ┆        ┆        ┆   ┆            ┆            ┆ 03b-ff1d4a ┆ mento-3-qu │\n",
       "│            ┆           ┆        ┆        ┆   ┆            ┆            ┆ …          ┆ …          │\n",
       "└────────────┴───────────┴────────┴────────┴───┴────────────┴────────────┴────────────┴────────────┘"
      ]
     },
     "execution_count": 362,
     "metadata": {},
     "output_type": "execute_result"
    }
   ],
   "source": [
    "df.filter(pl.col(\"bedrooms\").list.len() > 1).head(5)"
   ]
  },
  {
   "cell_type": "markdown",
   "metadata": {},
   "source": [
    "### Localização geográfica dos imóveis\n",
    "\n",
    "Crucial para nossos esforços é ter a localização dos imóveis, para podermos cruzá-las\n",
    "com o mapa de inundação."
   ]
  },
  {
   "cell_type": "code",
   "execution_count": 364,
   "metadata": {},
   "outputs": [
    {
     "data": {
      "text/html": [
       "<div><style>\n",
       ".dataframe > thead > tr,\n",
       ".dataframe > tbody > tr {\n",
       "  text-align: right;\n",
       "  white-space: pre-wrap;\n",
       "}\n",
       "</style>\n",
       "<small>shape: (3, 37)</small><table border=\"1\" class=\"dataframe\"><thead><tr><th>amenities</th><th>unitTypes</th><th>resale</th><th>city</th><th>neighborhood</th><th>street</th><th>streetNumber</th><th>source</th><th>approximateLat</th><th>approximateLon</th><th>radius</th><th>lat</th><th>lon</th><th>stateAcronym</th><th>parkingSpaces</th><th>bedrooms</th><th>floors</th><th>totalAreas</th><th>listingType</th><th>unitsOnTheFloor</th><th>publicationType</th><th>listingId</th><th>buildings</th><th>bathrooms</th><th>contractType</th><th>yearlyIptu</th><th>price</th><th>monthlyCondoFee</th><th>unitFloor</th><th>usableAreas</th><th>suites</th><th>displayAddressType</th><th>usageTypes</th><th>propertyType</th><th>capacityLimit</th><th>accountId</th><th>link_href</th></tr><tr><td>list[str]</td><td>str</td><td>bool</td><td>str</td><td>str</td><td>str</td><td>str</td><td>str</td><td>f64</td><td>f64</td><td>i64</td><td>f64</td><td>f64</td><td>str</td><td>list[i64]</td><td>list[i64]</td><td>i64</td><td>list[i64]</td><td>str</td><td>i64</td><td>str</td><td>str</td><td>i64</td><td>list[i64]</td><td>str</td><td>i64</td><td>i64</td><td>i64</td><td>i64</td><td>list[i64]</td><td>i64</td><td>str</td><td>list[str]</td><td>str</td><td>i64</td><td>str</td><td>str</td></tr></thead><tbody><tr><td>[&quot;CABLE_TV&quot;, &quot;WATCHMAN&quot;, … &quot;INTERCOM&quot;]</td><td>&quot;CONDOMINIUM&quot;</td><td>false</td><td>&quot;Porto Alegre&quot;</td><td>&quot;Sarandi&quot;</td><td>&quot;Avenida Ecoville&quot;</td><td>&quot;190&quot;</td><td>&quot;GOOGLE&quot;</td><td>null</td><td>null</td><td>null</td><td>-29.995522</td><td>-51.12181</td><td>&quot;RS&quot;</td><td>[4]</td><td>[3]</td><td>null</td><td>[346]</td><td>&quot;USED&quot;</td><td>0</td><td>&quot;STANDARD&quot;</td><td>&quot;2747898832&quot;</td><td>0</td><td>[3]</td><td>&quot;REAL_ESTATE&quot;</td><td>null</td><td>1470000</td><td>750</td><td>0</td><td>[370]</td><td>1</td><td>&quot;ALL&quot;</td><td>[&quot;RESIDENTIAL&quot;]</td><td>&quot;UNIT&quot;</td><td>null</td><td>&quot;0f4fcd4f-2e91-4211-8062-f0f0ca…</td><td>&quot;/imovel/venda-casa-de-condomin…</td></tr><tr><td>[]</td><td>&quot;OFFICE&quot;</td><td>false</td><td>&quot;Porto Alegre&quot;</td><td>&quot;Centro Histórico&quot;</td><td>&quot;Rua Coronel Fernando Machado&quot;</td><td>&quot;981&quot;</td><td>&quot;GOOGLE&quot;</td><td>null</td><td>null</td><td>null</td><td>-30.035119</td><td>-51.227712</td><td>&quot;RS&quot;</td><td>[]</td><td>[0]</td><td>null</td><td>[109]</td><td>&quot;USED&quot;</td><td>0</td><td>&quot;STANDARD&quot;</td><td>&quot;2762307994&quot;</td><td>0</td><td>[1]</td><td>&quot;REAL_ESTATE&quot;</td><td>68</td><td>320000</td><td>448</td><td>0</td><td>[106]</td><td>0</td><td>&quot;ALL&quot;</td><td>[&quot;COMMERCIAL&quot;]</td><td>&quot;UNIT&quot;</td><td>null</td><td>&quot;10929a8c-7227-5aff-fb05-6bf394…</td><td>&quot;/imovel/venda-conjunto-comerci…</td></tr><tr><td>[&quot;GARAGE&quot;]</td><td>&quot;APARTMENT&quot;</td><td>false</td><td>&quot;Porto Alegre&quot;</td><td>&quot;Sarandi&quot;</td><td>&quot;Rua Gabriel Franco da Luz&quot;</td><td>&quot;560&quot;</td><td>&quot;GOOGLE&quot;</td><td>null</td><td>null</td><td>null</td><td>-29.981459</td><td>-51.123619</td><td>&quot;RS&quot;</td><td>[1]</td><td>[2]</td><td>null</td><td>[1]</td><td>&quot;USED&quot;</td><td>0</td><td>&quot;STANDARD&quot;</td><td>&quot;2742952916&quot;</td><td>0</td><td>[1]</td><td>&quot;REAL_ESTATE&quot;</td><td>30</td><td>185000</td><td>214</td><td>0</td><td>[45]</td><td>0</td><td>&quot;ALL&quot;</td><td>[&quot;RESIDENTIAL&quot;]</td><td>&quot;UNIT&quot;</td><td>null</td><td>&quot;b1c30c71-820c-306e-8445-5e50cc…</td><td>&quot;/imovel/venda-apartamento-2-qu…</td></tr></tbody></table></div>"
      ],
      "text/plain": [
       "shape: (3, 37)\n",
       "┌────────────┬────────────┬────────┬────────┬───┬────────────┬────────────┬────────────┬───────────┐\n",
       "│ amenities  ┆ unitTypes  ┆ resale ┆ city   ┆ … ┆ propertyTy ┆ capacityLi ┆ accountId  ┆ link_href │\n",
       "│ ---        ┆ ---        ┆ ---    ┆ ---    ┆   ┆ pe         ┆ mit        ┆ ---        ┆ ---       │\n",
       "│ list[str]  ┆ str        ┆ bool   ┆ str    ┆   ┆ ---        ┆ ---        ┆ str        ┆ str       │\n",
       "│            ┆            ┆        ┆        ┆   ┆ str        ┆ i64        ┆            ┆           │\n",
       "╞════════════╪════════════╪════════╪════════╪═══╪════════════╪════════════╪════════════╪═══════════╡\n",
       "│ [\"CABLE_TV ┆ CONDOMINIU ┆ false  ┆ Porto  ┆ … ┆ UNIT       ┆ null       ┆ 0f4fcd4f-2 ┆ /imovel/v │\n",
       "│ \", \"WATCHM ┆ M          ┆        ┆ Alegre ┆   ┆            ┆            ┆ e91-4211-8 ┆ enda-casa │\n",
       "│ AN\", …     ┆            ┆        ┆        ┆   ┆            ┆            ┆ 062-f0f0ca ┆ -de-condo │\n",
       "│ \"IN…       ┆            ┆        ┆        ┆   ┆            ┆            ┆ …          ┆ min…      │\n",
       "│ []         ┆ OFFICE     ┆ false  ┆ Porto  ┆ … ┆ UNIT       ┆ null       ┆ 10929a8c-7 ┆ /imovel/v │\n",
       "│            ┆            ┆        ┆ Alegre ┆   ┆            ┆            ┆ 227-5aff-f ┆ enda-conj │\n",
       "│            ┆            ┆        ┆        ┆   ┆            ┆            ┆ b05-6bf394 ┆ unto-come │\n",
       "│            ┆            ┆        ┆        ┆   ┆            ┆            ┆ …          ┆ rci…      │\n",
       "│ [\"GARAGE\"] ┆ APARTMENT  ┆ false  ┆ Porto  ┆ … ┆ UNIT       ┆ null       ┆ b1c30c71-8 ┆ /imovel/v │\n",
       "│            ┆            ┆        ┆ Alegre ┆   ┆            ┆            ┆ 20c-306e-8 ┆ enda-apar │\n",
       "│            ┆            ┆        ┆        ┆   ┆            ┆            ┆ 445-5e50cc ┆ tamento-2 │\n",
       "│            ┆            ┆        ┆        ┆   ┆            ┆            ┆ …          ┆ -qu…      │\n",
       "└────────────┴────────────┴────────┴────────┴───┴────────────┴────────────┴────────────┴───────────┘"
      ]
     },
     "execution_count": 364,
     "metadata": {},
     "output_type": "execute_result"
    }
   ],
   "source": [
    "df = df.unnest(\"point\")\n",
    "df.head(3)"
   ]
  },
  {
   "cell_type": "markdown",
   "metadata": {},
   "source": [
    "Nem todas as listagens têm a localização precisa do imóvel. Algumas têm apenas uma\n",
    "localização aproximada, dada por `approximateLat` e `approximateLon`."
   ]
  },
  {
   "cell_type": "code",
   "execution_count": 365,
   "metadata": {},
   "outputs": [
    {
     "data": {
      "text/html": [
       "<div><style>\n",
       ".dataframe > thead > tr,\n",
       ".dataframe > tbody > tr {\n",
       "  text-align: right;\n",
       "  white-space: pre-wrap;\n",
       "}\n",
       "</style>\n",
       "<small>shape: (2, 37)</small><table border=\"1\" class=\"dataframe\"><thead><tr><th>amenities</th><th>unitTypes</th><th>resale</th><th>city</th><th>neighborhood</th><th>street</th><th>streetNumber</th><th>source</th><th>approximateLat</th><th>approximateLon</th><th>radius</th><th>lat</th><th>lon</th><th>stateAcronym</th><th>parkingSpaces</th><th>bedrooms</th><th>floors</th><th>totalAreas</th><th>listingType</th><th>unitsOnTheFloor</th><th>publicationType</th><th>listingId</th><th>buildings</th><th>bathrooms</th><th>contractType</th><th>yearlyIptu</th><th>price</th><th>monthlyCondoFee</th><th>unitFloor</th><th>usableAreas</th><th>suites</th><th>displayAddressType</th><th>usageTypes</th><th>propertyType</th><th>capacityLimit</th><th>accountId</th><th>link_href</th></tr><tr><td>list[str]</td><td>str</td><td>bool</td><td>str</td><td>str</td><td>str</td><td>str</td><td>str</td><td>f64</td><td>f64</td><td>i64</td><td>f64</td><td>f64</td><td>str</td><td>list[i64]</td><td>list[i64]</td><td>i64</td><td>list[i64]</td><td>str</td><td>i64</td><td>str</td><td>str</td><td>i64</td><td>list[i64]</td><td>str</td><td>i64</td><td>i64</td><td>i64</td><td>i64</td><td>list[i64]</td><td>i64</td><td>str</td><td>list[str]</td><td>str</td><td>i64</td><td>str</td><td>str</td></tr></thead><tbody><tr><td>[]</td><td>&quot;OFFICE&quot;</td><td>true</td><td>&quot;Porto Alegre&quot;</td><td>&quot;Menino Deus&quot;</td><td>&quot;Avenida Getúlio Vargas&quot;</td><td>&quot;910&quot;</td><td>null</td><td>null</td><td>null</td><td>null</td><td>null</td><td>null</td><td>&quot;RS&quot;</td><td>[1]</td><td>[]</td><td>null</td><td>[]</td><td>&quot;USED&quot;</td><td>0</td><td>&quot;PREMIUM&quot;</td><td>&quot;2561009358&quot;</td><td>0</td><td>[1]</td><td>&quot;OWNER&quot;</td><td>null</td><td>280000</td><td>440</td><td>14</td><td>[32]</td><td>null</td><td>&quot;ALL&quot;</td><td>[&quot;COMMERCIAL&quot;]</td><td>&quot;UNIT&quot;</td><td>null</td><td>&quot;1847028f-f2f1-0d59-a208-01c230…</td><td>&quot;/imovel/venda-conjunto-comerci…</td></tr><tr><td>[]</td><td>&quot;HOME&quot;</td><td>true</td><td>&quot;Porto Alegre&quot;</td><td>&quot;Sarandi&quot;</td><td>&quot;Rua Doutor João Dahne&quot;</td><td>&quot;83&quot;</td><td>null</td><td>null</td><td>null</td><td>null</td><td>null</td><td>null</td><td>&quot;RS&quot;</td><td>[3]</td><td>[3]</td><td>null</td><td>[]</td><td>&quot;USED&quot;</td><td>0</td><td>&quot;PREMIUM&quot;</td><td>&quot;2489898892&quot;</td><td>0</td><td>[3]</td><td>&quot;OWNER&quot;</td><td>900</td><td>620000</td><td>null</td><td>0</td><td>[148]</td><td>2</td><td>&quot;ALL&quot;</td><td>[&quot;RESIDENTIAL&quot;]</td><td>&quot;UNIT&quot;</td><td>null</td><td>&quot;711f0095-bb5c-9ee7-de75-f73ec5…</td><td>&quot;/imovel/venda-casa-3-quartos-s…</td></tr></tbody></table></div>"
      ],
      "text/plain": [
       "shape: (2, 37)\n",
       "┌───────────┬───────────┬────────┬────────┬───┬─────────────┬────────────┬────────────┬────────────┐\n",
       "│ amenities ┆ unitTypes ┆ resale ┆ city   ┆ … ┆ propertyTyp ┆ capacityLi ┆ accountId  ┆ link_href  │\n",
       "│ ---       ┆ ---       ┆ ---    ┆ ---    ┆   ┆ e           ┆ mit        ┆ ---        ┆ ---        │\n",
       "│ list[str] ┆ str       ┆ bool   ┆ str    ┆   ┆ ---         ┆ ---        ┆ str        ┆ str        │\n",
       "│           ┆           ┆        ┆        ┆   ┆ str         ┆ i64        ┆            ┆            │\n",
       "╞═══════════╪═══════════╪════════╪════════╪═══╪═════════════╪════════════╪════════════╪════════════╡\n",
       "│ []        ┆ OFFICE    ┆ true   ┆ Porto  ┆ … ┆ UNIT        ┆ null       ┆ 1847028f-f ┆ /imovel/ve │\n",
       "│           ┆           ┆        ┆ Alegre ┆   ┆             ┆            ┆ 2f1-0d59-a ┆ nda-conjun │\n",
       "│           ┆           ┆        ┆        ┆   ┆             ┆            ┆ 208-01c230 ┆ to-comerci │\n",
       "│           ┆           ┆        ┆        ┆   ┆             ┆            ┆ …          ┆ …          │\n",
       "│ []        ┆ HOME      ┆ true   ┆ Porto  ┆ … ┆ UNIT        ┆ null       ┆ 711f0095-b ┆ /imovel/ve │\n",
       "│           ┆           ┆        ┆ Alegre ┆   ┆             ┆            ┆ b5c-9ee7-d ┆ nda-casa-3 │\n",
       "│           ┆           ┆        ┆        ┆   ┆             ┆            ┆ e75-f73ec5 ┆ -quartos-s │\n",
       "│           ┆           ┆        ┆        ┆   ┆             ┆            ┆ …          ┆ …          │\n",
       "└───────────┴───────────┴────────┴────────┴───┴─────────────┴────────────┴────────────┴────────────┘"
      ]
     },
     "execution_count": 365,
     "metadata": {},
     "output_type": "execute_result"
    }
   ],
   "source": [
    "df.filter(pl.col(\"approximateLat\").is_null(), pl.col(\"lat\").is_null())"
   ]
  },
  {
   "cell_type": "markdown",
   "metadata": {},
   "source": [
    "Duas listagens não constam nenhuma localização, de forma que devem ser descartadas."
   ]
  },
  {
   "cell_type": "code",
   "execution_count": 366,
   "metadata": {},
   "outputs": [],
   "source": [
    "df = df.filter(pl.col(\"approximateLat\").is_not_null() | pl.col(\"lat\").is_not_null())"
   ]
  },
  {
   "cell_type": "markdown",
   "metadata": {},
   "source": [
    "Desta forma, nossa massa final de dados é:"
   ]
  },
  {
   "cell_type": "code",
   "execution_count": 367,
   "metadata": {},
   "outputs": [
    {
     "data": {
      "text/plain": [
       "15430"
      ]
     },
     "execution_count": 367,
     "metadata": {},
     "output_type": "execute_result"
    }
   ],
   "source": [
    "df.height"
   ]
  },
  {
   "cell_type": "code",
   "execution_count": 368,
   "metadata": {},
   "outputs": [
    {
     "data": {
      "text/html": [
       "<div><style>\n",
       ".dataframe > thead > tr,\n",
       ".dataframe > tbody > tr {\n",
       "  text-align: right;\n",
       "  white-space: pre-wrap;\n",
       "}\n",
       "</style>\n",
       "<small>shape: (4, 2)</small><table border=\"1\" class=\"dataframe\"><thead><tr><th>neighborhood</th><th>len</th></tr><tr><td>str</td><td>u32</td></tr></thead><tbody><tr><td>&quot;Centro Histórico&quot;</td><td>6059</td></tr><tr><td>&quot;Menino Deus&quot;</td><td>4814</td></tr><tr><td>&quot;Sarandi&quot;</td><td>2550</td></tr><tr><td>&quot;Cidade Baixa&quot;</td><td>2007</td></tr></tbody></table></div>"
      ],
      "text/plain": [
       "shape: (4, 2)\n",
       "┌──────────────────┬──────┐\n",
       "│ neighborhood     ┆ len  │\n",
       "│ ---              ┆ ---  │\n",
       "│ str              ┆ u32  │\n",
       "╞══════════════════╪══════╡\n",
       "│ Centro Histórico ┆ 6059 │\n",
       "│ Menino Deus      ┆ 4814 │\n",
       "│ Sarandi          ┆ 2550 │\n",
       "│ Cidade Baixa     ┆ 2007 │\n",
       "└──────────────────┴──────┘"
      ]
     },
     "execution_count": 368,
     "metadata": {},
     "output_type": "execute_result"
    }
   ],
   "source": [
    "df.group_by(\"neighborhood\").len().sort(by=\"len\", descending=True)"
   ]
  },
  {
   "cell_type": "markdown",
   "metadata": {},
   "source": [
    "#### Cruzamento da localização dos imóveis com áreas alagadas"
   ]
  },
  {
   "cell_type": "code",
   "execution_count": 369,
   "metadata": {},
   "outputs": [],
   "source": [
    "kml_data_file = \"data/cheias_em_porto_alegre.kml\"\n",
    "polygons = extract_polygons_from_folder(\n",
    "    kml_data_file, \"Inundação em 6 de Maio de 2024\"\n",
    ")"
   ]
  },
  {
   "cell_type": "code",
   "execution_count": 370,
   "metadata": {},
   "outputs": [],
   "source": [
    "df = mark_points_in_polygons(df, polygons)"
   ]
  },
  {
   "cell_type": "code",
   "execution_count": 371,
   "metadata": {},
   "outputs": [
    {
     "data": {
      "text/html": [
       "<div><style>\n",
       ".dataframe > thead > tr,\n",
       ".dataframe > tbody > tr {\n",
       "  text-align: right;\n",
       "  white-space: pre-wrap;\n",
       "}\n",
       "</style>\n",
       "<small>shape: (5_748, 38)</small><table border=\"1\" class=\"dataframe\"><thead><tr><th>amenities</th><th>unitTypes</th><th>resale</th><th>city</th><th>neighborhood</th><th>street</th><th>streetNumber</th><th>source</th><th>approximateLat</th><th>approximateLon</th><th>radius</th><th>lat</th><th>lon</th><th>stateAcronym</th><th>parkingSpaces</th><th>bedrooms</th><th>floors</th><th>totalAreas</th><th>listingType</th><th>unitsOnTheFloor</th><th>publicationType</th><th>listingId</th><th>buildings</th><th>bathrooms</th><th>contractType</th><th>yearlyIptu</th><th>price</th><th>monthlyCondoFee</th><th>unitFloor</th><th>usableAreas</th><th>suites</th><th>displayAddressType</th><th>usageTypes</th><th>propertyType</th><th>capacityLimit</th><th>accountId</th><th>link_href</th><th>flooded</th></tr><tr><td>list[str]</td><td>str</td><td>bool</td><td>str</td><td>str</td><td>str</td><td>str</td><td>str</td><td>f64</td><td>f64</td><td>i64</td><td>f64</td><td>f64</td><td>str</td><td>list[i64]</td><td>list[i64]</td><td>i64</td><td>list[i64]</td><td>str</td><td>i64</td><td>str</td><td>str</td><td>i64</td><td>list[i64]</td><td>str</td><td>i64</td><td>i64</td><td>i64</td><td>i64</td><td>list[i64]</td><td>i64</td><td>str</td><td>list[str]</td><td>str</td><td>i64</td><td>str</td><td>str</td><td>bool</td></tr></thead><tbody><tr><td>[&quot;GARAGE&quot;]</td><td>&quot;APARTMENT&quot;</td><td>false</td><td>&quot;Porto Alegre&quot;</td><td>&quot;Sarandi&quot;</td><td>&quot;Rua Gabriel Franco da Luz&quot;</td><td>&quot;560&quot;</td><td>&quot;GOOGLE&quot;</td><td>null</td><td>null</td><td>null</td><td>-29.981459</td><td>-51.123619</td><td>&quot;RS&quot;</td><td>[1]</td><td>[2]</td><td>null</td><td>[1]</td><td>&quot;USED&quot;</td><td>0</td><td>&quot;STANDARD&quot;</td><td>&quot;2742952916&quot;</td><td>0</td><td>[1]</td><td>&quot;REAL_ESTATE&quot;</td><td>30</td><td>185000</td><td>214</td><td>0</td><td>[45]</td><td>0</td><td>&quot;ALL&quot;</td><td>[&quot;RESIDENTIAL&quot;]</td><td>&quot;UNIT&quot;</td><td>null</td><td>&quot;b1c30c71-820c-306e-8445-5e50cc…</td><td>&quot;/imovel/venda-apartamento-2-qu…</td><td>true</td></tr><tr><td>[&quot;AIR_CONDITIONING&quot;, &quot;CARETAKER&quot;, … &quot;SERVICE_AREA&quot;]</td><td>&quot;APARTMENT&quot;</td><td>false</td><td>&quot;Porto Alegre&quot;</td><td>&quot;Menino Deus&quot;</td><td>&quot;Avenida Getúlio Vargas&quot;</td><td>&quot;673&quot;</td><td>&quot;GOOGLE&quot;</td><td>null</td><td>null</td><td>null</td><td>-30.050427</td><td>-51.222042</td><td>&quot;RS&quot;</td><td>[]</td><td>[3]</td><td>null</td><td>[126]</td><td>&quot;USED&quot;</td><td>0</td><td>&quot;STANDARD&quot;</td><td>&quot;2716483442&quot;</td><td>0</td><td>[2]</td><td>&quot;REAL_ESTATE&quot;</td><td>910</td><td>370000</td><td>390</td><td>0</td><td>[93]</td><td>null</td><td>&quot;ALL&quot;</td><td>[&quot;RESIDENTIAL&quot;]</td><td>&quot;UNIT&quot;</td><td>null</td><td>&quot;c10bd73f-1704-1915-de4b-5f4085…</td><td>&quot;/imovel/venda-apartamento-3-qu…</td><td>true</td></tr><tr><td>[&quot;CONCIERGE_24H&quot;, &quot;ELEVATOR&quot;, &quot;WATCHMAN&quot;]</td><td>&quot;OFFICE&quot;</td><td>false</td><td>&quot;Porto Alegre&quot;</td><td>&quot;Centro Histórico&quot;</td><td>&quot;Rua Marechal Floriano Peixoto&quot;</td><td>&quot;38&quot;</td><td>&quot;GOOGLE&quot;</td><td>null</td><td>null</td><td>null</td><td>-30.029026</td><td>-51.226476</td><td>&quot;RS&quot;</td><td>[]</td><td>[]</td><td>22</td><td>[29]</td><td>&quot;USED&quot;</td><td>0</td><td>&quot;STANDARD&quot;</td><td>&quot;2730185327&quot;</td><td>0</td><td>[1]</td><td>&quot;REAL_ESTATE&quot;</td><td>350</td><td>35000</td><td>290</td><td>0</td><td>[22]</td><td>null</td><td>&quot;ALL&quot;</td><td>[&quot;COMMERCIAL&quot;]</td><td>&quot;UNIT&quot;</td><td>null</td><td>&quot;208f79e5-09c9-c426-5b7e-dc80c4…</td><td>&quot;/imovel/venda-conjunto-comerci…</td><td>true</td></tr><tr><td>[&quot;GARAGE&quot;, &quot;PETS_ALLOWED&quot;]</td><td>&quot;OFFICE&quot;</td><td>false</td><td>&quot;Porto Alegre&quot;</td><td>&quot;Menino Deus&quot;</td><td>&quot;Avenida Getúlio Vargas&quot;</td><td>&quot;1157&quot;</td><td>&quot;GOOGLE&quot;</td><td>null</td><td>null</td><td>null</td><td>-30.054818</td><td>-51.223571</td><td>&quot;RS&quot;</td><td>[1]</td><td>[0]</td><td>null</td><td>[71]</td><td>&quot;USED&quot;</td><td>0</td><td>&quot;STANDARD&quot;</td><td>&quot;2719906247&quot;</td><td>0</td><td>[1]</td><td>&quot;REAL_ESTATE&quot;</td><td>1000</td><td>340000</td><td>300</td><td>0</td><td>[37]</td><td>0</td><td>&quot;ALL&quot;</td><td>[&quot;COMMERCIAL&quot;]</td><td>&quot;UNIT&quot;</td><td>null</td><td>&quot;325915b1-a8be-e0d2-c792-fd1f6c…</td><td>&quot;/imovel/venda-conjunto-comerci…</td><td>true</td></tr><tr><td>[]</td><td>&quot;OFFICE&quot;</td><td>false</td><td>&quot;Porto Alegre&quot;</td><td>&quot;Centro Histórico&quot;</td><td>&quot;Praça Quinze de Novembro&quot;</td><td>&quot;66&quot;</td><td>&quot;GOOGLE&quot;</td><td>null</td><td>null</td><td>null</td><td>-30.028219</td><td>-51.226551</td><td>&quot;RS&quot;</td><td>[]</td><td>[0]</td><td>null</td><td>[80]</td><td>&quot;USED&quot;</td><td>0</td><td>&quot;STANDARD&quot;</td><td>&quot;2730673832&quot;</td><td>0</td><td>[1]</td><td>&quot;REAL_ESTATE&quot;</td><td>0</td><td>250000</td><td>500</td><td>0</td><td>[58]</td><td>0</td><td>&quot;ALL&quot;</td><td>[&quot;COMMERCIAL&quot;]</td><td>&quot;UNIT&quot;</td><td>null</td><td>&quot;eaf60d0d-b56b-d5a3-e985-6fb4d2…</td><td>&quot;/imovel/venda-conjunto-comerci…</td><td>true</td></tr><tr><td>&hellip;</td><td>&hellip;</td><td>&hellip;</td><td>&hellip;</td><td>&hellip;</td><td>&hellip;</td><td>&hellip;</td><td>&hellip;</td><td>&hellip;</td><td>&hellip;</td><td>&hellip;</td><td>&hellip;</td><td>&hellip;</td><td>&hellip;</td><td>&hellip;</td><td>&hellip;</td><td>&hellip;</td><td>&hellip;</td><td>&hellip;</td><td>&hellip;</td><td>&hellip;</td><td>&hellip;</td><td>&hellip;</td><td>&hellip;</td><td>&hellip;</td><td>&hellip;</td><td>&hellip;</td><td>&hellip;</td><td>&hellip;</td><td>&hellip;</td><td>&hellip;</td><td>&hellip;</td><td>&hellip;</td><td>&hellip;</td><td>&hellip;</td><td>&hellip;</td><td>&hellip;</td><td>&hellip;</td></tr><tr><td>[&quot;GATED_COMMUNITY&quot;, &quot;PETS_ALLOWED&quot;]</td><td>&quot;APARTMENT&quot;</td><td>false</td><td>&quot;Porto Alegre&quot;</td><td>&quot;Menino Deus&quot;</td><td>&quot;Avenida Getúlio Vargas&quot;</td><td>&quot;759&quot;</td><td>&quot;GOOGLE&quot;</td><td>null</td><td>null</td><td>null</td><td>-30.051233</td><td>-51.222225</td><td>&quot;RS&quot;</td><td>[0]</td><td>[2]</td><td>4</td><td>[60]</td><td>&quot;USED&quot;</td><td>4</td><td>&quot;STANDARD&quot;</td><td>&quot;2761180909&quot;</td><td>2</td><td>[1]</td><td>&quot;REAL_ESTATE&quot;</td><td>300</td><td>204900</td><td>260</td><td>2</td><td>[48]</td><td>0</td><td>&quot;ALL&quot;</td><td>[&quot;RESIDENTIAL&quot;]</td><td>&quot;UNIT&quot;</td><td>null</td><td>&quot;0022ed11-32b7-3634-5828-5c87a5…</td><td>&quot;/imovel/venda-apartamento-2-qu…</td><td>true</td></tr><tr><td>[&quot;SAFETY_CIRCUIT&quot;, &quot;INTERCOM&quot;]</td><td>&quot;OFFICE&quot;</td><td>false</td><td>&quot;Porto Alegre&quot;</td><td>&quot;Centro Histórico&quot;</td><td>&quot;Rua Vigário José Inácio&quot;</td><td>&quot;371&quot;</td><td>&quot;GOOGLE&quot;</td><td>null</td><td>null</td><td>null</td><td>-30.029015</td><td>-51.225908</td><td>&quot;RS&quot;</td><td>[0]</td><td>[0]</td><td>20</td><td>[28]</td><td>&quot;USED&quot;</td><td>0</td><td>&quot;STANDARD&quot;</td><td>&quot;2703317675&quot;</td><td>0</td><td>[1]</td><td>&quot;REAL_ESTATE&quot;</td><td>348</td><td>59800</td><td>300</td><td>0</td><td>[21]</td><td>0</td><td>&quot;ALL&quot;</td><td>[&quot;COMMERCIAL&quot;]</td><td>&quot;UNIT&quot;</td><td>null</td><td>&quot;7b72e174-9b60-84bf-44f7-79a9c2…</td><td>&quot;/imovel/venda-conjunto-comerci…</td><td>true</td></tr><tr><td>[]</td><td>&quot;APARTMENT&quot;</td><td>false</td><td>&quot;Porto Alegre&quot;</td><td>&quot;Centro Histórico&quot;</td><td>&quot;Rua Vigário José Inácio&quot;</td><td>&quot;295&quot;</td><td>&quot;GOOGLE&quot;</td><td>null</td><td>null</td><td>null</td><td>-30.028334</td><td>-51.225671</td><td>&quot;RS&quot;</td><td>[]</td><td>[1]</td><td>null</td><td>[29, 30]</td><td>&quot;USED&quot;</td><td>0</td><td>&quot;STANDARD&quot;</td><td>&quot;2689944718&quot;</td><td>0</td><td>[1]</td><td>&quot;REAL_ESTATE&quot;</td><td>0</td><td>159900</td><td>294</td><td>0</td><td>[23, 24]</td><td>0</td><td>&quot;ALL&quot;</td><td>[&quot;RESIDENTIAL&quot;]</td><td>&quot;UNIT&quot;</td><td>null</td><td>&quot;b59d06b4-9f95-ad8d-40fd-3e5dd5…</td><td>&quot;/imovel/venda-quitinete-1-quar…</td><td>true</td></tr><tr><td>[&quot;GARDEN&quot;, &quot;PLAYGROUND&quot;, … &quot;EXTERIOR_VIEW&quot;]</td><td>&quot;APARTMENT&quot;</td><td>false</td><td>&quot;Porto Alegre&quot;</td><td>&quot;Menino Deus&quot;</td><td>&quot;Rua Botafogo&quot;</td><td>null</td><td>&quot;GOOGLE&quot;</td><td>-30.054</td><td>-51.225</td><td>140</td><td>null</td><td>null</td><td>&quot;RS&quot;</td><td>[0]</td><td>[2]</td><td>null</td><td>[52]</td><td>&quot;USED&quot;</td><td>0</td><td>&quot;STANDARD&quot;</td><td>&quot;2694474277&quot;</td><td>0</td><td>[1]</td><td>&quot;REAL_ESTATE&quot;</td><td>0</td><td>240000</td><td>356</td><td>0</td><td>[47]</td><td>0</td><td>&quot;STREET&quot;</td><td>[&quot;RESIDENTIAL&quot;]</td><td>&quot;UNIT&quot;</td><td>null</td><td>&quot;2c4b2bac-a3db-46d9-16b2-7707d1…</td><td>&quot;/imovel/venda-apartamento-2-qu…</td><td>true</td></tr><tr><td>[&quot;SERVICE_AREA&quot;, &quot;PARTY_HALL&quot;, &quot;INTERCOM&quot;]</td><td>&quot;APARTMENT&quot;</td><td>false</td><td>&quot;Porto Alegre&quot;</td><td>&quot;Menino Deus&quot;</td><td>&quot;Rua Botafogo&quot;</td><td>&quot;631&quot;</td><td>&quot;GOOGLE&quot;</td><td>null</td><td>null</td><td>null</td><td>-30.05466</td><td>-51.223972</td><td>&quot;RS&quot;</td><td>[0]</td><td>[1]</td><td>4</td><td>[38]</td><td>&quot;USED&quot;</td><td>0</td><td>&quot;STANDARD&quot;</td><td>&quot;2743447156&quot;</td><td>0</td><td>[1]</td><td>&quot;REAL_ESTATE&quot;</td><td>15</td><td>195000</td><td>340</td><td>0</td><td>[34]</td><td>0</td><td>&quot;ALL&quot;</td><td>[&quot;RESIDENTIAL&quot;]</td><td>&quot;UNIT&quot;</td><td>null</td><td>&quot;7b72e174-9b60-84bf-44f7-79a9c2…</td><td>&quot;/imovel/venda-apartamento-1-qu…</td><td>true</td></tr></tbody></table></div>"
      ],
      "text/plain": [
       "shape: (5_748, 38)\n",
       "┌─────────────┬───────────┬────────┬────────┬───┬─────────────┬─────────────┬────────────┬─────────┐\n",
       "│ amenities   ┆ unitTypes ┆ resale ┆ city   ┆ … ┆ capacityLim ┆ accountId   ┆ link_href  ┆ flooded │\n",
       "│ ---         ┆ ---       ┆ ---    ┆ ---    ┆   ┆ it          ┆ ---         ┆ ---        ┆ ---     │\n",
       "│ list[str]   ┆ str       ┆ bool   ┆ str    ┆   ┆ ---         ┆ str         ┆ str        ┆ bool    │\n",
       "│             ┆           ┆        ┆        ┆   ┆ i64         ┆             ┆            ┆         │\n",
       "╞═════════════╪═══════════╪════════╪════════╪═══╪═════════════╪═════════════╪════════════╪═════════╡\n",
       "│ [\"GARAGE\"]  ┆ APARTMENT ┆ false  ┆ Porto  ┆ … ┆ null        ┆ b1c30c71-82 ┆ /imovel/ve ┆ true    │\n",
       "│             ┆           ┆        ┆ Alegre ┆   ┆             ┆ 0c-306e-844 ┆ nda-aparta ┆         │\n",
       "│             ┆           ┆        ┆        ┆   ┆             ┆ 5-5e50cc…   ┆ mento-2-qu ┆         │\n",
       "│             ┆           ┆        ┆        ┆   ┆             ┆             ┆ …          ┆         │\n",
       "│ [\"AIR_CONDI ┆ APARTMENT ┆ false  ┆ Porto  ┆ … ┆ null        ┆ c10bd73f-17 ┆ /imovel/ve ┆ true    │\n",
       "│ TIONING\",   ┆           ┆        ┆ Alegre ┆   ┆             ┆ 04-1915-de4 ┆ nda-aparta ┆         │\n",
       "│ \"CARETAKE…  ┆           ┆        ┆        ┆   ┆             ┆ b-5f4085…   ┆ mento-3-qu ┆         │\n",
       "│             ┆           ┆        ┆        ┆   ┆             ┆             ┆ …          ┆         │\n",
       "│ [\"CONCIERGE ┆ OFFICE    ┆ false  ┆ Porto  ┆ … ┆ null        ┆ 208f79e5-09 ┆ /imovel/ve ┆ true    │\n",
       "│ _24H\",      ┆           ┆        ┆ Alegre ┆   ┆             ┆ c9-c426-5b7 ┆ nda-conjun ┆         │\n",
       "│ \"ELEVATOR\", ┆           ┆        ┆        ┆   ┆             ┆ e-dc80c4…   ┆ to-comerci ┆         │\n",
       "│ …           ┆           ┆        ┆        ┆   ┆             ┆             ┆ …          ┆         │\n",
       "│ [\"GARAGE\",  ┆ OFFICE    ┆ false  ┆ Porto  ┆ … ┆ null        ┆ 325915b1-a8 ┆ /imovel/ve ┆ true    │\n",
       "│ \"PETS_ALLOW ┆           ┆        ┆ Alegre ┆   ┆             ┆ be-e0d2-c79 ┆ nda-conjun ┆         │\n",
       "│ ED\"]        ┆           ┆        ┆        ┆   ┆             ┆ 2-fd1f6c…   ┆ to-comerci ┆         │\n",
       "│             ┆           ┆        ┆        ┆   ┆             ┆             ┆ …          ┆         │\n",
       "│ []          ┆ OFFICE    ┆ false  ┆ Porto  ┆ … ┆ null        ┆ eaf60d0d-b5 ┆ /imovel/ve ┆ true    │\n",
       "│             ┆           ┆        ┆ Alegre ┆   ┆             ┆ 6b-d5a3-e98 ┆ nda-conjun ┆         │\n",
       "│             ┆           ┆        ┆        ┆   ┆             ┆ 5-6fb4d2…   ┆ to-comerci ┆         │\n",
       "│             ┆           ┆        ┆        ┆   ┆             ┆             ┆ …          ┆         │\n",
       "│ …           ┆ …         ┆ …      ┆ …      ┆ … ┆ …           ┆ …           ┆ …          ┆ …       │\n",
       "│ [\"GATED_COM ┆ APARTMENT ┆ false  ┆ Porto  ┆ … ┆ null        ┆ 0022ed11-32 ┆ /imovel/ve ┆ true    │\n",
       "│ MUNITY\",    ┆           ┆        ┆ Alegre ┆   ┆             ┆ b7-3634-582 ┆ nda-aparta ┆         │\n",
       "│ \"PETS_ALLO… ┆           ┆        ┆        ┆   ┆             ┆ 8-5c87a5…   ┆ mento-2-qu ┆         │\n",
       "│             ┆           ┆        ┆        ┆   ┆             ┆             ┆ …          ┆         │\n",
       "│ [\"SAFETY_CI ┆ OFFICE    ┆ false  ┆ Porto  ┆ … ┆ null        ┆ 7b72e174-9b ┆ /imovel/ve ┆ true    │\n",
       "│ RCUIT\",     ┆           ┆        ┆ Alegre ┆   ┆             ┆ 60-84bf-44f ┆ nda-conjun ┆         │\n",
       "│ \"INTERCOM\"] ┆           ┆        ┆        ┆   ┆             ┆ 7-79a9c2…   ┆ to-comerci ┆         │\n",
       "│             ┆           ┆        ┆        ┆   ┆             ┆             ┆ …          ┆         │\n",
       "│ []          ┆ APARTMENT ┆ false  ┆ Porto  ┆ … ┆ null        ┆ b59d06b4-9f ┆ /imovel/ve ┆ true    │\n",
       "│             ┆           ┆        ┆ Alegre ┆   ┆             ┆ 95-ad8d-40f ┆ nda-quitin ┆         │\n",
       "│             ┆           ┆        ┆        ┆   ┆             ┆ d-3e5dd5…   ┆ ete-1-quar ┆         │\n",
       "│             ┆           ┆        ┆        ┆   ┆             ┆             ┆ …          ┆         │\n",
       "│ [\"GARDEN\",  ┆ APARTMENT ┆ false  ┆ Porto  ┆ … ┆ null        ┆ 2c4b2bac-a3 ┆ /imovel/ve ┆ true    │\n",
       "│ \"PLAYGROUND ┆           ┆        ┆ Alegre ┆   ┆             ┆ db-46d9-16b ┆ nda-aparta ┆         │\n",
       "│ \", … \"EX…   ┆           ┆        ┆        ┆   ┆             ┆ 2-7707d1…   ┆ mento-2-qu ┆         │\n",
       "│             ┆           ┆        ┆        ┆   ┆             ┆             ┆ …          ┆         │\n",
       "│ [\"SERVICE_A ┆ APARTMENT ┆ false  ┆ Porto  ┆ … ┆ null        ┆ 7b72e174-9b ┆ /imovel/ve ┆ true    │\n",
       "│ REA\", \"PART ┆           ┆        ┆ Alegre ┆   ┆             ┆ 60-84bf-44f ┆ nda-aparta ┆         │\n",
       "│ Y_HALL\",…   ┆           ┆        ┆        ┆   ┆             ┆ 7-79a9c2…   ┆ mento-1-qu ┆         │\n",
       "│             ┆           ┆        ┆        ┆   ┆             ┆             ┆ …          ┆         │\n",
       "└─────────────┴───────────┴────────┴────────┴───┴─────────────┴─────────────┴────────────┴─────────┘"
      ]
     },
     "execution_count": 371,
     "metadata": {},
     "output_type": "execute_result"
    }
   ],
   "source": [
    "df.filter(pl.col(\"flooded\"))"
   ]
  },
  {
   "cell_type": "code",
   "execution_count": 375,
   "metadata": {},
   "outputs": [
    {
     "name": "stderr",
     "output_type": "stream",
     "text": [
      "/tmp/ipykernel_3607/3982531741.py:5: DeprecationWarning: `pl.count()` is deprecated. Please use `pl.len()` instead.\n",
      "  pl.count().alias(\"total_count\"),\n"
     ]
    },
    {
     "data": {
      "text/html": [
       "<div><style>\n",
       ".dataframe > thead > tr,\n",
       ".dataframe > tbody > tr {\n",
       "  text-align: right;\n",
       "  white-space: pre-wrap;\n",
       "}\n",
       "</style>\n",
       "<small>shape: (4, 4)</small><table border=\"1\" class=\"dataframe\"><thead><tr><th>neighborhood</th><th>total_count</th><th>flooded_count</th><th>flooded_percentage</th></tr><tr><td>str</td><td>u32</td><td>u32</td><td>f64</td></tr></thead><tbody><tr><td>&quot;Menino Deus&quot;</td><td>4814</td><td>2582</td><td>53.6</td></tr><tr><td>&quot;Centro Histórico&quot;</td><td>6059</td><td>1797</td><td>29.7</td></tr><tr><td>&quot;Cidade Baixa&quot;</td><td>2007</td><td>835</td><td>41.6</td></tr><tr><td>&quot;Sarandi&quot;</td><td>2550</td><td>534</td><td>20.9</td></tr></tbody></table></div>"
      ],
      "text/plain": [
       "shape: (4, 4)\n",
       "┌──────────────────┬─────────────┬───────────────┬────────────────────┐\n",
       "│ neighborhood     ┆ total_count ┆ flooded_count ┆ flooded_percentage │\n",
       "│ ---              ┆ ---         ┆ ---           ┆ ---                │\n",
       "│ str              ┆ u32         ┆ u32           ┆ f64                │\n",
       "╞══════════════════╪═════════════╪═══════════════╪════════════════════╡\n",
       "│ Menino Deus      ┆ 4814        ┆ 2582          ┆ 53.6               │\n",
       "│ Centro Histórico ┆ 6059        ┆ 1797          ┆ 29.7               │\n",
       "│ Cidade Baixa     ┆ 2007        ┆ 835           ┆ 41.6               │\n",
       "│ Sarandi          ┆ 2550        ┆ 534           ┆ 20.9               │\n",
       "└──────────────────┴─────────────┴───────────────┴────────────────────┘"
      ]
     },
     "execution_count": 375,
     "metadata": {},
     "output_type": "execute_result"
    }
   ],
   "source": [
    "(\n",
    "    df.group_by(\"neighborhood\")\n",
    "    .agg(\n",
    "        [\n",
    "            pl.count().alias(\"total_count\"),\n",
    "            pl.col(\"flooded\")\n",
    "            .sum()\n",
    "            .alias(\n",
    "                \"flooded_count\"\n",
    "            ),  # Since flooded is boolean, sum() gives us the count of True values\n",
    "        ]\n",
    "    )\n",
    "    .with_columns(\n",
    "        [\n",
    "            (pl.col(\"flooded_count\") / pl.col(\"total_count\") * 100)\n",
    "            .round(1)\n",
    "            .alias(\"flooded_percentage\")\n",
    "        ]\n",
    "    )\n",
    ")"
   ]
  },
  {
   "cell_type": "code",
   "execution_count": 372,
   "metadata": {},
   "outputs": [
    {
     "data": {
      "text/plain": [
       "5748"
      ]
     },
     "execution_count": 372,
     "metadata": {},
     "output_type": "execute_result"
    }
   ],
   "source": [
    "df.filter(pl.col(\"flooded\")).height"
   ]
  },
  {
   "cell_type": "code",
   "execution_count": 373,
   "metadata": {},
   "outputs": [
    {
     "data": {
      "text/html": [
       "<div><style>\n",
       ".dataframe > thead > tr,\n",
       ".dataframe > tbody > tr {\n",
       "  text-align: right;\n",
       "  white-space: pre-wrap;\n",
       "}\n",
       "</style>\n",
       "<small>shape: (4, 2)</small><table border=\"1\" class=\"dataframe\"><thead><tr><th>neighborhood</th><th>len</th></tr><tr><td>str</td><td>u32</td></tr></thead><tbody><tr><td>&quot;Menino Deus&quot;</td><td>2582</td></tr><tr><td>&quot;Centro Histórico&quot;</td><td>1797</td></tr><tr><td>&quot;Cidade Baixa&quot;</td><td>835</td></tr><tr><td>&quot;Sarandi&quot;</td><td>534</td></tr></tbody></table></div>"
      ],
      "text/plain": [
       "shape: (4, 2)\n",
       "┌──────────────────┬──────┐\n",
       "│ neighborhood     ┆ len  │\n",
       "│ ---              ┆ ---  │\n",
       "│ str              ┆ u32  │\n",
       "╞══════════════════╪══════╡\n",
       "│ Menino Deus      ┆ 2582 │\n",
       "│ Centro Histórico ┆ 1797 │\n",
       "│ Cidade Baixa     ┆ 835  │\n",
       "│ Sarandi          ┆ 534  │\n",
       "└──────────────────┴──────┘"
      ]
     },
     "execution_count": 373,
     "metadata": {},
     "output_type": "execute_result"
    }
   ],
   "source": [
    "df.filter(pl.col(\"flooded\")).group_by(\"neighborhood\").len().sort(\n",
    "    by=\"len\", descending=True\n",
    ")"
   ]
  }
 ],
 "metadata": {
  "kernelspec": {
   "display_name": ".venv",
   "language": "python",
   "name": "python3"
  },
  "language_info": {
   "codemirror_mode": {
    "name": "ipython",
    "version": 3
   },
   "file_extension": ".py",
   "mimetype": "text/x-python",
   "name": "python",
   "nbconvert_exporter": "python",
   "pygments_lexer": "ipython3",
   "version": "3.11.1"
  }
 },
 "nbformat": 4,
 "nbformat_minor": 2
}
