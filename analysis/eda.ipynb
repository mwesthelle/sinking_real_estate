{
 "cells": [
  {
   "cell_type": "markdown",
   "metadata": {},
   "source": [
    "# Análise Exploratória de Dados"
   ]
  },
  {
   "cell_type": "markdown",
   "metadata": {},
   "source": [
    "## Preparação"
   ]
  },
  {
   "cell_type": "code",
   "execution_count": 1,
   "metadata": {},
   "outputs": [],
   "source": [
    "import polars as pl\n",
    "\n",
    "from df_utils import get_list_column_max_len, one_hot_encode_list_column\n",
    "from geo_location import extract_polygons_from_folder, mark_points_in_polygons"
   ]
  },
  {
   "cell_type": "markdown",
   "metadata": {},
   "source": [
    "## Leitura de dados\n",
    "\n",
    "Os dados se encontram no formato NDJSON, também conhecido como JSONLines,\n",
    "em que há um objeto JSON por linha no arquivo."
   ]
  },
  {
   "cell_type": "code",
   "execution_count": 2,
   "metadata": {},
   "outputs": [],
   "source": [
    "neighborhoods = [\"cidade_baixa\", \"centro_historico\", \"menino_deus\", \"sarandi\"]\n",
    "\n",
    "neighborhoods_df_map = {\n",
    "    neighborhood: pl.read_ndjson(f\"data/{neighborhood}_listings.json\")\n",
    "    for neighborhood in neighborhoods\n",
    "}"
   ]
  },
  {
   "cell_type": "code",
   "execution_count": 3,
   "metadata": {},
   "outputs": [
    {
     "name": "stdout",
     "output_type": "stream",
     "text": [
      "Dados não têm esquema homogêneo.\n"
     ]
    }
   ],
   "source": [
    "try:\n",
    "    pl.concat(neighborhoods_df_map.values())\n",
    "except pl.exceptions.SchemaError:\n",
    "    print(\"Dados não têm esquema homogêneo.\")"
   ]
  },
  {
   "cell_type": "code",
   "execution_count": 4,
   "metadata": {},
   "outputs": [
    {
     "name": "stdout",
     "output_type": "stream",
     "text": [
      "cidade_baixa\n",
      "============\n",
      "Schema([('listing', Struct({'floors': List(Int64), 'legacyId': String, 'totalAreas': List(Int64), 'status': String, 'bathrooms': List(Int64), 'constructionStatus': String, 'propertyType': String, 'publicationType': String, 'usageTypes': List(String), 'id': String, 'listingsCount': Int64, 'updatedAt': String, 'bedrooms': List(Int64), 'pricingInfos': List(Struct({'businessType': String, 'yearlyIptu': Int64, 'price': Int64, 'monthlyCondoFee': Int64, 'rentalInfo': Struct({'period': String, 'warranties': List(Null)})})), 'showPrice': Boolean, 'buildings': Int64, 'amenities': List(String), 'usableAreas': List(Int64), 'whatsappNumber': String, 'title': String, 'contractType': String, 'address': Struct({'city': String, 'neighborhood': String, 'street': String, 'streetNumber': String, 'point': Struct({'source': String, 'approximateLat': Float64, 'approximateLon': Float64, 'radius': Int64, 'lat': Float64, 'lon': Float64}), 'stateAcronym': String}), 'advertiserId': String, 'portal': String, 'unitSubTypes': List(String), 'stamps': List(String), 'listingType': String, 'nonActivationReason': String, 'parkingSpaces': List(Int64), 'suites': List(Int64), 'advertiserContact': Struct({'chat': String, 'phones': List(String)}), 'displayAddressType': String, 'sourceId': String, 'acceptExchange': Boolean, 'externalId': String, 'createdAt': String, 'providerId': String, 'description': String, 'unitFloor': Int64, 'unitTypes': List(String), 'resale': Boolean, 'capacityLimit': List(Int64), 'unitsOnTheFloor': Int64})), ('account', Struct({'id': String, 'name': String, 'logoUrl': String, 'licenseNumber': String, 'showAddress': Boolean, 'legacyVivarealId': Int64, 'legacyZapId': Int64, 'createdDate': String, 'tier': String})), ('medias', List(Struct({'id': String, 'url': String, 'type': String}))), ('accountLink', Struct({'name': String, 'href': String, 'rel': String, 'data': Struct({})})), ('link', Struct({'name': String, 'href': String, 'rel': String, 'data': Struct({'city': String, 'neighborhood': String, 'state': String, 'street': String, 'streetNumber': String, 'zone': String})}))])\n",
      "\n",
      "centro_historico\n",
      "================\n",
      "Schema([('listing', Struct({'floors': List(Int64), 'legacyId': String, 'totalAreas': List(Int64), 'status': String, 'bathrooms': List(Int64), 'constructionStatus': String, 'propertyType': String, 'publicationType': String, 'usageTypes': List(String), 'id': String, 'listingsCount': Int64, 'updatedAt': String, 'bedrooms': List(Int64), 'pricingInfos': List(Struct({'businessType': String, 'yearlyIptu': Int64, 'price': Int64, 'monthlyCondoFee': Int64, 'rentalInfo': Struct({'period': String, 'warranties': List(Null), 'monthlyRentalTotalPrice': Int64})})), 'showPrice': Boolean, 'buildings': Int64, 'amenities': List(String), 'usableAreas': List(Int64), 'whatsappNumber': String, 'title': String, 'contractType': String, 'address': Struct({'city': String, 'neighborhood': String, 'street': String, 'streetNumber': String, 'point': Struct({'source': String, 'approximateLat': Float64, 'approximateLon': Float64, 'radius': Int64, 'lat': Float64, 'lon': Float64}), 'stateAcronym': String}), 'advertiserId': String, 'portal': String, 'unitSubTypes': List(String), 'stamps': List(String), 'listingType': String, 'nonActivationReason': String, 'parkingSpaces': List(Int64), 'suites': List(Int64), 'advertiserContact': Struct({'chat': String, 'phones': List(String)}), 'displayAddressType': String, 'sourceId': String, 'acceptExchange': Boolean, 'externalId': String, 'createdAt': String, 'providerId': String, 'description': String, 'unitFloor': Int64, 'unitTypes': List(String), 'resale': Boolean, 'capacityLimit': List(Null), 'unitsOnTheFloor': Int64})), ('account', Struct({'id': String, 'name': String, 'logoUrl': String, 'licenseNumber': String, 'showAddress': Boolean, 'legacyVivarealId': Int64, 'legacyZapId': Int64, 'createdDate': String, 'tier': String})), ('medias', List(Struct({'id': String, 'url': String, 'type': String}))), ('accountLink', Struct({'name': String, 'href': String, 'rel': String, 'data': Struct({})})), ('link', Struct({'name': String, 'href': String, 'rel': String, 'data': Struct({'city': String, 'neighborhood': String, 'state': String, 'street': String, 'streetNumber': String, 'zone': String})}))])\n",
      "\n",
      "menino_deus\n",
      "===========\n",
      "Schema([('listing', Struct({'floors': List(Int64), 'legacyId': String, 'totalAreas': List(Int64), 'status': String, 'bathrooms': List(Int64), 'constructionStatus': String, 'propertyType': String, 'publicationType': String, 'usageTypes': List(String), 'id': String, 'listingsCount': Int64, 'updatedAt': String, 'bedrooms': List(Int64), 'pricingInfos': List(Struct({'businessType': String, 'yearlyIptu': Int64, 'price': Int64, 'monthlyCondoFee': Int64, 'rentalInfo': Struct({'period': String, 'warranties': List(Null), 'monthlyRentalTotalPrice': Int64})})), 'showPrice': Boolean, 'buildings': Int64, 'amenities': List(String), 'usableAreas': List(Int64), 'whatsappNumber': String, 'title': String, 'contractType': String, 'address': Struct({'city': String, 'neighborhood': String, 'street': String, 'streetNumber': String, 'point': Struct({'source': String, 'approximateLat': Float64, 'approximateLon': Float64, 'radius': Int64, 'lat': Float64, 'lon': Float64}), 'stateAcronym': String}), 'advertiserId': String, 'portal': String, 'unitSubTypes': List(String), 'stamps': List(String), 'listingType': String, 'nonActivationReason': String, 'parkingSpaces': List(Int64), 'suites': List(Int64), 'advertiserContact': Struct({'chat': String, 'phones': List(String)}), 'displayAddressType': String, 'sourceId': String, 'acceptExchange': Boolean, 'externalId': String, 'createdAt': String, 'providerId': String, 'description': String, 'unitFloor': Int64, 'unitTypes': List(String), 'resale': Boolean, 'capacityLimit': List(Null), 'unitsOnTheFloor': Int64})), ('account', Struct({'id': String, 'name': String, 'logoUrl': String, 'licenseNumber': String, 'showAddress': Boolean, 'legacyVivarealId': Int64, 'legacyZapId': Int64, 'createdDate': String, 'tier': String})), ('medias', List(Struct({'id': String, 'url': String, 'type': String}))), ('accountLink', Struct({'name': String, 'href': String, 'rel': String, 'data': Struct({})})), ('link', Struct({'name': String, 'href': String, 'rel': String, 'data': Struct({'city': String, 'neighborhood': String, 'state': String, 'street': String, 'streetNumber': String, 'zone': String})}))])\n",
      "\n",
      "sarandi\n",
      "=======\n",
      "Schema([('listing', Struct({'floors': List(Int64), 'legacyId': String, 'totalAreas': List(Int64), 'status': String, 'bathrooms': List(Int64), 'constructionStatus': String, 'propertyType': String, 'publicationType': String, 'usageTypes': List(String), 'id': String, 'listingsCount': Int64, 'updatedAt': String, 'bedrooms': List(Int64), 'pricingInfos': List(Struct({'businessType': String, 'yearlyIptu': Int64, 'price': Int64, 'monthlyCondoFee': Int64})), 'showPrice': Boolean, 'buildings': Int64, 'amenities': List(String), 'usableAreas': List(Int64), 'whatsappNumber': String, 'title': String, 'contractType': String, 'address': Struct({'city': String, 'neighborhood': String, 'street': String, 'streetNumber': String, 'point': Struct({'source': String, 'approximateLat': Float64, 'approximateLon': Float64, 'radius': Int64, 'lat': Float64, 'lon': Float64}), 'stateAcronym': String}), 'advertiserId': String, 'portal': String, 'unitSubTypes': List(String), 'stamps': List(String), 'listingType': String, 'nonActivationReason': String, 'parkingSpaces': List(Int64), 'suites': List(Int64), 'advertiserContact': Struct({'chat': String, 'phones': List(String)}), 'displayAddressType': String, 'sourceId': String, 'acceptExchange': Boolean, 'externalId': String, 'createdAt': String, 'providerId': String, 'description': String, 'unitFloor': Int64, 'unitTypes': List(String), 'resale': Boolean, 'capacityLimit': List(Int64), 'unitsOnTheFloor': Int64})), ('account', Struct({'id': String, 'name': String, 'logoUrl': String, 'licenseNumber': String, 'showAddress': Boolean, 'legacyVivarealId': Int64, 'legacyZapId': Int64, 'createdDate': String, 'tier': String})), ('medias', List(Struct({'id': String, 'url': String, 'type': String}))), ('accountLink', Struct({'name': String, 'href': String, 'rel': String, 'data': Struct({})})), ('link', Struct({'name': String, 'href': String, 'rel': String, 'data': Struct({'city': String, 'neighborhood': String, 'state': String, 'street': String, 'streetNumber': String, 'zone': String})}))])\n",
      "\n"
     ]
    }
   ],
   "source": [
    "for name, df in neighborhoods_df_map.items():\n",
    "    print(name)\n",
    "    print(\"=\" * len(name))\n",
    "    print(df.schema)\n",
    "    print()"
   ]
  },
  {
   "cell_type": "markdown",
   "metadata": {},
   "source": [
    "A maior diferença parece estar na estrutura aninhada `rentalInfo`,\n",
    "que não é presente nos dados do bairro Sarandi."
   ]
  },
  {
   "cell_type": "markdown",
   "metadata": {},
   "source": [
    "## Entendimento dos dados e pré-processamento"
   ]
  },
  {
   "cell_type": "code",
   "execution_count": 5,
   "metadata": {},
   "outputs": [
    {
     "data": {
      "text/html": [
       "<div><style>\n",
       ".dataframe > thead > tr,\n",
       ".dataframe > tbody > tr {\n",
       "  text-align: right;\n",
       "  white-space: pre-wrap;\n",
       "}\n",
       "</style>\n",
       "<small>shape: (2, 5)</small><table border=\"1\" class=\"dataframe\"><thead><tr><th>listing</th><th>account</th><th>medias</th><th>accountLink</th><th>link</th></tr><tr><td>struct[43]</td><td>struct[9]</td><td>list[struct[3]]</td><td>struct[4]</td><td>struct[4]</td></tr></thead><tbody><tr><td>{[8],&quot;26349587&quot;,[48],&quot;ACTIVE&quot;,[1],&quot;ConstructionStatus_NONE&quot;,&quot;UNIT&quot;,&quot;PREMIUM&quot;,[&quot;RESIDENTIAL&quot;],&quot;2463567709&quot;,null,&quot;2024-12-17T11:12:11.169+00:00&quot;,[1],[{&quot;SALE&quot;,600,290000,300,null}],true,0,[&quot;DISABLED_ACCESS&quot;, &quot;INTEGRATED_ENVIRONMENTS&quot;, … &quot;PARTY_HALL&quot;],[46],&quot;&quot;,&quot;Apartamento de 46 metros quadrados no bairro Cidade Baixa com 1 quarto&quot;,&quot;OWNER&quot;,{&quot;Porto Alegre&quot;,&quot;Cidade Baixa&quot;,&quot;Rua Joaquim Nabuco&quot;,null,{&quot;GOOGLE&quot;,-30.041,-51.219,140,null,null},&quot;RS&quot;},&quot;dfadbe19-2554-5480-56eb-0780d0ee4019&quot;,&quot;GRUPOZAP&quot;,[],[],&quot;USED&quot;,&quot;NonActivationReason_NONE&quot;,[],[],{&quot;&quot;,[&quot;5130130100&quot;]},&quot;STREET&quot;,&quot;a5adbade-589d-3c61-97b7-e4014f21cf3d&quot;,true,&quot;ZAP1593841&quot;,&quot;2019-11-05T13:09:45.557+00:00&quot;,&quot;&quot;,&quot;Apartamento em excelente estado, iluminado e silencioso, mobiliado com móveis embutidos , conceito aberto, cozinha e sala integrados, gás central, aquecimento em todas as torneiras, fica ar condicionado do quarto e todos os móveis embutidos quarto, banheiro, sala, cozinha e homeoffice.&quot;,0,[&quot;APARTMENT&quot;],false,[0],4}</td><td>{&quot;dfadbe19-2554-5480-56eb-0780d0ee4019&quot;,&quot;BÁRBARA EINSFELD DE BORBA&quot;,null,&quot;&quot;,true,345436,3136761,&quot;2018-05-11T05:14:21Z&quot;,&quot;&quot;}</td><td>[{&quot;7cb4b1098bf75603a7f2561456bc2883&quot;,&quot;https://resizedimgs.zapimoveis.com.br/{action}/{width}x{height}/vr.images.sp/7cb4b1098bf75603a7f2561456bc2883.webp&quot;,&quot;IMAGE&quot;}, {&quot;3ad45448360d515b4bbb3d833537b5e4&quot;,&quot;https://resizedimgs.zapimoveis.com.br/{action}/{width}x{height}/vr.images.sp/3ad45448360d515b4bbb3d833537b5e4.webp&quot;,&quot;IMAGE&quot;}, … {&quot;3c74183638571539a2c2f9f568a72d7a&quot;,&quot;https://resizedimgs.zapimoveis.com.br/{action}/{width}x{height}/vr.images.sp/3c74183638571539a2c2f9f568a72d7a.webp&quot;,&quot;IMAGE&quot;}]</td><td>{&quot;BÁRBARA EINSFELD DE BORBA&quot;,&quot;/imobiliaria/345436/&quot;,&quot;&quot;,{}}</td><td>{&quot;Apartamento com 1 Quarto à venda, 46m²&quot;,&quot;/imovel/venda-apartamento-1-quarto-mobiliado-cidade-baixa-porto-alegre-46m2-id-2463567709/&quot;,&quot;&quot;,{&quot;Porto Alegre&quot;,&quot;Cidade Baixa&quot;,&quot;&quot;,&quot;Rua Joaquim Nabuco&quot;,&quot;&quot;,&quot;&quot;}}</td></tr><tr><td>{[],&quot;&quot;,[66],&quot;ACTIVE&quot;,[1],&quot;ConstructionStatus_NONE&quot;,&quot;UNIT&quot;,&quot;PREMIUM&quot;,[&quot;RESIDENTIAL&quot;],&quot;2760694515&quot;,7,&quot;2024-12-26T12:00:41.422+00:00&quot;,[2],[{&quot;SALE&quot;,0,275000,290,null}],true,0,[],[56],&quot;51999671489&quot;,&quot;Compre apartamento silencioso,55,10m2 de área útil,2 quartos, piso parquet,living 2 ambientes,banhei&quot;,&quot;REAL_ESTATE&quot;,{&quot;Porto Alegre&quot;,&quot;Cidade Baixa&quot;,&quot;Rua José do Patrocínio&quot;,&quot;357&quot;,{&quot;GOOGLE&quot;,null,null,null,-30.038562,-51.224749},&quot;RS&quot;},&quot;90879777-b9cc-65b9-28c8-c86f00947af9&quot;,&quot;GRUPOZAP&quot;,[],[],&quot;USED&quot;,&quot;NonActivationReason_NONE&quot;,[],[0],{&quot;&quot;,[&quot;5132084035&quot;, &quot;51999671489&quot;]},&quot;ALL&quot;,&quot;40017671-36da-3cb2-98e7-116dd4abcba1&quot;,false,&quot;VR527903&quot;,&quot;2024-12-01T21:22:02.001+00:00&quot;,&quot;13887&quot;,&quot;Compre apartamento silencioso,55,10m2 de área útil,2 quartos, piso parquet,living 2 ambientes,banheiro social ,cozinha e área de serviço. O condomínio fica localizado em Rua José do Patrocínio no bairro Cidade Baixa em Porto Alegre. Está bem situado, próximo a pontos de interesse de Cidade Baixa, tais como Azambuja, Praça General Daltro Filho, Faculdade de Direito da Funda. Escola Sup. do Ministério Público, Praça Salvador Allende, e Policlínica Militar de Porto Alegre.Aceitamos Fiinanciamento Bancário e Fgts.Marque hoje mesmo uma visita com um de nossos Consultores Imobiliários caddstrados! ]]&gt;&quot;,0,[&quot;APARTMENT&quot;],false,[],0}</td><td>{&quot;90879777-b9cc-65b9-28c8-c86f00947af9&quot;,&quot;Sperinde Vendas&quot;,&quot;https://resizedimgs.zapimoveis.com.br/{action}/{width}x{height}/vr.images.sp/fb5adab24465e4ba59ba7d6e4ac1de9e.webp&quot;,&quot;00411-J-RS&quot;,true,33518,2594637,&quot;2018-03-27T18:49:45Z&quot;,&quot;diamond&quot;}</td><td>[{&quot;3d8f346437754cf315cc942816497178&quot;,&quot;https://resizedimgs.zapimoveis.com.br/{action}/{width}x{height}/vr.images.sp/3d8f346437754cf315cc942816497178.webp&quot;,&quot;IMAGE&quot;}, {&quot;d309f06d26092646e716b47e93936c7d&quot;,&quot;https://resizedimgs.zapimoveis.com.br/{action}/{width}x{height}/vr.images.sp/d309f06d26092646e716b47e93936c7d.webp&quot;,&quot;IMAGE&quot;}, … {&quot;e0ddfeed8f77c5410adbbbe842aba483&quot;,&quot;https://resizedimgs.zapimoveis.com.br/{action}/{width}x{height}/vr.images.sp/e0ddfeed8f77c5410adbbbe842aba483.webp&quot;,&quot;IMAGE&quot;}]</td><td>{&quot;Sperinde Vendas&quot;,&quot;/imobiliaria/33518/&quot;,&quot;&quot;,{}}</td><td>{&quot;Apartamento com 2 Quartos à venda, 56m²&quot;,&quot;/imovel/venda-apartamento-2-quartos-cidade-baixa-porto-alegre-56m2-id-2760694515/&quot;,&quot;&quot;,{&quot;Porto Alegre&quot;,&quot;Cidade Baixa&quot;,&quot;&quot;,&quot;Rua José do Patrocínio&quot;,&quot;357&quot;,&quot;&quot;}}</td></tr></tbody></table></div>"
      ],
      "text/plain": [
       "shape: (2, 5)\n",
       "┌───────────────────┬───────────────────┬───────────────────┬───────────────────┬──────────────────┐\n",
       "│ listing           ┆ account           ┆ medias            ┆ accountLink       ┆ link             │\n",
       "│ ---               ┆ ---               ┆ ---               ┆ ---               ┆ ---              │\n",
       "│ struct[43]        ┆ struct[9]         ┆ list[struct[3]]   ┆ struct[4]         ┆ struct[4]        │\n",
       "╞═══════════════════╪═══════════════════╪═══════════════════╪═══════════════════╪══════════════════╡\n",
       "│ {[8],\"26349587\",[ ┆ {\"dfadbe19-2554-5 ┆ [{\"7cb4b1098bf756 ┆ {\"BÁRBARA         ┆ {\"Apartamento    │\n",
       "│ 48],\"ACTIVE\",…    ┆ 480-56eb-0780…    ┆ 03a7f2561456b…    ┆ EINSFELD DE       ┆ com 1 Quarto à   │\n",
       "│                   ┆                   ┆                   ┆ BORBA\",\"…         ┆ v…               │\n",
       "│ {[],\"\",[66],\"ACTI ┆ {\"90879777-b9cc-6 ┆ [{\"3d8f346437754c ┆ {\"Sperinde Vendas ┆ {\"Apartamento    │\n",
       "│ VE\",[1],\"Cons…    ┆ 5b9-28c8-c86f…    ┆ f315cc9428164…    ┆ \",\"/imobiliar…    ┆ com 2 Quartos à  │\n",
       "│                   ┆                   ┆                   ┆                   ┆ …                │\n",
       "└───────────────────┴───────────────────┴───────────────────┴───────────────────┴──────────────────┘"
      ]
     },
     "execution_count": 5,
     "metadata": {},
     "output_type": "execute_result"
    }
   ],
   "source": [
    "neighborhoods_df_map[\"cidade_baixa\"].head(2)"
   ]
  },
  {
   "cell_type": "markdown",
   "metadata": {},
   "source": [
    "### Qual o tamanho da massa de dados?"
   ]
  },
  {
   "cell_type": "code",
   "execution_count": 6,
   "metadata": {},
   "outputs": [
    {
     "name": "stdout",
     "output_type": "stream",
     "text": [
      "cidade_baixa: 2790\n",
      "centro_historico: 6007\n",
      "menino_deus: 5833\n",
      "sarandi: 2711\n",
      "Total: 17341\n"
     ]
    }
   ],
   "source": [
    "total = 0\n",
    "for neighborhood, df in neighborhoods_df_map.items():\n",
    "    df_height = df.select(pl.len()).item()\n",
    "    print(f\"{neighborhood}: {df_height}\")\n",
    "    total += df_height\n",
    "print(f\"Total: {total}\")"
   ]
  },
  {
   "cell_type": "markdown",
   "metadata": {},
   "source": [
    "A massa de dados é relativamente pequena, totalizando 17.341 imóveis."
   ]
  },
  {
   "cell_type": "code",
   "execution_count": 7,
   "metadata": {},
   "outputs": [
    {
     "name": "stdout",
     "output_type": "stream",
     "text": [
      "Temos 5 colunas: listing, account, medias, accountLink, link.\n"
     ]
    }
   ],
   "source": [
    "columns = neighborhoods_df_map[\"cidade_baixa\"].schema.names()\n",
    "print(f'Temos {len(columns)} colunas: {\", \".join(columns)}.')"
   ]
  },
  {
   "cell_type": "markdown",
   "metadata": {},
   "source": [
    "### Pré-processamento inicial"
   ]
  },
  {
   "cell_type": "markdown",
   "metadata": {},
   "source": [
    "Quase todas as informações que consideramos importantes para nossa análise estão na coluna `listing`,\n",
    "que tem uma estrutura aninhada complexa. Aplainamos a estrutura para simplificar a análise,\n",
    "e mantemos o link do anúncio para facilitar a consulta para análises mais aprofundadas."
   ]
  },
  {
   "cell_type": "code",
   "execution_count": 8,
   "metadata": {},
   "outputs": [
    {
     "data": {
      "text/html": [
       "<div><style>\n",
       ".dataframe > thead > tr,\n",
       ".dataframe > tbody > tr {\n",
       "  text-align: right;\n",
       "  white-space: pre-wrap;\n",
       "}\n",
       "</style>\n",
       "<small>shape: (4, 4)</small><table border=\"1\" class=\"dataframe\"><thead><tr><th>name</th><th>href</th><th>rel</th><th>data</th></tr><tr><td>str</td><td>str</td><td>str</td><td>struct[6]</td></tr></thead><tbody><tr><td>&quot;Conjunto Comercial / Sala à ve…</td><td>&quot;/imovel/venda-conjunto-comerci…</td><td>&quot;&quot;</td><td>{&quot;Porto Alegre&quot;,&quot;Centro Histórico&quot;,&quot;&quot;,&quot;Praça Quinze de Novembro&quot;,&quot;16&quot;,&quot;&quot;}</td></tr><tr><td>&quot;Conjunto Comercial / Sala à ve…</td><td>&quot;/imovel/venda-conjunto-comerci…</td><td>&quot;&quot;</td><td>{&quot;Porto Alegre&quot;,&quot;Centro Histórico&quot;,&quot;&quot;,&quot;Rua dos Andradas&quot;,&quot;1234&quot;,&quot;&quot;}</td></tr><tr><td>&quot;Conjunto Comercial / Sala à ve…</td><td>&quot;/imovel/venda-conjunto-comerci…</td><td>&quot;&quot;</td><td>{&quot;Porto Alegre&quot;,&quot;Centro Histórico&quot;,&quot;&quot;,&quot;Rua Marechal Floriano Peixoto&quot;,&quot;13&quot;,&quot;&quot;}</td></tr><tr><td>&quot;Prédio Inteiro à venda, 2026m²&quot;</td><td>&quot;/imovel/venda-predio-com-eleva…</td><td>&quot;&quot;</td><td>{&quot;Porto Alegre&quot;,&quot;Centro Histórico&quot;,&quot;&quot;,&quot;Avenida Júlio de Castilhos&quot;,&quot;48&quot;,&quot;&quot;}</td></tr></tbody></table></div>"
      ],
      "text/plain": [
       "shape: (4, 4)\n",
       "┌─────────────────────────────────┬────────────────────────────────┬─────┬─────────────────────────┐\n",
       "│ name                            ┆ href                           ┆ rel ┆ data                    │\n",
       "│ ---                             ┆ ---                            ┆ --- ┆ ---                     │\n",
       "│ str                             ┆ str                            ┆ str ┆ struct[6]               │\n",
       "╞═════════════════════════════════╪════════════════════════════════╪═════╪═════════════════════════╡\n",
       "│ Conjunto Comercial / Sala à ve… ┆ /imovel/venda-conjunto-comerci ┆     ┆ {\"Porto Alegre\",\"Centro │\n",
       "│                                 ┆ …                              ┆     ┆ Histór…                 │\n",
       "│ Conjunto Comercial / Sala à ve… ┆ /imovel/venda-conjunto-comerci ┆     ┆ {\"Porto Alegre\",\"Centro │\n",
       "│                                 ┆ …                              ┆     ┆ Histór…                 │\n",
       "│ Conjunto Comercial / Sala à ve… ┆ /imovel/venda-conjunto-comerci ┆     ┆ {\"Porto Alegre\",\"Centro │\n",
       "│                                 ┆ …                              ┆     ┆ Histór…                 │\n",
       "│ Prédio Inteiro à venda, 2026m²  ┆ /imovel/venda-predio-com-eleva ┆     ┆ {\"Porto Alegre\",\"Centro │\n",
       "│                                 ┆ …                              ┆     ┆ Histór…                 │\n",
       "└─────────────────────────────────┴────────────────────────────────┴─────┴─────────────────────────┘"
      ]
     },
     "execution_count": 8,
     "metadata": {},
     "output_type": "execute_result"
    }
   ],
   "source": [
    "neighborhoods_df_map[\"centro_historico\"].select(pl.col(\"link\").struct.unnest()).head(4)"
   ]
  },
  {
   "cell_type": "code",
   "execution_count": 9,
   "metadata": {},
   "outputs": [],
   "source": [
    "listings_df_map = {\n",
    "    neighborhood: df.select([\n",
    "        pl.col(\"listing\").struct.unnest(),\n",
    "        pl.col(\"link\").struct.field(\"href\").alias(\"link_href\")\n",
    "    ])\n",
    "    for neighborhood, df in neighborhoods_df_map.items()\n",
    "}"
   ]
  },
  {
   "cell_type": "code",
   "execution_count": 10,
   "metadata": {},
   "outputs": [
    {
     "data": {
      "text/html": [
       "<div><style>\n",
       ".dataframe > thead > tr,\n",
       ".dataframe > tbody > tr {\n",
       "  text-align: right;\n",
       "  white-space: pre-wrap;\n",
       "}\n",
       "</style>\n",
       "<small>shape: (3, 44)</small><table border=\"1\" class=\"dataframe\"><thead><tr><th>floors</th><th>legacyId</th><th>totalAreas</th><th>status</th><th>bathrooms</th><th>constructionStatus</th><th>propertyType</th><th>publicationType</th><th>usageTypes</th><th>id</th><th>listingsCount</th><th>updatedAt</th><th>bedrooms</th><th>pricingInfos</th><th>showPrice</th><th>buildings</th><th>amenities</th><th>usableAreas</th><th>whatsappNumber</th><th>title</th><th>contractType</th><th>address</th><th>advertiserId</th><th>portal</th><th>unitSubTypes</th><th>stamps</th><th>listingType</th><th>nonActivationReason</th><th>parkingSpaces</th><th>suites</th><th>advertiserContact</th><th>displayAddressType</th><th>sourceId</th><th>acceptExchange</th><th>externalId</th><th>createdAt</th><th>providerId</th><th>description</th><th>unitFloor</th><th>unitTypes</th><th>resale</th><th>capacityLimit</th><th>unitsOnTheFloor</th><th>link_href</th></tr><tr><td>list[i64]</td><td>str</td><td>list[i64]</td><td>str</td><td>list[i64]</td><td>str</td><td>str</td><td>str</td><td>list[str]</td><td>str</td><td>i64</td><td>str</td><td>list[i64]</td><td>list[struct[5]]</td><td>bool</td><td>i64</td><td>list[str]</td><td>list[i64]</td><td>str</td><td>str</td><td>str</td><td>struct[6]</td><td>str</td><td>str</td><td>list[str]</td><td>list[str]</td><td>str</td><td>str</td><td>list[i64]</td><td>list[i64]</td><td>struct[2]</td><td>str</td><td>str</td><td>bool</td><td>str</td><td>str</td><td>str</td><td>str</td><td>i64</td><td>list[str]</td><td>bool</td><td>list[null]</td><td>i64</td><td>str</td></tr></thead><tbody><tr><td>[]</td><td>&quot;&quot;</td><td>[66]</td><td>&quot;ACTIVE&quot;</td><td>[]</td><td>&quot;ConstructionStatus_NONE&quot;</td><td>&quot;UNIT&quot;</td><td>&quot;PREMIUM&quot;</td><td>[&quot;COMMERCIAL&quot;]</td><td>&quot;2763007925&quot;</td><td>null</td><td>&quot;2024-12-17T23:18:49.917+00:00&quot;</td><td>[]</td><td>[{&quot;SALE&quot;,1575,131790,0,null}]</td><td>true</td><td>0</td><td>[&quot;INTERCOM&quot;, &quot;ELEVATOR&quot;, &quot;CARETAKER&quot;]</td><td>[49]</td><td>&quot;51982460700&quot;</td><td>&quot;Sala Comercial - Centro Histór…</td><td>&quot;REAL_ESTATE&quot;</td><td>{&quot;Porto Alegre&quot;,&quot;Centro Histórico&quot;,&quot;Praça Quinze de Novembro&quot;,&quot;16&quot;,{&quot;GOOGLE&quot;,null,null,null,-30.027907,-51.226606},&quot;RS&quot;}</td><td>&quot;d178a00c-2318-8959-c584-449a9f…</td><td>&quot;GRUPOZAP&quot;</td><td>[]</td><td>[]</td><td>&quot;USED&quot;</td><td>&quot;NonActivationReason_NONE&quot;</td><td>[]</td><td>[]</td><td>{&quot;&quot;,[&quot;51982460700&quot;]}</td><td>&quot;ALL&quot;</td><td>&quot;f3ff3a42-8142-33f0-9d16-74d954…</td><td>false</td><td>&quot;74060538&quot;</td><td>&quot;2024-12-10T23:00:53.946+00:00&quot;</td><td>&quot;76119&quot;</td><td>&quot;Explore o potencial de investi…</td><td>0</td><td>[&quot;OFFICE&quot;]</td><td>false</td><td>[]</td><td>0</td><td>&quot;/imovel/venda-conjunto-comerci…</td></tr><tr><td>[]</td><td>&quot;&quot;</td><td>[1083]</td><td>&quot;ACTIVE&quot;</td><td>[]</td><td>&quot;ConstructionStatus_NONE&quot;</td><td>&quot;UNIT&quot;</td><td>&quot;STANDARD&quot;</td><td>[&quot;COMMERCIAL&quot;]</td><td>&quot;2753265605&quot;</td><td>null</td><td>&quot;2024-12-26T10:39:14.438+00:00&quot;</td><td>[]</td><td>[{&quot;SALE&quot;,3235,2900000,0,null}]</td><td>true</td><td>0</td><td>[]</td><td>[821]</td><td>&quot;51995540021&quot;</td><td>&quot;Sala comercial com 820 m² priv…</td><td>&quot;REAL_ESTATE&quot;</td><td>{&quot;Porto Alegre&quot;,&quot;Centro Histórico&quot;,&quot;Rua dos Andradas&quot;,&quot;1234&quot;,{&quot;GOOGLE&quot;,null,null,null,-30.029844,-51.229421},&quot;RS&quot;}</td><td>&quot;c10bd73f-1704-1915-de4b-5f4085…</td><td>&quot;GRUPOZAP&quot;</td><td>[]</td><td>[]</td><td>&quot;USED&quot;</td><td>&quot;NonActivationReason_NONE&quot;</td><td>[]</td><td>[]</td><td>{&quot;&quot;,[&quot;5131913045&quot;, &quot;51995540021&quot;]}</td><td>&quot;ALL&quot;</td><td>&quot;21b31137-f150-363e-b477-02473d…</td><td>false</td><td>&quot;10003930&quot;</td><td>&quot;2024-10-31T19:46:30.211+00:00&quot;</td><td>&quot;43018&quot;</td><td>&quot;Crédito Real vende sala comerc…</td><td>0</td><td>[&quot;OFFICE&quot;]</td><td>false</td><td>[]</td><td>0</td><td>&quot;/imovel/venda-conjunto-comerci…</td></tr><tr><td>[]</td><td>&quot;&quot;</td><td>[167]</td><td>&quot;ACTIVE&quot;</td><td>[2]</td><td>&quot;ConstructionStatus_NONE&quot;</td><td>&quot;UNIT&quot;</td><td>&quot;STANDARD&quot;</td><td>[&quot;COMMERCIAL&quot;]</td><td>&quot;2715472864&quot;</td><td>null</td><td>&quot;2024-12-26T01:38:37.135+00:00&quot;</td><td>[]</td><td>[{&quot;SALE&quot;,1400,179000,430,null}]</td><td>true</td><td>0</td><td>[&quot;KITCHEN&quot;]</td><td>[61]</td><td>&quot;51997974224&quot;</td><td>&quot;SALA / CONJUNTO COMERCIAL NO M…</td><td>&quot;REAL_ESTATE&quot;</td><td>{&quot;Porto Alegre&quot;,&quot;Centro Histórico&quot;,&quot;Rua Marechal Floriano Peixoto&quot;,&quot;13&quot;,{&quot;GOOGLE&quot;,null,null,null,-30.028941,-51.22681},&quot;RS&quot;}</td><td>&quot;abd88457-13be-a5c6-a70f-f484ce…</td><td>&quot;GRUPOZAP&quot;</td><td>[]</td><td>[]</td><td>&quot;USED&quot;</td><td>&quot;NonActivationReason_NONE&quot;</td><td>[]</td><td>[]</td><td>{&quot;&quot;,[&quot;51997974224&quot;]}</td><td>&quot;ALL&quot;</td><td>&quot;27d64c87-9b95-3d35-af44-cc072c…</td><td>false</td><td>&quot;9937782&quot;</td><td>&quot;2024-05-17T02:47:07.305+00:00&quot;</td><td>&quot;56822&quot;</td><td>&quot;Sala / Conjunto Comercial a ve…</td><td>0</td><td>[&quot;OFFICE&quot;]</td><td>false</td><td>[]</td><td>0</td><td>&quot;/imovel/venda-conjunto-comerci…</td></tr></tbody></table></div>"
      ],
      "text/plain": [
       "shape: (3, 44)\n",
       "┌───────────┬──────────┬────────────┬────────┬───┬────────┬─────────────┬─────────────┬────────────┐\n",
       "│ floors    ┆ legacyId ┆ totalAreas ┆ status ┆ … ┆ resale ┆ capacityLim ┆ unitsOnTheF ┆ link_href  │\n",
       "│ ---       ┆ ---      ┆ ---        ┆ ---    ┆   ┆ ---    ┆ it          ┆ loor        ┆ ---        │\n",
       "│ list[i64] ┆ str      ┆ list[i64]  ┆ str    ┆   ┆ bool   ┆ ---         ┆ ---         ┆ str        │\n",
       "│           ┆          ┆            ┆        ┆   ┆        ┆ list[null]  ┆ i64         ┆            │\n",
       "╞═══════════╪══════════╪════════════╪════════╪═══╪════════╪═════════════╪═════════════╪════════════╡\n",
       "│ []        ┆          ┆ [66]       ┆ ACTIVE ┆ … ┆ false  ┆ []          ┆ 0           ┆ /imovel/ve │\n",
       "│           ┆          ┆            ┆        ┆   ┆        ┆             ┆             ┆ nda-conjun │\n",
       "│           ┆          ┆            ┆        ┆   ┆        ┆             ┆             ┆ to-comerci │\n",
       "│           ┆          ┆            ┆        ┆   ┆        ┆             ┆             ┆ …          │\n",
       "│ []        ┆          ┆ [1083]     ┆ ACTIVE ┆ … ┆ false  ┆ []          ┆ 0           ┆ /imovel/ve │\n",
       "│           ┆          ┆            ┆        ┆   ┆        ┆             ┆             ┆ nda-conjun │\n",
       "│           ┆          ┆            ┆        ┆   ┆        ┆             ┆             ┆ to-comerci │\n",
       "│           ┆          ┆            ┆        ┆   ┆        ┆             ┆             ┆ …          │\n",
       "│ []        ┆          ┆ [167]      ┆ ACTIVE ┆ … ┆ false  ┆ []          ┆ 0           ┆ /imovel/ve │\n",
       "│           ┆          ┆            ┆        ┆   ┆        ┆             ┆             ┆ nda-conjun │\n",
       "│           ┆          ┆            ┆        ┆   ┆        ┆             ┆             ┆ to-comerci │\n",
       "│           ┆          ┆            ┆        ┆   ┆        ┆             ┆             ┆ …          │\n",
       "└───────────┴──────────┴────────────┴────────┴───┴────────┴─────────────┴─────────────┴────────────┘"
      ]
     },
     "execution_count": 10,
     "metadata": {},
     "output_type": "execute_result"
    }
   ],
   "source": [
    "listings_df_map[\"centro_historico\"].head(3)"
   ]
  },
  {
   "cell_type": "markdown",
   "metadata": {},
   "source": [
    "#### Descarte de informações não importantes"
   ]
  },
  {
   "cell_type": "markdown",
   "metadata": {},
   "source": [
    "Existe muita informação ruidosa nesses dados.\n",
    "Escolhemos as seguintes colunas para descarte."
   ]
  },
  {
   "cell_type": "code",
   "execution_count": 11,
   "metadata": {},
   "outputs": [],
   "source": [
    "COLUMNS_TO_DROP = [\n",
    "    \"advertiserId\",\n",
    "    \"constructionStatus\",\n",
    "    \"portal\",\n",
    "    \"stamps\",\n",
    "    \"advertiserContact\",\n",
    "    \"whatsappNumber\",\n",
    "    \"title\",\n",
    "    \"nonActivationReason\",\n",
    "    \"status\",\n",
    "    \"legacyId\",\n",
    "    \"externalId\",\n",
    "    \"listingsCount\",\n",
    "    \"createdAt\",\n",
    "    \"updatedAt\",\n",
    "    \"showPrice\",\n",
    "    \"acceptExchange\",\n",
    "    \"description\",\n",
    "    \"sourceId\",\n",
    "    \"providerId\"\n",
    "]\n",
    "\n",
    "listings_df_map = {\n",
    "    name: df.drop(COLUMNS_TO_DROP)\n",
    "    for name, df in listings_df_map.items()\n",
    "}"
   ]
  },
  {
   "cell_type": "markdown",
   "metadata": {},
   "source": [
    "#### Atributos em forma de lista"
   ]
  },
  {
   "cell_type": "markdown",
   "metadata": {},
   "source": [
    "Sabemos que `amenities` descrevem as amenidades presentes em um dado imóvel,\n",
    "o que pode ser interessante transformar em atributos preditores para nossas regressões.\n",
    "\n",
    "Entretanto, ainda precisamos entender outras colunas que tem listas como valores.\n",
    "Várias delas não parecem fazer sentido em ter multiplicidade: em que contexto o número\n",
    "de quartos (bedrooms) precisa ser uma lista? Número de banheiros? Área utilizável?\n",
    "Uma unidade pode pertencer ao mesmo tempo a mais de um tipo (comercial, casa)?\n",
    "\n",
    "Em primeiro lugar, tentamos entender quais listas de fato vêm a possuir mais de um\n",
    "elemento.\n"
   ]
  },
  {
   "cell_type": "code",
   "execution_count": 12,
   "metadata": {},
   "outputs": [
    {
     "name": "stdout",
     "output_type": "stream",
     "text": [
      "cidade_baixa\n",
      "============\n",
      "floors       : 1\n",
      "unitSubTypes : 2\n",
      "suites       : 1\n",
      "unitTypes    : 1\n",
      "pricingInfos : 2\n",
      "parkingSpaces: 2\n",
      "totalAreas   : 2\n",
      "bathrooms    : 2\n",
      "bedrooms     : 2\n",
      "usableAreas  : 2\n",
      "usageTypes   : 2\n",
      "capacityLimit: 1\n",
      "\n",
      "\n",
      "centro_historico\n",
      "================\n",
      "floors       : 1\n",
      "unitSubTypes : 2\n",
      "suites       : 1\n",
      "unitTypes    : 1\n",
      "pricingInfos : 2\n",
      "parkingSpaces: 2\n",
      "totalAreas   : 2\n",
      "bathrooms    : 2\n",
      "bedrooms     : 2\n",
      "usableAreas  : 2\n",
      "usageTypes   : 2\n",
      "capacityLimit: 1\n",
      "\n",
      "\n",
      "menino_deus\n",
      "===========\n",
      "floors       : 1\n",
      "unitSubTypes : 2\n",
      "suites       : 1\n",
      "unitTypes    : 1\n",
      "pricingInfos : 2\n",
      "parkingSpaces: 2\n",
      "totalAreas   : 2\n",
      "bathrooms    : 2\n",
      "bedrooms     : 2\n",
      "usableAreas  : 2\n",
      "usageTypes   : 2\n",
      "capacityLimit: 1\n",
      "\n",
      "\n",
      "sarandi\n",
      "=======\n",
      "floors       : 1\n",
      "unitSubTypes : 2\n",
      "suites       : 1\n",
      "unitTypes    : 1\n",
      "pricingInfos : 2\n",
      "parkingSpaces: 2\n",
      "totalAreas   : 2\n",
      "bathrooms    : 2\n",
      "bedrooms     : 2\n",
      "usableAreas  : 2\n",
      "usageTypes   : 2\n",
      "capacityLimit: 1\n",
      "\n",
      "\n"
     ]
    }
   ],
   "source": [
    "LIST_COLUMNS = [\n",
    "    \"floors\",\n",
    "    \"unitSubTypes\",\n",
    "    \"suites\",\n",
    "    \"unitTypes\",\n",
    "    \"pricingInfos\",\n",
    "    \"parkingSpaces\",\n",
    "    \"totalAreas\",\n",
    "    \"bathrooms\",\n",
    "    \"bedrooms\",\n",
    "    \"usableAreas\",\n",
    "    \"usageTypes\",\n",
    "    \"capacityLimit\",\n",
    "]\n",
    "\n",
    "max_colname_width = max(len(name) for name in LIST_COLUMNS)\n",
    "arrays_with_size_larger_than_one = []\n",
    "for name, df in listings_df_map.items():\n",
    "    print(name)\n",
    "    print(\"=\" * len(name))\n",
    "    for colname in LIST_COLUMNS:\n",
    "        column_max_length = get_list_column_max_len(df, colname)\n",
    "        print(f\"{colname:<{max_colname_width}}: {column_max_length}\")\n",
    "        if column_max_length > 1:\n",
    "            arrays_with_size_larger_than_one.append(colname)\n",
    "    print(\"\\n\")"
   ]
  },
  {
   "cell_type": "markdown",
   "metadata": {},
   "source": [
    "A primeira coisa a se fazer, para facilitar o restante da nossa análise e pré-processamento,\n",
    "é transformar aquelas colunas que são sempre listas de um elemento em colunas escalares."
   ]
  },
  {
   "cell_type": "code",
   "execution_count": 13,
   "metadata": {},
   "outputs": [],
   "source": [
    "single_element_list_columns = [\n",
    "    \"capacityLimit\",\n",
    "    \"unitTypes\",\n",
    "    \"floors\",\n",
    "    \"suites\",\n",
    "]\n",
    "\n",
    "for name, df in listings_df_map.items():\n",
    "    listings_df_map[name] = df.with_columns(\n",
    "        [pl.col(col).list.first().alias(col) for col in single_element_list_columns]\n",
    "    )"
   ]
  },
  {
   "cell_type": "code",
   "execution_count": 14,
   "metadata": {},
   "outputs": [
    {
     "data": {
      "text/html": [
       "<div><style>\n",
       ".dataframe > thead > tr,\n",
       ".dataframe > tbody > tr {\n",
       "  text-align: right;\n",
       "  white-space: pre-wrap;\n",
       "}\n",
       "</style>\n",
       "<small>shape: (5, 25)</small><table border=\"1\" class=\"dataframe\"><thead><tr><th>floors</th><th>totalAreas</th><th>bathrooms</th><th>propertyType</th><th>publicationType</th><th>usageTypes</th><th>id</th><th>bedrooms</th><th>pricingInfos</th><th>buildings</th><th>amenities</th><th>usableAreas</th><th>contractType</th><th>address</th><th>unitSubTypes</th><th>listingType</th><th>parkingSpaces</th><th>suites</th><th>displayAddressType</th><th>unitFloor</th><th>unitTypes</th><th>resale</th><th>capacityLimit</th><th>unitsOnTheFloor</th><th>link_href</th></tr><tr><td>i64</td><td>list[i64]</td><td>list[i64]</td><td>str</td><td>str</td><td>list[str]</td><td>str</td><td>list[i64]</td><td>list[struct[5]]</td><td>i64</td><td>list[str]</td><td>list[i64]</td><td>str</td><td>struct[6]</td><td>list[str]</td><td>str</td><td>list[i64]</td><td>i64</td><td>str</td><td>i64</td><td>str</td><td>bool</td><td>i64</td><td>i64</td><td>str</td></tr></thead><tbody><tr><td>8</td><td>[48]</td><td>[1]</td><td>&quot;UNIT&quot;</td><td>&quot;PREMIUM&quot;</td><td>[&quot;RESIDENTIAL&quot;]</td><td>&quot;2463567709&quot;</td><td>[1]</td><td>[{&quot;SALE&quot;,600,290000,300,null}]</td><td>0</td><td>[&quot;DISABLED_ACCESS&quot;, &quot;INTEGRATED_ENVIRONMENTS&quot;, … &quot;PARTY_HALL&quot;]</td><td>[46]</td><td>&quot;OWNER&quot;</td><td>{&quot;Porto Alegre&quot;,&quot;Cidade Baixa&quot;,&quot;Rua Joaquim Nabuco&quot;,null,{&quot;GOOGLE&quot;,-30.041,-51.219,140,null,null},&quot;RS&quot;}</td><td>[]</td><td>&quot;USED&quot;</td><td>[]</td><td>null</td><td>&quot;STREET&quot;</td><td>0</td><td>&quot;APARTMENT&quot;</td><td>false</td><td>0</td><td>4</td><td>&quot;/imovel/venda-apartamento-1-qu…</td></tr><tr><td>null</td><td>[66]</td><td>[1]</td><td>&quot;UNIT&quot;</td><td>&quot;PREMIUM&quot;</td><td>[&quot;RESIDENTIAL&quot;]</td><td>&quot;2760694515&quot;</td><td>[2]</td><td>[{&quot;SALE&quot;,0,275000,290,null}]</td><td>0</td><td>[]</td><td>[56]</td><td>&quot;REAL_ESTATE&quot;</td><td>{&quot;Porto Alegre&quot;,&quot;Cidade Baixa&quot;,&quot;Rua José do Patrocínio&quot;,&quot;357&quot;,{&quot;GOOGLE&quot;,null,null,null,-30.038562,-51.224749},&quot;RS&quot;}</td><td>[]</td><td>&quot;USED&quot;</td><td>[]</td><td>0</td><td>&quot;ALL&quot;</td><td>0</td><td>&quot;APARTMENT&quot;</td><td>false</td><td>null</td><td>0</td><td>&quot;/imovel/venda-apartamento-2-qu…</td></tr><tr><td>null</td><td>[56]</td><td>[1]</td><td>&quot;UNIT&quot;</td><td>&quot;STANDARD&quot;</td><td>[&quot;RESIDENTIAL&quot;]</td><td>&quot;2765177708&quot;</td><td>[1]</td><td>[{&quot;SALE&quot;,335,175000,530,null}]</td><td>0</td><td>[&quot;PETS_ALLOWED&quot;, &quot;FURNISHED&quot;]</td><td>[42]</td><td>&quot;REAL_ESTATE&quot;</td><td>{&quot;Porto Alegre&quot;,&quot;Centro Histórico&quot;,&quot;Avenida João Pessoa&quot;,&quot;371&quot;,{&quot;GOOGLE&quot;,null,null,null,-30.035694,-51.221204},&quot;RS&quot;}</td><td>[]</td><td>&quot;USED&quot;</td><td>[]</td><td>null</td><td>&quot;ALL&quot;</td><td>3</td><td>&quot;APARTMENT&quot;</td><td>false</td><td>null</td><td>0</td><td>&quot;/imovel/venda-apartamento-1-qu…</td></tr><tr><td>null</td><td>[61]</td><td>[2]</td><td>&quot;UNIT&quot;</td><td>&quot;STANDARD&quot;</td><td>[&quot;RESIDENTIAL&quot;]</td><td>&quot;2756577162&quot;</td><td>[1]</td><td>[{&quot;SALE&quot;,113,380000,400,null}]</td><td>0</td><td>[&quot;GARAGE&quot;]</td><td>[46]</td><td>&quot;REAL_ESTATE&quot;</td><td>{&quot;Porto Alegre&quot;,&quot;Cidade Baixa&quot;,&quot;Rua Miguel Teixeira&quot;,&quot;66&quot;,{&quot;GOOGLE&quot;,null,null,null,-30.042558,-51.227121},&quot;RS&quot;}</td><td>[]</td><td>&quot;USED&quot;</td><td>[1]</td><td>1</td><td>&quot;ALL&quot;</td><td>0</td><td>&quot;APARTMENT&quot;</td><td>false</td><td>null</td><td>0</td><td>&quot;/imovel/venda-apartamento-1-qu…</td></tr><tr><td>null</td><td>[]</td><td>[2]</td><td>&quot;UNIT&quot;</td><td>&quot;PREMIUM&quot;</td><td>[&quot;COMMERCIAL&quot;]</td><td>&quot;2708598936&quot;</td><td>[]</td><td>[{&quot;SALE&quot;,null,500000,null,null}]</td><td>0</td><td>[]</td><td>[130]</td><td>&quot;OWNER&quot;</td><td>{&quot;Porto Alegre&quot;,&quot;Cidade Baixa&quot;,&quot;Travessa do Carmo&quot;,&quot;152&quot;,{&quot;GOOGLE&quot;,null,null,null,-30.038998,-51.226354},&quot;RS&quot;}</td><td>[&quot;OFFICE&quot;]</td><td>&quot;USED&quot;</td><td>[]</td><td>null</td><td>&quot;ALL&quot;</td><td>4</td><td>&quot;OFFICE&quot;</td><td>true</td><td>null</td><td>0</td><td>&quot;/imovel/venda-conjunto-comerci…</td></tr></tbody></table></div>"
      ],
      "text/plain": [
       "shape: (5, 25)\n",
       "┌────────┬────────────┬───────────┬────────────┬───┬────────┬────────────┬────────────┬────────────┐\n",
       "│ floors ┆ totalAreas ┆ bathrooms ┆ propertyTy ┆ … ┆ resale ┆ capacityLi ┆ unitsOnThe ┆ link_href  │\n",
       "│ ---    ┆ ---        ┆ ---       ┆ pe         ┆   ┆ ---    ┆ mit        ┆ Floor      ┆ ---        │\n",
       "│ i64    ┆ list[i64]  ┆ list[i64] ┆ ---        ┆   ┆ bool   ┆ ---        ┆ ---        ┆ str        │\n",
       "│        ┆            ┆           ┆ str        ┆   ┆        ┆ i64        ┆ i64        ┆            │\n",
       "╞════════╪════════════╪═══════════╪════════════╪═══╪════════╪════════════╪════════════╪════════════╡\n",
       "│ 8      ┆ [48]       ┆ [1]       ┆ UNIT       ┆ … ┆ false  ┆ 0          ┆ 4          ┆ /imovel/ve │\n",
       "│        ┆            ┆           ┆            ┆   ┆        ┆            ┆            ┆ nda-aparta │\n",
       "│        ┆            ┆           ┆            ┆   ┆        ┆            ┆            ┆ mento-1-qu │\n",
       "│        ┆            ┆           ┆            ┆   ┆        ┆            ┆            ┆ …          │\n",
       "│ null   ┆ [66]       ┆ [1]       ┆ UNIT       ┆ … ┆ false  ┆ null       ┆ 0          ┆ /imovel/ve │\n",
       "│        ┆            ┆           ┆            ┆   ┆        ┆            ┆            ┆ nda-aparta │\n",
       "│        ┆            ┆           ┆            ┆   ┆        ┆            ┆            ┆ mento-2-qu │\n",
       "│        ┆            ┆           ┆            ┆   ┆        ┆            ┆            ┆ …          │\n",
       "│ null   ┆ [56]       ┆ [1]       ┆ UNIT       ┆ … ┆ false  ┆ null       ┆ 0          ┆ /imovel/ve │\n",
       "│        ┆            ┆           ┆            ┆   ┆        ┆            ┆            ┆ nda-aparta │\n",
       "│        ┆            ┆           ┆            ┆   ┆        ┆            ┆            ┆ mento-1-qu │\n",
       "│        ┆            ┆           ┆            ┆   ┆        ┆            ┆            ┆ …          │\n",
       "│ null   ┆ [61]       ┆ [2]       ┆ UNIT       ┆ … ┆ false  ┆ null       ┆ 0          ┆ /imovel/ve │\n",
       "│        ┆            ┆           ┆            ┆   ┆        ┆            ┆            ┆ nda-aparta │\n",
       "│        ┆            ┆           ┆            ┆   ┆        ┆            ┆            ┆ mento-1-qu │\n",
       "│        ┆            ┆           ┆            ┆   ┆        ┆            ┆            ┆ …          │\n",
       "│ null   ┆ []         ┆ [2]       ┆ UNIT       ┆ … ┆ true   ┆ null       ┆ 0          ┆ /imovel/ve │\n",
       "│        ┆            ┆           ┆            ┆   ┆        ┆            ┆            ┆ nda-conjun │\n",
       "│        ┆            ┆           ┆            ┆   ┆        ┆            ┆            ┆ to-comerci │\n",
       "│        ┆            ┆           ┆            ┆   ┆        ┆            ┆            ┆ …          │\n",
       "└────────┴────────────┴───────────┴────────────┴───┴────────┴────────────┴────────────┴────────────┘"
      ]
     },
     "execution_count": 14,
     "metadata": {},
     "output_type": "execute_result"
    }
   ],
   "source": [
    "listings_df_map[\"cidade_baixa\"].head(5)"
   ]
  },
  {
   "cell_type": "markdown",
   "metadata": {},
   "source": [
    "A seguir, procuramos entender a coluna `pricingInfos`."
   ]
  },
  {
   "cell_type": "code",
   "execution_count": 15,
   "metadata": {},
   "outputs": [
    {
     "data": {
      "text/html": [
       "<div><style>\n",
       ".dataframe > thead > tr,\n",
       ".dataframe > tbody > tr {\n",
       "  text-align: right;\n",
       "  white-space: pre-wrap;\n",
       "}\n",
       "</style>\n",
       "<small>shape: (3, 25)</small><table border=\"1\" class=\"dataframe\"><thead><tr><th>floors</th><th>totalAreas</th><th>bathrooms</th><th>propertyType</th><th>publicationType</th><th>usageTypes</th><th>id</th><th>bedrooms</th><th>pricingInfos</th><th>buildings</th><th>amenities</th><th>usableAreas</th><th>contractType</th><th>address</th><th>unitSubTypes</th><th>listingType</th><th>parkingSpaces</th><th>suites</th><th>displayAddressType</th><th>unitFloor</th><th>unitTypes</th><th>resale</th><th>capacityLimit</th><th>unitsOnTheFloor</th><th>link_href</th></tr><tr><td>i64</td><td>list[i64]</td><td>list[i64]</td><td>str</td><td>str</td><td>list[str]</td><td>str</td><td>list[i64]</td><td>list[struct[5]]</td><td>i64</td><td>list[str]</td><td>list[i64]</td><td>str</td><td>struct[6]</td><td>list[str]</td><td>str</td><td>list[i64]</td><td>i64</td><td>str</td><td>i64</td><td>str</td><td>bool</td><td>null</td><td>i64</td><td>str</td></tr></thead><tbody><tr><td>null</td><td>[42]</td><td>[1]</td><td>&quot;UNIT&quot;</td><td>&quot;PREMIUM&quot;</td><td>[&quot;COMMERCIAL&quot;]</td><td>&quot;2712201134&quot;</td><td>[0]</td><td>[{&quot;RENTAL&quot;,1289,1200,500,{&quot;MONTHLY&quot;,[],1700}}, {&quot;SALE&quot;,1289,160000,500,null}]</td><td>0</td><td>[]</td><td>[42]</td><td>&quot;REAL_ESTATE&quot;</td><td>{&quot;Porto Alegre&quot;,&quot;Centro Histórico&quot;,&quot;Rua dos Andradas&quot;,&quot;1137&quot;,{&quot;GOOGLE&quot;,null,null,null,-30.030361,-51.230258},&quot;RS&quot;}</td><td>[]</td><td>&quot;USED&quot;</td><td>[0]</td><td>0</td><td>&quot;ALL&quot;</td><td>0</td><td>&quot;OFFICE&quot;</td><td>false</td><td>null</td><td>0</td><td>&quot;/imovel/venda-conjunto-comerci…</td></tr><tr><td>null</td><td>[35]</td><td>[1]</td><td>&quot;UNIT&quot;</td><td>&quot;STANDARD&quot;</td><td>[&quot;COMMERCIAL&quot;]</td><td>&quot;2570524388&quot;</td><td>[0]</td><td>[{&quot;RENTAL&quot;,331,1350,739,{&quot;MONTHLY&quot;,[],2089}}, {&quot;SALE&quot;,331,265000,739,null}]</td><td>0</td><td>[]</td><td>[35]</td><td>&quot;REAL_ESTATE&quot;</td><td>{&quot;Porto Alegre&quot;,&quot;Cidade Baixa&quot;,&quot;Avenida Loureiro da Silva&quot;,&quot;2001&quot;,{&quot;GOOGLE&quot;,null,null,null,-30.035203,-51.221879},&quot;RS&quot;}</td><td>[]</td><td>&quot;USED&quot;</td><td>[2]</td><td>0</td><td>&quot;ALL&quot;</td><td>0</td><td>&quot;OFFICE&quot;</td><td>false</td><td>null</td><td>0</td><td>&quot;/imovel/venda-conjunto-comerci…</td></tr><tr><td>22</td><td>[65]</td><td>[2]</td><td>&quot;UNIT&quot;</td><td>&quot;STANDARD&quot;</td><td>[&quot;COMMERCIAL&quot;]</td><td>&quot;2743763450&quot;</td><td>[0]</td><td>[{&quot;RENTAL&quot;,150,1100,160,{&quot;MONTHLY&quot;,[],1260}}, {&quot;SALE&quot;,150,275000,160,null}]</td><td>0</td><td>[&quot;ELEVATOR&quot;]</td><td>[52]</td><td>&quot;REAL_ESTATE&quot;</td><td>{&quot;Porto Alegre&quot;,&quot;Centro Histórico&quot;,&quot;Avenida Senador Salgado Filho&quot;,null,{&quot;GOOGLE&quot;,-30.031,-51.224,140,null,null},&quot;RS&quot;}</td><td>[]</td><td>&quot;USED&quot;</td><td>[1]</td><td>0</td><td>&quot;STREET&quot;</td><td>0</td><td>&quot;OFFICE&quot;</td><td>false</td><td>null</td><td>0</td><td>&quot;/imovel/venda-conjunto-comerci…</td></tr></tbody></table></div>"
      ],
      "text/plain": [
       "shape: (3, 25)\n",
       "┌────────┬────────────┬───────────┬────────────┬───┬────────┬────────────┬────────────┬────────────┐\n",
       "│ floors ┆ totalAreas ┆ bathrooms ┆ propertyTy ┆ … ┆ resale ┆ capacityLi ┆ unitsOnThe ┆ link_href  │\n",
       "│ ---    ┆ ---        ┆ ---       ┆ pe         ┆   ┆ ---    ┆ mit        ┆ Floor      ┆ ---        │\n",
       "│ i64    ┆ list[i64]  ┆ list[i64] ┆ ---        ┆   ┆ bool   ┆ ---        ┆ ---        ┆ str        │\n",
       "│        ┆            ┆           ┆ str        ┆   ┆        ┆ null       ┆ i64        ┆            │\n",
       "╞════════╪════════════╪═══════════╪════════════╪═══╪════════╪════════════╪════════════╪════════════╡\n",
       "│ null   ┆ [42]       ┆ [1]       ┆ UNIT       ┆ … ┆ false  ┆ null       ┆ 0          ┆ /imovel/ve │\n",
       "│        ┆            ┆           ┆            ┆   ┆        ┆            ┆            ┆ nda-conjun │\n",
       "│        ┆            ┆           ┆            ┆   ┆        ┆            ┆            ┆ to-comerci │\n",
       "│        ┆            ┆           ┆            ┆   ┆        ┆            ┆            ┆ …          │\n",
       "│ null   ┆ [35]       ┆ [1]       ┆ UNIT       ┆ … ┆ false  ┆ null       ┆ 0          ┆ /imovel/ve │\n",
       "│        ┆            ┆           ┆            ┆   ┆        ┆            ┆            ┆ nda-conjun │\n",
       "│        ┆            ┆           ┆            ┆   ┆        ┆            ┆            ┆ to-comerci │\n",
       "│        ┆            ┆           ┆            ┆   ┆        ┆            ┆            ┆ …          │\n",
       "│ 22     ┆ [65]       ┆ [2]       ┆ UNIT       ┆ … ┆ false  ┆ null       ┆ 0          ┆ /imovel/ve │\n",
       "│        ┆            ┆           ┆            ┆   ┆        ┆            ┆            ┆ nda-conjun │\n",
       "│        ┆            ┆           ┆            ┆   ┆        ┆            ┆            ┆ to-comerci │\n",
       "│        ┆            ┆           ┆            ┆   ┆        ┆            ┆            ┆ …          │\n",
       "└────────┴────────────┴───────────┴────────────┴───┴────────┴────────────┴────────────┴────────────┘"
      ]
     },
     "execution_count": 15,
     "metadata": {},
     "output_type": "execute_result"
    }
   ],
   "source": [
    "listings_df_map[\"centro_historico\"].filter(\n",
    "    pl.col(\"pricingInfos\").list.len() > 1\n",
    ").head(3)"
   ]
  },
  {
   "cell_type": "code",
   "execution_count": 16,
   "metadata": {},
   "outputs": [
    {
     "data": {
      "text/html": [
       "<div><style>\n",
       ".dataframe > thead > tr,\n",
       ".dataframe > tbody > tr {\n",
       "  text-align: right;\n",
       "  white-space: pre-wrap;\n",
       "}\n",
       "</style>\n",
       "<small>shape: (2, 1)</small><table border=\"1\" class=\"dataframe\"><thead><tr><th>businessType</th></tr><tr><td>str</td></tr></thead><tbody><tr><td>&quot;SALE&quot;</td></tr><tr><td>&quot;RENTAL&quot;</td></tr></tbody></table></div>"
      ],
      "text/plain": [
       "shape: (2, 1)\n",
       "┌──────────────┐\n",
       "│ businessType │\n",
       "│ ---          │\n",
       "│ str          │\n",
       "╞══════════════╡\n",
       "│ SALE         │\n",
       "│ RENTAL       │\n",
       "└──────────────┘"
      ]
     },
     "execution_count": 16,
     "metadata": {},
     "output_type": "execute_result"
    }
   ],
   "source": [
    "listings_df_map[\"centro_historico\"].select(\n",
    "    pl.col(\"pricingInfos\").explode().struct.field(\"businessType\").unique()\n",
    ")"
   ]
  },
  {
   "cell_type": "markdown",
   "metadata": {},
   "source": [
    "Quando ocorre multiplicidade, é porque o imóvel pode ser comprado ou alugado.\n",
    "Para nossos propósitos, nos interessamos tão somente em propriedades à venda, e apenas no valor de compra.\n",
    "Desta forma, podemos descartar todas as outras informações e imóveis que não estão disponíveis para compra."
   ]
  },
  {
   "cell_type": "code",
   "execution_count": 17,
   "metadata": {},
   "outputs": [],
   "source": [
    "for name, df in listings_df_map.items():\n",
    "    listings_df_map[name] = (\n",
    "        df.explode(pl.col(\"pricingInfos\"))\n",
    "        .unnest(\"pricingInfos\")\n",
    "        .filter(pl.col(\"businessType\") != \"RENTAL\")\n",
    "    )"
   ]
  },
  {
   "cell_type": "markdown",
   "metadata": {},
   "source": [
    "Lembrando que os dados dos bairros diferem em `rentalInfo`, ausente no bairro Sarandi.\n",
    "Podemos descartar esta informação, mantendo apenas o preço do imóvel."
   ]
  },
  {
   "cell_type": "code",
   "execution_count": 18,
   "metadata": {},
   "outputs": [],
   "source": [
    "for name,df in listings_df_map.items():\n",
    "    if name != \"sarandi\":\n",
    "        listings_df_map[name] = listings_df_map[name].drop(\"rentalInfo\")"
   ]
  },
  {
   "cell_type": "markdown",
   "metadata": {},
   "source": [
    "E como os esquemas dos dados diferiam apenas em `rentalInfo`,\n",
    "agora podemos concatenar os dados em um único DataFrame para facilitar nossa análise."
   ]
  },
  {
   "cell_type": "code",
   "execution_count": 19,
   "metadata": {},
   "outputs": [],
   "source": [
    "df = pl.concat(listings_df_map.values())"
   ]
  },
  {
   "cell_type": "code",
   "execution_count": 20,
   "metadata": {},
   "outputs": [
    {
     "data": {
      "text/html": [
       "<div><style>\n",
       ".dataframe > thead > tr,\n",
       ".dataframe > tbody > tr {\n",
       "  text-align: right;\n",
       "  white-space: pre-wrap;\n",
       "}\n",
       "</style>\n",
       "<small>shape: (3, 28)</small><table border=\"1\" class=\"dataframe\"><thead><tr><th>floors</th><th>totalAreas</th><th>bathrooms</th><th>propertyType</th><th>publicationType</th><th>usageTypes</th><th>id</th><th>bedrooms</th><th>businessType</th><th>yearlyIptu</th><th>price</th><th>monthlyCondoFee</th><th>buildings</th><th>amenities</th><th>usableAreas</th><th>contractType</th><th>address</th><th>unitSubTypes</th><th>listingType</th><th>parkingSpaces</th><th>suites</th><th>displayAddressType</th><th>unitFloor</th><th>unitTypes</th><th>resale</th><th>capacityLimit</th><th>unitsOnTheFloor</th><th>link_href</th></tr><tr><td>i64</td><td>list[i64]</td><td>list[i64]</td><td>str</td><td>str</td><td>list[str]</td><td>str</td><td>list[i64]</td><td>str</td><td>i64</td><td>i64</td><td>i64</td><td>i64</td><td>list[str]</td><td>list[i64]</td><td>str</td><td>struct[6]</td><td>list[str]</td><td>str</td><td>list[i64]</td><td>i64</td><td>str</td><td>i64</td><td>str</td><td>bool</td><td>i64</td><td>i64</td><td>str</td></tr></thead><tbody><tr><td>8</td><td>[48]</td><td>[1]</td><td>&quot;UNIT&quot;</td><td>&quot;PREMIUM&quot;</td><td>[&quot;RESIDENTIAL&quot;]</td><td>&quot;2463567709&quot;</td><td>[1]</td><td>&quot;SALE&quot;</td><td>600</td><td>290000</td><td>300</td><td>0</td><td>[&quot;DISABLED_ACCESS&quot;, &quot;INTEGRATED_ENVIRONMENTS&quot;, … &quot;PARTY_HALL&quot;]</td><td>[46]</td><td>&quot;OWNER&quot;</td><td>{&quot;Porto Alegre&quot;,&quot;Cidade Baixa&quot;,&quot;Rua Joaquim Nabuco&quot;,null,{&quot;GOOGLE&quot;,-30.041,-51.219,140,null,null},&quot;RS&quot;}</td><td>[]</td><td>&quot;USED&quot;</td><td>[]</td><td>null</td><td>&quot;STREET&quot;</td><td>0</td><td>&quot;APARTMENT&quot;</td><td>false</td><td>0</td><td>4</td><td>&quot;/imovel/venda-apartamento-1-qu…</td></tr><tr><td>null</td><td>[66]</td><td>[1]</td><td>&quot;UNIT&quot;</td><td>&quot;PREMIUM&quot;</td><td>[&quot;RESIDENTIAL&quot;]</td><td>&quot;2760694515&quot;</td><td>[2]</td><td>&quot;SALE&quot;</td><td>0</td><td>275000</td><td>290</td><td>0</td><td>[]</td><td>[56]</td><td>&quot;REAL_ESTATE&quot;</td><td>{&quot;Porto Alegre&quot;,&quot;Cidade Baixa&quot;,&quot;Rua José do Patrocínio&quot;,&quot;357&quot;,{&quot;GOOGLE&quot;,null,null,null,-30.038562,-51.224749},&quot;RS&quot;}</td><td>[]</td><td>&quot;USED&quot;</td><td>[]</td><td>0</td><td>&quot;ALL&quot;</td><td>0</td><td>&quot;APARTMENT&quot;</td><td>false</td><td>null</td><td>0</td><td>&quot;/imovel/venda-apartamento-2-qu…</td></tr><tr><td>null</td><td>[56]</td><td>[1]</td><td>&quot;UNIT&quot;</td><td>&quot;STANDARD&quot;</td><td>[&quot;RESIDENTIAL&quot;]</td><td>&quot;2765177708&quot;</td><td>[1]</td><td>&quot;SALE&quot;</td><td>335</td><td>175000</td><td>530</td><td>0</td><td>[&quot;PETS_ALLOWED&quot;, &quot;FURNISHED&quot;]</td><td>[42]</td><td>&quot;REAL_ESTATE&quot;</td><td>{&quot;Porto Alegre&quot;,&quot;Centro Histórico&quot;,&quot;Avenida João Pessoa&quot;,&quot;371&quot;,{&quot;GOOGLE&quot;,null,null,null,-30.035694,-51.221204},&quot;RS&quot;}</td><td>[]</td><td>&quot;USED&quot;</td><td>[]</td><td>null</td><td>&quot;ALL&quot;</td><td>3</td><td>&quot;APARTMENT&quot;</td><td>false</td><td>null</td><td>0</td><td>&quot;/imovel/venda-apartamento-1-qu…</td></tr></tbody></table></div>"
      ],
      "text/plain": [
       "shape: (3, 28)\n",
       "┌────────┬────────────┬───────────┬────────────┬───┬────────┬────────────┬────────────┬────────────┐\n",
       "│ floors ┆ totalAreas ┆ bathrooms ┆ propertyTy ┆ … ┆ resale ┆ capacityLi ┆ unitsOnThe ┆ link_href  │\n",
       "│ ---    ┆ ---        ┆ ---       ┆ pe         ┆   ┆ ---    ┆ mit        ┆ Floor      ┆ ---        │\n",
       "│ i64    ┆ list[i64]  ┆ list[i64] ┆ ---        ┆   ┆ bool   ┆ ---        ┆ ---        ┆ str        │\n",
       "│        ┆            ┆           ┆ str        ┆   ┆        ┆ i64        ┆ i64        ┆            │\n",
       "╞════════╪════════════╪═══════════╪════════════╪═══╪════════╪════════════╪════════════╪════════════╡\n",
       "│ 8      ┆ [48]       ┆ [1]       ┆ UNIT       ┆ … ┆ false  ┆ 0          ┆ 4          ┆ /imovel/ve │\n",
       "│        ┆            ┆           ┆            ┆   ┆        ┆            ┆            ┆ nda-aparta │\n",
       "│        ┆            ┆           ┆            ┆   ┆        ┆            ┆            ┆ mento-1-qu │\n",
       "│        ┆            ┆           ┆            ┆   ┆        ┆            ┆            ┆ …          │\n",
       "│ null   ┆ [66]       ┆ [1]       ┆ UNIT       ┆ … ┆ false  ┆ null       ┆ 0          ┆ /imovel/ve │\n",
       "│        ┆            ┆           ┆            ┆   ┆        ┆            ┆            ┆ nda-aparta │\n",
       "│        ┆            ┆           ┆            ┆   ┆        ┆            ┆            ┆ mento-2-qu │\n",
       "│        ┆            ┆           ┆            ┆   ┆        ┆            ┆            ┆ …          │\n",
       "│ null   ┆ [56]       ┆ [1]       ┆ UNIT       ┆ … ┆ false  ┆ null       ┆ 0          ┆ /imovel/ve │\n",
       "│        ┆            ┆           ┆            ┆   ┆        ┆            ┆            ┆ nda-aparta │\n",
       "│        ┆            ┆           ┆            ┆   ┆        ┆            ┆            ┆ mento-1-qu │\n",
       "│        ┆            ┆           ┆            ┆   ┆        ┆            ┆            ┆ …          │\n",
       "└────────┴────────────┴───────────┴────────────┴───┴────────┴────────────┴────────────┴────────────┘"
      ]
     },
     "execution_count": 20,
     "metadata": {},
     "output_type": "execute_result"
    }
   ],
   "source": [
    "df.head(3)"
   ]
  },
  {
   "cell_type": "code",
   "execution_count": 21,
   "metadata": {},
   "outputs": [],
   "source": [
    "df = df.drop(\"businessType\", \"monthlyCondoFee\", \"yearlyIptu\")"
   ]
  },
  {
   "cell_type": "markdown",
   "metadata": {},
   "source": [
    "A seguir, buscamos entender `unitSubTypes`."
   ]
  },
  {
   "cell_type": "code",
   "execution_count": 22,
   "metadata": {},
   "outputs": [
    {
     "data": {
      "text/html": [
       "<div><style>\n",
       ".dataframe > thead > tr,\n",
       ".dataframe > tbody > tr {\n",
       "  text-align: right;\n",
       "  white-space: pre-wrap;\n",
       "}\n",
       "</style>\n",
       "<small>shape: (3, 25)</small><table border=\"1\" class=\"dataframe\"><thead><tr><th>floors</th><th>totalAreas</th><th>bathrooms</th><th>propertyType</th><th>publicationType</th><th>usageTypes</th><th>id</th><th>bedrooms</th><th>price</th><th>buildings</th><th>amenities</th><th>usableAreas</th><th>contractType</th><th>address</th><th>unitSubTypes</th><th>listingType</th><th>parkingSpaces</th><th>suites</th><th>displayAddressType</th><th>unitFloor</th><th>unitTypes</th><th>resale</th><th>capacityLimit</th><th>unitsOnTheFloor</th><th>link_href</th></tr><tr><td>i64</td><td>list[i64]</td><td>list[i64]</td><td>str</td><td>str</td><td>list[str]</td><td>str</td><td>list[i64]</td><td>i64</td><td>i64</td><td>list[str]</td><td>list[i64]</td><td>str</td><td>struct[6]</td><td>list[str]</td><td>str</td><td>list[i64]</td><td>i64</td><td>str</td><td>i64</td><td>str</td><td>bool</td><td>i64</td><td>i64</td><td>str</td></tr></thead><tbody><tr><td>4</td><td>[114, 115]</td><td>[1]</td><td>&quot;UNIT&quot;</td><td>&quot;PREMIUM&quot;</td><td>[&quot;RESIDENTIAL&quot;]</td><td>&quot;2636785204&quot;</td><td>[1]</td><td>429000</td><td>1</td><td>[&quot;GARDEN&quot;, &quot;NEAR_SCHOOL&quot;, … &quot;BATHROOM_CABINETS&quot;]</td><td>[100, 101]</td><td>&quot;REAL_ESTATE&quot;</td><td>{&quot;Porto Alegre&quot;,&quot;Centro Histórico&quot;,&quot;Rua Sarmento Leite&quot;,&quot;951&quot;,{&quot;GOOGLE&quot;,null,null,null,-30.037074,-51.223901},&quot;RS&quot;}</td><td>[&quot;PENTHOUSE&quot;, &quot;DUPLEX&quot;]</td><td>&quot;USED&quot;</td><td>[1]</td><td>0</td><td>&quot;ALL&quot;</td><td>3</td><td>&quot;APARTMENT&quot;</td><td>false</td><td>null</td><td>1</td><td>&quot;/imovel/venda-cobertura-1-quar…</td></tr><tr><td>9</td><td>[252]</td><td>[3]</td><td>&quot;UNIT&quot;</td><td>&quot;STANDARD&quot;</td><td>[&quot;RESIDENTIAL&quot;]</td><td>&quot;2651401754&quot;</td><td>[3]</td><td>990000</td><td>0</td><td>[&quot;SECURITY_CAMERA&quot;, &quot;BARBECUE_GRILL&quot;, … &quot;FIREPLACE&quot;]</td><td>[192]</td><td>&quot;REAL_ESTATE&quot;</td><td>{&quot;Porto Alegre&quot;,&quot;Centro Histórico&quot;,&quot;Rua Avaí&quot;,null,{&quot;GOOGLE&quot;,-30.034,-51.222,140,null,null},&quot;RS&quot;}</td><td>[&quot;PENTHOUSE&quot;, &quot;DUPLEX&quot;]</td><td>&quot;USED&quot;</td><td>[1]</td><td>1</td><td>&quot;STREET&quot;</td><td>7</td><td>&quot;APARTMENT&quot;</td><td>false</td><td>null</td><td>4</td><td>&quot;/imovel/venda-cobertura-3-quar…</td></tr><tr><td>6</td><td>[57]</td><td>[2]</td><td>&quot;UNIT&quot;</td><td>&quot;STANDARD&quot;</td><td>[&quot;RESIDENTIAL&quot;]</td><td>&quot;2751040007&quot;</td><td>[1]</td><td>580000</td><td>1</td><td>[&quot;SECURITY_CAMERA&quot;, &quot;SAFETY_CIRCUIT&quot;, … &quot;AMERICAN_KITCHEN&quot;]</td><td>[57]</td><td>&quot;REAL_ESTATE&quot;</td><td>{&quot;Porto Alegre&quot;,&quot;Azenha&quot;,&quot;Avenida Venâncio Aires&quot;,&quot;29&quot;,{&quot;GOOGLE&quot;,null,null,null,-30.043109,-51.219469},&quot;RS&quot;}</td><td>[&quot;LOFT&quot;, &quot;DUPLEX&quot;]</td><td>&quot;USED&quot;</td><td>[1]</td><td>1</td><td>&quot;ALL&quot;</td><td>6</td><td>&quot;APARTMENT&quot;</td><td>false</td><td>null</td><td>8</td><td>&quot;/imovel/venda-loft-1-quarto-co…</td></tr></tbody></table></div>"
      ],
      "text/plain": [
       "shape: (3, 25)\n",
       "┌────────┬────────────┬───────────┬────────────┬───┬────────┬────────────┬────────────┬────────────┐\n",
       "│ floors ┆ totalAreas ┆ bathrooms ┆ propertyTy ┆ … ┆ resale ┆ capacityLi ┆ unitsOnThe ┆ link_href  │\n",
       "│ ---    ┆ ---        ┆ ---       ┆ pe         ┆   ┆ ---    ┆ mit        ┆ Floor      ┆ ---        │\n",
       "│ i64    ┆ list[i64]  ┆ list[i64] ┆ ---        ┆   ┆ bool   ┆ ---        ┆ ---        ┆ str        │\n",
       "│        ┆            ┆           ┆ str        ┆   ┆        ┆ i64        ┆ i64        ┆            │\n",
       "╞════════╪════════════╪═══════════╪════════════╪═══╪════════╪════════════╪════════════╪════════════╡\n",
       "│ 4      ┆ [114, 115] ┆ [1]       ┆ UNIT       ┆ … ┆ false  ┆ null       ┆ 1          ┆ /imovel/ve │\n",
       "│        ┆            ┆           ┆            ┆   ┆        ┆            ┆            ┆ nda-cobert │\n",
       "│        ┆            ┆           ┆            ┆   ┆        ┆            ┆            ┆ ura-1-quar │\n",
       "│        ┆            ┆           ┆            ┆   ┆        ┆            ┆            ┆ …          │\n",
       "│ 9      ┆ [252]      ┆ [3]       ┆ UNIT       ┆ … ┆ false  ┆ null       ┆ 4          ┆ /imovel/ve │\n",
       "│        ┆            ┆           ┆            ┆   ┆        ┆            ┆            ┆ nda-cobert │\n",
       "│        ┆            ┆           ┆            ┆   ┆        ┆            ┆            ┆ ura-3-quar │\n",
       "│        ┆            ┆           ┆            ┆   ┆        ┆            ┆            ┆ …          │\n",
       "│ 6      ┆ [57]       ┆ [2]       ┆ UNIT       ┆ … ┆ false  ┆ null       ┆ 8          ┆ /imovel/ve │\n",
       "│        ┆            ┆           ┆            ┆   ┆        ┆            ┆            ┆ nda-loft-1 │\n",
       "│        ┆            ┆           ┆            ┆   ┆        ┆            ┆            ┆ -quarto-co │\n",
       "│        ┆            ┆           ┆            ┆   ┆        ┆            ┆            ┆ …          │\n",
       "└────────┴────────────┴───────────┴────────────┴───┴────────┴────────────┴────────────┴────────────┘"
      ]
     },
     "execution_count": 22,
     "metadata": {},
     "output_type": "execute_result"
    }
   ],
   "source": [
    "df.filter(pl.col(\"unitSubTypes\").list.len() > 1).head(3)"
   ]
  },
  {
   "cell_type": "markdown",
   "metadata": {},
   "source": [
    "`unitSubTypes`, neste caso, define duas categorias que se aplicam ao imóvel."
   ]
  },
  {
   "cell_type": "markdown",
   "metadata": {},
   "source": [
    "Por outro lado, um imóvel pode não ter nenhum subtipo? E, se sim, isso é comum?"
   ]
  },
  {
   "cell_type": "code",
   "execution_count": 23,
   "metadata": {},
   "outputs": [
    {
     "data": {
      "text/plain": [
       "16561"
      ]
     },
     "execution_count": 23,
     "metadata": {},
     "output_type": "execute_result"
    }
   ],
   "source": [
    "df.filter(pl.col(\"unitSubTypes\").list.len() == 0).height"
   ]
  },
  {
   "cell_type": "markdown",
   "metadata": {},
   "source": [
    "De fato, esse é o mais comum dos casos. Se esse dado fosse presente para todos os registros,\n",
    "poderia ser um atributo interessante. Como não é o caso, o descartamos."
   ]
  },
  {
   "cell_type": "code",
   "execution_count": 24,
   "metadata": {},
   "outputs": [],
   "source": [
    "df = df.drop(\"unitSubTypes\")"
   ]
  },
  {
   "cell_type": "code",
   "execution_count": 25,
   "metadata": {},
   "outputs": [
    {
     "data": {
      "text/html": [
       "<div><style>\n",
       ".dataframe > thead > tr,\n",
       ".dataframe > tbody > tr {\n",
       "  text-align: right;\n",
       "  white-space: pre-wrap;\n",
       "}\n",
       "</style>\n",
       "<small>shape: (3, 24)</small><table border=\"1\" class=\"dataframe\"><thead><tr><th>floors</th><th>totalAreas</th><th>bathrooms</th><th>propertyType</th><th>publicationType</th><th>usageTypes</th><th>id</th><th>bedrooms</th><th>price</th><th>buildings</th><th>amenities</th><th>usableAreas</th><th>contractType</th><th>address</th><th>listingType</th><th>parkingSpaces</th><th>suites</th><th>displayAddressType</th><th>unitFloor</th><th>unitTypes</th><th>resale</th><th>capacityLimit</th><th>unitsOnTheFloor</th><th>link_href</th></tr><tr><td>i64</td><td>list[i64]</td><td>list[i64]</td><td>str</td><td>str</td><td>list[str]</td><td>str</td><td>list[i64]</td><td>i64</td><td>i64</td><td>list[str]</td><td>list[i64]</td><td>str</td><td>struct[6]</td><td>str</td><td>list[i64]</td><td>i64</td><td>str</td><td>i64</td><td>str</td><td>bool</td><td>i64</td><td>i64</td><td>str</td></tr></thead><tbody><tr><td>8</td><td>[48]</td><td>[1]</td><td>&quot;UNIT&quot;</td><td>&quot;PREMIUM&quot;</td><td>[&quot;RESIDENTIAL&quot;]</td><td>&quot;2463567709&quot;</td><td>[1]</td><td>290000</td><td>0</td><td>[&quot;DISABLED_ACCESS&quot;, &quot;INTEGRATED_ENVIRONMENTS&quot;, … &quot;PARTY_HALL&quot;]</td><td>[46]</td><td>&quot;OWNER&quot;</td><td>{&quot;Porto Alegre&quot;,&quot;Cidade Baixa&quot;,&quot;Rua Joaquim Nabuco&quot;,null,{&quot;GOOGLE&quot;,-30.041,-51.219,140,null,null},&quot;RS&quot;}</td><td>&quot;USED&quot;</td><td>[]</td><td>null</td><td>&quot;STREET&quot;</td><td>0</td><td>&quot;APARTMENT&quot;</td><td>false</td><td>0</td><td>4</td><td>&quot;/imovel/venda-apartamento-1-qu…</td></tr><tr><td>null</td><td>[66]</td><td>[1]</td><td>&quot;UNIT&quot;</td><td>&quot;PREMIUM&quot;</td><td>[&quot;RESIDENTIAL&quot;]</td><td>&quot;2760694515&quot;</td><td>[2]</td><td>275000</td><td>0</td><td>[]</td><td>[56]</td><td>&quot;REAL_ESTATE&quot;</td><td>{&quot;Porto Alegre&quot;,&quot;Cidade Baixa&quot;,&quot;Rua José do Patrocínio&quot;,&quot;357&quot;,{&quot;GOOGLE&quot;,null,null,null,-30.038562,-51.224749},&quot;RS&quot;}</td><td>&quot;USED&quot;</td><td>[]</td><td>0</td><td>&quot;ALL&quot;</td><td>0</td><td>&quot;APARTMENT&quot;</td><td>false</td><td>null</td><td>0</td><td>&quot;/imovel/venda-apartamento-2-qu…</td></tr><tr><td>null</td><td>[56]</td><td>[1]</td><td>&quot;UNIT&quot;</td><td>&quot;STANDARD&quot;</td><td>[&quot;RESIDENTIAL&quot;]</td><td>&quot;2765177708&quot;</td><td>[1]</td><td>175000</td><td>0</td><td>[&quot;PETS_ALLOWED&quot;, &quot;FURNISHED&quot;]</td><td>[42]</td><td>&quot;REAL_ESTATE&quot;</td><td>{&quot;Porto Alegre&quot;,&quot;Centro Histórico&quot;,&quot;Avenida João Pessoa&quot;,&quot;371&quot;,{&quot;GOOGLE&quot;,null,null,null,-30.035694,-51.221204},&quot;RS&quot;}</td><td>&quot;USED&quot;</td><td>[]</td><td>null</td><td>&quot;ALL&quot;</td><td>3</td><td>&quot;APARTMENT&quot;</td><td>false</td><td>null</td><td>0</td><td>&quot;/imovel/venda-apartamento-1-qu…</td></tr></tbody></table></div>"
      ],
      "text/plain": [
       "shape: (3, 24)\n",
       "┌────────┬────────────┬───────────┬────────────┬───┬────────┬────────────┬────────────┬────────────┐\n",
       "│ floors ┆ totalAreas ┆ bathrooms ┆ propertyTy ┆ … ┆ resale ┆ capacityLi ┆ unitsOnThe ┆ link_href  │\n",
       "│ ---    ┆ ---        ┆ ---       ┆ pe         ┆   ┆ ---    ┆ mit        ┆ Floor      ┆ ---        │\n",
       "│ i64    ┆ list[i64]  ┆ list[i64] ┆ ---        ┆   ┆ bool   ┆ ---        ┆ ---        ┆ str        │\n",
       "│        ┆            ┆           ┆ str        ┆   ┆        ┆ i64        ┆ i64        ┆            │\n",
       "╞════════╪════════════╪═══════════╪════════════╪═══╪════════╪════════════╪════════════╪════════════╡\n",
       "│ 8      ┆ [48]       ┆ [1]       ┆ UNIT       ┆ … ┆ false  ┆ 0          ┆ 4          ┆ /imovel/ve │\n",
       "│        ┆            ┆           ┆            ┆   ┆        ┆            ┆            ┆ nda-aparta │\n",
       "│        ┆            ┆           ┆            ┆   ┆        ┆            ┆            ┆ mento-1-qu │\n",
       "│        ┆            ┆           ┆            ┆   ┆        ┆            ┆            ┆ …          │\n",
       "│ null   ┆ [66]       ┆ [1]       ┆ UNIT       ┆ … ┆ false  ┆ null       ┆ 0          ┆ /imovel/ve │\n",
       "│        ┆            ┆           ┆            ┆   ┆        ┆            ┆            ┆ nda-aparta │\n",
       "│        ┆            ┆           ┆            ┆   ┆        ┆            ┆            ┆ mento-2-qu │\n",
       "│        ┆            ┆           ┆            ┆   ┆        ┆            ┆            ┆ …          │\n",
       "│ null   ┆ [56]       ┆ [1]       ┆ UNIT       ┆ … ┆ false  ┆ null       ┆ 0          ┆ /imovel/ve │\n",
       "│        ┆            ┆           ┆            ┆   ┆        ┆            ┆            ┆ nda-aparta │\n",
       "│        ┆            ┆           ┆            ┆   ┆        ┆            ┆            ┆ mento-1-qu │\n",
       "│        ┆            ┆           ┆            ┆   ┆        ┆            ┆            ┆ …          │\n",
       "└────────┴────────────┴───────────┴────────────┴───┴────────┴────────────┴────────────┴────────────┘"
      ]
     },
     "execution_count": 25,
     "metadata": {},
     "output_type": "execute_result"
    }
   ],
   "source": [
    "df.head(3)"
   ]
  },
  {
   "cell_type": "code",
   "execution_count": 26,
   "metadata": {},
   "outputs": [
    {
     "data": {
      "text/html": [
       "<div><style>\n",
       ".dataframe > thead > tr,\n",
       ".dataframe > tbody > tr {\n",
       "  text-align: right;\n",
       "  white-space: pre-wrap;\n",
       "}\n",
       "</style>\n",
       "<small>shape: (5, 24)</small><table border=\"1\" class=\"dataframe\"><thead><tr><th>floors</th><th>totalAreas</th><th>bathrooms</th><th>propertyType</th><th>publicationType</th><th>usageTypes</th><th>id</th><th>bedrooms</th><th>price</th><th>buildings</th><th>amenities</th><th>usableAreas</th><th>contractType</th><th>address</th><th>listingType</th><th>parkingSpaces</th><th>suites</th><th>displayAddressType</th><th>unitFloor</th><th>unitTypes</th><th>resale</th><th>capacityLimit</th><th>unitsOnTheFloor</th><th>link_href</th></tr><tr><td>i64</td><td>list[i64]</td><td>list[i64]</td><td>str</td><td>str</td><td>list[str]</td><td>str</td><td>list[i64]</td><td>i64</td><td>i64</td><td>list[str]</td><td>list[i64]</td><td>str</td><td>struct[6]</td><td>str</td><td>list[i64]</td><td>i64</td><td>str</td><td>i64</td><td>str</td><td>bool</td><td>i64</td><td>i64</td><td>str</td></tr></thead><tbody><tr><td>10</td><td>[98, 128]</td><td>[1, 3]</td><td>&quot;UNIT&quot;</td><td>&quot;PREMIUM&quot;</td><td>[&quot;RESIDENTIAL&quot;]</td><td>&quot;2711554807&quot;</td><td>[2, 3]</td><td>530000</td><td>1</td><td>[&quot;GARDEN&quot;, &quot;BEDROOM_WARDROBE&quot;, … &quot;CABLE_TV&quot;]</td><td>[97, 99]</td><td>&quot;REAL_ESTATE&quot;</td><td>{&quot;Porto Alegre&quot;,&quot;Cidade Baixa&quot;,&quot;Rua Luiz Afonso&quot;,&quot;158&quot;,{&quot;GOOGLE&quot;,null,null,null,-30.038824,-51.220484},&quot;RS&quot;}</td><td>&quot;USED&quot;</td><td>[1]</td><td>1</td><td>&quot;ALL&quot;</td><td>7</td><td>&quot;APARTMENT&quot;</td><td>false</td><td>null</td><td>4</td><td>&quot;/imovel/venda-apartamento-3-qu…</td></tr><tr><td>null</td><td>[95]</td><td>[1]</td><td>&quot;UNIT&quot;</td><td>&quot;STANDARD&quot;</td><td>[&quot;COMMERCIAL&quot;]</td><td>&quot;2670004814&quot;</td><td>[0, 2]</td><td>220000</td><td>0</td><td>[&quot;GARAGE&quot;, &quot;AIR_CONDITIONING&quot;, … &quot;INTERNET_ACCESS&quot;]</td><td>[37]</td><td>&quot;REAL_ESTATE&quot;</td><td>{&quot;Porto Alegre&quot;,&quot;Cidade Baixa&quot;,&quot;Avenida Loureiro da Silva&quot;,&quot;2001&quot;,{&quot;GOOGLE&quot;,null,null,null,-30.035203,-51.221879},&quot;RS&quot;}</td><td>&quot;USED&quot;</td><td>[2]</td><td>null</td><td>&quot;ALL&quot;</td><td>8</td><td>&quot;OFFICE&quot;</td><td>false</td><td>null</td><td>0</td><td>&quot;/imovel/venda-conjunto-comerci…</td></tr><tr><td>null</td><td>[67, 125]</td><td>[1, 3]</td><td>&quot;UNIT&quot;</td><td>&quot;STANDARD&quot;</td><td>[&quot;RESIDENTIAL&quot;]</td><td>&quot;2734713180&quot;</td><td>[2, 3]</td><td>469000</td><td>0</td><td>[&quot;GARAGE&quot;]</td><td>[73, 106]</td><td>&quot;REAL_ESTATE&quot;</td><td>{&quot;Porto Alegre&quot;,&quot;Azenha&quot;,&quot;Rua Lobo da Costa&quot;,&quot;279&quot;,{&quot;GOOGLE&quot;,null,null,null,-30.04323,-51.215839},&quot;RS&quot;}</td><td>&quot;USED&quot;</td><td>[0, 1]</td><td>1</td><td>&quot;ALL&quot;</td><td>0</td><td>&quot;APARTMENT&quot;</td><td>false</td><td>null</td><td>0</td><td>&quot;/imovel/venda-apartamento-3-qu…</td></tr><tr><td>null</td><td>[440, 610]</td><td>[4, 5]</td><td>&quot;UNIT&quot;</td><td>&quot;PREMIUM&quot;</td><td>[&quot;RESIDENTIAL&quot;]</td><td>&quot;2762298733&quot;</td><td>[3, 4]</td><td>990000</td><td>0</td><td>[&quot;GARAGE&quot;]</td><td>[439, 441]</td><td>&quot;REAL_ESTATE&quot;</td><td>{&quot;Porto Alegre&quot;,&quot;Azenha&quot;,&quot;Rua Doutor Sebastião Leão&quot;,&quot;233&quot;,{&quot;GOOGLE&quot;,null,null,null,-30.044312,-51.215602},&quot;RS&quot;}</td><td>&quot;USED&quot;</td><td>[2]</td><td>2</td><td>&quot;ALL&quot;</td><td>0</td><td>&quot;HOME&quot;</td><td>false</td><td>null</td><td>0</td><td>&quot;/imovel/venda-casa-4-quartos-a…</td></tr><tr><td>9</td><td>[43]</td><td>[1]</td><td>&quot;UNIT&quot;</td><td>&quot;STANDARD&quot;</td><td>[&quot;RESIDENTIAL&quot;]</td><td>&quot;2745508198&quot;</td><td>[0, 1]</td><td>162450</td><td>0</td><td>[&quot;PARTY_HALL&quot;, &quot;INTERCOM&quot;]</td><td>[31]</td><td>&quot;REAL_ESTATE&quot;</td><td>{&quot;Porto Alegre&quot;,&quot;Cidade Baixa&quot;,&quot;Rua João Alfredo&quot;,&quot;312&quot;,{&quot;GOOGLE&quot;,null,null,null,-30.039851,-51.226294},&quot;RS&quot;}</td><td>&quot;USED&quot;</td><td>[0]</td><td>0</td><td>&quot;ALL&quot;</td><td>0</td><td>&quot;APARTMENT&quot;</td><td>false</td><td>null</td><td>0</td><td>&quot;/imovel/venda-quitinete-1-quar…</td></tr></tbody></table></div>"
      ],
      "text/plain": [
       "shape: (5, 24)\n",
       "┌────────┬────────────┬───────────┬────────────┬───┬────────┬────────────┬────────────┬────────────┐\n",
       "│ floors ┆ totalAreas ┆ bathrooms ┆ propertyTy ┆ … ┆ resale ┆ capacityLi ┆ unitsOnThe ┆ link_href  │\n",
       "│ ---    ┆ ---        ┆ ---       ┆ pe         ┆   ┆ ---    ┆ mit        ┆ Floor      ┆ ---        │\n",
       "│ i64    ┆ list[i64]  ┆ list[i64] ┆ ---        ┆   ┆ bool   ┆ ---        ┆ ---        ┆ str        │\n",
       "│        ┆            ┆           ┆ str        ┆   ┆        ┆ i64        ┆ i64        ┆            │\n",
       "╞════════╪════════════╪═══════════╪════════════╪═══╪════════╪════════════╪════════════╪════════════╡\n",
       "│ 10     ┆ [98, 128]  ┆ [1, 3]    ┆ UNIT       ┆ … ┆ false  ┆ null       ┆ 4          ┆ /imovel/ve │\n",
       "│        ┆            ┆           ┆            ┆   ┆        ┆            ┆            ┆ nda-aparta │\n",
       "│        ┆            ┆           ┆            ┆   ┆        ┆            ┆            ┆ mento-3-qu │\n",
       "│        ┆            ┆           ┆            ┆   ┆        ┆            ┆            ┆ …          │\n",
       "│ null   ┆ [95]       ┆ [1]       ┆ UNIT       ┆ … ┆ false  ┆ null       ┆ 0          ┆ /imovel/ve │\n",
       "│        ┆            ┆           ┆            ┆   ┆        ┆            ┆            ┆ nda-conjun │\n",
       "│        ┆            ┆           ┆            ┆   ┆        ┆            ┆            ┆ to-comerci │\n",
       "│        ┆            ┆           ┆            ┆   ┆        ┆            ┆            ┆ …          │\n",
       "│ null   ┆ [67, 125]  ┆ [1, 3]    ┆ UNIT       ┆ … ┆ false  ┆ null       ┆ 0          ┆ /imovel/ve │\n",
       "│        ┆            ┆           ┆            ┆   ┆        ┆            ┆            ┆ nda-aparta │\n",
       "│        ┆            ┆           ┆            ┆   ┆        ┆            ┆            ┆ mento-3-qu │\n",
       "│        ┆            ┆           ┆            ┆   ┆        ┆            ┆            ┆ …          │\n",
       "│ null   ┆ [440, 610] ┆ [4, 5]    ┆ UNIT       ┆ … ┆ false  ┆ null       ┆ 0          ┆ /imovel/ve │\n",
       "│        ┆            ┆           ┆            ┆   ┆        ┆            ┆            ┆ nda-casa-4 │\n",
       "│        ┆            ┆           ┆            ┆   ┆        ┆            ┆            ┆ -quartos-a │\n",
       "│        ┆            ┆           ┆            ┆   ┆        ┆            ┆            ┆ …          │\n",
       "│ 9      ┆ [43]       ┆ [1]       ┆ UNIT       ┆ … ┆ false  ┆ null       ┆ 0          ┆ /imovel/ve │\n",
       "│        ┆            ┆           ┆            ┆   ┆        ┆            ┆            ┆ nda-quitin │\n",
       "│        ┆            ┆           ┆            ┆   ┆        ┆            ┆            ┆ ete-1-quar │\n",
       "│        ┆            ┆           ┆            ┆   ┆        ┆            ┆            ┆ …          │\n",
       "└────────┴────────────┴───────────┴────────────┴───┴────────┴────────────┴────────────┴────────────┘"
      ]
     },
     "execution_count": 26,
     "metadata": {},
     "output_type": "execute_result"
    }
   ],
   "source": [
    "df.filter(pl.col(\"bedrooms\").list.len() > 1).head(5)"
   ]
  },
  {
   "cell_type": "markdown",
   "metadata": {},
   "source": [
    "### Localização geográfica dos imóveis\n",
    "\n",
    "Crucial para nossos esforços é ter a localização dos imóveis, para podermos cruzá-las\n",
    "com o mapa de inundação.\n",
    "\n",
    "Começamos expandindo então as informações de endereço dos imóveis, presentes na coluna\n",
    "`address`."
   ]
  },
  {
   "cell_type": "code",
   "execution_count": 27,
   "metadata": {},
   "outputs": [
    {
     "data": {
      "text/html": [
       "<div><style>\n",
       ".dataframe > thead > tr,\n",
       ".dataframe > tbody > tr {\n",
       "  text-align: right;\n",
       "  white-space: pre-wrap;\n",
       "}\n",
       "</style>\n",
       "<small>shape: (3, 29)</small><table border=\"1\" class=\"dataframe\"><thead><tr><th>floors</th><th>totalAreas</th><th>bathrooms</th><th>propertyType</th><th>publicationType</th><th>usageTypes</th><th>id</th><th>bedrooms</th><th>price</th><th>buildings</th><th>amenities</th><th>usableAreas</th><th>contractType</th><th>city</th><th>neighborhood</th><th>street</th><th>streetNumber</th><th>point</th><th>stateAcronym</th><th>listingType</th><th>parkingSpaces</th><th>suites</th><th>displayAddressType</th><th>unitFloor</th><th>unitTypes</th><th>resale</th><th>capacityLimit</th><th>unitsOnTheFloor</th><th>link_href</th></tr><tr><td>i64</td><td>list[i64]</td><td>list[i64]</td><td>str</td><td>str</td><td>list[str]</td><td>str</td><td>list[i64]</td><td>i64</td><td>i64</td><td>list[str]</td><td>list[i64]</td><td>str</td><td>str</td><td>str</td><td>str</td><td>str</td><td>struct[6]</td><td>str</td><td>str</td><td>list[i64]</td><td>i64</td><td>str</td><td>i64</td><td>str</td><td>bool</td><td>i64</td><td>i64</td><td>str</td></tr></thead><tbody><tr><td>8</td><td>[48]</td><td>[1]</td><td>&quot;UNIT&quot;</td><td>&quot;PREMIUM&quot;</td><td>[&quot;RESIDENTIAL&quot;]</td><td>&quot;2463567709&quot;</td><td>[1]</td><td>290000</td><td>0</td><td>[&quot;DISABLED_ACCESS&quot;, &quot;INTEGRATED_ENVIRONMENTS&quot;, … &quot;PARTY_HALL&quot;]</td><td>[46]</td><td>&quot;OWNER&quot;</td><td>&quot;Porto Alegre&quot;</td><td>&quot;Cidade Baixa&quot;</td><td>&quot;Rua Joaquim Nabuco&quot;</td><td>null</td><td>{&quot;GOOGLE&quot;,-30.041,-51.219,140,null,null}</td><td>&quot;RS&quot;</td><td>&quot;USED&quot;</td><td>[]</td><td>null</td><td>&quot;STREET&quot;</td><td>0</td><td>&quot;APARTMENT&quot;</td><td>false</td><td>0</td><td>4</td><td>&quot;/imovel/venda-apartamento-1-qu…</td></tr><tr><td>null</td><td>[66]</td><td>[1]</td><td>&quot;UNIT&quot;</td><td>&quot;PREMIUM&quot;</td><td>[&quot;RESIDENTIAL&quot;]</td><td>&quot;2760694515&quot;</td><td>[2]</td><td>275000</td><td>0</td><td>[]</td><td>[56]</td><td>&quot;REAL_ESTATE&quot;</td><td>&quot;Porto Alegre&quot;</td><td>&quot;Cidade Baixa&quot;</td><td>&quot;Rua José do Patrocínio&quot;</td><td>&quot;357&quot;</td><td>{&quot;GOOGLE&quot;,null,null,null,-30.038562,-51.224749}</td><td>&quot;RS&quot;</td><td>&quot;USED&quot;</td><td>[]</td><td>0</td><td>&quot;ALL&quot;</td><td>0</td><td>&quot;APARTMENT&quot;</td><td>false</td><td>null</td><td>0</td><td>&quot;/imovel/venda-apartamento-2-qu…</td></tr><tr><td>null</td><td>[56]</td><td>[1]</td><td>&quot;UNIT&quot;</td><td>&quot;STANDARD&quot;</td><td>[&quot;RESIDENTIAL&quot;]</td><td>&quot;2765177708&quot;</td><td>[1]</td><td>175000</td><td>0</td><td>[&quot;PETS_ALLOWED&quot;, &quot;FURNISHED&quot;]</td><td>[42]</td><td>&quot;REAL_ESTATE&quot;</td><td>&quot;Porto Alegre&quot;</td><td>&quot;Centro Histórico&quot;</td><td>&quot;Avenida João Pessoa&quot;</td><td>&quot;371&quot;</td><td>{&quot;GOOGLE&quot;,null,null,null,-30.035694,-51.221204}</td><td>&quot;RS&quot;</td><td>&quot;USED&quot;</td><td>[]</td><td>null</td><td>&quot;ALL&quot;</td><td>3</td><td>&quot;APARTMENT&quot;</td><td>false</td><td>null</td><td>0</td><td>&quot;/imovel/venda-apartamento-1-qu…</td></tr></tbody></table></div>"
      ],
      "text/plain": [
       "shape: (3, 29)\n",
       "┌────────┬────────────┬───────────┬────────────┬───┬────────┬────────────┬────────────┬────────────┐\n",
       "│ floors ┆ totalAreas ┆ bathrooms ┆ propertyTy ┆ … ┆ resale ┆ capacityLi ┆ unitsOnThe ┆ link_href  │\n",
       "│ ---    ┆ ---        ┆ ---       ┆ pe         ┆   ┆ ---    ┆ mit        ┆ Floor      ┆ ---        │\n",
       "│ i64    ┆ list[i64]  ┆ list[i64] ┆ ---        ┆   ┆ bool   ┆ ---        ┆ ---        ┆ str        │\n",
       "│        ┆            ┆           ┆ str        ┆   ┆        ┆ i64        ┆ i64        ┆            │\n",
       "╞════════╪════════════╪═══════════╪════════════╪═══╪════════╪════════════╪════════════╪════════════╡\n",
       "│ 8      ┆ [48]       ┆ [1]       ┆ UNIT       ┆ … ┆ false  ┆ 0          ┆ 4          ┆ /imovel/ve │\n",
       "│        ┆            ┆           ┆            ┆   ┆        ┆            ┆            ┆ nda-aparta │\n",
       "│        ┆            ┆           ┆            ┆   ┆        ┆            ┆            ┆ mento-1-qu │\n",
       "│        ┆            ┆           ┆            ┆   ┆        ┆            ┆            ┆ …          │\n",
       "│ null   ┆ [66]       ┆ [1]       ┆ UNIT       ┆ … ┆ false  ┆ null       ┆ 0          ┆ /imovel/ve │\n",
       "│        ┆            ┆           ┆            ┆   ┆        ┆            ┆            ┆ nda-aparta │\n",
       "│        ┆            ┆           ┆            ┆   ┆        ┆            ┆            ┆ mento-2-qu │\n",
       "│        ┆            ┆           ┆            ┆   ┆        ┆            ┆            ┆ …          │\n",
       "│ null   ┆ [56]       ┆ [1]       ┆ UNIT       ┆ … ┆ false  ┆ null       ┆ 0          ┆ /imovel/ve │\n",
       "│        ┆            ┆           ┆            ┆   ┆        ┆            ┆            ┆ nda-aparta │\n",
       "│        ┆            ┆           ┆            ┆   ┆        ┆            ┆            ┆ mento-1-qu │\n",
       "│        ┆            ┆           ┆            ┆   ┆        ┆            ┆            ┆ …          │\n",
       "└────────┴────────────┴───────────┴────────────┴───┴────────┴────────────┴────────────┴────────────┘"
      ]
     },
     "execution_count": 27,
     "metadata": {},
     "output_type": "execute_result"
    }
   ],
   "source": [
    "df = df.unnest(\"address\")\n",
    "df.head(3)"
   ]
  },
  {
   "cell_type": "code",
   "execution_count": 28,
   "metadata": {},
   "outputs": [
    {
     "data": {
      "text/html": [
       "<div><style>\n",
       ".dataframe > thead > tr,\n",
       ".dataframe > tbody > tr {\n",
       "  text-align: right;\n",
       "  white-space: pre-wrap;\n",
       "}\n",
       "</style>\n",
       "<small>shape: (3, 34)</small><table border=\"1\" class=\"dataframe\"><thead><tr><th>floors</th><th>totalAreas</th><th>bathrooms</th><th>propertyType</th><th>publicationType</th><th>usageTypes</th><th>id</th><th>bedrooms</th><th>price</th><th>buildings</th><th>amenities</th><th>usableAreas</th><th>contractType</th><th>city</th><th>neighborhood</th><th>street</th><th>streetNumber</th><th>source</th><th>approximateLat</th><th>approximateLon</th><th>radius</th><th>lat</th><th>lon</th><th>stateAcronym</th><th>listingType</th><th>parkingSpaces</th><th>suites</th><th>displayAddressType</th><th>unitFloor</th><th>unitTypes</th><th>resale</th><th>capacityLimit</th><th>unitsOnTheFloor</th><th>link_href</th></tr><tr><td>i64</td><td>list[i64]</td><td>list[i64]</td><td>str</td><td>str</td><td>list[str]</td><td>str</td><td>list[i64]</td><td>i64</td><td>i64</td><td>list[str]</td><td>list[i64]</td><td>str</td><td>str</td><td>str</td><td>str</td><td>str</td><td>str</td><td>f64</td><td>f64</td><td>i64</td><td>f64</td><td>f64</td><td>str</td><td>str</td><td>list[i64]</td><td>i64</td><td>str</td><td>i64</td><td>str</td><td>bool</td><td>i64</td><td>i64</td><td>str</td></tr></thead><tbody><tr><td>8</td><td>[48]</td><td>[1]</td><td>&quot;UNIT&quot;</td><td>&quot;PREMIUM&quot;</td><td>[&quot;RESIDENTIAL&quot;]</td><td>&quot;2463567709&quot;</td><td>[1]</td><td>290000</td><td>0</td><td>[&quot;DISABLED_ACCESS&quot;, &quot;INTEGRATED_ENVIRONMENTS&quot;, … &quot;PARTY_HALL&quot;]</td><td>[46]</td><td>&quot;OWNER&quot;</td><td>&quot;Porto Alegre&quot;</td><td>&quot;Cidade Baixa&quot;</td><td>&quot;Rua Joaquim Nabuco&quot;</td><td>null</td><td>&quot;GOOGLE&quot;</td><td>-30.041</td><td>-51.219</td><td>140</td><td>null</td><td>null</td><td>&quot;RS&quot;</td><td>&quot;USED&quot;</td><td>[]</td><td>null</td><td>&quot;STREET&quot;</td><td>0</td><td>&quot;APARTMENT&quot;</td><td>false</td><td>0</td><td>4</td><td>&quot;/imovel/venda-apartamento-1-qu…</td></tr><tr><td>null</td><td>[66]</td><td>[1]</td><td>&quot;UNIT&quot;</td><td>&quot;PREMIUM&quot;</td><td>[&quot;RESIDENTIAL&quot;]</td><td>&quot;2760694515&quot;</td><td>[2]</td><td>275000</td><td>0</td><td>[]</td><td>[56]</td><td>&quot;REAL_ESTATE&quot;</td><td>&quot;Porto Alegre&quot;</td><td>&quot;Cidade Baixa&quot;</td><td>&quot;Rua José do Patrocínio&quot;</td><td>&quot;357&quot;</td><td>&quot;GOOGLE&quot;</td><td>null</td><td>null</td><td>null</td><td>-30.038562</td><td>-51.224749</td><td>&quot;RS&quot;</td><td>&quot;USED&quot;</td><td>[]</td><td>0</td><td>&quot;ALL&quot;</td><td>0</td><td>&quot;APARTMENT&quot;</td><td>false</td><td>null</td><td>0</td><td>&quot;/imovel/venda-apartamento-2-qu…</td></tr><tr><td>null</td><td>[56]</td><td>[1]</td><td>&quot;UNIT&quot;</td><td>&quot;STANDARD&quot;</td><td>[&quot;RESIDENTIAL&quot;]</td><td>&quot;2765177708&quot;</td><td>[1]</td><td>175000</td><td>0</td><td>[&quot;PETS_ALLOWED&quot;, &quot;FURNISHED&quot;]</td><td>[42]</td><td>&quot;REAL_ESTATE&quot;</td><td>&quot;Porto Alegre&quot;</td><td>&quot;Centro Histórico&quot;</td><td>&quot;Avenida João Pessoa&quot;</td><td>&quot;371&quot;</td><td>&quot;GOOGLE&quot;</td><td>null</td><td>null</td><td>null</td><td>-30.035694</td><td>-51.221204</td><td>&quot;RS&quot;</td><td>&quot;USED&quot;</td><td>[]</td><td>null</td><td>&quot;ALL&quot;</td><td>3</td><td>&quot;APARTMENT&quot;</td><td>false</td><td>null</td><td>0</td><td>&quot;/imovel/venda-apartamento-1-qu…</td></tr></tbody></table></div>"
      ],
      "text/plain": [
       "shape: (3, 34)\n",
       "┌────────┬────────────┬───────────┬────────────┬───┬────────┬────────────┬────────────┬────────────┐\n",
       "│ floors ┆ totalAreas ┆ bathrooms ┆ propertyTy ┆ … ┆ resale ┆ capacityLi ┆ unitsOnThe ┆ link_href  │\n",
       "│ ---    ┆ ---        ┆ ---       ┆ pe         ┆   ┆ ---    ┆ mit        ┆ Floor      ┆ ---        │\n",
       "│ i64    ┆ list[i64]  ┆ list[i64] ┆ ---        ┆   ┆ bool   ┆ ---        ┆ ---        ┆ str        │\n",
       "│        ┆            ┆           ┆ str        ┆   ┆        ┆ i64        ┆ i64        ┆            │\n",
       "╞════════╪════════════╪═══════════╪════════════╪═══╪════════╪════════════╪════════════╪════════════╡\n",
       "│ 8      ┆ [48]       ┆ [1]       ┆ UNIT       ┆ … ┆ false  ┆ 0          ┆ 4          ┆ /imovel/ve │\n",
       "│        ┆            ┆           ┆            ┆   ┆        ┆            ┆            ┆ nda-aparta │\n",
       "│        ┆            ┆           ┆            ┆   ┆        ┆            ┆            ┆ mento-1-qu │\n",
       "│        ┆            ┆           ┆            ┆   ┆        ┆            ┆            ┆ …          │\n",
       "│ null   ┆ [66]       ┆ [1]       ┆ UNIT       ┆ … ┆ false  ┆ null       ┆ 0          ┆ /imovel/ve │\n",
       "│        ┆            ┆           ┆            ┆   ┆        ┆            ┆            ┆ nda-aparta │\n",
       "│        ┆            ┆           ┆            ┆   ┆        ┆            ┆            ┆ mento-2-qu │\n",
       "│        ┆            ┆           ┆            ┆   ┆        ┆            ┆            ┆ …          │\n",
       "│ null   ┆ [56]       ┆ [1]       ┆ UNIT       ┆ … ┆ false  ┆ null       ┆ 0          ┆ /imovel/ve │\n",
       "│        ┆            ┆           ┆            ┆   ┆        ┆            ┆            ┆ nda-aparta │\n",
       "│        ┆            ┆           ┆            ┆   ┆        ┆            ┆            ┆ mento-1-qu │\n",
       "│        ┆            ┆           ┆            ┆   ┆        ┆            ┆            ┆ …          │\n",
       "└────────┴────────────┴───────────┴────────────┴───┴────────┴────────────┴────────────┴────────────┘"
      ]
     },
     "execution_count": 28,
     "metadata": {},
     "output_type": "execute_result"
    }
   ],
   "source": [
    "df = df.unnest(\"point\")\n",
    "df.head(3)"
   ]
  },
  {
   "cell_type": "markdown",
   "metadata": {},
   "source": [
    "Nem todas as listagens têm a localização precisa do imóvel. Algumas têm apenas uma\n",
    "localização aproximada, dada por `approximateLat` e `approximateLon`."
   ]
  },
  {
   "cell_type": "code",
   "execution_count": 29,
   "metadata": {},
   "outputs": [
    {
     "data": {
      "text/html": [
       "<div><style>\n",
       ".dataframe > thead > tr,\n",
       ".dataframe > tbody > tr {\n",
       "  text-align: right;\n",
       "  white-space: pre-wrap;\n",
       "}\n",
       "</style>\n",
       "<small>shape: (2, 34)</small><table border=\"1\" class=\"dataframe\"><thead><tr><th>floors</th><th>totalAreas</th><th>bathrooms</th><th>propertyType</th><th>publicationType</th><th>usageTypes</th><th>id</th><th>bedrooms</th><th>price</th><th>buildings</th><th>amenities</th><th>usableAreas</th><th>contractType</th><th>city</th><th>neighborhood</th><th>street</th><th>streetNumber</th><th>source</th><th>approximateLat</th><th>approximateLon</th><th>radius</th><th>lat</th><th>lon</th><th>stateAcronym</th><th>listingType</th><th>parkingSpaces</th><th>suites</th><th>displayAddressType</th><th>unitFloor</th><th>unitTypes</th><th>resale</th><th>capacityLimit</th><th>unitsOnTheFloor</th><th>link_href</th></tr><tr><td>i64</td><td>list[i64]</td><td>list[i64]</td><td>str</td><td>str</td><td>list[str]</td><td>str</td><td>list[i64]</td><td>i64</td><td>i64</td><td>list[str]</td><td>list[i64]</td><td>str</td><td>str</td><td>str</td><td>str</td><td>str</td><td>str</td><td>f64</td><td>f64</td><td>i64</td><td>f64</td><td>f64</td><td>str</td><td>str</td><td>list[i64]</td><td>i64</td><td>str</td><td>i64</td><td>str</td><td>bool</td><td>i64</td><td>i64</td><td>str</td></tr></thead><tbody><tr><td>null</td><td>[]</td><td>[1]</td><td>&quot;UNIT&quot;</td><td>&quot;PREMIUM&quot;</td><td>[&quot;COMMERCIAL&quot;]</td><td>&quot;2561009358&quot;</td><td>[]</td><td>280000</td><td>0</td><td>[]</td><td>[32]</td><td>&quot;OWNER&quot;</td><td>&quot;Porto Alegre&quot;</td><td>&quot;Menino Deus&quot;</td><td>&quot;Avenida Getúlio Vargas&quot;</td><td>&quot;910&quot;</td><td>null</td><td>null</td><td>null</td><td>null</td><td>null</td><td>null</td><td>&quot;RS&quot;</td><td>&quot;USED&quot;</td><td>[1]</td><td>null</td><td>&quot;ALL&quot;</td><td>14</td><td>&quot;OFFICE&quot;</td><td>true</td><td>null</td><td>0</td><td>&quot;/imovel/venda-conjunto-comerci…</td></tr><tr><td>null</td><td>[]</td><td>[3]</td><td>&quot;UNIT&quot;</td><td>&quot;PREMIUM&quot;</td><td>[&quot;RESIDENTIAL&quot;]</td><td>&quot;2489898892&quot;</td><td>[3]</td><td>620000</td><td>0</td><td>[]</td><td>[148]</td><td>&quot;OWNER&quot;</td><td>&quot;Porto Alegre&quot;</td><td>&quot;Sarandi&quot;</td><td>&quot;Rua Doutor João Dahne&quot;</td><td>&quot;83&quot;</td><td>null</td><td>null</td><td>null</td><td>null</td><td>null</td><td>null</td><td>&quot;RS&quot;</td><td>&quot;USED&quot;</td><td>[3]</td><td>2</td><td>&quot;ALL&quot;</td><td>0</td><td>&quot;HOME&quot;</td><td>true</td><td>null</td><td>0</td><td>&quot;/imovel/venda-casa-3-quartos-s…</td></tr></tbody></table></div>"
      ],
      "text/plain": [
       "shape: (2, 34)\n",
       "┌────────┬────────────┬───────────┬────────────┬───┬────────┬────────────┬────────────┬────────────┐\n",
       "│ floors ┆ totalAreas ┆ bathrooms ┆ propertyTy ┆ … ┆ resale ┆ capacityLi ┆ unitsOnThe ┆ link_href  │\n",
       "│ ---    ┆ ---        ┆ ---       ┆ pe         ┆   ┆ ---    ┆ mit        ┆ Floor      ┆ ---        │\n",
       "│ i64    ┆ list[i64]  ┆ list[i64] ┆ ---        ┆   ┆ bool   ┆ ---        ┆ ---        ┆ str        │\n",
       "│        ┆            ┆           ┆ str        ┆   ┆        ┆ i64        ┆ i64        ┆            │\n",
       "╞════════╪════════════╪═══════════╪════════════╪═══╪════════╪════════════╪════════════╪════════════╡\n",
       "│ null   ┆ []         ┆ [1]       ┆ UNIT       ┆ … ┆ true   ┆ null       ┆ 0          ┆ /imovel/ve │\n",
       "│        ┆            ┆           ┆            ┆   ┆        ┆            ┆            ┆ nda-conjun │\n",
       "│        ┆            ┆           ┆            ┆   ┆        ┆            ┆            ┆ to-comerci │\n",
       "│        ┆            ┆           ┆            ┆   ┆        ┆            ┆            ┆ …          │\n",
       "│ null   ┆ []         ┆ [3]       ┆ UNIT       ┆ … ┆ true   ┆ null       ┆ 0          ┆ /imovel/ve │\n",
       "│        ┆            ┆           ┆            ┆   ┆        ┆            ┆            ┆ nda-casa-3 │\n",
       "│        ┆            ┆           ┆            ┆   ┆        ┆            ┆            ┆ -quartos-s │\n",
       "│        ┆            ┆           ┆            ┆   ┆        ┆            ┆            ┆ …          │\n",
       "└────────┴────────────┴───────────┴────────────┴───┴────────┴────────────┴────────────┴────────────┘"
      ]
     },
     "execution_count": 29,
     "metadata": {},
     "output_type": "execute_result"
    }
   ],
   "source": [
    "df.filter(pl.col(\"approximateLat\").is_null(), pl.col(\"lat\").is_null())"
   ]
  },
  {
   "cell_type": "markdown",
   "metadata": {},
   "source": [
    "Duas listagens não constam nenhuma localização, de forma que devem ser descartadas."
   ]
  },
  {
   "cell_type": "code",
   "execution_count": 30,
   "metadata": {},
   "outputs": [],
   "source": [
    "df = df.filter(pl.col(\"approximateLat\").is_not_null() | pl.col(\"lat\").is_not_null())"
   ]
  },
  {
   "cell_type": "markdown",
   "metadata": {},
   "source": [
    "#### Cruzamento da localização dos imóveis com áreas alagadas"
   ]
  },
  {
   "cell_type": "code",
   "execution_count": 32,
   "metadata": {},
   "outputs": [],
   "source": [
    "kml_data_file = \"data/cheias_em_porto_alegre.kml\"\n",
    "polygons = extract_polygons_from_folder(\n",
    "    kml_data_file, \"Inundação em 6 de Maio de 2024\"\n",
    ")"
   ]
  },
  {
   "cell_type": "code",
   "execution_count": 34,
   "metadata": {},
   "outputs": [
    {
     "name": "stderr",
     "output_type": "stream",
     "text": [
      "/home/mwesthelle/ufrgs/cmp-259-data-mining/sinking_real_estate/analysis/geo_location.py:114: MapWithoutReturnDtypeWarning: Calling `map_elements` without specifying `return_dtype` can lead to unpredictable results. Specify `return_dtype` to silence this warning.\n",
      "  return df.with_columns(\n"
     ]
    }
   ],
   "source": [
    "df = mark_points_in_polygons(df, polygons)"
   ]
  },
  {
   "cell_type": "code",
   "execution_count": 35,
   "metadata": {},
   "outputs": [
    {
     "data": {
      "text/html": [
       "<div><style>\n",
       ".dataframe > thead > tr,\n",
       ".dataframe > tbody > tr {\n",
       "  text-align: right;\n",
       "  white-space: pre-wrap;\n",
       "}\n",
       "</style>\n",
       "<small>shape: (6_405, 35)</small><table border=\"1\" class=\"dataframe\"><thead><tr><th>floors</th><th>totalAreas</th><th>bathrooms</th><th>propertyType</th><th>publicationType</th><th>usageTypes</th><th>id</th><th>bedrooms</th><th>price</th><th>buildings</th><th>amenities</th><th>usableAreas</th><th>contractType</th><th>city</th><th>neighborhood</th><th>street</th><th>streetNumber</th><th>source</th><th>approximateLat</th><th>approximateLon</th><th>radius</th><th>lat</th><th>lon</th><th>stateAcronym</th><th>listingType</th><th>parkingSpaces</th><th>suites</th><th>displayAddressType</th><th>unitFloor</th><th>unitTypes</th><th>resale</th><th>capacityLimit</th><th>unitsOnTheFloor</th><th>link_href</th><th>flooded</th></tr><tr><td>i64</td><td>list[i64]</td><td>list[i64]</td><td>str</td><td>str</td><td>list[str]</td><td>str</td><td>list[i64]</td><td>i64</td><td>i64</td><td>list[str]</td><td>list[i64]</td><td>str</td><td>str</td><td>str</td><td>str</td><td>str</td><td>str</td><td>f64</td><td>f64</td><td>i64</td><td>f64</td><td>f64</td><td>str</td><td>str</td><td>list[i64]</td><td>i64</td><td>str</td><td>i64</td><td>str</td><td>bool</td><td>i64</td><td>i64</td><td>str</td><td>bool</td></tr></thead><tbody><tr><td>null</td><td>[66]</td><td>[1]</td><td>&quot;UNIT&quot;</td><td>&quot;PREMIUM&quot;</td><td>[&quot;RESIDENTIAL&quot;]</td><td>&quot;2760694515&quot;</td><td>[2]</td><td>275000</td><td>0</td><td>[]</td><td>[56]</td><td>&quot;REAL_ESTATE&quot;</td><td>&quot;Porto Alegre&quot;</td><td>&quot;Cidade Baixa&quot;</td><td>&quot;Rua José do Patrocínio&quot;</td><td>&quot;357&quot;</td><td>&quot;GOOGLE&quot;</td><td>null</td><td>null</td><td>null</td><td>-30.038562</td><td>-51.224749</td><td>&quot;RS&quot;</td><td>&quot;USED&quot;</td><td>[]</td><td>0</td><td>&quot;ALL&quot;</td><td>0</td><td>&quot;APARTMENT&quot;</td><td>false</td><td>null</td><td>0</td><td>&quot;/imovel/venda-apartamento-2-qu…</td><td>true</td></tr><tr><td>null</td><td>[61]</td><td>[2]</td><td>&quot;UNIT&quot;</td><td>&quot;STANDARD&quot;</td><td>[&quot;RESIDENTIAL&quot;]</td><td>&quot;2756577162&quot;</td><td>[1]</td><td>380000</td><td>0</td><td>[&quot;GARAGE&quot;]</td><td>[46]</td><td>&quot;REAL_ESTATE&quot;</td><td>&quot;Porto Alegre&quot;</td><td>&quot;Cidade Baixa&quot;</td><td>&quot;Rua Miguel Teixeira&quot;</td><td>&quot;66&quot;</td><td>&quot;GOOGLE&quot;</td><td>null</td><td>null</td><td>null</td><td>-30.042558</td><td>-51.227121</td><td>&quot;RS&quot;</td><td>&quot;USED&quot;</td><td>[1]</td><td>1</td><td>&quot;ALL&quot;</td><td>0</td><td>&quot;APARTMENT&quot;</td><td>false</td><td>null</td><td>0</td><td>&quot;/imovel/venda-apartamento-1-qu…</td><td>true</td></tr><tr><td>null</td><td>[]</td><td>[2]</td><td>&quot;UNIT&quot;</td><td>&quot;PREMIUM&quot;</td><td>[&quot;COMMERCIAL&quot;]</td><td>&quot;2708598936&quot;</td><td>[]</td><td>500000</td><td>0</td><td>[]</td><td>[130]</td><td>&quot;OWNER&quot;</td><td>&quot;Porto Alegre&quot;</td><td>&quot;Cidade Baixa&quot;</td><td>&quot;Travessa do Carmo&quot;</td><td>&quot;152&quot;</td><td>&quot;GOOGLE&quot;</td><td>null</td><td>null</td><td>null</td><td>-30.038998</td><td>-51.226354</td><td>&quot;RS&quot;</td><td>&quot;USED&quot;</td><td>[]</td><td>null</td><td>&quot;ALL&quot;</td><td>4</td><td>&quot;OFFICE&quot;</td><td>true</td><td>null</td><td>0</td><td>&quot;/imovel/venda-conjunto-comerci…</td><td>true</td></tr><tr><td>null</td><td>[42]</td><td>[1]</td><td>&quot;UNIT&quot;</td><td>&quot;PREMIUM&quot;</td><td>[&quot;RESIDENTIAL&quot;]</td><td>&quot;2764145652&quot;</td><td>[1]</td><td>160000</td><td>0</td><td>[]</td><td>[31]</td><td>&quot;REAL_ESTATE&quot;</td><td>&quot;Porto Alegre&quot;</td><td>&quot;Cidade Baixa&quot;</td><td>&quot;Rua João Alfredo&quot;</td><td>&quot;312&quot;</td><td>&quot;GOOGLE&quot;</td><td>null</td><td>null</td><td>null</td><td>-30.039851</td><td>-51.226294</td><td>&quot;RS&quot;</td><td>&quot;USED&quot;</td><td>[]</td><td>0</td><td>&quot;ALL&quot;</td><td>0</td><td>&quot;APARTMENT&quot;</td><td>false</td><td>null</td><td>0</td><td>&quot;/imovel/venda-quitinete-1-quar…</td><td>true</td></tr><tr><td>null</td><td>[44]</td><td>[1]</td><td>&quot;UNIT&quot;</td><td>&quot;STANDARD&quot;</td><td>[&quot;RESIDENTIAL&quot;]</td><td>&quot;2762268919&quot;</td><td>[1]</td><td>162450</td><td>0</td><td>[]</td><td>[32]</td><td>&quot;REAL_ESTATE&quot;</td><td>&quot;Porto Alegre&quot;</td><td>&quot;Cidade Baixa&quot;</td><td>&quot;Rua João Alfredo&quot;</td><td>&quot;312&quot;</td><td>&quot;GOOGLE&quot;</td><td>null</td><td>null</td><td>null</td><td>-30.039851</td><td>-51.226294</td><td>&quot;RS&quot;</td><td>&quot;USED&quot;</td><td>[]</td><td>0</td><td>&quot;ALL&quot;</td><td>0</td><td>&quot;APARTMENT&quot;</td><td>false</td><td>null</td><td>0</td><td>&quot;/imovel/venda-quitinete-1-quar…</td><td>true</td></tr><tr><td>&hellip;</td><td>&hellip;</td><td>&hellip;</td><td>&hellip;</td><td>&hellip;</td><td>&hellip;</td><td>&hellip;</td><td>&hellip;</td><td>&hellip;</td><td>&hellip;</td><td>&hellip;</td><td>&hellip;</td><td>&hellip;</td><td>&hellip;</td><td>&hellip;</td><td>&hellip;</td><td>&hellip;</td><td>&hellip;</td><td>&hellip;</td><td>&hellip;</td><td>&hellip;</td><td>&hellip;</td><td>&hellip;</td><td>&hellip;</td><td>&hellip;</td><td>&hellip;</td><td>&hellip;</td><td>&hellip;</td><td>&hellip;</td><td>&hellip;</td><td>&hellip;</td><td>&hellip;</td><td>&hellip;</td><td>&hellip;</td><td>&hellip;</td></tr><tr><td>0</td><td>[2000]</td><td>[0]</td><td>&quot;UNIT&quot;</td><td>&quot;STANDARD&quot;</td><td>[&quot;COMMERCIAL&quot;]</td><td>&quot;2703456980&quot;</td><td>[0]</td><td>1200000</td><td>0</td><td>[&quot;GATED_COMMUNITY&quot;]</td><td>[2000]</td><td>&quot;REAL_ESTATE&quot;</td><td>&quot;Porto Alegre&quot;</td><td>&quot;Sarandi&quot;</td><td>&quot;Avenida João Elustondo Filho&quot;</td><td>null</td><td>&quot;GOOGLE&quot;</td><td>-29.983</td><td>-51.109</td><td>140</td><td>null</td><td>null</td><td>&quot;RS&quot;</td><td>&quot;USED&quot;</td><td>[0]</td><td>0</td><td>&quot;STREET&quot;</td><td>0</td><td>&quot;COMMERCIAL_ALLOTMENT_LAND&quot;</td><td>false</td><td>null</td><td>0</td><td>&quot;/imovel/venda-terreno-lote-com…</td><td>true</td></tr><tr><td>null</td><td>[]</td><td>[3]</td><td>&quot;UNIT&quot;</td><td>&quot;STANDARD&quot;</td><td>[&quot;COMMERCIAL&quot;]</td><td>&quot;2730929116&quot;</td><td>[0]</td><td>3000000</td><td>0</td><td>[&quot;CONCIERGE_24H&quot;, &quot;DRESS_ROOM&quot;, … &quot;TRUCK_ENTRANCE&quot;]</td><td>[750]</td><td>&quot;REAL_ESTATE&quot;</td><td>&quot;Porto Alegre&quot;</td><td>&quot;Sarandi&quot;</td><td>&quot;Rua Sérgio Jungblut Dieterich&quot;</td><td>null</td><td>&quot;GOOGLE&quot;</td><td>-29.994</td><td>-51.142</td><td>140</td><td>null</td><td>null</td><td>&quot;RS&quot;</td><td>&quot;USED&quot;</td><td>[6]</td><td>null</td><td>&quot;STREET&quot;</td><td>0</td><td>&quot;SHED_DEPOSIT_WAREHOUSE&quot;</td><td>false</td><td>null</td><td>0</td><td>&quot;/imovel/venda-galpao-deposito-…</td><td>true</td></tr><tr><td>null</td><td>[52]</td><td>[1]</td><td>&quot;UNIT&quot;</td><td>&quot;STANDARD&quot;</td><td>[&quot;RESIDENTIAL&quot;]</td><td>&quot;2738849124&quot;</td><td>[3]</td><td>235000</td><td>0</td><td>[&quot;GARAGE&quot;]</td><td>[52]</td><td>&quot;REAL_ESTATE&quot;</td><td>&quot;Porto Alegre&quot;</td><td>&quot;Sarandi&quot;</td><td>&quot;Rua Gabriel Franco da Luz&quot;</td><td>&quot;133&quot;</td><td>&quot;GOOGLE&quot;</td><td>null</td><td>null</td><td>null</td><td>-29.98589</td><td>-51.123014</td><td>&quot;RS&quot;</td><td>&quot;USED&quot;</td><td>[1]</td><td>0</td><td>&quot;ALL&quot;</td><td>0</td><td>&quot;APARTMENT&quot;</td><td>false</td><td>null</td><td>0</td><td>&quot;/imovel/venda-apartamento-3-qu…</td><td>true</td></tr><tr><td>null</td><td>[300]</td><td>[3]</td><td>&quot;UNIT&quot;</td><td>&quot;STANDARD&quot;</td><td>[&quot;RESIDENTIAL&quot;]</td><td>&quot;2766638016&quot;</td><td>[3]</td><td>530000</td><td>0</td><td>[&quot;KITCHEN&quot;, &quot;AIR_CONDITIONING&quot;]</td><td>[300]</td><td>&quot;REAL_ESTATE&quot;</td><td>&quot;Porto Alegre&quot;</td><td>&quot;Sarandi&quot;</td><td>null</td><td>null</td><td>&quot;GOOGLE&quot;</td><td>-29.98</td><td>-51.135</td><td>250</td><td>null</td><td>null</td><td>&quot;RS&quot;</td><td>&quot;USED&quot;</td><td>[4]</td><td>2</td><td>&quot;NEIGHBORHOOD&quot;</td><td>0</td><td>&quot;HOME&quot;</td><td>false</td><td>null</td><td>0</td><td>&quot;/imovel/venda-casa-3-quartos-c…</td><td>true</td></tr><tr><td>null</td><td>[102]</td><td>[2]</td><td>&quot;UNIT&quot;</td><td>&quot;STANDARD&quot;</td><td>[&quot;RESIDENTIAL&quot;]</td><td>&quot;2765998974&quot;</td><td>[3]</td><td>275000</td><td>0</td><td>[&quot;SPORTS_COURT&quot;, &quot;BACKYARD&quot;, … &quot;PETS_ALLOWED&quot;]</td><td>[74]</td><td>&quot;REAL_ESTATE&quot;</td><td>&quot;Porto Alegre&quot;</td><td>&quot;Sarandi&quot;</td><td>&quot;Avenida Faria Lobato&quot;</td><td>&quot;1120&quot;</td><td>&quot;GOOGLE&quot;</td><td>null</td><td>null</td><td>null</td><td>-29.984018</td><td>-51.123945</td><td>&quot;RS&quot;</td><td>&quot;USED&quot;</td><td>[1]</td><td>1</td><td>&quot;ALL&quot;</td><td>0</td><td>&quot;CONDOMINIUM&quot;</td><td>false</td><td>null</td><td>0</td><td>&quot;/imovel/venda-casa-de-condomin…</td><td>true</td></tr></tbody></table></div>"
      ],
      "text/plain": [
       "shape: (6_405, 35)\n",
       "┌────────┬────────────┬───────────┬────────────┬───┬────────────┬────────────┬───────────┬─────────┐\n",
       "│ floors ┆ totalAreas ┆ bathrooms ┆ propertyTy ┆ … ┆ capacityLi ┆ unitsOnThe ┆ link_href ┆ flooded │\n",
       "│ ---    ┆ ---        ┆ ---       ┆ pe         ┆   ┆ mit        ┆ Floor      ┆ ---       ┆ ---     │\n",
       "│ i64    ┆ list[i64]  ┆ list[i64] ┆ ---        ┆   ┆ ---        ┆ ---        ┆ str       ┆ bool    │\n",
       "│        ┆            ┆           ┆ str        ┆   ┆ i64        ┆ i64        ┆           ┆         │\n",
       "╞════════╪════════════╪═══════════╪════════════╪═══╪════════════╪════════════╪═══════════╪═════════╡\n",
       "│ null   ┆ [66]       ┆ [1]       ┆ UNIT       ┆ … ┆ null       ┆ 0          ┆ /imovel/v ┆ true    │\n",
       "│        ┆            ┆           ┆            ┆   ┆            ┆            ┆ enda-apar ┆         │\n",
       "│        ┆            ┆           ┆            ┆   ┆            ┆            ┆ tamento-2 ┆         │\n",
       "│        ┆            ┆           ┆            ┆   ┆            ┆            ┆ -qu…      ┆         │\n",
       "│ null   ┆ [61]       ┆ [2]       ┆ UNIT       ┆ … ┆ null       ┆ 0          ┆ /imovel/v ┆ true    │\n",
       "│        ┆            ┆           ┆            ┆   ┆            ┆            ┆ enda-apar ┆         │\n",
       "│        ┆            ┆           ┆            ┆   ┆            ┆            ┆ tamento-1 ┆         │\n",
       "│        ┆            ┆           ┆            ┆   ┆            ┆            ┆ -qu…      ┆         │\n",
       "│ null   ┆ []         ┆ [2]       ┆ UNIT       ┆ … ┆ null       ┆ 0          ┆ /imovel/v ┆ true    │\n",
       "│        ┆            ┆           ┆            ┆   ┆            ┆            ┆ enda-conj ┆         │\n",
       "│        ┆            ┆           ┆            ┆   ┆            ┆            ┆ unto-come ┆         │\n",
       "│        ┆            ┆           ┆            ┆   ┆            ┆            ┆ rci…      ┆         │\n",
       "│ null   ┆ [42]       ┆ [1]       ┆ UNIT       ┆ … ┆ null       ┆ 0          ┆ /imovel/v ┆ true    │\n",
       "│        ┆            ┆           ┆            ┆   ┆            ┆            ┆ enda-quit ┆         │\n",
       "│        ┆            ┆           ┆            ┆   ┆            ┆            ┆ inete-1-q ┆         │\n",
       "│        ┆            ┆           ┆            ┆   ┆            ┆            ┆ uar…      ┆         │\n",
       "│ null   ┆ [44]       ┆ [1]       ┆ UNIT       ┆ … ┆ null       ┆ 0          ┆ /imovel/v ┆ true    │\n",
       "│        ┆            ┆           ┆            ┆   ┆            ┆            ┆ enda-quit ┆         │\n",
       "│        ┆            ┆           ┆            ┆   ┆            ┆            ┆ inete-1-q ┆         │\n",
       "│        ┆            ┆           ┆            ┆   ┆            ┆            ┆ uar…      ┆         │\n",
       "│ …      ┆ …          ┆ …         ┆ …          ┆ … ┆ …          ┆ …          ┆ …         ┆ …       │\n",
       "│ 0      ┆ [2000]     ┆ [0]       ┆ UNIT       ┆ … ┆ null       ┆ 0          ┆ /imovel/v ┆ true    │\n",
       "│        ┆            ┆           ┆            ┆   ┆            ┆            ┆ enda-terr ┆         │\n",
       "│        ┆            ┆           ┆            ┆   ┆            ┆            ┆ eno-lote- ┆         │\n",
       "│        ┆            ┆           ┆            ┆   ┆            ┆            ┆ com…      ┆         │\n",
       "│ null   ┆ []         ┆ [3]       ┆ UNIT       ┆ … ┆ null       ┆ 0          ┆ /imovel/v ┆ true    │\n",
       "│        ┆            ┆           ┆            ┆   ┆            ┆            ┆ enda-galp ┆         │\n",
       "│        ┆            ┆           ┆            ┆   ┆            ┆            ┆ ao-deposi ┆         │\n",
       "│        ┆            ┆           ┆            ┆   ┆            ┆            ┆ to-…      ┆         │\n",
       "│ null   ┆ [52]       ┆ [1]       ┆ UNIT       ┆ … ┆ null       ┆ 0          ┆ /imovel/v ┆ true    │\n",
       "│        ┆            ┆           ┆            ┆   ┆            ┆            ┆ enda-apar ┆         │\n",
       "│        ┆            ┆           ┆            ┆   ┆            ┆            ┆ tamento-3 ┆         │\n",
       "│        ┆            ┆           ┆            ┆   ┆            ┆            ┆ -qu…      ┆         │\n",
       "│ null   ┆ [300]      ┆ [3]       ┆ UNIT       ┆ … ┆ null       ┆ 0          ┆ /imovel/v ┆ true    │\n",
       "│        ┆            ┆           ┆            ┆   ┆            ┆            ┆ enda-casa ┆         │\n",
       "│        ┆            ┆           ┆            ┆   ┆            ┆            ┆ -3-quarto ┆         │\n",
       "│        ┆            ┆           ┆            ┆   ┆            ┆            ┆ s-c…      ┆         │\n",
       "│ null   ┆ [102]      ┆ [2]       ┆ UNIT       ┆ … ┆ null       ┆ 0          ┆ /imovel/v ┆ true    │\n",
       "│        ┆            ┆           ┆            ┆   ┆            ┆            ┆ enda-casa ┆         │\n",
       "│        ┆            ┆           ┆            ┆   ┆            ┆            ┆ -de-condo ┆         │\n",
       "│        ┆            ┆           ┆            ┆   ┆            ┆            ┆ min…      ┆         │\n",
       "└────────┴────────────┴───────────┴────────────┴───┴────────────┴────────────┴───────────┴─────────┘"
      ]
     },
     "execution_count": 35,
     "metadata": {},
     "output_type": "execute_result"
    }
   ],
   "source": [
    "df.filter(pl.col(\"flooded\"))"
   ]
  },
  {
   "cell_type": "markdown",
   "metadata": {},
   "source": [
    "Existem dados duplicados?"
   ]
  },
  {
   "cell_type": "code",
   "execution_count": 16,
   "metadata": {},
   "outputs": [
    {
     "name": "stdout",
     "output_type": "stream",
     "text": [
      "cidade_baixa: 102 duplicatas\n",
      "centro_historico: 712 duplicatas\n",
      "menino_deus: 904 duplicatas\n",
      "sarandi: 132 duplicatas\n"
     ]
    }
   ],
   "source": [
    "for name, df in listings_df_map.items():\n",
    "    num_dupes = df.filter(pl.col(\"id\").is_duplicated()).height\n",
    "    print(f\"{name}: {num_dupes} duplicatas\")"
   ]
  },
  {
   "cell_type": "code",
   "execution_count": 37,
   "metadata": {},
   "outputs": [
    {
     "data": {
      "text/html": [
       "<div><style>\n",
       ".dataframe > thead > tr,\n",
       ".dataframe > tbody > tr {\n",
       "  text-align: right;\n",
       "  white-space: pre-wrap;\n",
       "}\n",
       "</style>\n",
       "<small>shape: (2, 5)</small><table border=\"1\" class=\"dataframe\"><thead><tr><th>listing</th><th>account</th><th>medias</th><th>accountLink</th><th>link</th></tr><tr><td>struct[43]</td><td>struct[9]</td><td>list[struct[3]]</td><td>struct[4]</td><td>struct[4]</td></tr></thead><tbody><tr><td>{&quot;10929a8c-7227-5aff-fb05-6bf3945bf5b7&quot;,[1],[2],&quot;UNIT&quot;,false,[104],&quot;&quot;,[],&quot;83977&quot;,&quot;2024-12-04T20:20:07.087+00:00&quot;,&quot;ConstructionStatus_NONE&quot;,[],&quot;NonActivationReason_NONE&quot;,{&quot;Porto Alegre&quot;,&quot;Farroupilha&quot;,&quot;Avenida Venâncio Aires&quot;,&quot;449&quot;,{&quot;GOOGLE&quot;,null,null,null,-30.041217,-51.215602},&quot;RS&quot;},[0],0,&quot;51992941900&quot;,false,&quot;ACTIVE&quot;,&quot;2024-12-25T20:16:09.176+00:00&quot;,[],[82],&quot;ALL&quot;,7,&quot;USED&quot;,&quot;Excelente oportunidade no coração de Porto Alegre!&lt;BR&gt;&lt;BR&gt;Este apartamento encantador de 81m² de área privativa está localizado na Avenida Venâncio Aires, em uma região privilegiada, próximo à Avenida João Pessoa, Parque Farroupilha (Redenção) e ao bairro Bom Fim.&lt;BR&gt;&lt;BR&gt;Destaques do imóvel:&lt;BR&gt;02 dormitórios espaçosos;&lt;BR&gt;Amplo living com 02 ambientes (estar e jantar);&lt;BR&gt;Cozinha separada e área de serviço ampliada;&lt;BR&gt;Piso em parquet, que adiciona charme e conforto aos ambientes;&lt;BR&gt;Imóvel semimobiliado, bem ventilado, ensolarado e reformado.&lt;BR&gt;&lt;BR&gt;Localização estratégica:&lt;BR&gt;Fácil acesso aos principais serviços, comércio e lazer dos bairros Cidade Baixa, Santana e Bom Fim.&lt;BR&gt;&lt;BR&gt;Ideal para quem busca conforto, praticidade e qualidade de vida!&lt;BR&gt;&lt;BR&gt;Entre em contato e agende sua visita. Não perca essa oportunidade de viver bem em Porto Alegre! ]]&gt;&quot;,[],&quot;REAL_ESTATE&quot;,[&quot;RESIDENTIAL&quot;],0,[],&quot;STANDARD&quot;,&quot;Excelente oportunidade no coração de Porto Alegre!Este apartamento encantador de 81m² de área privat&quot;,&quot;2761415335&quot;,&quot;c6773be8-271d-36e2-95b9-07d1d405165c&quot;,0,[],{&quot;&quot;,[&quot;5137373337&quot;, &quot;51992941900&quot;]},[{&quot;SALE&quot;,0,430000,550,null}],true,&quot;GRUPOZAP&quot;,&quot;BE11051&quot;,[&quot;APARTMENT&quot;]}</td><td>{&quot;10929a8c-7227-5aff-fb05-6bf3945bf5b7&quot;,&quot;Orientta Negócios Imobiliários&quot;,&quot;https://resizedimgs.zapimoveis.com.br/{action}/{width}x{height}/vr.images.sp/700237e1377fef8be63496af3d015bcc.webp&quot;,&quot;36071-F-RS&quot;,true,54505,2594899,&quot;2018-03-27T16:55:54Z&quot;,&quot;gold&quot;}</td><td>[{&quot;02cb37650ba179846553f62e62610c71&quot;,&quot;https://resizedimgs.zapimoveis.com.br/{action}/{width}x{height}/vr.images.sp/02cb37650ba179846553f62e62610c71.webp&quot;,&quot;IMAGE&quot;}, {&quot;a6593237d8c622c272b7149661d39ffc&quot;,&quot;https://resizedimgs.zapimoveis.com.br/{action}/{width}x{height}/vr.images.sp/a6593237d8c622c272b7149661d39ffc.webp&quot;,&quot;IMAGE&quot;}, … {&quot;ae5c0129d8206466ddaa81ed822f9c90&quot;,&quot;https://resizedimgs.zapimoveis.com.br/{action}/{width}x{height}/vr.images.sp/ae5c0129d8206466ddaa81ed822f9c90.webp&quot;,&quot;IMAGE&quot;}]</td><td>{&quot;Orientta Negócios Imobiliários&quot;,&quot;/imobiliaria/54505/&quot;,&quot;&quot;,{}}</td><td>{&quot;Apartamento com 2 Quartos à venda, 82m²&quot;,&quot;/imovel/venda-apartamento-2-quartos-farroupilha-porto-alegre-82m2-id-2761415335/&quot;,&quot;&quot;,{&quot;Porto Alegre&quot;,&quot;Farroupilha&quot;,&quot;&quot;,&quot;Avenida Venâncio Aires&quot;,&quot;449&quot;,&quot;&quot;}}</td></tr><tr><td>{&quot;10929a8c-7227-5aff-fb05-6bf3945bf5b7&quot;,[1],[2],&quot;UNIT&quot;,false,[102],&quot;&quot;,[],&quot;83977&quot;,&quot;2024-12-04T20:20:07.087+00:00&quot;,&quot;ConstructionStatus_NONE&quot;,[],&quot;NonActivationReason_NONE&quot;,{&quot;Porto Alegre&quot;,&quot;Farroupilha&quot;,&quot;Avenida Venâncio Aires&quot;,&quot;449&quot;,{&quot;GOOGLE&quot;,null,null,null,-30.041217,-51.215602},&quot;RS&quot;},[0],0,&quot;51992941900&quot;,false,&quot;ACTIVE&quot;,&quot;2024-12-26T20:27:47.915+00:00&quot;,[],[80],&quot;ALL&quot;,2,&quot;USED&quot;,&quot;Excelente oportunidade no coração de Porto Alegre!&lt;BR&gt;&lt;BR&gt;Este apartamento encantador de 81m² de área privativa está localizado na Avenida Venâncio Aires, em uma região privilegiada, próximo à Avenida João Pessoa, Parque Farroupilha (Redenção) e ao bairro Bom Fim.&lt;BR&gt;&lt;BR&gt;Destaques do imóvel:&lt;BR&gt;02 dormitórios espaçosos;&lt;BR&gt;Amplo living com 02 ambientes (estar e jantar);&lt;BR&gt;Cozinha separada e área de serviço ampliada;&lt;BR&gt;Piso em parquet, que adiciona charme e conforto aos ambientes;&lt;BR&gt;Imóvel semimobiliado, bem ventilado, ensolarado e reformado.&lt;BR&gt;&lt;BR&gt;Localização estratégica:&lt;BR&gt;Fácil acesso aos principais serviços, comércio e lazer dos bairros Cidade Baixa, Santana e Bom Fim.&lt;BR&gt;&lt;BR&gt;Ideal para quem busca conforto, praticidade e qualidade de vida!&lt;BR&gt;&lt;BR&gt;Entre em contato e agende sua visita. Não perca essa oportunidade de viver bem em Porto Alegre! ]]&gt;&quot;,[],&quot;REAL_ESTATE&quot;,[&quot;RESIDENTIAL&quot;],0,[],&quot;PREMIUM&quot;,&quot;Excelente oportunidade no coração de Porto Alegre!Este apartamento encantador de 81m² de área privat&quot;,&quot;2761415335&quot;,&quot;fb8d8024-8263-3ee0-bcbe-fab04593c3a1&quot;,0,[],{&quot;&quot;,[&quot;5137373337&quot;, &quot;51992941900&quot;]},[{&quot;SALE&quot;,0,430000,550,null}],true,&quot;GRUPOZAP&quot;,&quot;BE11051&quot;,[&quot;APARTMENT&quot;]}</td><td>{&quot;10929a8c-7227-5aff-fb05-6bf3945bf5b7&quot;,&quot;Orientta Negócios Imobiliários&quot;,&quot;https://resizedimgs.zapimoveis.com.br/{action}/{width}x{height}/vr.images.sp/700237e1377fef8be63496af3d015bcc.webp&quot;,&quot;36071-F-RS&quot;,true,54505,2594899,&quot;2018-03-27T16:55:54Z&quot;,&quot;gold&quot;}</td><td>[{&quot;02cb37650ba179846553f62e62610c71&quot;,&quot;https://resizedimgs.zapimoveis.com.br/{action}/{width}x{height}/vr.images.sp/02cb37650ba179846553f62e62610c71.webp&quot;,&quot;IMAGE&quot;}, {&quot;a6593237d8c622c272b7149661d39ffc&quot;,&quot;https://resizedimgs.zapimoveis.com.br/{action}/{width}x{height}/vr.images.sp/a6593237d8c622c272b7149661d39ffc.webp&quot;,&quot;IMAGE&quot;}, … {&quot;ae5c0129d8206466ddaa81ed822f9c90&quot;,&quot;https://resizedimgs.zapimoveis.com.br/{action}/{width}x{height}/vr.images.sp/ae5c0129d8206466ddaa81ed822f9c90.webp&quot;,&quot;IMAGE&quot;}]</td><td>{&quot;Orientta Negócios Imobiliários&quot;,&quot;/imobiliaria/54505/&quot;,&quot;&quot;,{}}</td><td>{&quot;Apartamento com 2 Quartos à venda, 80m²&quot;,&quot;/imovel/venda-apartamento-2-quartos-farroupilha-porto-alegre-80m2-id-2761415335/&quot;,&quot;&quot;,{&quot;Porto Alegre&quot;,&quot;Farroupilha&quot;,&quot;&quot;,&quot;Avenida Venâncio Aires&quot;,&quot;449&quot;,&quot;&quot;}}</td></tr></tbody></table></div>"
      ],
      "text/plain": [
       "shape: (2, 5)\n",
       "┌─────────────────────┬────────────────────┬────────────────────┬─────────────┬────────────────────┐\n",
       "│ listing             ┆ account            ┆ medias             ┆ accountLink ┆ link               │\n",
       "│ ---                 ┆ ---                ┆ ---                ┆ ---         ┆ ---                │\n",
       "│ struct[43]          ┆ struct[9]          ┆ list[struct[3]]    ┆ struct[4]   ┆ struct[4]          │\n",
       "╞═════════════════════╪════════════════════╪════════════════════╪═════════════╪════════════════════╡\n",
       "│ {\"10929a8c-7227-5af ┆ {\"10929a8c-7227-5a ┆ [{\"02cb37650ba1798 ┆ {\"Orientta  ┆ {\"Apartamento com  │\n",
       "│ f-fb05-6bf3…        ┆ ff-fb05-6bf3…      ┆ 46553f62e626…      ┆ Negócios    ┆ 2 Quartos à …      │\n",
       "│                     ┆                    ┆                    ┆ Imobiliári… ┆                    │\n",
       "│ {\"10929a8c-7227-5af ┆ {\"10929a8c-7227-5a ┆ [{\"02cb37650ba1798 ┆ {\"Orientta  ┆ {\"Apartamento com  │\n",
       "│ f-fb05-6bf3…        ┆ ff-fb05-6bf3…      ┆ 46553f62e626…      ┆ Negócios    ┆ 2 Quartos à …      │\n",
       "│                     ┆                    ┆                    ┆ Imobiliári… ┆                    │\n",
       "└─────────────────────┴────────────────────┴────────────────────┴─────────────┴────────────────────┘"
      ]
     },
     "execution_count": 37,
     "metadata": {},
     "output_type": "execute_result"
    }
   ],
   "source": [
    "neighborhoods_df_map[\"cidade_baixa\"].filter(pl.col(\"listing\").struct.field(\"id\") == \"2761415335\")"
   ]
  }
 ],
 "metadata": {
  "kernelspec": {
   "display_name": ".venv",
   "language": "python",
   "name": "python3"
  },
  "language_info": {
   "codemirror_mode": {
    "name": "ipython",
    "version": 3
   },
   "file_extension": ".py",
   "mimetype": "text/x-python",
   "name": "python",
   "nbconvert_exporter": "python",
   "pygments_lexer": "ipython3",
   "version": "3.11.1"
  }
 },
 "nbformat": 4,
 "nbformat_minor": 2
}
