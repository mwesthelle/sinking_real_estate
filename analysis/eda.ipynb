{
 "cells": [
  {
   "cell_type": "markdown",
   "metadata": {},
   "source": [
    "# Análise Exploratória de Dados"
   ]
  },
  {
   "cell_type": "markdown",
   "metadata": {},
   "source": [
    "## Preparação"
   ]
  },
  {
   "cell_type": "code",
   "execution_count": 4,
   "metadata": {},
   "outputs": [],
   "source": [
    "import warnings\n",
    "\n",
    "import polars as pl\n",
    "from tabulate import tabulate\n",
    "\n",
    "from df_utils import (\n",
    "    get_list_column_max_len,\n",
    "    normalize_schemas,\n",
    "    one_hot_encode_list_column,\n",
    ")\n",
    "from geo_location import extract_polygons_from_folder, mark_points_in_polygons\n",
    "\n",
    "warnings.filterwarnings('ignore', category=pl.exceptions.MapWithoutReturnDtypeWarning)"
   ]
  },
  {
   "cell_type": "markdown",
   "metadata": {},
   "source": [
    "## Leitura de dados\n",
    "\n",
    "Os dados se encontram no formato NDJSON, também conhecido como JSONLines,\n",
    "em que há um objeto JSON por linha no arquivo."
   ]
  },
  {
   "cell_type": "code",
   "execution_count": 5,
   "metadata": {},
   "outputs": [],
   "source": [
    "neighborhoods = [\"cidade_baixa\", \"centro_historico\", \"menino_deus\", \"sarandi\"]\n",
    "\n",
    "neighborhoods_df_map = {\n",
    "    neighborhood: pl.read_ndjson(f\"data/{neighborhood}_listings.json\")\n",
    "    for neighborhood in neighborhoods\n",
    "}"
   ]
  },
  {
   "cell_type": "markdown",
   "metadata": {},
   "source": [
    "## Entendimento dos dados e pré-processamento"
   ]
  },
  {
   "cell_type": "markdown",
   "metadata": {},
   "source": [
    "Gostaríamos de concatenar os dados das diferentes fontes, para facilitar a análise."
   ]
  },
  {
   "cell_type": "code",
   "execution_count": 6,
   "metadata": {},
   "outputs": [
    {
     "name": "stdout",
     "output_type": "stream",
     "text": [
      "Os dados não têm esquema homogêneo.\n"
     ]
    }
   ],
   "source": [
    "try:\n",
    "    pl.concat(neighborhoods_df_map.values())\n",
    "except pl.exceptions.SchemaError:\n",
    "    print(\"Os dados não têm esquema homogêneo.\")"
   ]
  },
  {
   "cell_type": "markdown",
   "metadata": {},
   "source": [
    "A concatenação direta não é possível, pois a estrutura dos dados não é homogênea."
   ]
  },
  {
   "cell_type": "code",
   "execution_count": 7,
   "metadata": {},
   "outputs": [
    {
     "name": "stdout",
     "output_type": "stream",
     "text": [
      "cidade_baixa\n",
      "============\n",
      "Schema([('listing', Struct({'stamps': List(String), 'legacyId': String, 'createdAt': String, 'usableAreas': List(Int64), 'title': String, 'contractType': String, 'sourceId': String, 'id': String, 'portal': String, 'acceptExchange': Boolean, 'advertiserContact': Struct({'chat': String, 'phones': List(String)}), 'buildings': Int64, 'usageTypes': List(String), 'unitTypes': List(String), 'updatedAt': String, 'displayAddressType': String, 'listingsCount': Int64, 'constructionStatus': String, 'unitFloor': Int64, 'suites': List(Int64), 'unitSubTypes': List(String), 'unitsOnTheFloor': Int64, 'externalId': String, 'bedrooms': List(Int64), 'amenities': List(String), 'floors': List(Int64), 'description': String, 'pricingInfos': List(Struct({'businessType': String, 'yearlyIptu': Int64, 'price': Int64, 'monthlyCondoFee': Int64, 'rentalInfo': Struct({'period': String, 'warranties': List(Null)})})), 'nonActivationReason': String, 'parkingSpaces': List(Int64), 'listingType': String, 'bathrooms': List(Int64), 'whatsappNumber': String, 'showPrice': Boolean, 'resale': Boolean, 'propertyType': String, 'status': String, 'address': Struct({'city': String, 'neighborhood': String, 'street': String, 'streetNumber': String, 'point': Struct({'source': String, 'approximateLat': Float64, 'approximateLon': Float64, 'radius': Int64, 'lat': Float64, 'lon': Float64}), 'stateAcronym': String}), 'publicationType': String, 'providerId': String, 'advertiserId': String, 'capacityLimit': List(Int64), 'totalAreas': List(Int64)})), ('account', Struct({'id': String, 'name': String, 'logoUrl': String, 'licenseNumber': String, 'showAddress': Boolean, 'legacyVivarealId': Int64, 'legacyZapId': Int64, 'createdDate': String, 'tier': String})), ('medias', List(Struct({'id': String, 'url': String, 'type': String}))), ('accountLink', Struct({'name': String, 'href': String, 'rel': String, 'data': Struct({})})), ('link', Struct({'name': String, 'href': String, 'rel': String, 'data': Struct({'city': String, 'neighborhood': String, 'state': String, 'street': String, 'streetNumber': String, 'zone': String})}))])\n",
      "\n",
      "centro_historico\n",
      "================\n",
      "Schema([('listing', Struct({'stamps': List(String), 'legacyId': String, 'createdAt': String, 'usableAreas': List(Int64), 'title': String, 'contractType': String, 'sourceId': String, 'id': String, 'portal': String, 'acceptExchange': Boolean, 'advertiserContact': Struct({'chat': String, 'phones': List(String)}), 'buildings': Int64, 'usageTypes': List(String), 'unitTypes': List(String), 'updatedAt': String, 'displayAddressType': String, 'listingsCount': Int64, 'constructionStatus': String, 'unitFloor': Int64, 'suites': List(Int64), 'unitSubTypes': List(String), 'unitsOnTheFloor': Int64, 'externalId': String, 'bedrooms': List(Int64), 'amenities': List(String), 'floors': List(Int64), 'description': String, 'pricingInfos': List(Struct({'businessType': String, 'yearlyIptu': Int64, 'price': Int64, 'monthlyCondoFee': Int64, 'rentalInfo': Struct({'period': String, 'warranties': List(Null), 'monthlyRentalTotalPrice': Int64})})), 'nonActivationReason': String, 'parkingSpaces': List(Int64), 'listingType': String, 'bathrooms': List(Int64), 'whatsappNumber': String, 'showPrice': Boolean, 'resale': Boolean, 'propertyType': String, 'status': String, 'address': Struct({'city': String, 'neighborhood': String, 'street': String, 'streetNumber': String, 'point': Struct({'source': String, 'approximateLat': Float64, 'approximateLon': Float64, 'radius': Int64, 'lat': Float64, 'lon': Float64}), 'stateAcronym': String}), 'publicationType': String, 'providerId': String, 'advertiserId': String, 'capacityLimit': List(Null), 'totalAreas': List(Int64)})), ('account', Struct({'id': String, 'name': String, 'logoUrl': String, 'licenseNumber': String, 'showAddress': Boolean, 'legacyVivarealId': Int64, 'legacyZapId': Int64, 'createdDate': String, 'tier': String})), ('medias', List(Struct({'id': String, 'url': String, 'type': String}))), ('accountLink', Struct({'name': String, 'href': String, 'rel': String, 'data': Struct({})})), ('link', Struct({'name': String, 'href': String, 'rel': String, 'data': Struct({'city': String, 'neighborhood': String, 'state': String, 'street': String, 'streetNumber': String, 'zone': String})}))])\n",
      "\n",
      "menino_deus\n",
      "===========\n",
      "Schema([('listing', Struct({'stamps': List(String), 'legacyId': String, 'createdAt': String, 'usableAreas': List(Int64), 'title': String, 'contractType': String, 'sourceId': String, 'id': String, 'portal': String, 'acceptExchange': Boolean, 'advertiserContact': Struct({'chat': String, 'phones': List(String)}), 'buildings': Int64, 'usageTypes': List(String), 'unitTypes': List(String), 'updatedAt': String, 'displayAddressType': String, 'listingsCount': Int64, 'constructionStatus': String, 'unitFloor': Int64, 'suites': List(Int64), 'unitSubTypes': List(String), 'unitsOnTheFloor': Int64, 'externalId': String, 'bedrooms': List(Int64), 'amenities': List(String), 'floors': List(Int64), 'description': String, 'pricingInfos': List(Struct({'businessType': String, 'yearlyIptu': Int64, 'price': Int64, 'monthlyCondoFee': Int64, 'rentalInfo': Struct({'period': String, 'warranties': List(Null), 'monthlyRentalTotalPrice': Int64})})), 'nonActivationReason': String, 'parkingSpaces': List(Int64), 'listingType': String, 'bathrooms': List(Int64), 'whatsappNumber': String, 'showPrice': Boolean, 'resale': Boolean, 'propertyType': String, 'status': String, 'address': Struct({'city': String, 'neighborhood': String, 'street': String, 'streetNumber': String, 'point': Struct({'source': String, 'approximateLat': Float64, 'approximateLon': Float64, 'radius': Int64, 'lat': Float64, 'lon': Float64}), 'stateAcronym': String}), 'publicationType': String, 'providerId': String, 'advertiserId': String, 'capacityLimit': List(Null), 'totalAreas': List(Int64)})), ('account', Struct({'id': String, 'name': String, 'logoUrl': String, 'licenseNumber': String, 'showAddress': Boolean, 'legacyVivarealId': Int64, 'legacyZapId': Int64, 'createdDate': String, 'tier': String})), ('medias', List(Struct({'id': String, 'url': String, 'type': String}))), ('accountLink', Struct({'name': String, 'href': String, 'rel': String, 'data': Struct({})})), ('link', Struct({'name': String, 'href': String, 'rel': String, 'data': Struct({'city': String, 'neighborhood': String, 'state': String, 'street': String, 'streetNumber': String, 'zone': String})}))])\n",
      "\n",
      "sarandi\n",
      "=======\n",
      "Schema([('listing', Struct({'stamps': List(String), 'legacyId': String, 'createdAt': String, 'usableAreas': List(Int64), 'title': String, 'contractType': String, 'sourceId': String, 'id': String, 'portal': String, 'acceptExchange': Boolean, 'advertiserContact': Struct({'chat': String, 'phones': List(String)}), 'buildings': Int64, 'usageTypes': List(String), 'unitTypes': List(String), 'updatedAt': String, 'displayAddressType': String, 'listingsCount': Int64, 'constructionStatus': String, 'unitFloor': Int64, 'suites': List(Int64), 'unitSubTypes': List(String), 'unitsOnTheFloor': Int64, 'externalId': String, 'bedrooms': List(Int64), 'amenities': List(String), 'floors': List(Int64), 'description': String, 'pricingInfos': List(Struct({'businessType': String, 'yearlyIptu': Int64, 'price': Int64, 'monthlyCondoFee': Int64})), 'nonActivationReason': String, 'parkingSpaces': List(Int64), 'listingType': String, 'bathrooms': List(Int64), 'whatsappNumber': String, 'showPrice': Boolean, 'resale': Boolean, 'propertyType': String, 'status': String, 'address': Struct({'city': String, 'neighborhood': String, 'street': String, 'streetNumber': String, 'point': Struct({'source': String, 'approximateLat': Float64, 'approximateLon': Float64, 'radius': Int64, 'lat': Float64, 'lon': Float64}), 'stateAcronym': String}), 'publicationType': String, 'providerId': String, 'advertiserId': String, 'capacityLimit': List(Int64), 'totalAreas': List(Int64)})), ('account', Struct({'id': String, 'name': String, 'logoUrl': String, 'licenseNumber': String, 'showAddress': Boolean, 'legacyVivarealId': Int64, 'legacyZapId': Int64, 'createdDate': String, 'tier': String})), ('medias', List(Struct({'id': String, 'url': String, 'type': String}))), ('accountLink', Struct({'name': String, 'href': String, 'rel': String, 'data': Struct({})})), ('link', Struct({'name': String, 'href': String, 'rel': String, 'data': Struct({'city': String, 'neighborhood': String, 'state': String, 'street': String, 'streetNumber': String, 'zone': String})}))])\n",
      "\n"
     ]
    }
   ],
   "source": [
    "for name, df in neighborhoods_df_map.items():\n",
    "    print(name)\n",
    "    print(\"=\" * len(name))\n",
    "    print(df.schema)\n",
    "    print()"
   ]
  },
  {
   "cell_type": "markdown",
   "metadata": {},
   "source": [
    "A maior diferença parece estar na estrutura aninhada `rentalInfo`,\n",
    "que não é presente nos dados vindos do bairro Sarandi."
   ]
  },
  {
   "cell_type": "code",
   "execution_count": 8,
   "metadata": {},
   "outputs": [],
   "source": [
    "dfs = list(neighborhoods_df_map.values())\n",
    "normalized_dfs = normalize_schemas(dfs)\n",
    "df = pl.concat(normalized_dfs)"
   ]
  },
  {
   "cell_type": "code",
   "execution_count": 9,
   "metadata": {},
   "outputs": [
    {
     "data": {
      "text/html": [
       "<div><style>\n",
       ".dataframe > thead > tr,\n",
       ".dataframe > tbody > tr {\n",
       "  text-align: right;\n",
       "  white-space: pre-wrap;\n",
       "}\n",
       "</style>\n",
       "<small>shape: (2, 5)</small><table border=\"1\" class=\"dataframe\"><thead><tr><th>listing</th><th>account</th><th>medias</th><th>accountLink</th><th>link</th></tr><tr><td>struct[43]</td><td>struct[9]</td><td>list[struct[3]]</td><td>struct[4]</td><td>struct[4]</td></tr></thead><tbody><tr><td>{[],&quot;26349587&quot;,&quot;2019-11-05T13:09:45.557+00:00&quot;,[46],&quot;Apartamento de 46 metros quadrados no bairro Cidade Baixa com 1 quarto&quot;,&quot;OWNER&quot;,&quot;a5adbade-589d-3c61-97b7-e4014f21cf3d&quot;,&quot;2463567709&quot;,&quot;GRUPOZAP&quot;,true,{&quot;&quot;,[&quot;5130130100&quot;]},0,[&quot;RESIDENTIAL&quot;],[&quot;APARTMENT&quot;],&quot;2024-12-17T11:12:11.169+00:00&quot;,&quot;STREET&quot;,null,&quot;ConstructionStatus_NONE&quot;,0,[],[],4,&quot;ZAP1593841&quot;,[1],[&quot;DISABLED_ACCESS&quot;, &quot;INTEGRATED_ENVIRONMENTS&quot;, … &quot;PARTY_HALL&quot;],[8],&quot;Apartamento em excelente estado, iluminado e silencioso, mobiliado com móveis embutidos , conceito aberto, cozinha e sala integrados, gás central, aquecimento em todas as torneiras, fica ar condicionado do quarto e todos os móveis embutidos quarto, banheiro, sala, cozinha e homeoffice.&quot;,[{&quot;SALE&quot;,600,290000,300,{null,[],null}}],&quot;NonActivationReason_NONE&quot;,[],&quot;USED&quot;,[1],&quot;&quot;,true,false,&quot;UNIT&quot;,&quot;ACTIVE&quot;,{&quot;Porto Alegre&quot;,&quot;Cidade Baixa&quot;,&quot;Rua Joaquim Nabuco&quot;,null,{&quot;GOOGLE&quot;,-30.041,-51.219,140,null,null},&quot;RS&quot;},&quot;PREMIUM&quot;,&quot;&quot;,&quot;dfadbe19-2554-5480-56eb-0780d0ee4019&quot;,[48],[0]}</td><td>{&quot;dfadbe19-2554-5480-56eb-0780d0ee4019&quot;,&quot;BÁRBARA EINSFELD DE BORBA&quot;,null,&quot;&quot;,true,345436,3136761,&quot;2018-05-11T05:14:21Z&quot;,&quot;&quot;}</td><td>[{&quot;7cb4b1098bf75603a7f2561456bc2883&quot;,&quot;https://resizedimgs.zapimoveis.com.br/{action}/{width}x{height}/vr.images.sp/7cb4b1098bf75603a7f2561456bc2883.webp&quot;,&quot;IMAGE&quot;}, {&quot;3ad45448360d515b4bbb3d833537b5e4&quot;,&quot;https://resizedimgs.zapimoveis.com.br/{action}/{width}x{height}/vr.images.sp/3ad45448360d515b4bbb3d833537b5e4.webp&quot;,&quot;IMAGE&quot;}, … {&quot;3c74183638571539a2c2f9f568a72d7a&quot;,&quot;https://resizedimgs.zapimoveis.com.br/{action}/{width}x{height}/vr.images.sp/3c74183638571539a2c2f9f568a72d7a.webp&quot;,&quot;IMAGE&quot;}]</td><td>{&quot;BÁRBARA EINSFELD DE BORBA&quot;,&quot;/imobiliaria/345436/&quot;,&quot;&quot;,{}}</td><td>{&quot;Apartamento com 1 Quarto à venda, 46m²&quot;,&quot;/imovel/venda-apartamento-1-quarto-mobiliado-cidade-baixa-porto-alegre-46m2-id-2463567709/&quot;,&quot;&quot;,{&quot;Porto Alegre&quot;,&quot;Cidade Baixa&quot;,&quot;&quot;,&quot;Rua Joaquim Nabuco&quot;,&quot;&quot;,&quot;&quot;}}</td></tr><tr><td>{[],&quot;&quot;,&quot;2024-12-01T21:22:02.001+00:00&quot;,[56],&quot;Compre apartamento silencioso,55,10m2 de área útil,2 quartos, piso parquet,living 2 ambientes,banhei&quot;,&quot;REAL_ESTATE&quot;,&quot;40017671-36da-3cb2-98e7-116dd4abcba1&quot;,&quot;2760694515&quot;,&quot;GRUPOZAP&quot;,false,{&quot;&quot;,[&quot;5132084035&quot;, &quot;51999671489&quot;]},0,[&quot;RESIDENTIAL&quot;],[&quot;APARTMENT&quot;],&quot;2024-12-26T12:00:41.422+00:00&quot;,&quot;ALL&quot;,7,&quot;ConstructionStatus_NONE&quot;,0,[0],[],0,&quot;VR527903&quot;,[2],[],[],&quot;Compre apartamento silencioso,55,10m2 de área útil,2 quartos, piso parquet,living 2 ambientes,banheiro social ,cozinha e área de serviço. O condomínio fica localizado em Rua José do Patrocínio no bairro Cidade Baixa em Porto Alegre. Está bem situado, próximo a pontos de interesse de Cidade Baixa, tais como Azambuja, Praça General Daltro Filho, Faculdade de Direito da Funda. Escola Sup. do Ministério Público, Praça Salvador Allende, e Policlínica Militar de Porto Alegre.Aceitamos Fiinanciamento Bancário e Fgts.Marque hoje mesmo uma visita com um de nossos Consultores Imobiliários caddstrados! ]]&gt;&quot;,[{&quot;SALE&quot;,0,275000,290,{null,[],null}}],&quot;NonActivationReason_NONE&quot;,[],&quot;USED&quot;,[1],&quot;51999671489&quot;,true,false,&quot;UNIT&quot;,&quot;ACTIVE&quot;,{&quot;Porto Alegre&quot;,&quot;Cidade Baixa&quot;,&quot;Rua José do Patrocínio&quot;,&quot;357&quot;,{&quot;GOOGLE&quot;,null,null,null,-30.038562,-51.224749},&quot;RS&quot;},&quot;PREMIUM&quot;,&quot;13887&quot;,&quot;90879777-b9cc-65b9-28c8-c86f00947af9&quot;,[66],[]}</td><td>{&quot;90879777-b9cc-65b9-28c8-c86f00947af9&quot;,&quot;Sperinde Vendas&quot;,&quot;https://resizedimgs.zapimoveis.com.br/{action}/{width}x{height}/vr.images.sp/fb5adab24465e4ba59ba7d6e4ac1de9e.webp&quot;,&quot;00411-J-RS&quot;,true,33518,2594637,&quot;2018-03-27T18:49:45Z&quot;,&quot;diamond&quot;}</td><td>[{&quot;3d8f346437754cf315cc942816497178&quot;,&quot;https://resizedimgs.zapimoveis.com.br/{action}/{width}x{height}/vr.images.sp/3d8f346437754cf315cc942816497178.webp&quot;,&quot;IMAGE&quot;}, {&quot;d309f06d26092646e716b47e93936c7d&quot;,&quot;https://resizedimgs.zapimoveis.com.br/{action}/{width}x{height}/vr.images.sp/d309f06d26092646e716b47e93936c7d.webp&quot;,&quot;IMAGE&quot;}, … {&quot;e0ddfeed8f77c5410adbbbe842aba483&quot;,&quot;https://resizedimgs.zapimoveis.com.br/{action}/{width}x{height}/vr.images.sp/e0ddfeed8f77c5410adbbbe842aba483.webp&quot;,&quot;IMAGE&quot;}]</td><td>{&quot;Sperinde Vendas&quot;,&quot;/imobiliaria/33518/&quot;,&quot;&quot;,{}}</td><td>{&quot;Apartamento com 2 Quartos à venda, 56m²&quot;,&quot;/imovel/venda-apartamento-2-quartos-cidade-baixa-porto-alegre-56m2-id-2760694515/&quot;,&quot;&quot;,{&quot;Porto Alegre&quot;,&quot;Cidade Baixa&quot;,&quot;&quot;,&quot;Rua José do Patrocínio&quot;,&quot;357&quot;,&quot;&quot;}}</td></tr></tbody></table></div>"
      ],
      "text/plain": [
       "shape: (2, 5)\n",
       "┌───────────────────┬───────────────────┬───────────────────┬───────────────────┬──────────────────┐\n",
       "│ listing           ┆ account           ┆ medias            ┆ accountLink       ┆ link             │\n",
       "│ ---               ┆ ---               ┆ ---               ┆ ---               ┆ ---              │\n",
       "│ struct[43]        ┆ struct[9]         ┆ list[struct[3]]   ┆ struct[4]         ┆ struct[4]        │\n",
       "╞═══════════════════╪═══════════════════╪═══════════════════╪═══════════════════╪══════════════════╡\n",
       "│ {[],\"26349587\",\"2 ┆ {\"dfadbe19-2554-5 ┆ [{\"7cb4b1098bf756 ┆ {\"BÁRBARA         ┆ {\"Apartamento    │\n",
       "│ 019-11-05T13:…    ┆ 480-56eb-0780…    ┆ 03a7f2561456b…    ┆ EINSFELD DE       ┆ com 1 Quarto à   │\n",
       "│                   ┆                   ┆                   ┆ BORBA\",\"…         ┆ v…               │\n",
       "│ {[],\"\",\"2024-12-0 ┆ {\"90879777-b9cc-6 ┆ [{\"3d8f346437754c ┆ {\"Sperinde Vendas ┆ {\"Apartamento    │\n",
       "│ 1T21:22:02.00…    ┆ 5b9-28c8-c86f…    ┆ f315cc9428164…    ┆ \",\"/imobiliar…    ┆ com 2 Quartos à  │\n",
       "│                   ┆                   ┆                   ┆                   ┆ …                │\n",
       "└───────────────────┴───────────────────┴───────────────────┴───────────────────┴──────────────────┘"
      ]
     },
     "execution_count": 9,
     "metadata": {},
     "output_type": "execute_result"
    }
   ],
   "source": [
    "df.head(2)"
   ]
  },
  {
   "cell_type": "markdown",
   "metadata": {},
   "source": [
    "A maior parte das informações que consideramos importantes para nossa análise estão\n",
    "na coluna `listing`, que tem uma estrutura aninhada complexa.\n",
    "Aplainamos a estrutura para simplificar a análise, e ainda mantemos o link do anúncio,\n",
    "presente na coluna `link`, e informações do anunciante (`account`)\n",
    "para facilitar a consulta para análises mais aprofundadas."
   ]
  },
  {
   "cell_type": "code",
   "execution_count": 10,
   "metadata": {},
   "outputs": [],
   "source": [
    "df = df.select([pl.col(\"listing\").struct.unnest(), pl.col(\"account\"), pl.col(\"link\")])\n",
    "df = df.rename({\"id\": \"listingId\"})\n",
    "df = df.select([pl.all().exclude(\"account\"), pl.col(\"account\").struct.unnest()])\n",
    "df = df.rename(\n",
    "    {\n",
    "        \"id\": \"accountId\",\n",
    "        \"name\": \"accountName\",\n",
    "        \"createdDate\": \"accountCreatedDate\",\n",
    "        \"tier\": \"accountTier\",\n",
    "    }\n",
    ")\n",
    "df = df.select(\n",
    "    [pl.all().exclude(\"link\"), pl.col(\"link\").struct.field(\"href\").alias(\"link_href\")]\n",
    ")"
   ]
  },
  {
   "cell_type": "code",
   "execution_count": 11,
   "metadata": {},
   "outputs": [
    {
     "data": {
      "text/html": [
       "<div><style>\n",
       ".dataframe > thead > tr,\n",
       ".dataframe > tbody > tr {\n",
       "  text-align: right;\n",
       "  white-space: pre-wrap;\n",
       "}\n",
       "</style>\n",
       "<small>shape: (2, 53)</small><table border=\"1\" class=\"dataframe\"><thead><tr><th>stamps</th><th>legacyId</th><th>createdAt</th><th>usableAreas</th><th>title</th><th>contractType</th><th>sourceId</th><th>listingId</th><th>portal</th><th>acceptExchange</th><th>advertiserContact</th><th>buildings</th><th>usageTypes</th><th>unitTypes</th><th>updatedAt</th><th>displayAddressType</th><th>listingsCount</th><th>constructionStatus</th><th>unitFloor</th><th>suites</th><th>unitSubTypes</th><th>unitsOnTheFloor</th><th>externalId</th><th>bedrooms</th><th>amenities</th><th>floors</th><th>description</th><th>pricingInfos</th><th>nonActivationReason</th><th>parkingSpaces</th><th>listingType</th><th>bathrooms</th><th>whatsappNumber</th><th>showPrice</th><th>resale</th><th>propertyType</th><th>status</th><th>address</th><th>publicationType</th><th>providerId</th><th>advertiserId</th><th>totalAreas</th><th>capacityLimit</th><th>accountId</th><th>accountName</th><th>logoUrl</th><th>licenseNumber</th><th>showAddress</th><th>legacyVivarealId</th><th>legacyZapId</th><th>accountCreatedDate</th><th>accountTier</th><th>link_href</th></tr><tr><td>list[str]</td><td>str</td><td>str</td><td>list[i64]</td><td>str</td><td>str</td><td>str</td><td>str</td><td>str</td><td>bool</td><td>struct[2]</td><td>i64</td><td>list[str]</td><td>list[str]</td><td>str</td><td>str</td><td>i64</td><td>str</td><td>i64</td><td>list[i64]</td><td>list[str]</td><td>i64</td><td>str</td><td>list[i64]</td><td>list[str]</td><td>list[i64]</td><td>str</td><td>list[struct[5]]</td><td>str</td><td>list[i64]</td><td>str</td><td>list[i64]</td><td>str</td><td>bool</td><td>bool</td><td>str</td><td>str</td><td>struct[6]</td><td>str</td><td>str</td><td>str</td><td>list[i64]</td><td>list[i64]</td><td>str</td><td>str</td><td>str</td><td>str</td><td>bool</td><td>i64</td><td>i64</td><td>str</td><td>str</td><td>str</td></tr></thead><tbody><tr><td>[]</td><td>&quot;26349587&quot;</td><td>&quot;2019-11-05T13:09:45.557+00:00&quot;</td><td>[46]</td><td>&quot;Apartamento de 46 metros quadr…</td><td>&quot;OWNER&quot;</td><td>&quot;a5adbade-589d-3c61-97b7-e4014f…</td><td>&quot;2463567709&quot;</td><td>&quot;GRUPOZAP&quot;</td><td>true</td><td>{&quot;&quot;,[&quot;5130130100&quot;]}</td><td>0</td><td>[&quot;RESIDENTIAL&quot;]</td><td>[&quot;APARTMENT&quot;]</td><td>&quot;2024-12-17T11:12:11.169+00:00&quot;</td><td>&quot;STREET&quot;</td><td>null</td><td>&quot;ConstructionStatus_NONE&quot;</td><td>0</td><td>[]</td><td>[]</td><td>4</td><td>&quot;ZAP1593841&quot;</td><td>[1]</td><td>[&quot;DISABLED_ACCESS&quot;, &quot;INTEGRATED_ENVIRONMENTS&quot;, … &quot;PARTY_HALL&quot;]</td><td>[8]</td><td>&quot;Apartamento em excelente estad…</td><td>[{&quot;SALE&quot;,600,290000,300,{null,[],null}}]</td><td>&quot;NonActivationReason_NONE&quot;</td><td>[]</td><td>&quot;USED&quot;</td><td>[1]</td><td>&quot;&quot;</td><td>true</td><td>false</td><td>&quot;UNIT&quot;</td><td>&quot;ACTIVE&quot;</td><td>{&quot;Porto Alegre&quot;,&quot;Cidade Baixa&quot;,&quot;Rua Joaquim Nabuco&quot;,null,{&quot;GOOGLE&quot;,-30.041,-51.219,140,null,null},&quot;RS&quot;}</td><td>&quot;PREMIUM&quot;</td><td>&quot;&quot;</td><td>&quot;dfadbe19-2554-5480-56eb-0780d0…</td><td>[48]</td><td>[0]</td><td>&quot;dfadbe19-2554-5480-56eb-0780d0…</td><td>&quot;BÁRBARA EINSFELD DE BORBA&quot;</td><td>null</td><td>&quot;&quot;</td><td>true</td><td>345436</td><td>3136761</td><td>&quot;2018-05-11T05:14:21Z&quot;</td><td>&quot;&quot;</td><td>&quot;/imovel/venda-apartamento-1-qu…</td></tr><tr><td>[]</td><td>&quot;&quot;</td><td>&quot;2024-12-01T21:22:02.001+00:00&quot;</td><td>[56]</td><td>&quot;Compre apartamento silencioso,…</td><td>&quot;REAL_ESTATE&quot;</td><td>&quot;40017671-36da-3cb2-98e7-116dd4…</td><td>&quot;2760694515&quot;</td><td>&quot;GRUPOZAP&quot;</td><td>false</td><td>{&quot;&quot;,[&quot;5132084035&quot;, &quot;51999671489&quot;]}</td><td>0</td><td>[&quot;RESIDENTIAL&quot;]</td><td>[&quot;APARTMENT&quot;]</td><td>&quot;2024-12-26T12:00:41.422+00:00&quot;</td><td>&quot;ALL&quot;</td><td>7</td><td>&quot;ConstructionStatus_NONE&quot;</td><td>0</td><td>[0]</td><td>[]</td><td>0</td><td>&quot;VR527903&quot;</td><td>[2]</td><td>[]</td><td>[]</td><td>&quot;Compre apartamento silencioso,…</td><td>[{&quot;SALE&quot;,0,275000,290,{null,[],null}}]</td><td>&quot;NonActivationReason_NONE&quot;</td><td>[]</td><td>&quot;USED&quot;</td><td>[1]</td><td>&quot;51999671489&quot;</td><td>true</td><td>false</td><td>&quot;UNIT&quot;</td><td>&quot;ACTIVE&quot;</td><td>{&quot;Porto Alegre&quot;,&quot;Cidade Baixa&quot;,&quot;Rua José do Patrocínio&quot;,&quot;357&quot;,{&quot;GOOGLE&quot;,null,null,null,-30.038562,-51.224749},&quot;RS&quot;}</td><td>&quot;PREMIUM&quot;</td><td>&quot;13887&quot;</td><td>&quot;90879777-b9cc-65b9-28c8-c86f00…</td><td>[66]</td><td>[]</td><td>&quot;90879777-b9cc-65b9-28c8-c86f00…</td><td>&quot;Sperinde Vendas&quot;</td><td>&quot;https://resizedimgs.zapimoveis…</td><td>&quot;00411-J-RS&quot;</td><td>true</td><td>33518</td><td>2594637</td><td>&quot;2018-03-27T18:49:45Z&quot;</td><td>&quot;diamond&quot;</td><td>&quot;/imovel/venda-apartamento-2-qu…</td></tr></tbody></table></div>"
      ],
      "text/plain": [
       "shape: (2, 53)\n",
       "┌───────────┬──────────┬───────────┬───────────┬───┬───────────┬───────────┬───────────┬───────────┐\n",
       "│ stamps    ┆ legacyId ┆ createdAt ┆ usableAre ┆ … ┆ legacyZap ┆ accountCr ┆ accountTi ┆ link_href │\n",
       "│ ---       ┆ ---      ┆ ---       ┆ as        ┆   ┆ Id        ┆ eatedDate ┆ er        ┆ ---       │\n",
       "│ list[str] ┆ str      ┆ str       ┆ ---       ┆   ┆ ---       ┆ ---       ┆ ---       ┆ str       │\n",
       "│           ┆          ┆           ┆ list[i64] ┆   ┆ i64       ┆ str       ┆ str       ┆           │\n",
       "╞═══════════╪══════════╪═══════════╪═══════════╪═══╪═══════════╪═══════════╪═══════════╪═══════════╡\n",
       "│ []        ┆ 26349587 ┆ 2019-11-0 ┆ [46]      ┆ … ┆ 3136761   ┆ 2018-05-1 ┆           ┆ /imovel/v │\n",
       "│           ┆          ┆ 5T13:09:4 ┆           ┆   ┆           ┆ 1T05:14:2 ┆           ┆ enda-apar │\n",
       "│           ┆          ┆ 5.557+00: ┆           ┆   ┆           ┆ 1Z        ┆           ┆ tamento-1 │\n",
       "│           ┆          ┆ 00        ┆           ┆   ┆           ┆           ┆           ┆ -qu…      │\n",
       "│ []        ┆          ┆ 2024-12-0 ┆ [56]      ┆ … ┆ 2594637   ┆ 2018-03-2 ┆ diamond   ┆ /imovel/v │\n",
       "│           ┆          ┆ 1T21:22:0 ┆           ┆   ┆           ┆ 7T18:49:4 ┆           ┆ enda-apar │\n",
       "│           ┆          ┆ 2.001+00: ┆           ┆   ┆           ┆ 5Z        ┆           ┆ tamento-2 │\n",
       "│           ┆          ┆ 00        ┆           ┆   ┆           ┆           ┆           ┆ -qu…      │\n",
       "└───────────┴──────────┴───────────┴───────────┴───┴───────────┴───────────┴───────────┴───────────┘"
      ]
     },
     "execution_count": 11,
     "metadata": {},
     "output_type": "execute_result"
    }
   ],
   "source": [
    "df.head(2)"
   ]
  },
  {
   "cell_type": "markdown",
   "metadata": {},
   "source": [
    "Qual o tamanho da massa de dados?"
   ]
  },
  {
   "cell_type": "code",
   "execution_count": 12,
   "metadata": {},
   "outputs": [
    {
     "data": {
      "text/plain": [
       "17341"
      ]
     },
     "execution_count": 12,
     "metadata": {},
     "output_type": "execute_result"
    }
   ],
   "source": [
    "df.height"
   ]
  },
  {
   "cell_type": "markdown",
   "metadata": {},
   "source": [
    "Obtivemos 17.341 amostras."
   ]
  },
  {
   "cell_type": "markdown",
   "metadata": {},
   "source": [
    "Quantas amostras de cada bairro?"
   ]
  },
  {
   "cell_type": "code",
   "execution_count": 13,
   "metadata": {},
   "outputs": [],
   "source": [
    "df = df.unnest(\"address\")"
   ]
  },
  {
   "cell_type": "code",
   "execution_count": 14,
   "metadata": {},
   "outputs": [
    {
     "data": {
      "text/html": [
       "<div><style>\n",
       ".dataframe > thead > tr,\n",
       ".dataframe > tbody > tr {\n",
       "  text-align: right;\n",
       "  white-space: pre-wrap;\n",
       "}\n",
       "</style>\n",
       "<small>shape: (36, 2)</small><table border=\"1\" class=\"dataframe\"><thead><tr><th>neighborhood</th><th>len</th></tr><tr><td>str</td><td>u32</td></tr></thead><tbody><tr><td>&quot;Centro Histórico&quot;</td><td>6407</td></tr><tr><td>&quot;Menino Deus&quot;</td><td>5215</td></tr><tr><td>&quot;Sarandi&quot;</td><td>2615</td></tr><tr><td>&quot;Cidade Baixa&quot;</td><td>2052</td></tr><tr><td>&quot;Santa Tereza&quot;</td><td>268</td></tr><tr><td>&hellip;</td><td>&hellip;</td></tr><tr><td>&quot;Jardim Europa&quot;</td><td>1</td></tr><tr><td>&quot;Agronomia&quot;</td><td>1</td></tr><tr><td>&quot;Humaitá&quot;</td><td>1</td></tr><tr><td>&quot;Rio Branco&quot;</td><td>1</td></tr><tr><td>&quot;Jardim São Pedro&quot;</td><td>1</td></tr></tbody></table></div>"
      ],
      "text/plain": [
       "shape: (36, 2)\n",
       "┌──────────────────┬──────┐\n",
       "│ neighborhood     ┆ len  │\n",
       "│ ---              ┆ ---  │\n",
       "│ str              ┆ u32  │\n",
       "╞══════════════════╪══════╡\n",
       "│ Centro Histórico ┆ 6407 │\n",
       "│ Menino Deus      ┆ 5215 │\n",
       "│ Sarandi          ┆ 2615 │\n",
       "│ Cidade Baixa     ┆ 2052 │\n",
       "│ Santa Tereza     ┆ 268  │\n",
       "│ …                ┆ …    │\n",
       "│ Jardim Europa    ┆ 1    │\n",
       "│ Agronomia        ┆ 1    │\n",
       "│ Humaitá          ┆ 1    │\n",
       "│ Rio Branco       ┆ 1    │\n",
       "│ Jardim São Pedro ┆ 1    │\n",
       "└──────────────────┴──────┘"
      ]
     },
     "execution_count": 14,
     "metadata": {},
     "output_type": "execute_result"
    }
   ],
   "source": [
    "df.group_by(\"neighborhood\").len().sort(by=\"len\", descending=True)"
   ]
  },
  {
   "cell_type": "markdown",
   "metadata": {},
   "source": [
    "Nota-se que o processo de extração trouxe dados de outros bairros, além dos desejados,\n",
    "mas em menor quantidade."
   ]
  },
  {
   "cell_type": "code",
   "execution_count": 15,
   "metadata": {},
   "outputs": [],
   "source": [
    "target_neighborhoods = [\"Centro Histórico\", \"Cidade Baixa\", \"Menino Deus\", \"Sarandi\"]"
   ]
  },
  {
   "cell_type": "code",
   "execution_count": 16,
   "metadata": {},
   "outputs": [],
   "source": [
    "df = df.filter(pl.col(\"neighborhood\").is_in(target_neighborhoods))"
   ]
  },
  {
   "cell_type": "code",
   "execution_count": 17,
   "metadata": {},
   "outputs": [
    {
     "data": {
      "text/html": [
       "<div><style>\n",
       ".dataframe > thead > tr,\n",
       ".dataframe > tbody > tr {\n",
       "  text-align: right;\n",
       "  white-space: pre-wrap;\n",
       "}\n",
       "</style>\n",
       "<small>shape: (4, 2)</small><table border=\"1\" class=\"dataframe\"><thead><tr><th>neighborhood</th><th>len</th></tr><tr><td>str</td><td>u32</td></tr></thead><tbody><tr><td>&quot;Centro Histórico&quot;</td><td>6407</td></tr><tr><td>&quot;Menino Deus&quot;</td><td>5215</td></tr><tr><td>&quot;Sarandi&quot;</td><td>2615</td></tr><tr><td>&quot;Cidade Baixa&quot;</td><td>2052</td></tr></tbody></table></div>"
      ],
      "text/plain": [
       "shape: (4, 2)\n",
       "┌──────────────────┬──────┐\n",
       "│ neighborhood     ┆ len  │\n",
       "│ ---              ┆ ---  │\n",
       "│ str              ┆ u32  │\n",
       "╞══════════════════╪══════╡\n",
       "│ Centro Histórico ┆ 6407 │\n",
       "│ Menino Deus      ┆ 5215 │\n",
       "│ Sarandi          ┆ 2615 │\n",
       "│ Cidade Baixa     ┆ 2052 │\n",
       "└──────────────────┴──────┘"
      ]
     },
     "execution_count": 17,
     "metadata": {},
     "output_type": "execute_result"
    }
   ],
   "source": [
    "df.group_by(\"neighborhood\").len().sort(by=\"len\", descending=True)"
   ]
  },
  {
   "cell_type": "code",
   "execution_count": 18,
   "metadata": {},
   "outputs": [
    {
     "data": {
      "text/plain": [
       "16289"
      ]
     },
     "execution_count": 18,
     "metadata": {},
     "output_type": "execute_result"
    }
   ],
   "source": [
    "df.height"
   ]
  },
  {
   "cell_type": "markdown",
   "metadata": {},
   "source": [
    "Restam 16.289 amostras."
   ]
  },
  {
   "cell_type": "markdown",
   "metadata": {},
   "source": [
    "A massa de dados é relativamente pequena, totalizando 16.289 imóveis."
   ]
  },
  {
   "cell_type": "markdown",
   "metadata": {},
   "source": [
    "Existem dados duplicados?"
   ]
  },
  {
   "cell_type": "code",
   "execution_count": 19,
   "metadata": {},
   "outputs": [
    {
     "data": {
      "text/plain": [
       "1708"
      ]
     },
     "execution_count": 19,
     "metadata": {},
     "output_type": "execute_result"
    }
   ],
   "source": [
    "df.filter(pl.col(\"listingId\").is_duplicated()).height"
   ]
  },
  {
   "cell_type": "markdown",
   "metadata": {},
   "source": [
    "Sim, 1.708 amostras são duplicadas."
   ]
  },
  {
   "cell_type": "code",
   "execution_count": 20,
   "metadata": {},
   "outputs": [],
   "source": [
    "df = df.unique(subset=\"listingId\")"
   ]
  },
  {
   "cell_type": "code",
   "execution_count": 21,
   "metadata": {},
   "outputs": [
    {
     "data": {
      "text/plain": [
       "15432"
      ]
     },
     "execution_count": 21,
     "metadata": {},
     "output_type": "execute_result"
    }
   ],
   "source": [
    "df.height"
   ]
  },
  {
   "cell_type": "code",
   "execution_count": 22,
   "metadata": {},
   "outputs": [
    {
     "data": {
      "text/html": [
       "<div><style>\n",
       ".dataframe > thead > tr,\n",
       ".dataframe > tbody > tr {\n",
       "  text-align: right;\n",
       "  white-space: pre-wrap;\n",
       "}\n",
       "</style>\n",
       "<small>shape: (4, 2)</small><table border=\"1\" class=\"dataframe\"><thead><tr><th>neighborhood</th><th>len</th></tr><tr><td>str</td><td>u32</td></tr></thead><tbody><tr><td>&quot;Centro Histórico&quot;</td><td>6059</td></tr><tr><td>&quot;Menino Deus&quot;</td><td>4815</td></tr><tr><td>&quot;Sarandi&quot;</td><td>2551</td></tr><tr><td>&quot;Cidade Baixa&quot;</td><td>2007</td></tr></tbody></table></div>"
      ],
      "text/plain": [
       "shape: (4, 2)\n",
       "┌──────────────────┬──────┐\n",
       "│ neighborhood     ┆ len  │\n",
       "│ ---              ┆ ---  │\n",
       "│ str              ┆ u32  │\n",
       "╞══════════════════╪══════╡\n",
       "│ Centro Histórico ┆ 6059 │\n",
       "│ Menino Deus      ┆ 4815 │\n",
       "│ Sarandi          ┆ 2551 │\n",
       "│ Cidade Baixa     ┆ 2007 │\n",
       "└──────────────────┴──────┘"
      ]
     },
     "execution_count": 22,
     "metadata": {},
     "output_type": "execute_result"
    }
   ],
   "source": [
    "df.group_by(\"neighborhood\").len().sort(by=\"len\", descending=True)"
   ]
  },
  {
   "cell_type": "markdown",
   "metadata": {},
   "source": [
    "### Descarte de informações não importantes"
   ]
  },
  {
   "cell_type": "markdown",
   "metadata": {},
   "source": [
    "Existe muita informação ruidosa nesses dados.\n",
    "Escolhemos as seguintes colunas para descarte."
   ]
  },
  {
   "cell_type": "code",
   "execution_count": 23,
   "metadata": {},
   "outputs": [
    {
     "data": {
      "text/html": [
       "<div><style>\n",
       ".dataframe > thead > tr,\n",
       ".dataframe > tbody > tr {\n",
       "  text-align: right;\n",
       "  white-space: pre-wrap;\n",
       "}\n",
       "</style>\n",
       "<small>shape: (1, 58)</small><table border=\"1\" class=\"dataframe\"><thead><tr><th>stamps</th><th>legacyId</th><th>createdAt</th><th>usableAreas</th><th>title</th><th>contractType</th><th>sourceId</th><th>listingId</th><th>portal</th><th>acceptExchange</th><th>advertiserContact</th><th>buildings</th><th>usageTypes</th><th>unitTypes</th><th>updatedAt</th><th>displayAddressType</th><th>listingsCount</th><th>constructionStatus</th><th>unitFloor</th><th>suites</th><th>unitSubTypes</th><th>unitsOnTheFloor</th><th>externalId</th><th>bedrooms</th><th>amenities</th><th>floors</th><th>description</th><th>pricingInfos</th><th>nonActivationReason</th><th>parkingSpaces</th><th>listingType</th><th>bathrooms</th><th>whatsappNumber</th><th>showPrice</th><th>resale</th><th>propertyType</th><th>status</th><th>city</th><th>neighborhood</th><th>street</th><th>streetNumber</th><th>point</th><th>stateAcronym</th><th>publicationType</th><th>providerId</th><th>advertiserId</th><th>totalAreas</th><th>capacityLimit</th><th>accountId</th><th>accountName</th><th>logoUrl</th><th>licenseNumber</th><th>showAddress</th><th>legacyVivarealId</th><th>legacyZapId</th><th>accountCreatedDate</th><th>accountTier</th><th>link_href</th></tr><tr><td>list[str]</td><td>str</td><td>str</td><td>list[i64]</td><td>str</td><td>str</td><td>str</td><td>str</td><td>str</td><td>bool</td><td>struct[2]</td><td>i64</td><td>list[str]</td><td>list[str]</td><td>str</td><td>str</td><td>i64</td><td>str</td><td>i64</td><td>list[i64]</td><td>list[str]</td><td>i64</td><td>str</td><td>list[i64]</td><td>list[str]</td><td>list[i64]</td><td>str</td><td>list[struct[5]]</td><td>str</td><td>list[i64]</td><td>str</td><td>list[i64]</td><td>str</td><td>bool</td><td>bool</td><td>str</td><td>str</td><td>str</td><td>str</td><td>str</td><td>str</td><td>struct[6]</td><td>str</td><td>str</td><td>str</td><td>str</td><td>list[i64]</td><td>list[i64]</td><td>str</td><td>str</td><td>str</td><td>str</td><td>bool</td><td>i64</td><td>i64</td><td>str</td><td>str</td><td>str</td></tr></thead><tbody><tr><td>[]</td><td>&quot;&quot;</td><td>&quot;2024-11-04T20:12:31.282+00:00&quot;</td><td>[37, 38]</td><td>&quot;Apartamento em Cidade Baixa co…</td><td>&quot;REAL_ESTATE&quot;</td><td>&quot;67d13ced-652c-31b1-ae45-a7176d…</td><td>&quot;2754214663&quot;</td><td>&quot;GRUPOZAP&quot;</td><td>false</td><td>{&quot;&quot;,[&quot;5192072370&quot;]}</td><td>0</td><td>[&quot;RESIDENTIAL&quot;]</td><td>[&quot;APARTMENT&quot;]</td><td>&quot;2024-12-26T07:15:52.948+00:00&quot;</td><td>&quot;ALL&quot;</td><td>7</td><td>&quot;ConstructionStatus_NONE&quot;</td><td>0</td><td>[]</td><td>[]</td><td>0</td><td>&quot;39626&quot;</td><td>[1]</td><td>[&quot;INTERCOM&quot;, &quot;KITCHEN&quot;]</td><td>[]</td><td>&quot;Este encantador apartamento de…</td><td>[{&quot;SALE&quot;,1500,200000,300,{null,[],null}}]</td><td>&quot;NonActivationReason_NONE&quot;</td><td>[0]</td><td>&quot;USED&quot;</td><td>[1]</td><td>&quot;&quot;</td><td>true</td><td>false</td><td>&quot;UNIT&quot;</td><td>&quot;ACTIVE&quot;</td><td>&quot;Porto Alegre&quot;</td><td>&quot;Cidade Baixa&quot;</td><td>&quot;Rua Luiz Afonso&quot;</td><td>&quot;558&quot;</td><td>{&quot;GOOGLE&quot;,null,null,null,-30.041164,-51.223899}</td><td>&quot;RS&quot;</td><td>&quot;PREMIUM&quot;</td><td>&quot;77942&quot;</td><td>&quot;8c109097-7891-1cd2-f172-ac8f5c…</td><td>[1, 43]</td><td>[]</td><td>&quot;8c109097-7891-1cd2-f172-ac8f5c…</td><td>&quot;Doorz Serviços Imobiliários&quot;</td><td>&quot;https://resizedimgs.zapimoveis…</td><td>&quot;27212-J-RS&quot;</td><td>false</td><td>814353</td><td>0</td><td>&quot;2023-09-06T13:48:21Z&quot;</td><td>&quot;diamond&quot;</td><td>&quot;/imovel/venda-apartamento-1-qu…</td></tr></tbody></table></div>"
      ],
      "text/plain": [
       "shape: (1, 58)\n",
       "┌───────────┬──────────┬───────────┬───────────┬───┬───────────┬───────────┬───────────┬───────────┐\n",
       "│ stamps    ┆ legacyId ┆ createdAt ┆ usableAre ┆ … ┆ legacyZap ┆ accountCr ┆ accountTi ┆ link_href │\n",
       "│ ---       ┆ ---      ┆ ---       ┆ as        ┆   ┆ Id        ┆ eatedDate ┆ er        ┆ ---       │\n",
       "│ list[str] ┆ str      ┆ str       ┆ ---       ┆   ┆ ---       ┆ ---       ┆ ---       ┆ str       │\n",
       "│           ┆          ┆           ┆ list[i64] ┆   ┆ i64       ┆ str       ┆ str       ┆           │\n",
       "╞═══════════╪══════════╪═══════════╪═══════════╪═══╪═══════════╪═══════════╪═══════════╪═══════════╡\n",
       "│ []        ┆          ┆ 2024-11-0 ┆ [37, 38]  ┆ … ┆ 0         ┆ 2023-09-0 ┆ diamond   ┆ /imovel/v │\n",
       "│           ┆          ┆ 4T20:12:3 ┆           ┆   ┆           ┆ 6T13:48:2 ┆           ┆ enda-apar │\n",
       "│           ┆          ┆ 1.282+00: ┆           ┆   ┆           ┆ 1Z        ┆           ┆ tamento-1 │\n",
       "│           ┆          ┆ 00        ┆           ┆   ┆           ┆           ┆           ┆ -qu…      │\n",
       "└───────────┴──────────┴───────────┴───────────┴───┴───────────┴───────────┴───────────┴───────────┘"
      ]
     },
     "execution_count": 23,
     "metadata": {},
     "output_type": "execute_result"
    }
   ],
   "source": [
    "df.head(1)"
   ]
  },
  {
   "cell_type": "code",
   "execution_count": 24,
   "metadata": {},
   "outputs": [],
   "source": [
    "COLUMNS_TO_DROP = [\n",
    "    \"advertiserId\",\n",
    "    \"constructionStatus\",\n",
    "    \"portal\",\n",
    "    \"stamps\",\n",
    "    \"advertiserContact\",\n",
    "    \"whatsappNumber\",\n",
    "    \"title\",\n",
    "    \"nonActivationReason\",\n",
    "    \"status\",\n",
    "    \"legacyId\",\n",
    "    \"externalId\",\n",
    "    \"listingsCount\",\n",
    "    \"createdAt\",\n",
    "    \"updatedAt\",\n",
    "    \"showPrice\",\n",
    "    \"acceptExchange\",\n",
    "    \"description\",\n",
    "    \"sourceId\",\n",
    "    \"providerId\",\n",
    "    \"accountName\",\n",
    "    \"accountCreatedDate\",\n",
    "    \"accountTier\",\n",
    "    \"licenseNumber\",\n",
    "    \"logoUrl\",\n",
    "    \"legacyVivarealId\",\n",
    "    \"legacyZapId\",\n",
    "    \"showAddress\"\n",
    "]\n",
    "\n",
    "df = df.drop(COLUMNS_TO_DROP)"
   ]
  },
  {
   "cell_type": "code",
   "execution_count": 25,
   "metadata": {},
   "outputs": [
    {
     "data": {
      "text/html": [
       "<div><style>\n",
       ".dataframe > thead > tr,\n",
       ".dataframe > tbody > tr {\n",
       "  text-align: right;\n",
       "  white-space: pre-wrap;\n",
       "}\n",
       "</style>\n",
       "<small>shape: (3, 31)</small><table border=\"1\" class=\"dataframe\"><thead><tr><th>usableAreas</th><th>contractType</th><th>listingId</th><th>buildings</th><th>usageTypes</th><th>unitTypes</th><th>displayAddressType</th><th>unitFloor</th><th>suites</th><th>unitSubTypes</th><th>unitsOnTheFloor</th><th>bedrooms</th><th>amenities</th><th>floors</th><th>pricingInfos</th><th>parkingSpaces</th><th>listingType</th><th>bathrooms</th><th>resale</th><th>propertyType</th><th>city</th><th>neighborhood</th><th>street</th><th>streetNumber</th><th>point</th><th>stateAcronym</th><th>publicationType</th><th>totalAreas</th><th>capacityLimit</th><th>accountId</th><th>link_href</th></tr><tr><td>list[i64]</td><td>str</td><td>str</td><td>i64</td><td>list[str]</td><td>list[str]</td><td>str</td><td>i64</td><td>list[i64]</td><td>list[str]</td><td>i64</td><td>list[i64]</td><td>list[str]</td><td>list[i64]</td><td>list[struct[5]]</td><td>list[i64]</td><td>str</td><td>list[i64]</td><td>bool</td><td>str</td><td>str</td><td>str</td><td>str</td><td>str</td><td>struct[6]</td><td>str</td><td>str</td><td>list[i64]</td><td>list[i64]</td><td>str</td><td>str</td></tr></thead><tbody><tr><td>[37, 38]</td><td>&quot;REAL_ESTATE&quot;</td><td>&quot;2754214663&quot;</td><td>0</td><td>[&quot;RESIDENTIAL&quot;]</td><td>[&quot;APARTMENT&quot;]</td><td>&quot;ALL&quot;</td><td>0</td><td>[]</td><td>[]</td><td>0</td><td>[1]</td><td>[&quot;INTERCOM&quot;, &quot;KITCHEN&quot;]</td><td>[]</td><td>[{&quot;SALE&quot;,1500,200000,300,{null,[],null}}]</td><td>[0]</td><td>&quot;USED&quot;</td><td>[1]</td><td>false</td><td>&quot;UNIT&quot;</td><td>&quot;Porto Alegre&quot;</td><td>&quot;Cidade Baixa&quot;</td><td>&quot;Rua Luiz Afonso&quot;</td><td>&quot;558&quot;</td><td>{&quot;GOOGLE&quot;,null,null,null,-30.041164,-51.223899}</td><td>&quot;RS&quot;</td><td>&quot;PREMIUM&quot;</td><td>[1, 43]</td><td>[]</td><td>&quot;8c109097-7891-1cd2-f172-ac8f5c…</td><td>&quot;/imovel/venda-apartamento-1-qu…</td></tr><tr><td>[131]</td><td>&quot;REAL_ESTATE&quot;</td><td>&quot;2742418167&quot;</td><td>0</td><td>[&quot;COMMERCIAL&quot;]</td><td>[&quot;OFFICE&quot;]</td><td>&quot;ALL&quot;</td><td>0</td><td>[]</td><td>[]</td><td>0</td><td>[]</td><td>[]</td><td>[]</td><td>[{&quot;SALE&quot;,1500,657300,0,{null,[],null}}]</td><td>[]</td><td>&quot;USED&quot;</td><td>[1]</td><td>false</td><td>&quot;UNIT&quot;</td><td>&quot;Porto Alegre&quot;</td><td>&quot;Centro Histórico&quot;</td><td>&quot;Rua Uruguai&quot;</td><td>&quot;155&quot;</td><td>{&quot;GOOGLE&quot;,null,null,null,-30.028111,-51.22904}</td><td>&quot;RS&quot;</td><td>&quot;STANDARD&quot;</td><td>[175]</td><td>[]</td><td>&quot;dc0e9379-0d98-2ada-1128-b4e009…</td><td>&quot;/imovel/venda-conjunto-comerci…</td></tr><tr><td>[34]</td><td>&quot;REAL_ESTATE&quot;</td><td>&quot;2596966563&quot;</td><td>0</td><td>[&quot;RESIDENTIAL&quot;]</td><td>[&quot;APARTMENT&quot;]</td><td>&quot;ALL&quot;</td><td>4</td><td>[1]</td><td>[]</td><td>0</td><td>[1]</td><td>[&quot;KITCHEN&quot;, &quot;FURNISHED&quot;]</td><td>[4]</td><td>[{&quot;SALE&quot;,350,135000,200,{null,[],null}}]</td><td>[]</td><td>&quot;USED&quot;</td><td>[1]</td><td>false</td><td>&quot;UNIT&quot;</td><td>&quot;Porto Alegre&quot;</td><td>&quot;Centro Histórico&quot;</td><td>&quot;Avenida João Pessoa&quot;</td><td>&quot;403&quot;</td><td>{&quot;GOOGLE&quot;,null,null,null,-30.035665,-51.220879}</td><td>&quot;RS&quot;</td><td>&quot;PREMIUM&quot;</td><td>[41]</td><td>[]</td><td>&quot;8ce30dcf-d575-1b69-a46d-c41c78…</td><td>&quot;/imovel/venda-apartamento-1-qu…</td></tr></tbody></table></div>"
      ],
      "text/plain": [
       "shape: (3, 31)\n",
       "┌───────────┬───────────┬───────────┬───────────┬───┬───────────┬───────────┬───────────┬──────────┐\n",
       "│ usableAre ┆ contractT ┆ listingId ┆ buildings ┆ … ┆ totalArea ┆ capacityL ┆ accountId ┆ link_hre │\n",
       "│ as        ┆ ype       ┆ ---       ┆ ---       ┆   ┆ s         ┆ imit      ┆ ---       ┆ f        │\n",
       "│ ---       ┆ ---       ┆ str       ┆ i64       ┆   ┆ ---       ┆ ---       ┆ str       ┆ ---      │\n",
       "│ list[i64] ┆ str       ┆           ┆           ┆   ┆ list[i64] ┆ list[i64] ┆           ┆ str      │\n",
       "╞═══════════╪═══════════╪═══════════╪═══════════╪═══╪═══════════╪═══════════╪═══════════╪══════════╡\n",
       "│ [37, 38]  ┆ REAL_ESTA ┆ 275421466 ┆ 0         ┆ … ┆ [1, 43]   ┆ []        ┆ 8c109097- ┆ /imovel/ │\n",
       "│           ┆ TE        ┆ 3         ┆           ┆   ┆           ┆           ┆ 7891-1cd2 ┆ venda-ap │\n",
       "│           ┆           ┆           ┆           ┆   ┆           ┆           ┆ -f172-ac8 ┆ artament │\n",
       "│           ┆           ┆           ┆           ┆   ┆           ┆           ┆ f5c…      ┆ o-1-qu…  │\n",
       "│ [131]     ┆ REAL_ESTA ┆ 274241816 ┆ 0         ┆ … ┆ [175]     ┆ []        ┆ dc0e9379- ┆ /imovel/ │\n",
       "│           ┆ TE        ┆ 7         ┆           ┆   ┆           ┆           ┆ 0d98-2ada ┆ venda-co │\n",
       "│           ┆           ┆           ┆           ┆   ┆           ┆           ┆ -1128-b4e ┆ njunto-c │\n",
       "│           ┆           ┆           ┆           ┆   ┆           ┆           ┆ 009…      ┆ omerci…  │\n",
       "│ [34]      ┆ REAL_ESTA ┆ 259696656 ┆ 0         ┆ … ┆ [41]      ┆ []        ┆ 8ce30dcf- ┆ /imovel/ │\n",
       "│           ┆ TE        ┆ 3         ┆           ┆   ┆           ┆           ┆ d575-1b69 ┆ venda-ap │\n",
       "│           ┆           ┆           ┆           ┆   ┆           ┆           ┆ -a46d-c41 ┆ artament │\n",
       "│           ┆           ┆           ┆           ┆   ┆           ┆           ┆ c78…      ┆ o-1-qu…  │\n",
       "└───────────┴───────────┴───────────┴───────────┴───┴───────────┴───────────┴───────────┴──────────┘"
      ]
     },
     "execution_count": 25,
     "metadata": {},
     "output_type": "execute_result"
    }
   ],
   "source": [
    "df.head(3)"
   ]
  },
  {
   "cell_type": "markdown",
   "metadata": {},
   "source": [
    "### Atributos em forma de lista"
   ]
  },
  {
   "cell_type": "markdown",
   "metadata": {},
   "source": [
    "Sabemos que `amenities` descrevem as amenidades presentes em um dado imóvel,\n",
    "o que pode ser interessante transformar em atributos preditores para nossas regressões.\n",
    "\n",
    "Entretanto, ainda precisamos entender outras colunas que tem listas como valores.\n",
    "Várias delas não parecem fazer sentido em ter multiplicidade: em que contexto o número\n",
    "de quartos (bedrooms) precisa ser uma lista? Número de banheiros? Área utilizável?\n",
    "Uma unidade pode pertencer ao mesmo tempo a mais de um tipo (comercial, casa)?\n",
    "\n",
    "Em primeiro lugar, tentamos entender quais listas de fato vêm a possuir mais de um\n",
    "elemento.\n"
   ]
  },
  {
   "cell_type": "code",
   "execution_count": 26,
   "metadata": {},
   "outputs": [
    {
     "name": "stdout",
     "output_type": "stream",
     "text": [
      "floors       : 1\n",
      "unitSubTypes : 2\n",
      "suites       : 1\n",
      "unitTypes    : 1\n",
      "pricingInfos : 2\n",
      "parkingSpaces: 2\n",
      "totalAreas   : 2\n",
      "bathrooms    : 2\n",
      "bedrooms     : 2\n",
      "usableAreas  : 2\n",
      "usageTypes   : 2\n",
      "capacityLimit: 1\n"
     ]
    }
   ],
   "source": [
    "LIST_COLUMNS = [\n",
    "    \"floors\",\n",
    "    \"unitSubTypes\",\n",
    "    \"suites\",\n",
    "    \"unitTypes\",\n",
    "    \"pricingInfos\",\n",
    "    \"parkingSpaces\",\n",
    "    \"totalAreas\",\n",
    "    \"bathrooms\",\n",
    "    \"bedrooms\",\n",
    "    \"usableAreas\",\n",
    "    \"usageTypes\",\n",
    "    \"capacityLimit\",\n",
    "]\n",
    "\n",
    "max_colname_width = max(len(name) for name in LIST_COLUMNS)\n",
    "arrays_with_size_larger_than_one = []\n",
    "for colname in LIST_COLUMNS:\n",
    "    column_max_length = get_list_column_max_len(df, colname)\n",
    "    print(f\"{colname:<{max_colname_width}}: {column_max_length}\")\n",
    "    if column_max_length > 1:\n",
    "        arrays_with_size_larger_than_one.append(colname)"
   ]
  },
  {
   "cell_type": "markdown",
   "metadata": {},
   "source": [
    "A primeira coisa a se fazer, para facilitar o restante da nossa análise e pré-processamento,\n",
    "é transformar aquelas colunas que são sempre listas de um elemento em colunas escalares."
   ]
  },
  {
   "cell_type": "code",
   "execution_count": 27,
   "metadata": {},
   "outputs": [],
   "source": [
    "single_element_list_columns = [\n",
    "    \"capacityLimit\",\n",
    "    \"unitTypes\",\n",
    "    \"floors\",\n",
    "    \"suites\",\n",
    "]\n",
    "\n",
    "df = df.with_columns(\n",
    "    [pl.col(col).list.first().alias(col) for col in single_element_list_columns]\n",
    ")"
   ]
  },
  {
   "cell_type": "code",
   "execution_count": 28,
   "metadata": {},
   "outputs": [
    {
     "data": {
      "text/html": [
       "<div><style>\n",
       ".dataframe > thead > tr,\n",
       ".dataframe > tbody > tr {\n",
       "  text-align: right;\n",
       "  white-space: pre-wrap;\n",
       "}\n",
       "</style>\n",
       "<small>shape: (2, 31)</small><table border=\"1\" class=\"dataframe\"><thead><tr><th>usableAreas</th><th>contractType</th><th>listingId</th><th>buildings</th><th>usageTypes</th><th>unitTypes</th><th>displayAddressType</th><th>unitFloor</th><th>suites</th><th>unitSubTypes</th><th>unitsOnTheFloor</th><th>bedrooms</th><th>amenities</th><th>floors</th><th>pricingInfos</th><th>parkingSpaces</th><th>listingType</th><th>bathrooms</th><th>resale</th><th>propertyType</th><th>city</th><th>neighborhood</th><th>street</th><th>streetNumber</th><th>point</th><th>stateAcronym</th><th>publicationType</th><th>totalAreas</th><th>capacityLimit</th><th>accountId</th><th>link_href</th></tr><tr><td>list[i64]</td><td>str</td><td>str</td><td>i64</td><td>list[str]</td><td>str</td><td>str</td><td>i64</td><td>i64</td><td>list[str]</td><td>i64</td><td>list[i64]</td><td>list[str]</td><td>i64</td><td>list[struct[5]]</td><td>list[i64]</td><td>str</td><td>list[i64]</td><td>bool</td><td>str</td><td>str</td><td>str</td><td>str</td><td>str</td><td>struct[6]</td><td>str</td><td>str</td><td>list[i64]</td><td>i64</td><td>str</td><td>str</td></tr></thead><tbody><tr><td>[37, 38]</td><td>&quot;REAL_ESTATE&quot;</td><td>&quot;2754214663&quot;</td><td>0</td><td>[&quot;RESIDENTIAL&quot;]</td><td>&quot;APARTMENT&quot;</td><td>&quot;ALL&quot;</td><td>0</td><td>null</td><td>[]</td><td>0</td><td>[1]</td><td>[&quot;INTERCOM&quot;, &quot;KITCHEN&quot;]</td><td>null</td><td>[{&quot;SALE&quot;,1500,200000,300,{null,[],null}}]</td><td>[0]</td><td>&quot;USED&quot;</td><td>[1]</td><td>false</td><td>&quot;UNIT&quot;</td><td>&quot;Porto Alegre&quot;</td><td>&quot;Cidade Baixa&quot;</td><td>&quot;Rua Luiz Afonso&quot;</td><td>&quot;558&quot;</td><td>{&quot;GOOGLE&quot;,null,null,null,-30.041164,-51.223899}</td><td>&quot;RS&quot;</td><td>&quot;PREMIUM&quot;</td><td>[1, 43]</td><td>null</td><td>&quot;8c109097-7891-1cd2-f172-ac8f5c…</td><td>&quot;/imovel/venda-apartamento-1-qu…</td></tr><tr><td>[131]</td><td>&quot;REAL_ESTATE&quot;</td><td>&quot;2742418167&quot;</td><td>0</td><td>[&quot;COMMERCIAL&quot;]</td><td>&quot;OFFICE&quot;</td><td>&quot;ALL&quot;</td><td>0</td><td>null</td><td>[]</td><td>0</td><td>[]</td><td>[]</td><td>null</td><td>[{&quot;SALE&quot;,1500,657300,0,{null,[],null}}]</td><td>[]</td><td>&quot;USED&quot;</td><td>[1]</td><td>false</td><td>&quot;UNIT&quot;</td><td>&quot;Porto Alegre&quot;</td><td>&quot;Centro Histórico&quot;</td><td>&quot;Rua Uruguai&quot;</td><td>&quot;155&quot;</td><td>{&quot;GOOGLE&quot;,null,null,null,-30.028111,-51.22904}</td><td>&quot;RS&quot;</td><td>&quot;STANDARD&quot;</td><td>[175]</td><td>null</td><td>&quot;dc0e9379-0d98-2ada-1128-b4e009…</td><td>&quot;/imovel/venda-conjunto-comerci…</td></tr></tbody></table></div>"
      ],
      "text/plain": [
       "shape: (2, 31)\n",
       "┌───────────┬───────────┬───────────┬───────────┬───┬───────────┬───────────┬───────────┬──────────┐\n",
       "│ usableAre ┆ contractT ┆ listingId ┆ buildings ┆ … ┆ totalArea ┆ capacityL ┆ accountId ┆ link_hre │\n",
       "│ as        ┆ ype       ┆ ---       ┆ ---       ┆   ┆ s         ┆ imit      ┆ ---       ┆ f        │\n",
       "│ ---       ┆ ---       ┆ str       ┆ i64       ┆   ┆ ---       ┆ ---       ┆ str       ┆ ---      │\n",
       "│ list[i64] ┆ str       ┆           ┆           ┆   ┆ list[i64] ┆ i64       ┆           ┆ str      │\n",
       "╞═══════════╪═══════════╪═══════════╪═══════════╪═══╪═══════════╪═══════════╪═══════════╪══════════╡\n",
       "│ [37, 38]  ┆ REAL_ESTA ┆ 275421466 ┆ 0         ┆ … ┆ [1, 43]   ┆ null      ┆ 8c109097- ┆ /imovel/ │\n",
       "│           ┆ TE        ┆ 3         ┆           ┆   ┆           ┆           ┆ 7891-1cd2 ┆ venda-ap │\n",
       "│           ┆           ┆           ┆           ┆   ┆           ┆           ┆ -f172-ac8 ┆ artament │\n",
       "│           ┆           ┆           ┆           ┆   ┆           ┆           ┆ f5c…      ┆ o-1-qu…  │\n",
       "│ [131]     ┆ REAL_ESTA ┆ 274241816 ┆ 0         ┆ … ┆ [175]     ┆ null      ┆ dc0e9379- ┆ /imovel/ │\n",
       "│           ┆ TE        ┆ 7         ┆           ┆   ┆           ┆           ┆ 0d98-2ada ┆ venda-co │\n",
       "│           ┆           ┆           ┆           ┆   ┆           ┆           ┆ -1128-b4e ┆ njunto-c │\n",
       "│           ┆           ┆           ┆           ┆   ┆           ┆           ┆ 009…      ┆ omerci…  │\n",
       "└───────────┴───────────┴───────────┴───────────┴───┴───────────┴───────────┴───────────┴──────────┘"
      ]
     },
     "execution_count": 28,
     "metadata": {},
     "output_type": "execute_result"
    }
   ],
   "source": [
    "df.head(2)"
   ]
  },
  {
   "cell_type": "markdown",
   "metadata": {},
   "source": [
    "A seguir, procuramos entender a coluna `pricingInfos`."
   ]
  },
  {
   "cell_type": "code",
   "execution_count": 29,
   "metadata": {},
   "outputs": [
    {
     "data": {
      "text/html": [
       "<div><style>\n",
       ".dataframe > thead > tr,\n",
       ".dataframe > tbody > tr {\n",
       "  text-align: right;\n",
       "  white-space: pre-wrap;\n",
       "}\n",
       "</style>\n",
       "<small>shape: (3, 31)</small><table border=\"1\" class=\"dataframe\"><thead><tr><th>usableAreas</th><th>contractType</th><th>listingId</th><th>buildings</th><th>usageTypes</th><th>unitTypes</th><th>displayAddressType</th><th>unitFloor</th><th>suites</th><th>unitSubTypes</th><th>unitsOnTheFloor</th><th>bedrooms</th><th>amenities</th><th>floors</th><th>pricingInfos</th><th>parkingSpaces</th><th>listingType</th><th>bathrooms</th><th>resale</th><th>propertyType</th><th>city</th><th>neighborhood</th><th>street</th><th>streetNumber</th><th>point</th><th>stateAcronym</th><th>publicationType</th><th>totalAreas</th><th>capacityLimit</th><th>accountId</th><th>link_href</th></tr><tr><td>list[i64]</td><td>str</td><td>str</td><td>i64</td><td>list[str]</td><td>str</td><td>str</td><td>i64</td><td>i64</td><td>list[str]</td><td>i64</td><td>list[i64]</td><td>list[str]</td><td>i64</td><td>list[struct[5]]</td><td>list[i64]</td><td>str</td><td>list[i64]</td><td>bool</td><td>str</td><td>str</td><td>str</td><td>str</td><td>str</td><td>struct[6]</td><td>str</td><td>str</td><td>list[i64]</td><td>i64</td><td>str</td><td>str</td></tr></thead><tbody><tr><td>[77]</td><td>&quot;REAL_ESTATE&quot;</td><td>&quot;2577181447&quot;</td><td>0</td><td>[&quot;COMMERCIAL&quot;]</td><td>&quot;OFFICE&quot;</td><td>&quot;NEIGHBORHOOD&quot;</td><td>0</td><td>null</td><td>[]</td><td>0</td><td>[]</td><td>[]</td><td>null</td><td>[{&quot;RENTAL&quot;,106,1900,815,{null,[],null}}, {&quot;SALE&quot;,106,373867,815,{null,[],null}}]</td><td>[]</td><td>&quot;USED&quot;</td><td>[1]</td><td>false</td><td>&quot;UNIT&quot;</td><td>&quot;Porto Alegre&quot;</td><td>&quot;Centro Histórico&quot;</td><td>null</td><td>null</td><td>{&quot;GOOGLE&quot;,-30.028,-51.225,250,null,null}</td><td>&quot;RS&quot;</td><td>&quot;STANDARD&quot;</td><td>[77]</td><td>null</td><td>&quot;6e401116-4d4c-1fd9-3d34-0fad4b…</td><td>&quot;/imovel/venda-conjunto-comerci…</td></tr><tr><td>[53]</td><td>&quot;REAL_ESTATE&quot;</td><td>&quot;2722380679&quot;</td><td>1</td><td>[&quot;RESIDENTIAL&quot;]</td><td>&quot;APARTMENT&quot;</td><td>&quot;ALL&quot;</td><td>1</td><td>0</td><td>[]</td><td>6</td><td>[1]</td><td>[&quot;ELEVATOR&quot;, &quot;CONCIERGE_24H&quot;, … &quot;DISABLED_ACCESS&quot;]</td><td>8</td><td>[{&quot;SALE&quot;,60,180000,230,{null,[],null}}, {&quot;RENTAL&quot;,60,800,230,{null,[],null}}]</td><td>[0]</td><td>&quot;USED&quot;</td><td>[1]</td><td>false</td><td>&quot;UNIT&quot;</td><td>&quot;Porto Alegre&quot;</td><td>&quot;Centro Histórico&quot;</td><td>&quot;Rua Coronel Vicente&quot;</td><td>&quot;408&quot;</td><td>{&quot;GOOGLE&quot;,null,null,null,-30.027116,-51.22086}</td><td>&quot;RS&quot;</td><td>&quot;STANDARD&quot;</td><td>[]</td><td>null</td><td>&quot;0e1d53dc-d2a2-4386-8970-109201…</td><td>&quot;/imovel/venda-apartamento-1-qu…</td></tr><tr><td>[28]</td><td>&quot;REAL_ESTATE&quot;</td><td>&quot;2758793231&quot;</td><td>0</td><td>[&quot;RESIDENTIAL&quot;]</td><td>&quot;APARTMENT&quot;</td><td>&quot;ALL&quot;</td><td>1</td><td>0</td><td>[]</td><td>0</td><td>[1]</td><td>[]</td><td>null</td><td>[{&quot;RENTAL&quot;,null,600,280,{null,[],null}}, {&quot;SALE&quot;,null,165000,280,{null,[],null}}]</td><td>[0]</td><td>&quot;USED&quot;</td><td>[1]</td><td>false</td><td>&quot;UNIT&quot;</td><td>&quot;Porto Alegre&quot;</td><td>&quot;Sarandi&quot;</td><td>&quot;Rua Gabriel Franco da Luz&quot;</td><td>&quot;205&quot;</td><td>{&quot;GOOGLE&quot;,null,null,null,-29.985038,-51.123038}</td><td>&quot;RS&quot;</td><td>&quot;STANDARD&quot;</td><td>[28]</td><td>null</td><td>&quot;ce00d3f1-8f07-386b-89a0-0563ad…</td><td>&quot;/imovel/venda-apartamento-1-qu…</td></tr></tbody></table></div>"
      ],
      "text/plain": [
       "shape: (3, 31)\n",
       "┌───────────┬───────────┬───────────┬───────────┬───┬───────────┬───────────┬───────────┬──────────┐\n",
       "│ usableAre ┆ contractT ┆ listingId ┆ buildings ┆ … ┆ totalArea ┆ capacityL ┆ accountId ┆ link_hre │\n",
       "│ as        ┆ ype       ┆ ---       ┆ ---       ┆   ┆ s         ┆ imit      ┆ ---       ┆ f        │\n",
       "│ ---       ┆ ---       ┆ str       ┆ i64       ┆   ┆ ---       ┆ ---       ┆ str       ┆ ---      │\n",
       "│ list[i64] ┆ str       ┆           ┆           ┆   ┆ list[i64] ┆ i64       ┆           ┆ str      │\n",
       "╞═══════════╪═══════════╪═══════════╪═══════════╪═══╪═══════════╪═══════════╪═══════════╪══════════╡\n",
       "│ [77]      ┆ REAL_ESTA ┆ 257718144 ┆ 0         ┆ … ┆ [77]      ┆ null      ┆ 6e401116- ┆ /imovel/ │\n",
       "│           ┆ TE        ┆ 7         ┆           ┆   ┆           ┆           ┆ 4d4c-1fd9 ┆ venda-co │\n",
       "│           ┆           ┆           ┆           ┆   ┆           ┆           ┆ -3d34-0fa ┆ njunto-c │\n",
       "│           ┆           ┆           ┆           ┆   ┆           ┆           ┆ d4b…      ┆ omerci…  │\n",
       "│ [53]      ┆ REAL_ESTA ┆ 272238067 ┆ 1         ┆ … ┆ []        ┆ null      ┆ 0e1d53dc- ┆ /imovel/ │\n",
       "│           ┆ TE        ┆ 9         ┆           ┆   ┆           ┆           ┆ d2a2-4386 ┆ venda-ap │\n",
       "│           ┆           ┆           ┆           ┆   ┆           ┆           ┆ -8970-109 ┆ artament │\n",
       "│           ┆           ┆           ┆           ┆   ┆           ┆           ┆ 201…      ┆ o-1-qu…  │\n",
       "│ [28]      ┆ REAL_ESTA ┆ 275879323 ┆ 0         ┆ … ┆ [28]      ┆ null      ┆ ce00d3f1- ┆ /imovel/ │\n",
       "│           ┆ TE        ┆ 1         ┆           ┆   ┆           ┆           ┆ 8f07-386b ┆ venda-ap │\n",
       "│           ┆           ┆           ┆           ┆   ┆           ┆           ┆ -89a0-056 ┆ artament │\n",
       "│           ┆           ┆           ┆           ┆   ┆           ┆           ┆ 3ad…      ┆ o-1-qu…  │\n",
       "└───────────┴───────────┴───────────┴───────────┴───┴───────────┴───────────┴───────────┴──────────┘"
      ]
     },
     "execution_count": 29,
     "metadata": {},
     "output_type": "execute_result"
    }
   ],
   "source": [
    "df.filter(pl.col(\"pricingInfos\").list.len() > 1).head(3)"
   ]
  },
  {
   "cell_type": "code",
   "execution_count": 30,
   "metadata": {},
   "outputs": [
    {
     "data": {
      "text/html": [
       "<div><style>\n",
       ".dataframe > thead > tr,\n",
       ".dataframe > tbody > tr {\n",
       "  text-align: right;\n",
       "  white-space: pre-wrap;\n",
       "}\n",
       "</style>\n",
       "<small>shape: (2, 1)</small><table border=\"1\" class=\"dataframe\"><thead><tr><th>businessType</th></tr><tr><td>str</td></tr></thead><tbody><tr><td>&quot;RENTAL&quot;</td></tr><tr><td>&quot;SALE&quot;</td></tr></tbody></table></div>"
      ],
      "text/plain": [
       "shape: (2, 1)\n",
       "┌──────────────┐\n",
       "│ businessType │\n",
       "│ ---          │\n",
       "│ str          │\n",
       "╞══════════════╡\n",
       "│ RENTAL       │\n",
       "│ SALE         │\n",
       "└──────────────┘"
      ]
     },
     "execution_count": 30,
     "metadata": {},
     "output_type": "execute_result"
    }
   ],
   "source": [
    "df.select(pl.col(\"pricingInfos\").explode().struct.field(\"businessType\").unique())"
   ]
  },
  {
   "cell_type": "markdown",
   "metadata": {},
   "source": [
    "Quando ocorre multiplicidade, é porque o imóvel pode ser comprado ou alugado.\n",
    "Para nossos propósitos, nos interessamos tão somente em propriedades à venda, e apenas no valor de compra.\n",
    "Desta forma, podemos descartar todas as outras informações e imóveis que não estão disponíveis para compra,\n",
    "o que é revelado pelo atributo `businessType` de `pricingInfos`."
   ]
  },
  {
   "cell_type": "code",
   "execution_count": 31,
   "metadata": {},
   "outputs": [],
   "source": [
    "df = (\n",
    "    df.explode(pl.col(\"pricingInfos\"))\n",
    "    .unnest(\"pricingInfos\")\n",
    "    .filter(pl.col(\"businessType\") != \"RENTAL\")\n",
    ")"
   ]
  },
  {
   "cell_type": "code",
   "execution_count": 32,
   "metadata": {},
   "outputs": [
    {
     "data": {
      "text/plain": [
       "15432"
      ]
     },
     "execution_count": 32,
     "metadata": {},
     "output_type": "execute_result"
    }
   ],
   "source": [
    "df.height"
   ]
  },
  {
   "cell_type": "code",
   "execution_count": 33,
   "metadata": {},
   "outputs": [
    {
     "data": {
      "text/html": [
       "<div><style>\n",
       ".dataframe > thead > tr,\n",
       ".dataframe > tbody > tr {\n",
       "  text-align: right;\n",
       "  white-space: pre-wrap;\n",
       "}\n",
       "</style>\n",
       "<small>shape: (2, 35)</small><table border=\"1\" class=\"dataframe\"><thead><tr><th>usableAreas</th><th>contractType</th><th>listingId</th><th>buildings</th><th>usageTypes</th><th>unitTypes</th><th>displayAddressType</th><th>unitFloor</th><th>suites</th><th>unitSubTypes</th><th>unitsOnTheFloor</th><th>bedrooms</th><th>amenities</th><th>floors</th><th>businessType</th><th>yearlyIptu</th><th>price</th><th>monthlyCondoFee</th><th>rentalInfo</th><th>parkingSpaces</th><th>listingType</th><th>bathrooms</th><th>resale</th><th>propertyType</th><th>city</th><th>neighborhood</th><th>street</th><th>streetNumber</th><th>point</th><th>stateAcronym</th><th>publicationType</th><th>totalAreas</th><th>capacityLimit</th><th>accountId</th><th>link_href</th></tr><tr><td>list[i64]</td><td>str</td><td>str</td><td>i64</td><td>list[str]</td><td>str</td><td>str</td><td>i64</td><td>i64</td><td>list[str]</td><td>i64</td><td>list[i64]</td><td>list[str]</td><td>i64</td><td>str</td><td>i64</td><td>i64</td><td>i64</td><td>struct[3]</td><td>list[i64]</td><td>str</td><td>list[i64]</td><td>bool</td><td>str</td><td>str</td><td>str</td><td>str</td><td>str</td><td>struct[6]</td><td>str</td><td>str</td><td>list[i64]</td><td>i64</td><td>str</td><td>str</td></tr></thead><tbody><tr><td>[37, 38]</td><td>&quot;REAL_ESTATE&quot;</td><td>&quot;2754214663&quot;</td><td>0</td><td>[&quot;RESIDENTIAL&quot;]</td><td>&quot;APARTMENT&quot;</td><td>&quot;ALL&quot;</td><td>0</td><td>null</td><td>[]</td><td>0</td><td>[1]</td><td>[&quot;INTERCOM&quot;, &quot;KITCHEN&quot;]</td><td>null</td><td>&quot;SALE&quot;</td><td>1500</td><td>200000</td><td>300</td><td>{null,[],null}</td><td>[0]</td><td>&quot;USED&quot;</td><td>[1]</td><td>false</td><td>&quot;UNIT&quot;</td><td>&quot;Porto Alegre&quot;</td><td>&quot;Cidade Baixa&quot;</td><td>&quot;Rua Luiz Afonso&quot;</td><td>&quot;558&quot;</td><td>{&quot;GOOGLE&quot;,null,null,null,-30.041164,-51.223899}</td><td>&quot;RS&quot;</td><td>&quot;PREMIUM&quot;</td><td>[1, 43]</td><td>null</td><td>&quot;8c109097-7891-1cd2-f172-ac8f5c…</td><td>&quot;/imovel/venda-apartamento-1-qu…</td></tr><tr><td>[131]</td><td>&quot;REAL_ESTATE&quot;</td><td>&quot;2742418167&quot;</td><td>0</td><td>[&quot;COMMERCIAL&quot;]</td><td>&quot;OFFICE&quot;</td><td>&quot;ALL&quot;</td><td>0</td><td>null</td><td>[]</td><td>0</td><td>[]</td><td>[]</td><td>null</td><td>&quot;SALE&quot;</td><td>1500</td><td>657300</td><td>0</td><td>{null,[],null}</td><td>[]</td><td>&quot;USED&quot;</td><td>[1]</td><td>false</td><td>&quot;UNIT&quot;</td><td>&quot;Porto Alegre&quot;</td><td>&quot;Centro Histórico&quot;</td><td>&quot;Rua Uruguai&quot;</td><td>&quot;155&quot;</td><td>{&quot;GOOGLE&quot;,null,null,null,-30.028111,-51.22904}</td><td>&quot;RS&quot;</td><td>&quot;STANDARD&quot;</td><td>[175]</td><td>null</td><td>&quot;dc0e9379-0d98-2ada-1128-b4e009…</td><td>&quot;/imovel/venda-conjunto-comerci…</td></tr></tbody></table></div>"
      ],
      "text/plain": [
       "shape: (2, 35)\n",
       "┌───────────┬───────────┬───────────┬───────────┬───┬───────────┬───────────┬───────────┬──────────┐\n",
       "│ usableAre ┆ contractT ┆ listingId ┆ buildings ┆ … ┆ totalArea ┆ capacityL ┆ accountId ┆ link_hre │\n",
       "│ as        ┆ ype       ┆ ---       ┆ ---       ┆   ┆ s         ┆ imit      ┆ ---       ┆ f        │\n",
       "│ ---       ┆ ---       ┆ str       ┆ i64       ┆   ┆ ---       ┆ ---       ┆ str       ┆ ---      │\n",
       "│ list[i64] ┆ str       ┆           ┆           ┆   ┆ list[i64] ┆ i64       ┆           ┆ str      │\n",
       "╞═══════════╪═══════════╪═══════════╪═══════════╪═══╪═══════════╪═══════════╪═══════════╪══════════╡\n",
       "│ [37, 38]  ┆ REAL_ESTA ┆ 275421466 ┆ 0         ┆ … ┆ [1, 43]   ┆ null      ┆ 8c109097- ┆ /imovel/ │\n",
       "│           ┆ TE        ┆ 3         ┆           ┆   ┆           ┆           ┆ 7891-1cd2 ┆ venda-ap │\n",
       "│           ┆           ┆           ┆           ┆   ┆           ┆           ┆ -f172-ac8 ┆ artament │\n",
       "│           ┆           ┆           ┆           ┆   ┆           ┆           ┆ f5c…      ┆ o-1-qu…  │\n",
       "│ [131]     ┆ REAL_ESTA ┆ 274241816 ┆ 0         ┆ … ┆ [175]     ┆ null      ┆ dc0e9379- ┆ /imovel/ │\n",
       "│           ┆ TE        ┆ 7         ┆           ┆   ┆           ┆           ┆ 0d98-2ada ┆ venda-co │\n",
       "│           ┆           ┆           ┆           ┆   ┆           ┆           ┆ -1128-b4e ┆ njunto-c │\n",
       "│           ┆           ┆           ┆           ┆   ┆           ┆           ┆ 009…      ┆ omerci…  │\n",
       "└───────────┴───────────┴───────────┴───────────┴───┴───────────┴───────────┴───────────┴──────────┘"
      ]
     },
     "execution_count": 33,
     "metadata": {},
     "output_type": "execute_result"
    }
   ],
   "source": [
    "df.head(2)"
   ]
  },
  {
   "cell_type": "markdown",
   "metadata": {},
   "source": [
    "Podemos descartar `businessType`, que não é mais útil, e `rentalInfo`, pois não é relevante para nosso propósito."
   ]
  },
  {
   "cell_type": "code",
   "execution_count": 34,
   "metadata": {},
   "outputs": [],
   "source": [
    "df = df.drop(\"businessType\", \"rentalInfo\")"
   ]
  },
  {
   "cell_type": "markdown",
   "metadata": {},
   "source": [
    "A seguir, buscamos entender `unitSubTypes`."
   ]
  },
  {
   "cell_type": "code",
   "execution_count": 35,
   "metadata": {},
   "outputs": [
    {
     "data": {
      "text/html": [
       "<div><style>\n",
       ".dataframe > thead > tr,\n",
       ".dataframe > tbody > tr {\n",
       "  text-align: right;\n",
       "  white-space: pre-wrap;\n",
       "}\n",
       "</style>\n",
       "<small>shape: (3, 33)</small><table border=\"1\" class=\"dataframe\"><thead><tr><th>usableAreas</th><th>contractType</th><th>listingId</th><th>buildings</th><th>usageTypes</th><th>unitTypes</th><th>displayAddressType</th><th>unitFloor</th><th>suites</th><th>unitSubTypes</th><th>unitsOnTheFloor</th><th>bedrooms</th><th>amenities</th><th>floors</th><th>yearlyIptu</th><th>price</th><th>monthlyCondoFee</th><th>parkingSpaces</th><th>listingType</th><th>bathrooms</th><th>resale</th><th>propertyType</th><th>city</th><th>neighborhood</th><th>street</th><th>streetNumber</th><th>point</th><th>stateAcronym</th><th>publicationType</th><th>totalAreas</th><th>capacityLimit</th><th>accountId</th><th>link_href</th></tr><tr><td>list[i64]</td><td>str</td><td>str</td><td>i64</td><td>list[str]</td><td>str</td><td>str</td><td>i64</td><td>i64</td><td>list[str]</td><td>i64</td><td>list[i64]</td><td>list[str]</td><td>i64</td><td>i64</td><td>i64</td><td>i64</td><td>list[i64]</td><td>str</td><td>list[i64]</td><td>bool</td><td>str</td><td>str</td><td>str</td><td>str</td><td>str</td><td>struct[6]</td><td>str</td><td>str</td><td>list[i64]</td><td>i64</td><td>str</td><td>str</td></tr></thead><tbody><tr><td>[218]</td><td>&quot;REAL_ESTATE&quot;</td><td>&quot;2755957813&quot;</td><td>1</td><td>[&quot;RESIDENTIAL&quot;]</td><td>&quot;APARTMENT&quot;</td><td>&quot;ALL&quot;</td><td>11</td><td>1</td><td>[&quot;PENTHOUSE&quot;, &quot;DUPLEX&quot;]</td><td>0</td><td>[3]</td><td>[&quot;SAFETY_CIRCUIT&quot;, &quot;BARBECUE_GRILL&quot;, … &quot;CLOSET&quot;]</td><td>11</td><td>2500</td><td>1187500</td><td>1500</td><td>[1]</td><td>&quot;USED&quot;</td><td>[3]</td><td>false</td><td>&quot;UNIT&quot;</td><td>&quot;Porto Alegre&quot;</td><td>&quot;Cidade Baixa&quot;</td><td>&quot;Avenida Venâncio Aires&quot;</td><td>&quot;134&quot;</td><td>{&quot;GOOGLE&quot;,null,null,null,-30.042264,-51.218778}</td><td>&quot;RS&quot;</td><td>&quot;STANDARD&quot;</td><td>[251]</td><td>null</td><td>&quot;cee86b23-7ff3-d2f6-4227-0002e1…</td><td>&quot;/imovel/venda-cobertura-3-quar…</td></tr><tr><td>[165]</td><td>&quot;REAL_ESTATE&quot;</td><td>&quot;2752739324&quot;</td><td>0</td><td>[&quot;RESIDENTIAL&quot;]</td><td>&quot;APARTMENT&quot;</td><td>&quot;ALL&quot;</td><td>0</td><td>1</td><td>[&quot;PENTHOUSE&quot;, &quot;DUPLEX&quot;]</td><td>4</td><td>[2]</td><td>[&quot;AIR_CONDITIONING&quot;, &quot;BATHROOM_CABINETS&quot;, … &quot;GYM&quot;]</td><td>8</td><td>3300</td><td>1070000</td><td>1668</td><td>[1]</td><td>&quot;USED&quot;</td><td>[2, 3]</td><td>false</td><td>&quot;UNIT&quot;</td><td>&quot;Porto Alegre&quot;</td><td>&quot;Menino Deus&quot;</td><td>&quot;Rua Gonçalves Dias&quot;</td><td>&quot;185&quot;</td><td>{&quot;GOOGLE&quot;,null,null,null,-30.051703,-51.22068}</td><td>&quot;RS&quot;</td><td>&quot;PREMIUM&quot;</td><td>[203, 204]</td><td>null</td><td>&quot;7e682d41-74f9-029f-8684-cf6062…</td><td>&quot;/imovel/venda-cobertura-2-quar…</td></tr><tr><td>[112]</td><td>&quot;REAL_ESTATE&quot;</td><td>&quot;2732984413&quot;</td><td>0</td><td>[&quot;RESIDENTIAL&quot;]</td><td>&quot;APARTMENT&quot;</td><td>&quot;ALL&quot;</td><td>0</td><td>null</td><td>[&quot;PENTHOUSE&quot;, &quot;DUPLEX&quot;]</td><td>0</td><td>[3]</td><td>[]</td><td>null</td><td>1170</td><td>439000</td><td>400</td><td>[1]</td><td>&quot;USED&quot;</td><td>[2]</td><td>false</td><td>&quot;UNIT&quot;</td><td>&quot;Porto Alegre&quot;</td><td>&quot;Menino Deus&quot;</td><td>&quot;Rua Paes de Andrade&quot;</td><td>&quot;37&quot;</td><td>{&quot;GOOGLE&quot;,null,null,null,-30.0585,-51.218554}</td><td>&quot;RS&quot;</td><td>&quot;STANDARD&quot;</td><td>[]</td><td>null</td><td>&quot;d2e3b32c-6b0b-6173-45c8-6bb974…</td><td>&quot;/imovel/venda-cobertura-3-quar…</td></tr></tbody></table></div>"
      ],
      "text/plain": [
       "shape: (3, 33)\n",
       "┌───────────┬───────────┬───────────┬───────────┬───┬───────────┬───────────┬───────────┬──────────┐\n",
       "│ usableAre ┆ contractT ┆ listingId ┆ buildings ┆ … ┆ totalArea ┆ capacityL ┆ accountId ┆ link_hre │\n",
       "│ as        ┆ ype       ┆ ---       ┆ ---       ┆   ┆ s         ┆ imit      ┆ ---       ┆ f        │\n",
       "│ ---       ┆ ---       ┆ str       ┆ i64       ┆   ┆ ---       ┆ ---       ┆ str       ┆ ---      │\n",
       "│ list[i64] ┆ str       ┆           ┆           ┆   ┆ list[i64] ┆ i64       ┆           ┆ str      │\n",
       "╞═══════════╪═══════════╪═══════════╪═══════════╪═══╪═══════════╪═══════════╪═══════════╪══════════╡\n",
       "│ [218]     ┆ REAL_ESTA ┆ 275595781 ┆ 1         ┆ … ┆ [251]     ┆ null      ┆ cee86b23- ┆ /imovel/ │\n",
       "│           ┆ TE        ┆ 3         ┆           ┆   ┆           ┆           ┆ 7ff3-d2f6 ┆ venda-co │\n",
       "│           ┆           ┆           ┆           ┆   ┆           ┆           ┆ -4227-000 ┆ bertura- │\n",
       "│           ┆           ┆           ┆           ┆   ┆           ┆           ┆ 2e1…      ┆ 3-quar…  │\n",
       "│ [165]     ┆ REAL_ESTA ┆ 275273932 ┆ 0         ┆ … ┆ [203,     ┆ null      ┆ 7e682d41- ┆ /imovel/ │\n",
       "│           ┆ TE        ┆ 4         ┆           ┆   ┆ 204]      ┆           ┆ 74f9-029f ┆ venda-co │\n",
       "│           ┆           ┆           ┆           ┆   ┆           ┆           ┆ -8684-cf6 ┆ bertura- │\n",
       "│           ┆           ┆           ┆           ┆   ┆           ┆           ┆ 062…      ┆ 2-quar…  │\n",
       "│ [112]     ┆ REAL_ESTA ┆ 273298441 ┆ 0         ┆ … ┆ []        ┆ null      ┆ d2e3b32c- ┆ /imovel/ │\n",
       "│           ┆ TE        ┆ 3         ┆           ┆   ┆           ┆           ┆ 6b0b-6173 ┆ venda-co │\n",
       "│           ┆           ┆           ┆           ┆   ┆           ┆           ┆ -45c8-6bb ┆ bertura- │\n",
       "│           ┆           ┆           ┆           ┆   ┆           ┆           ┆ 974…      ┆ 3-quar…  │\n",
       "└───────────┴───────────┴───────────┴───────────┴───┴───────────┴───────────┴───────────┴──────────┘"
      ]
     },
     "execution_count": 35,
     "metadata": {},
     "output_type": "execute_result"
    }
   ],
   "source": [
    "df.filter(pl.col(\"unitSubTypes\").list.len() > 1).head(3)"
   ]
  },
  {
   "cell_type": "markdown",
   "metadata": {},
   "source": [
    "`unitSubTypes`, neste caso, define duas categorias que se aplicam ao imóvel."
   ]
  },
  {
   "cell_type": "markdown",
   "metadata": {},
   "source": [
    "Por outro lado, um imóvel pode não ter nenhum subtipo? E, se sim, isso é comum?"
   ]
  },
  {
   "cell_type": "code",
   "execution_count": 36,
   "metadata": {},
   "outputs": [
    {
     "data": {
      "text/plain": [
       "14743"
      ]
     },
     "execution_count": 36,
     "metadata": {},
     "output_type": "execute_result"
    }
   ],
   "source": [
    "df.filter(pl.col(\"unitSubTypes\").list.len() == 0).height"
   ]
  },
  {
   "cell_type": "markdown",
   "metadata": {},
   "source": [
    "De fato, esse é o mais comum dos casos. Se esse dado fosse presente para todos os registros,\n",
    "poderia ser um atributo interessante. Como não é o caso, o descartamos."
   ]
  },
  {
   "cell_type": "code",
   "execution_count": 37,
   "metadata": {},
   "outputs": [],
   "source": [
    "df = df.drop(\"unitSubTypes\")"
   ]
  },
  {
   "cell_type": "code",
   "execution_count": 38,
   "metadata": {},
   "outputs": [
    {
     "data": {
      "text/html": [
       "<div><style>\n",
       ".dataframe > thead > tr,\n",
       ".dataframe > tbody > tr {\n",
       "  text-align: right;\n",
       "  white-space: pre-wrap;\n",
       "}\n",
       "</style>\n",
       "<small>shape: (3, 32)</small><table border=\"1\" class=\"dataframe\"><thead><tr><th>usableAreas</th><th>contractType</th><th>listingId</th><th>buildings</th><th>usageTypes</th><th>unitTypes</th><th>displayAddressType</th><th>unitFloor</th><th>suites</th><th>unitsOnTheFloor</th><th>bedrooms</th><th>amenities</th><th>floors</th><th>yearlyIptu</th><th>price</th><th>monthlyCondoFee</th><th>parkingSpaces</th><th>listingType</th><th>bathrooms</th><th>resale</th><th>propertyType</th><th>city</th><th>neighborhood</th><th>street</th><th>streetNumber</th><th>point</th><th>stateAcronym</th><th>publicationType</th><th>totalAreas</th><th>capacityLimit</th><th>accountId</th><th>link_href</th></tr><tr><td>list[i64]</td><td>str</td><td>str</td><td>i64</td><td>list[str]</td><td>str</td><td>str</td><td>i64</td><td>i64</td><td>i64</td><td>list[i64]</td><td>list[str]</td><td>i64</td><td>i64</td><td>i64</td><td>i64</td><td>list[i64]</td><td>str</td><td>list[i64]</td><td>bool</td><td>str</td><td>str</td><td>str</td><td>str</td><td>str</td><td>struct[6]</td><td>str</td><td>str</td><td>list[i64]</td><td>i64</td><td>str</td><td>str</td></tr></thead><tbody><tr><td>[37, 38]</td><td>&quot;REAL_ESTATE&quot;</td><td>&quot;2754214663&quot;</td><td>0</td><td>[&quot;RESIDENTIAL&quot;]</td><td>&quot;APARTMENT&quot;</td><td>&quot;ALL&quot;</td><td>0</td><td>null</td><td>0</td><td>[1]</td><td>[&quot;INTERCOM&quot;, &quot;KITCHEN&quot;]</td><td>null</td><td>1500</td><td>200000</td><td>300</td><td>[0]</td><td>&quot;USED&quot;</td><td>[1]</td><td>false</td><td>&quot;UNIT&quot;</td><td>&quot;Porto Alegre&quot;</td><td>&quot;Cidade Baixa&quot;</td><td>&quot;Rua Luiz Afonso&quot;</td><td>&quot;558&quot;</td><td>{&quot;GOOGLE&quot;,null,null,null,-30.041164,-51.223899}</td><td>&quot;RS&quot;</td><td>&quot;PREMIUM&quot;</td><td>[1, 43]</td><td>null</td><td>&quot;8c109097-7891-1cd2-f172-ac8f5c…</td><td>&quot;/imovel/venda-apartamento-1-qu…</td></tr><tr><td>[131]</td><td>&quot;REAL_ESTATE&quot;</td><td>&quot;2742418167&quot;</td><td>0</td><td>[&quot;COMMERCIAL&quot;]</td><td>&quot;OFFICE&quot;</td><td>&quot;ALL&quot;</td><td>0</td><td>null</td><td>0</td><td>[]</td><td>[]</td><td>null</td><td>1500</td><td>657300</td><td>0</td><td>[]</td><td>&quot;USED&quot;</td><td>[1]</td><td>false</td><td>&quot;UNIT&quot;</td><td>&quot;Porto Alegre&quot;</td><td>&quot;Centro Histórico&quot;</td><td>&quot;Rua Uruguai&quot;</td><td>&quot;155&quot;</td><td>{&quot;GOOGLE&quot;,null,null,null,-30.028111,-51.22904}</td><td>&quot;RS&quot;</td><td>&quot;STANDARD&quot;</td><td>[175]</td><td>null</td><td>&quot;dc0e9379-0d98-2ada-1128-b4e009…</td><td>&quot;/imovel/venda-conjunto-comerci…</td></tr><tr><td>[34]</td><td>&quot;REAL_ESTATE&quot;</td><td>&quot;2596966563&quot;</td><td>0</td><td>[&quot;RESIDENTIAL&quot;]</td><td>&quot;APARTMENT&quot;</td><td>&quot;ALL&quot;</td><td>4</td><td>1</td><td>0</td><td>[1]</td><td>[&quot;KITCHEN&quot;, &quot;FURNISHED&quot;]</td><td>4</td><td>350</td><td>135000</td><td>200</td><td>[]</td><td>&quot;USED&quot;</td><td>[1]</td><td>false</td><td>&quot;UNIT&quot;</td><td>&quot;Porto Alegre&quot;</td><td>&quot;Centro Histórico&quot;</td><td>&quot;Avenida João Pessoa&quot;</td><td>&quot;403&quot;</td><td>{&quot;GOOGLE&quot;,null,null,null,-30.035665,-51.220879}</td><td>&quot;RS&quot;</td><td>&quot;PREMIUM&quot;</td><td>[41]</td><td>null</td><td>&quot;8ce30dcf-d575-1b69-a46d-c41c78…</td><td>&quot;/imovel/venda-apartamento-1-qu…</td></tr></tbody></table></div>"
      ],
      "text/plain": [
       "shape: (3, 32)\n",
       "┌───────────┬───────────┬───────────┬───────────┬───┬───────────┬───────────┬───────────┬──────────┐\n",
       "│ usableAre ┆ contractT ┆ listingId ┆ buildings ┆ … ┆ totalArea ┆ capacityL ┆ accountId ┆ link_hre │\n",
       "│ as        ┆ ype       ┆ ---       ┆ ---       ┆   ┆ s         ┆ imit      ┆ ---       ┆ f        │\n",
       "│ ---       ┆ ---       ┆ str       ┆ i64       ┆   ┆ ---       ┆ ---       ┆ str       ┆ ---      │\n",
       "│ list[i64] ┆ str       ┆           ┆           ┆   ┆ list[i64] ┆ i64       ┆           ┆ str      │\n",
       "╞═══════════╪═══════════╪═══════════╪═══════════╪═══╪═══════════╪═══════════╪═══════════╪══════════╡\n",
       "│ [37, 38]  ┆ REAL_ESTA ┆ 275421466 ┆ 0         ┆ … ┆ [1, 43]   ┆ null      ┆ 8c109097- ┆ /imovel/ │\n",
       "│           ┆ TE        ┆ 3         ┆           ┆   ┆           ┆           ┆ 7891-1cd2 ┆ venda-ap │\n",
       "│           ┆           ┆           ┆           ┆   ┆           ┆           ┆ -f172-ac8 ┆ artament │\n",
       "│           ┆           ┆           ┆           ┆   ┆           ┆           ┆ f5c…      ┆ o-1-qu…  │\n",
       "│ [131]     ┆ REAL_ESTA ┆ 274241816 ┆ 0         ┆ … ┆ [175]     ┆ null      ┆ dc0e9379- ┆ /imovel/ │\n",
       "│           ┆ TE        ┆ 7         ┆           ┆   ┆           ┆           ┆ 0d98-2ada ┆ venda-co │\n",
       "│           ┆           ┆           ┆           ┆   ┆           ┆           ┆ -1128-b4e ┆ njunto-c │\n",
       "│           ┆           ┆           ┆           ┆   ┆           ┆           ┆ 009…      ┆ omerci…  │\n",
       "│ [34]      ┆ REAL_ESTA ┆ 259696656 ┆ 0         ┆ … ┆ [41]      ┆ null      ┆ 8ce30dcf- ┆ /imovel/ │\n",
       "│           ┆ TE        ┆ 3         ┆           ┆   ┆           ┆           ┆ d575-1b69 ┆ venda-ap │\n",
       "│           ┆           ┆           ┆           ┆   ┆           ┆           ┆ -a46d-c41 ┆ artament │\n",
       "│           ┆           ┆           ┆           ┆   ┆           ┆           ┆ c78…      ┆ o-1-qu…  │\n",
       "└───────────┴───────────┴───────────┴───────────┴───┴───────────┴───────────┴───────────┴──────────┘"
      ]
     },
     "execution_count": 38,
     "metadata": {},
     "output_type": "execute_result"
    }
   ],
   "source": [
    "df.head(3)"
   ]
  },
  {
   "cell_type": "code",
   "execution_count": 39,
   "metadata": {},
   "outputs": [
    {
     "data": {
      "text/html": [
       "<div><style>\n",
       ".dataframe > thead > tr,\n",
       ".dataframe > tbody > tr {\n",
       "  text-align: right;\n",
       "  white-space: pre-wrap;\n",
       "}\n",
       "</style>\n",
       "<small>shape: (5, 32)</small><table border=\"1\" class=\"dataframe\"><thead><tr><th>usableAreas</th><th>contractType</th><th>listingId</th><th>buildings</th><th>usageTypes</th><th>unitTypes</th><th>displayAddressType</th><th>unitFloor</th><th>suites</th><th>unitsOnTheFloor</th><th>bedrooms</th><th>amenities</th><th>floors</th><th>yearlyIptu</th><th>price</th><th>monthlyCondoFee</th><th>parkingSpaces</th><th>listingType</th><th>bathrooms</th><th>resale</th><th>propertyType</th><th>city</th><th>neighborhood</th><th>street</th><th>streetNumber</th><th>point</th><th>stateAcronym</th><th>publicationType</th><th>totalAreas</th><th>capacityLimit</th><th>accountId</th><th>link_href</th></tr><tr><td>list[i64]</td><td>str</td><td>str</td><td>i64</td><td>list[str]</td><td>str</td><td>str</td><td>i64</td><td>i64</td><td>i64</td><td>list[i64]</td><td>list[str]</td><td>i64</td><td>i64</td><td>i64</td><td>i64</td><td>list[i64]</td><td>str</td><td>list[i64]</td><td>bool</td><td>str</td><td>str</td><td>str</td><td>str</td><td>str</td><td>struct[6]</td><td>str</td><td>str</td><td>list[i64]</td><td>i64</td><td>str</td><td>str</td></tr></thead><tbody><tr><td>[2500]</td><td>&quot;REAL_ESTATE&quot;</td><td>&quot;2755316309&quot;</td><td>0</td><td>[&quot;COMMERCIAL&quot;]</td><td>&quot;SHED_DEPOSIT_WAREHOUSE&quot;</td><td>&quot;ALL&quot;</td><td>0</td><td>0</td><td>0</td><td>[0, 1]</td><td>[&quot;GARAGE&quot;, &quot;PETS_ALLOWED&quot;, &quot;KITCHEN&quot;]</td><td>null</td><td>4000</td><td>10600000</td><td>0</td><td>[20, 9]</td><td>&quot;USED&quot;</td><td>[1, 8]</td><td>false</td><td>&quot;UNIT&quot;</td><td>&quot;Porto Alegre&quot;</td><td>&quot;Sarandi&quot;</td><td>&quot;Avenida Plínio Kroeff&quot;</td><td>&quot;1200&quot;</td><td>{&quot;GOOGLE&quot;,null,null,null,-30.001785,-51.116145}</td><td>&quot;RS&quot;</td><td>&quot;STANDARD&quot;</td><td>[2800, 7000]</td><td>null</td><td>&quot;ac071d10-5be9-069b-9b05-0e1fad…</td><td>&quot;/imovel/venda-galpao-deposito-…</td></tr><tr><td>[17, 127]</td><td>&quot;REAL_ESTATE&quot;</td><td>&quot;2752955525&quot;</td><td>0</td><td>[&quot;RESIDENTIAL&quot;]</td><td>&quot;APARTMENT&quot;</td><td>&quot;ALL&quot;</td><td>2</td><td>null</td><td>0</td><td>[1, 2]</td><td>[&quot;PETS_ALLOWED&quot;, &quot;GATED_COMMUNITY&quot;, … &quot;KITCHEN&quot;]</td><td>4</td><td>800</td><td>152000</td><td>200</td><td>[0, 25]</td><td>&quot;USED&quot;</td><td>[1, 2]</td><td>false</td><td>&quot;UNIT&quot;</td><td>&quot;Porto Alegre&quot;</td><td>&quot;Centro Histórico&quot;</td><td>&quot;Rua General Lima e Silva&quot;</td><td>&quot;407&quot;</td><td>{&quot;GOOGLE&quot;,null,null,null,-30.03725,-51.223071}</td><td>&quot;RS&quot;</td><td>&quot;PREMIERE_2&quot;</td><td>[1, 691]</td><td>null</td><td>&quot;67c66b7c-4a43-e789-778d-ed4167…</td><td>&quot;/imovel/venda-apartamento-2-qu…</td></tr><tr><td>[176]</td><td>&quot;REAL_ESTATE&quot;</td><td>&quot;2766308113&quot;</td><td>0</td><td>[&quot;RESIDENTIAL&quot;]</td><td>&quot;PENTHOUSE&quot;</td><td>&quot;ALL&quot;</td><td>0</td><td>1</td><td>0</td><td>[2, 3]</td><td>[&quot;INTERCOM&quot;, &quot;SERVICE_AREA&quot;]</td><td>8</td><td>83</td><td>800000</td><td>715</td><td>[]</td><td>&quot;USED&quot;</td><td>[1, 2]</td><td>false</td><td>&quot;UNIT&quot;</td><td>&quot;Porto Alegre&quot;</td><td>&quot;Centro Histórico&quot;</td><td>&quot;Rua Duque de Caxias&quot;</td><td>&quot;1515&quot;</td><td>{&quot;GOOGLE&quot;,null,null,null,-30.033498,-51.226183}</td><td>&quot;RS&quot;</td><td>&quot;STANDARD&quot;</td><td>[176, 236]</td><td>null</td><td>&quot;7b72e174-9b60-84bf-44f7-79a9c2…</td><td>&quot;/imovel/venda-cobertura-3-quar…</td></tr><tr><td>[324]</td><td>&quot;REAL_ESTATE&quot;</td><td>&quot;2744653296&quot;</td><td>0</td><td>[&quot;RESIDENTIAL&quot;]</td><td>&quot;CONDOMINIUM&quot;</td><td>&quot;ALL&quot;</td><td>0</td><td>1</td><td>0</td><td>[3, 4]</td><td>[&quot;BARBECUE_GRILL&quot;, &quot;SERVICE_AREA&quot;, &quot;CONCIERGE_24H&quot;]</td><td>null</td><td>284</td><td>2100000</td><td>2100</td><td>[4]</td><td>&quot;USED&quot;</td><td>[3, 4]</td><td>false</td><td>&quot;UNIT&quot;</td><td>&quot;Porto Alegre&quot;</td><td>&quot;Menino Deus&quot;</td><td>&quot;Rua Silveiro&quot;</td><td>&quot;1007&quot;</td><td>{&quot;GOOGLE&quot;,null,null,null,-30.069051,-51.231028}</td><td>&quot;RS&quot;</td><td>&quot;STANDARD&quot;</td><td>[324, 438]</td><td>null</td><td>&quot;7b72e174-9b60-84bf-44f7-79a9c2…</td><td>&quot;/imovel/venda-casa-de-condomin…</td></tr><tr><td>[96]</td><td>&quot;REAL_ESTATE&quot;</td><td>&quot;2746482052&quot;</td><td>1</td><td>[&quot;RESIDENTIAL&quot;]</td><td>&quot;APARTMENT&quot;</td><td>&quot;ALL&quot;</td><td>2</td><td>1</td><td>0</td><td>[2, 4]</td><td>[&quot;KITCHEN_CABINETS&quot;, &quot;BATHTUB&quot;, … &quot;LAMINATED_FLOOR&quot;]</td><td>3</td><td>1300</td><td>510000</td><td>440</td><td>[1]</td><td>&quot;USED&quot;</td><td>[1, 2]</td><td>false</td><td>&quot;UNIT&quot;</td><td>&quot;Porto Alegre&quot;</td><td>&quot;Menino Deus&quot;</td><td>&quot;Rua Barbedo&quot;</td><td>&quot;756&quot;</td><td>{&quot;GOOGLE&quot;,null,null,null,-30.05755,-51.22319}</td><td>&quot;RS&quot;</td><td>&quot;STANDARD&quot;</td><td>[114, 10]</td><td>null</td><td>&quot;44b1655e-2eef-7133-303d-4a64c7…</td><td>&quot;/imovel/venda-apartamento-4-qu…</td></tr></tbody></table></div>"
      ],
      "text/plain": [
       "shape: (5, 32)\n",
       "┌───────────┬───────────┬───────────┬───────────┬───┬───────────┬───────────┬───────────┬──────────┐\n",
       "│ usableAre ┆ contractT ┆ listingId ┆ buildings ┆ … ┆ totalArea ┆ capacityL ┆ accountId ┆ link_hre │\n",
       "│ as        ┆ ype       ┆ ---       ┆ ---       ┆   ┆ s         ┆ imit      ┆ ---       ┆ f        │\n",
       "│ ---       ┆ ---       ┆ str       ┆ i64       ┆   ┆ ---       ┆ ---       ┆ str       ┆ ---      │\n",
       "│ list[i64] ┆ str       ┆           ┆           ┆   ┆ list[i64] ┆ i64       ┆           ┆ str      │\n",
       "╞═══════════╪═══════════╪═══════════╪═══════════╪═══╪═══════════╪═══════════╪═══════════╪══════════╡\n",
       "│ [2500]    ┆ REAL_ESTA ┆ 275531630 ┆ 0         ┆ … ┆ [2800,    ┆ null      ┆ ac071d10- ┆ /imovel/ │\n",
       "│           ┆ TE        ┆ 9         ┆           ┆   ┆ 7000]     ┆           ┆ 5be9-069b ┆ venda-ga │\n",
       "│           ┆           ┆           ┆           ┆   ┆           ┆           ┆ -9b05-0e1 ┆ lpao-dep │\n",
       "│           ┆           ┆           ┆           ┆   ┆           ┆           ┆ fad…      ┆ osito-…  │\n",
       "│ [17, 127] ┆ REAL_ESTA ┆ 275295552 ┆ 0         ┆ … ┆ [1, 691]  ┆ null      ┆ 67c66b7c- ┆ /imovel/ │\n",
       "│           ┆ TE        ┆ 5         ┆           ┆   ┆           ┆           ┆ 4a43-e789 ┆ venda-ap │\n",
       "│           ┆           ┆           ┆           ┆   ┆           ┆           ┆ -778d-ed4 ┆ artament │\n",
       "│           ┆           ┆           ┆           ┆   ┆           ┆           ┆ 167…      ┆ o-2-qu…  │\n",
       "│ [176]     ┆ REAL_ESTA ┆ 276630811 ┆ 0         ┆ … ┆ [176,     ┆ null      ┆ 7b72e174- ┆ /imovel/ │\n",
       "│           ┆ TE        ┆ 3         ┆           ┆   ┆ 236]      ┆           ┆ 9b60-84bf ┆ venda-co │\n",
       "│           ┆           ┆           ┆           ┆   ┆           ┆           ┆ -44f7-79a ┆ bertura- │\n",
       "│           ┆           ┆           ┆           ┆   ┆           ┆           ┆ 9c2…      ┆ 3-quar…  │\n",
       "│ [324]     ┆ REAL_ESTA ┆ 274465329 ┆ 0         ┆ … ┆ [324,     ┆ null      ┆ 7b72e174- ┆ /imovel/ │\n",
       "│           ┆ TE        ┆ 6         ┆           ┆   ┆ 438]      ┆           ┆ 9b60-84bf ┆ venda-ca │\n",
       "│           ┆           ┆           ┆           ┆   ┆           ┆           ┆ -44f7-79a ┆ sa-de-co │\n",
       "│           ┆           ┆           ┆           ┆   ┆           ┆           ┆ 9c2…      ┆ ndomin…  │\n",
       "│ [96]      ┆ REAL_ESTA ┆ 274648205 ┆ 1         ┆ … ┆ [114, 10] ┆ null      ┆ 44b1655e- ┆ /imovel/ │\n",
       "│           ┆ TE        ┆ 2         ┆           ┆   ┆           ┆           ┆ 2eef-7133 ┆ venda-ap │\n",
       "│           ┆           ┆           ┆           ┆   ┆           ┆           ┆ -303d-4a6 ┆ artament │\n",
       "│           ┆           ┆           ┆           ┆   ┆           ┆           ┆ 4c7…      ┆ o-4-qu…  │\n",
       "└───────────┴───────────┴───────────┴───────────┴───┴───────────┴───────────┴───────────┴──────────┘"
      ]
     },
     "execution_count": 39,
     "metadata": {},
     "output_type": "execute_result"
    }
   ],
   "source": [
    "df.filter(pl.col(\"bedrooms\").list.len() > 1).head(5)"
   ]
  },
  {
   "cell_type": "markdown",
   "metadata": {},
   "source": [
    "### Localização geográfica dos imóveis\n",
    "\n",
    "Crucial para nossos esforços é ter a localização dos imóveis, para podermos cruzá-las\n",
    "com o mapa de inundação."
   ]
  },
  {
   "cell_type": "code",
   "execution_count": 40,
   "metadata": {},
   "outputs": [
    {
     "data": {
      "text/html": [
       "<div><style>\n",
       ".dataframe > thead > tr,\n",
       ".dataframe > tbody > tr {\n",
       "  text-align: right;\n",
       "  white-space: pre-wrap;\n",
       "}\n",
       "</style>\n",
       "<small>shape: (3, 37)</small><table border=\"1\" class=\"dataframe\"><thead><tr><th>usableAreas</th><th>contractType</th><th>listingId</th><th>buildings</th><th>usageTypes</th><th>unitTypes</th><th>displayAddressType</th><th>unitFloor</th><th>suites</th><th>unitsOnTheFloor</th><th>bedrooms</th><th>amenities</th><th>floors</th><th>yearlyIptu</th><th>price</th><th>monthlyCondoFee</th><th>parkingSpaces</th><th>listingType</th><th>bathrooms</th><th>resale</th><th>propertyType</th><th>city</th><th>neighborhood</th><th>street</th><th>streetNumber</th><th>source</th><th>approximateLat</th><th>approximateLon</th><th>radius</th><th>lat</th><th>lon</th><th>stateAcronym</th><th>publicationType</th><th>totalAreas</th><th>capacityLimit</th><th>accountId</th><th>link_href</th></tr><tr><td>list[i64]</td><td>str</td><td>str</td><td>i64</td><td>list[str]</td><td>str</td><td>str</td><td>i64</td><td>i64</td><td>i64</td><td>list[i64]</td><td>list[str]</td><td>i64</td><td>i64</td><td>i64</td><td>i64</td><td>list[i64]</td><td>str</td><td>list[i64]</td><td>bool</td><td>str</td><td>str</td><td>str</td><td>str</td><td>str</td><td>str</td><td>f64</td><td>f64</td><td>i64</td><td>f64</td><td>f64</td><td>str</td><td>str</td><td>list[i64]</td><td>i64</td><td>str</td><td>str</td></tr></thead><tbody><tr><td>[37, 38]</td><td>&quot;REAL_ESTATE&quot;</td><td>&quot;2754214663&quot;</td><td>0</td><td>[&quot;RESIDENTIAL&quot;]</td><td>&quot;APARTMENT&quot;</td><td>&quot;ALL&quot;</td><td>0</td><td>null</td><td>0</td><td>[1]</td><td>[&quot;INTERCOM&quot;, &quot;KITCHEN&quot;]</td><td>null</td><td>1500</td><td>200000</td><td>300</td><td>[0]</td><td>&quot;USED&quot;</td><td>[1]</td><td>false</td><td>&quot;UNIT&quot;</td><td>&quot;Porto Alegre&quot;</td><td>&quot;Cidade Baixa&quot;</td><td>&quot;Rua Luiz Afonso&quot;</td><td>&quot;558&quot;</td><td>&quot;GOOGLE&quot;</td><td>null</td><td>null</td><td>null</td><td>-30.041164</td><td>-51.223899</td><td>&quot;RS&quot;</td><td>&quot;PREMIUM&quot;</td><td>[1, 43]</td><td>null</td><td>&quot;8c109097-7891-1cd2-f172-ac8f5c…</td><td>&quot;/imovel/venda-apartamento-1-qu…</td></tr><tr><td>[131]</td><td>&quot;REAL_ESTATE&quot;</td><td>&quot;2742418167&quot;</td><td>0</td><td>[&quot;COMMERCIAL&quot;]</td><td>&quot;OFFICE&quot;</td><td>&quot;ALL&quot;</td><td>0</td><td>null</td><td>0</td><td>[]</td><td>[]</td><td>null</td><td>1500</td><td>657300</td><td>0</td><td>[]</td><td>&quot;USED&quot;</td><td>[1]</td><td>false</td><td>&quot;UNIT&quot;</td><td>&quot;Porto Alegre&quot;</td><td>&quot;Centro Histórico&quot;</td><td>&quot;Rua Uruguai&quot;</td><td>&quot;155&quot;</td><td>&quot;GOOGLE&quot;</td><td>null</td><td>null</td><td>null</td><td>-30.028111</td><td>-51.22904</td><td>&quot;RS&quot;</td><td>&quot;STANDARD&quot;</td><td>[175]</td><td>null</td><td>&quot;dc0e9379-0d98-2ada-1128-b4e009…</td><td>&quot;/imovel/venda-conjunto-comerci…</td></tr><tr><td>[34]</td><td>&quot;REAL_ESTATE&quot;</td><td>&quot;2596966563&quot;</td><td>0</td><td>[&quot;RESIDENTIAL&quot;]</td><td>&quot;APARTMENT&quot;</td><td>&quot;ALL&quot;</td><td>4</td><td>1</td><td>0</td><td>[1]</td><td>[&quot;KITCHEN&quot;, &quot;FURNISHED&quot;]</td><td>4</td><td>350</td><td>135000</td><td>200</td><td>[]</td><td>&quot;USED&quot;</td><td>[1]</td><td>false</td><td>&quot;UNIT&quot;</td><td>&quot;Porto Alegre&quot;</td><td>&quot;Centro Histórico&quot;</td><td>&quot;Avenida João Pessoa&quot;</td><td>&quot;403&quot;</td><td>&quot;GOOGLE&quot;</td><td>null</td><td>null</td><td>null</td><td>-30.035665</td><td>-51.220879</td><td>&quot;RS&quot;</td><td>&quot;PREMIUM&quot;</td><td>[41]</td><td>null</td><td>&quot;8ce30dcf-d575-1b69-a46d-c41c78…</td><td>&quot;/imovel/venda-apartamento-1-qu…</td></tr></tbody></table></div>"
      ],
      "text/plain": [
       "shape: (3, 37)\n",
       "┌───────────┬───────────┬───────────┬───────────┬───┬───────────┬───────────┬───────────┬──────────┐\n",
       "│ usableAre ┆ contractT ┆ listingId ┆ buildings ┆ … ┆ totalArea ┆ capacityL ┆ accountId ┆ link_hre │\n",
       "│ as        ┆ ype       ┆ ---       ┆ ---       ┆   ┆ s         ┆ imit      ┆ ---       ┆ f        │\n",
       "│ ---       ┆ ---       ┆ str       ┆ i64       ┆   ┆ ---       ┆ ---       ┆ str       ┆ ---      │\n",
       "│ list[i64] ┆ str       ┆           ┆           ┆   ┆ list[i64] ┆ i64       ┆           ┆ str      │\n",
       "╞═══════════╪═══════════╪═══════════╪═══════════╪═══╪═══════════╪═══════════╪═══════════╪══════════╡\n",
       "│ [37, 38]  ┆ REAL_ESTA ┆ 275421466 ┆ 0         ┆ … ┆ [1, 43]   ┆ null      ┆ 8c109097- ┆ /imovel/ │\n",
       "│           ┆ TE        ┆ 3         ┆           ┆   ┆           ┆           ┆ 7891-1cd2 ┆ venda-ap │\n",
       "│           ┆           ┆           ┆           ┆   ┆           ┆           ┆ -f172-ac8 ┆ artament │\n",
       "│           ┆           ┆           ┆           ┆   ┆           ┆           ┆ f5c…      ┆ o-1-qu…  │\n",
       "│ [131]     ┆ REAL_ESTA ┆ 274241816 ┆ 0         ┆ … ┆ [175]     ┆ null      ┆ dc0e9379- ┆ /imovel/ │\n",
       "│           ┆ TE        ┆ 7         ┆           ┆   ┆           ┆           ┆ 0d98-2ada ┆ venda-co │\n",
       "│           ┆           ┆           ┆           ┆   ┆           ┆           ┆ -1128-b4e ┆ njunto-c │\n",
       "│           ┆           ┆           ┆           ┆   ┆           ┆           ┆ 009…      ┆ omerci…  │\n",
       "│ [34]      ┆ REAL_ESTA ┆ 259696656 ┆ 0         ┆ … ┆ [41]      ┆ null      ┆ 8ce30dcf- ┆ /imovel/ │\n",
       "│           ┆ TE        ┆ 3         ┆           ┆   ┆           ┆           ┆ d575-1b69 ┆ venda-ap │\n",
       "│           ┆           ┆           ┆           ┆   ┆           ┆           ┆ -a46d-c41 ┆ artament │\n",
       "│           ┆           ┆           ┆           ┆   ┆           ┆           ┆ c78…      ┆ o-1-qu…  │\n",
       "└───────────┴───────────┴───────────┴───────────┴───┴───────────┴───────────┴───────────┴──────────┘"
      ]
     },
     "execution_count": 40,
     "metadata": {},
     "output_type": "execute_result"
    }
   ],
   "source": [
    "df = df.unnest(\"point\")\n",
    "df.head(3)"
   ]
  },
  {
   "cell_type": "markdown",
   "metadata": {},
   "source": [
    "Nem todas as listagens têm a localização precisa do imóvel. Algumas têm apenas uma\n",
    "localização aproximada, dada por `approximateLat` e `approximateLon`."
   ]
  },
  {
   "cell_type": "code",
   "execution_count": 41,
   "metadata": {},
   "outputs": [
    {
     "data": {
      "text/html": [
       "<div><style>\n",
       ".dataframe > thead > tr,\n",
       ".dataframe > tbody > tr {\n",
       "  text-align: right;\n",
       "  white-space: pre-wrap;\n",
       "}\n",
       "</style>\n",
       "<small>shape: (2, 37)</small><table border=\"1\" class=\"dataframe\"><thead><tr><th>usableAreas</th><th>contractType</th><th>listingId</th><th>buildings</th><th>usageTypes</th><th>unitTypes</th><th>displayAddressType</th><th>unitFloor</th><th>suites</th><th>unitsOnTheFloor</th><th>bedrooms</th><th>amenities</th><th>floors</th><th>yearlyIptu</th><th>price</th><th>monthlyCondoFee</th><th>parkingSpaces</th><th>listingType</th><th>bathrooms</th><th>resale</th><th>propertyType</th><th>city</th><th>neighborhood</th><th>street</th><th>streetNumber</th><th>source</th><th>approximateLat</th><th>approximateLon</th><th>radius</th><th>lat</th><th>lon</th><th>stateAcronym</th><th>publicationType</th><th>totalAreas</th><th>capacityLimit</th><th>accountId</th><th>link_href</th></tr><tr><td>list[i64]</td><td>str</td><td>str</td><td>i64</td><td>list[str]</td><td>str</td><td>str</td><td>i64</td><td>i64</td><td>i64</td><td>list[i64]</td><td>list[str]</td><td>i64</td><td>i64</td><td>i64</td><td>i64</td><td>list[i64]</td><td>str</td><td>list[i64]</td><td>bool</td><td>str</td><td>str</td><td>str</td><td>str</td><td>str</td><td>str</td><td>f64</td><td>f64</td><td>i64</td><td>f64</td><td>f64</td><td>str</td><td>str</td><td>list[i64]</td><td>i64</td><td>str</td><td>str</td></tr></thead><tbody><tr><td>[148]</td><td>&quot;OWNER&quot;</td><td>&quot;2489898892&quot;</td><td>0</td><td>[&quot;RESIDENTIAL&quot;]</td><td>&quot;HOME&quot;</td><td>&quot;ALL&quot;</td><td>0</td><td>2</td><td>0</td><td>[3]</td><td>[]</td><td>null</td><td>900</td><td>620000</td><td>null</td><td>[3]</td><td>&quot;USED&quot;</td><td>[3]</td><td>true</td><td>&quot;UNIT&quot;</td><td>&quot;Porto Alegre&quot;</td><td>&quot;Sarandi&quot;</td><td>&quot;Rua Doutor João Dahne&quot;</td><td>&quot;83&quot;</td><td>null</td><td>null</td><td>null</td><td>null</td><td>null</td><td>null</td><td>&quot;RS&quot;</td><td>&quot;PREMIUM&quot;</td><td>[]</td><td>null</td><td>&quot;711f0095-bb5c-9ee7-de75-f73ec5…</td><td>&quot;/imovel/venda-casa-3-quartos-s…</td></tr><tr><td>[32]</td><td>&quot;OWNER&quot;</td><td>&quot;2561009358&quot;</td><td>0</td><td>[&quot;COMMERCIAL&quot;]</td><td>&quot;OFFICE&quot;</td><td>&quot;ALL&quot;</td><td>14</td><td>null</td><td>0</td><td>[]</td><td>[]</td><td>null</td><td>null</td><td>280000</td><td>440</td><td>[1]</td><td>&quot;USED&quot;</td><td>[1]</td><td>true</td><td>&quot;UNIT&quot;</td><td>&quot;Porto Alegre&quot;</td><td>&quot;Menino Deus&quot;</td><td>&quot;Avenida Getúlio Vargas&quot;</td><td>&quot;910&quot;</td><td>null</td><td>null</td><td>null</td><td>null</td><td>null</td><td>null</td><td>&quot;RS&quot;</td><td>&quot;PREMIUM&quot;</td><td>[]</td><td>null</td><td>&quot;1847028f-f2f1-0d59-a208-01c230…</td><td>&quot;/imovel/venda-conjunto-comerci…</td></tr></tbody></table></div>"
      ],
      "text/plain": [
       "shape: (2, 37)\n",
       "┌───────────┬───────────┬───────────┬───────────┬───┬───────────┬───────────┬───────────┬──────────┐\n",
       "│ usableAre ┆ contractT ┆ listingId ┆ buildings ┆ … ┆ totalArea ┆ capacityL ┆ accountId ┆ link_hre │\n",
       "│ as        ┆ ype       ┆ ---       ┆ ---       ┆   ┆ s         ┆ imit      ┆ ---       ┆ f        │\n",
       "│ ---       ┆ ---       ┆ str       ┆ i64       ┆   ┆ ---       ┆ ---       ┆ str       ┆ ---      │\n",
       "│ list[i64] ┆ str       ┆           ┆           ┆   ┆ list[i64] ┆ i64       ┆           ┆ str      │\n",
       "╞═══════════╪═══════════╪═══════════╪═══════════╪═══╪═══════════╪═══════════╪═══════════╪══════════╡\n",
       "│ [148]     ┆ OWNER     ┆ 248989889 ┆ 0         ┆ … ┆ []        ┆ null      ┆ 711f0095- ┆ /imovel/ │\n",
       "│           ┆           ┆ 2         ┆           ┆   ┆           ┆           ┆ bb5c-9ee7 ┆ venda-ca │\n",
       "│           ┆           ┆           ┆           ┆   ┆           ┆           ┆ -de75-f73 ┆ sa-3-qua │\n",
       "│           ┆           ┆           ┆           ┆   ┆           ┆           ┆ ec5…      ┆ rtos-s…  │\n",
       "│ [32]      ┆ OWNER     ┆ 256100935 ┆ 0         ┆ … ┆ []        ┆ null      ┆ 1847028f- ┆ /imovel/ │\n",
       "│           ┆           ┆ 8         ┆           ┆   ┆           ┆           ┆ f2f1-0d59 ┆ venda-co │\n",
       "│           ┆           ┆           ┆           ┆   ┆           ┆           ┆ -a208-01c ┆ njunto-c │\n",
       "│           ┆           ┆           ┆           ┆   ┆           ┆           ┆ 230…      ┆ omerci…  │\n",
       "└───────────┴───────────┴───────────┴───────────┴───┴───────────┴───────────┴───────────┴──────────┘"
      ]
     },
     "execution_count": 41,
     "metadata": {},
     "output_type": "execute_result"
    }
   ],
   "source": [
    "df.filter(pl.col(\"approximateLat\").is_null(), pl.col(\"lat\").is_null())"
   ]
  },
  {
   "cell_type": "markdown",
   "metadata": {},
   "source": [
    "Duas listagens não constam nenhuma localização, de forma que devem ser descartadas."
   ]
  },
  {
   "cell_type": "code",
   "execution_count": 42,
   "metadata": {},
   "outputs": [],
   "source": [
    "df = df.filter(pl.col(\"approximateLat\").is_not_null() | pl.col(\"lat\").is_not_null())"
   ]
  },
  {
   "cell_type": "markdown",
   "metadata": {},
   "source": [
    "Desta forma, nossa massa final de dados é:"
   ]
  },
  {
   "cell_type": "code",
   "execution_count": 43,
   "metadata": {},
   "outputs": [
    {
     "data": {
      "text/plain": [
       "15430"
      ]
     },
     "execution_count": 43,
     "metadata": {},
     "output_type": "execute_result"
    }
   ],
   "source": [
    "df.height"
   ]
  },
  {
   "cell_type": "code",
   "execution_count": 44,
   "metadata": {},
   "outputs": [
    {
     "data": {
      "text/html": [
       "<div><style>\n",
       ".dataframe > thead > tr,\n",
       ".dataframe > tbody > tr {\n",
       "  text-align: right;\n",
       "  white-space: pre-wrap;\n",
       "}\n",
       "</style>\n",
       "<small>shape: (4, 2)</small><table border=\"1\" class=\"dataframe\"><thead><tr><th>neighborhood</th><th>len</th></tr><tr><td>str</td><td>u32</td></tr></thead><tbody><tr><td>&quot;Centro Histórico&quot;</td><td>6059</td></tr><tr><td>&quot;Menino Deus&quot;</td><td>4814</td></tr><tr><td>&quot;Sarandi&quot;</td><td>2550</td></tr><tr><td>&quot;Cidade Baixa&quot;</td><td>2007</td></tr></tbody></table></div>"
      ],
      "text/plain": [
       "shape: (4, 2)\n",
       "┌──────────────────┬──────┐\n",
       "│ neighborhood     ┆ len  │\n",
       "│ ---              ┆ ---  │\n",
       "│ str              ┆ u32  │\n",
       "╞══════════════════╪══════╡\n",
       "│ Centro Histórico ┆ 6059 │\n",
       "│ Menino Deus      ┆ 4814 │\n",
       "│ Sarandi          ┆ 2550 │\n",
       "│ Cidade Baixa     ┆ 2007 │\n",
       "└──────────────────┴──────┘"
      ]
     },
     "execution_count": 44,
     "metadata": {},
     "output_type": "execute_result"
    }
   ],
   "source": [
    "df.group_by(\"neighborhood\").len().sort(by=\"len\", descending=True)"
   ]
  },
  {
   "cell_type": "markdown",
   "metadata": {},
   "source": [
    "#### Cruzamento da localização dos imóveis com áreas alagadas"
   ]
  },
  {
   "cell_type": "code",
   "execution_count": 45,
   "metadata": {},
   "outputs": [],
   "source": [
    "kml_data_file = \"data/cheias_em_porto_alegre.kml\"\n",
    "polygons = extract_polygons_from_folder(\n",
    "    kml_data_file, \"Inundação em 6 de Maio de 2024\"\n",
    ")"
   ]
  },
  {
   "cell_type": "code",
   "execution_count": 46,
   "metadata": {},
   "outputs": [],
   "source": [
    "df = mark_points_in_polygons(df, polygons)"
   ]
  },
  {
   "cell_type": "code",
   "execution_count": 54,
   "metadata": {},
   "outputs": [
    {
     "name": "stdout",
     "output_type": "stream",
     "text": [
      "\\begin{tabular}{lrrr}\n",
      "\\hline\n",
      " Bairro           &   Número de Imóveis &   Número de Imóveis Alagados &   \\% Imóveis Alagados \\\\\n",
      "\\hline\n",
      " Sarandi          &                2550 &                          534 &                 20.9 \\\\\n",
      " Centro Histórico &                6059 &                         1797 &                 29.7 \\\\\n",
      " Menino Deus      &                4814 &                         2582 &                 53.6 \\\\\n",
      " Cidade Baixa     &                2007 &                          835 &                 41.6 \\\\\n",
      "\\hline\n",
      "\\end{tabular}\n"
     ]
    }
   ],
   "source": [
    "tmp = (\n",
    "    df.group_by(\"neighborhood\")\n",
    "    .agg(\n",
    "        [\n",
    "            pl.len().alias(\"total_count\"),\n",
    "            pl.col(\"flooded\")\n",
    "            .sum()\n",
    "            .alias(\n",
    "                \"flooded_count\"\n",
    "            ),  # Since flooded is boolean, sum() gives us the count of True values\n",
    "        ]\n",
    "    )\n",
    "    .with_columns(\n",
    "        [\n",
    "            (pl.col(\"flooded_count\") / pl.col(\"total_count\") * 100)\n",
    "            .round(1)\n",
    "            .alias(\"flooded_percentage\")\n",
    "        ]\n",
    "    )\n",
    ").to_pandas()\n",
    "print(\n",
    "    tabulate(\n",
    "        tmp,\n",
    "        headers=[\n",
    "            \"Bairro\",\n",
    "            \"Número de Imóveis\",\n",
    "            \"Número de Imóveis Alagados\",\n",
    "            \"% Imóveis Alagados\",\n",
    "        ],\n",
    "        tablefmt=\"latex\",\n",
    "        showindex=False\n",
    "    )\n",
    ")"
   ]
  },
  {
   "cell_type": "code",
   "execution_count": 372,
   "metadata": {},
   "outputs": [
    {
     "data": {
      "text/plain": [
       "5748"
      ]
     },
     "execution_count": 372,
     "metadata": {},
     "output_type": "execute_result"
    }
   ],
   "source": [
    "df.filter(pl.col(\"flooded\")).height"
   ]
  },
  {
   "cell_type": "code",
   "execution_count": 373,
   "metadata": {},
   "outputs": [
    {
     "data": {
      "text/html": [
       "<div><style>\n",
       ".dataframe > thead > tr,\n",
       ".dataframe > tbody > tr {\n",
       "  text-align: right;\n",
       "  white-space: pre-wrap;\n",
       "}\n",
       "</style>\n",
       "<small>shape: (4, 2)</small><table border=\"1\" class=\"dataframe\"><thead><tr><th>neighborhood</th><th>len</th></tr><tr><td>str</td><td>u32</td></tr></thead><tbody><tr><td>&quot;Menino Deus&quot;</td><td>2582</td></tr><tr><td>&quot;Centro Histórico&quot;</td><td>1797</td></tr><tr><td>&quot;Cidade Baixa&quot;</td><td>835</td></tr><tr><td>&quot;Sarandi&quot;</td><td>534</td></tr></tbody></table></div>"
      ],
      "text/plain": [
       "shape: (4, 2)\n",
       "┌──────────────────┬──────┐\n",
       "│ neighborhood     ┆ len  │\n",
       "│ ---              ┆ ---  │\n",
       "│ str              ┆ u32  │\n",
       "╞══════════════════╪══════╡\n",
       "│ Menino Deus      ┆ 2582 │\n",
       "│ Centro Histórico ┆ 1797 │\n",
       "│ Cidade Baixa     ┆ 835  │\n",
       "│ Sarandi          ┆ 534  │\n",
       "└──────────────────┴──────┘"
      ]
     },
     "execution_count": 373,
     "metadata": {},
     "output_type": "execute_result"
    }
   ],
   "source": [
    "df.filter(pl.col(\"flooded\")).group_by(\"neighborhood\").len().sort(\n",
    "    by=\"len\", descending=True\n",
    ")"
   ]
  }
 ],
 "metadata": {
  "kernelspec": {
   "display_name": ".venv",
   "language": "python",
   "name": "python3"
  },
  "language_info": {
   "codemirror_mode": {
    "name": "ipython",
    "version": 3
   },
   "file_extension": ".py",
   "mimetype": "text/x-python",
   "name": "python",
   "nbconvert_exporter": "python",
   "pygments_lexer": "ipython3",
   "version": "3.11.1"
  }
 },
 "nbformat": 4,
 "nbformat_minor": 2
}
