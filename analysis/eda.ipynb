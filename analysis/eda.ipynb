{
 "cells": [
  {
   "cell_type": "markdown",
   "metadata": {},
   "source": [
    "# Análise Exploratória de Dados"
   ]
  },
  {
   "cell_type": "markdown",
   "metadata": {},
   "source": [
    "## Preparação"
   ]
  },
  {
   "cell_type": "code",
   "execution_count": 64,
   "metadata": {},
   "outputs": [],
   "source": [
    "import polars as pl\n",
    "\n",
    "from df_utils import get_list_column_max_len, one_hot_encode_list_column\n",
    "from geo_location import extract_polygons_from_folder, check_point_in_kml_polygon"
   ]
  },
  {
   "cell_type": "markdown",
   "metadata": {},
   "source": [
    "## Leitura de dados\n",
    "\n",
    "Os dados se encontram no formato NDJSON, também conhecido como JSONLines,\n",
    "em que há um objeto JSON por linha no arquivo."
   ]
  },
  {
   "cell_type": "code",
   "execution_count": 6,
   "metadata": {},
   "outputs": [],
   "source": [
    "neighborhoods = [\"cidade_baixa\", \"centro_historico\", \"menino_deus\", \"sarandi\"]\n",
    "\n",
    "neighborhoods_df_map = {neighborhood: pl.scan_ndjson(f\"data/{neighborhood}_listings.json\") for neighborhood in neighborhoods}\n",
    "\n",
    "# raw_menino_deus_df = pl.read_ndjson(\"data/menino_deus_listings.json\")\n",
    "# raw_cidade_baixa_df = pl.read_ndjson(\"data/cidade_baixa_listings.json\")\n",
    "# raw_centro_historico_df = pl.read_ndjson(\"data/centro_historico_listings.json\")\n",
    "# raw_sarandi_df = pl.read_ndjson(\"data/sarandi_listings.json\")"
   ]
  },
  {
   "cell_type": "markdown",
   "metadata": {},
   "source": [
    "### Entendimento dos dados"
   ]
  },
  {
   "cell_type": "code",
   "execution_count": 7,
   "metadata": {},
   "outputs": [
    {
     "data": {
      "text/html": [
       "<div><style>\n",
       ".dataframe > thead > tr,\n",
       ".dataframe > tbody > tr {\n",
       "  text-align: right;\n",
       "  white-space: pre-wrap;\n",
       "}\n",
       "</style>\n",
       "<small>shape: (2, 5)</small><table border=\"1\" class=\"dataframe\"><thead><tr><th>listing</th><th>account</th><th>medias</th><th>accountLink</th><th>link</th></tr><tr><td>struct[43]</td><td>struct[9]</td><td>list[struct[3]]</td><td>struct[4]</td><td>struct[4]</td></tr></thead><tbody><tr><td>{&quot;dfadbe19-2554-5480-56eb-0780d0ee4019&quot;,[1],[1],&quot;UNIT&quot;,false,[48],&quot;26349587&quot;,[&quot;DISABLED_ACCESS&quot;, &quot;INTEGRATED_ENVIRONMENTS&quot;, … &quot;PARTY_HALL&quot;],&quot;&quot;,&quot;2019-11-05T13:09:45.557+00:00&quot;,&quot;ConstructionStatus_NONE&quot;,[8],&quot;NonActivationReason_NONE&quot;,{&quot;Porto Alegre&quot;,&quot;Cidade Baixa&quot;,&quot;Rua Joaquim Nabuco&quot;,null,{&quot;GOOGLE&quot;,-30.041,-51.219,140,null,null},&quot;RS&quot;},[],0,&quot;&quot;,true,&quot;ACTIVE&quot;,&quot;2024-12-17T11:12:11.169+00:00&quot;,[0],[46],&quot;STREET&quot;,null,&quot;USED&quot;,&quot;Apartamento em excelente estado, iluminado e silencioso, mobiliado com móveis embutidos , conceito aberto, cozinha e sala integrados, gás central, aquecimento em todas as torneiras, fica ar condicionado do quarto e todos os móveis embutidos quarto, banheiro, sala, cozinha e homeoffice.&quot;,[],&quot;OWNER&quot;,[&quot;RESIDENTIAL&quot;],0,[],&quot;PREMIUM&quot;,&quot;Apartamento de 46 metros quadrados no bairro Cidade Baixa com 1 quarto&quot;,&quot;2463567709&quot;,&quot;a5adbade-589d-3c61-97b7-e4014f21cf3d&quot;,4,[],{&quot;&quot;,[&quot;5130130100&quot;]},[{&quot;SALE&quot;,600,290000,300,null}],true,&quot;GRUPOZAP&quot;,&quot;ZAP1593841&quot;,[&quot;APARTMENT&quot;]}</td><td>{&quot;dfadbe19-2554-5480-56eb-0780d0ee4019&quot;,&quot;BÁRBARA EINSFELD DE BORBA&quot;,null,&quot;&quot;,true,345436,3136761,&quot;2018-05-11T05:14:21Z&quot;,&quot;&quot;}</td><td>[{&quot;7cb4b1098bf75603a7f2561456bc2883&quot;,&quot;https://resizedimgs.zapimoveis.com.br/{action}/{width}x{height}/vr.images.sp/7cb4b1098bf75603a7f2561456bc2883.webp&quot;,&quot;IMAGE&quot;}, {&quot;3ad45448360d515b4bbb3d833537b5e4&quot;,&quot;https://resizedimgs.zapimoveis.com.br/{action}/{width}x{height}/vr.images.sp/3ad45448360d515b4bbb3d833537b5e4.webp&quot;,&quot;IMAGE&quot;}, … {&quot;3c74183638571539a2c2f9f568a72d7a&quot;,&quot;https://resizedimgs.zapimoveis.com.br/{action}/{width}x{height}/vr.images.sp/3c74183638571539a2c2f9f568a72d7a.webp&quot;,&quot;IMAGE&quot;}]</td><td>{&quot;BÁRBARA EINSFELD DE BORBA&quot;,&quot;/imobiliaria/345436/&quot;,&quot;&quot;,{}}</td><td>{&quot;Apartamento com 1 Quarto à venda, 46m²&quot;,&quot;/imovel/venda-apartamento-1-quarto-mobiliado-cidade-baixa-porto-alegre-46m2-id-2463567709/&quot;,&quot;&quot;,{&quot;Porto Alegre&quot;,&quot;Cidade Baixa&quot;,&quot;&quot;,&quot;Rua Joaquim Nabuco&quot;,&quot;&quot;,&quot;&quot;}}</td></tr><tr><td>{&quot;90879777-b9cc-65b9-28c8-c86f00947af9&quot;,[1],[2],&quot;UNIT&quot;,false,[66],&quot;&quot;,[],&quot;13887&quot;,&quot;2024-12-01T21:22:02.001+00:00&quot;,&quot;ConstructionStatus_NONE&quot;,[],&quot;NonActivationReason_NONE&quot;,{&quot;Porto Alegre&quot;,&quot;Cidade Baixa&quot;,&quot;Rua José do Patrocínio&quot;,&quot;357&quot;,{&quot;GOOGLE&quot;,null,null,null,-30.038562,-51.224749},&quot;RS&quot;},[0],0,&quot;51999671489&quot;,false,&quot;ACTIVE&quot;,&quot;2024-12-26T12:00:41.422+00:00&quot;,[],[56],&quot;ALL&quot;,7,&quot;USED&quot;,&quot;Compre apartamento silencioso,55,10m2 de área útil,2 quartos, piso parquet,living 2 ambientes,banheiro social ,cozinha e área de serviço. O condomínio fica localizado em Rua José do Patrocínio no bairro Cidade Baixa em Porto Alegre. Está bem situado, próximo a pontos de interesse de Cidade Baixa, tais como Azambuja, Praça General Daltro Filho, Faculdade de Direito da Funda. Escola Sup. do Ministério Público, Praça Salvador Allende, e Policlínica Militar de Porto Alegre.Aceitamos Fiinanciamento Bancário e Fgts.Marque hoje mesmo uma visita com um de nossos Consultores Imobiliários caddstrados! ]]&gt;&quot;,[],&quot;REAL_ESTATE&quot;,[&quot;RESIDENTIAL&quot;],0,[],&quot;PREMIUM&quot;,&quot;Compre apartamento silencioso,55,10m2 de área útil,2 quartos, piso parquet,living 2 ambientes,banhei&quot;,&quot;2760694515&quot;,&quot;40017671-36da-3cb2-98e7-116dd4abcba1&quot;,0,[],{&quot;&quot;,[&quot;5132084035&quot;, &quot;51999671489&quot;]},[{&quot;SALE&quot;,0,275000,290,null}],true,&quot;GRUPOZAP&quot;,&quot;VR527903&quot;,[&quot;APARTMENT&quot;]}</td><td>{&quot;90879777-b9cc-65b9-28c8-c86f00947af9&quot;,&quot;Sperinde Vendas&quot;,&quot;https://resizedimgs.zapimoveis.com.br/{action}/{width}x{height}/vr.images.sp/fb5adab24465e4ba59ba7d6e4ac1de9e.webp&quot;,&quot;00411-J-RS&quot;,true,33518,2594637,&quot;2018-03-27T18:49:45Z&quot;,&quot;diamond&quot;}</td><td>[{&quot;3d8f346437754cf315cc942816497178&quot;,&quot;https://resizedimgs.zapimoveis.com.br/{action}/{width}x{height}/vr.images.sp/3d8f346437754cf315cc942816497178.webp&quot;,&quot;IMAGE&quot;}, {&quot;d309f06d26092646e716b47e93936c7d&quot;,&quot;https://resizedimgs.zapimoveis.com.br/{action}/{width}x{height}/vr.images.sp/d309f06d26092646e716b47e93936c7d.webp&quot;,&quot;IMAGE&quot;}, … {&quot;e0ddfeed8f77c5410adbbbe842aba483&quot;,&quot;https://resizedimgs.zapimoveis.com.br/{action}/{width}x{height}/vr.images.sp/e0ddfeed8f77c5410adbbbe842aba483.webp&quot;,&quot;IMAGE&quot;}]</td><td>{&quot;Sperinde Vendas&quot;,&quot;/imobiliaria/33518/&quot;,&quot;&quot;,{}}</td><td>{&quot;Apartamento com 2 Quartos à venda, 56m²&quot;,&quot;/imovel/venda-apartamento-2-quartos-cidade-baixa-porto-alegre-56m2-id-2760694515/&quot;,&quot;&quot;,{&quot;Porto Alegre&quot;,&quot;Cidade Baixa&quot;,&quot;&quot;,&quot;Rua José do Patrocínio&quot;,&quot;357&quot;,&quot;&quot;}}</td></tr></tbody></table></div>"
      ],
      "text/plain": [
       "shape: (2, 5)\n",
       "┌───────────────────┬───────────────────┬───────────────────┬───────────────────┬──────────────────┐\n",
       "│ listing           ┆ account           ┆ medias            ┆ accountLink       ┆ link             │\n",
       "│ ---               ┆ ---               ┆ ---               ┆ ---               ┆ ---              │\n",
       "│ struct[43]        ┆ struct[9]         ┆ list[struct[3]]   ┆ struct[4]         ┆ struct[4]        │\n",
       "╞═══════════════════╪═══════════════════╪═══════════════════╪═══════════════════╪══════════════════╡\n",
       "│ {\"dfadbe19-2554-5 ┆ {\"dfadbe19-2554-5 ┆ [{\"7cb4b1098bf756 ┆ {\"BÁRBARA         ┆ {\"Apartamento    │\n",
       "│ 480-56eb-0780…    ┆ 480-56eb-0780…    ┆ 03a7f2561456b…    ┆ EINSFELD DE       ┆ com 1 Quarto à   │\n",
       "│                   ┆                   ┆                   ┆ BORBA\",\"…         ┆ v…               │\n",
       "│ {\"90879777-b9cc-6 ┆ {\"90879777-b9cc-6 ┆ [{\"3d8f346437754c ┆ {\"Sperinde Vendas ┆ {\"Apartamento    │\n",
       "│ 5b9-28c8-c86f…    ┆ 5b9-28c8-c86f…    ┆ f315cc9428164…    ┆ \",\"/imobiliar…    ┆ com 2 Quartos à  │\n",
       "│                   ┆                   ┆                   ┆                   ┆ …                │\n",
       "└───────────────────┴───────────────────┴───────────────────┴───────────────────┴──────────────────┘"
      ]
     },
     "execution_count": 7,
     "metadata": {},
     "output_type": "execute_result"
    }
   ],
   "source": [
    "neighborhoods_df_map[\"cidade_baixa\"].head(2).collect()"
   ]
  },
  {
   "cell_type": "markdown",
   "metadata": {},
   "source": [
    "#### Qual o tamanho da massa de dados?"
   ]
  },
  {
   "cell_type": "code",
   "execution_count": 8,
   "metadata": {},
   "outputs": [
    {
     "name": "stdout",
     "output_type": "stream",
     "text": [
      "cidade_baixa: 2790\n",
      "centro_historico: 6007\n",
      "menino_deus: 5833\n",
      "sarandi: 2711\n",
      "Total: 17341\n"
     ]
    }
   ],
   "source": [
    "total = 0\n",
    "for neighborhood, df in neighborhoods_df_map.items():\n",
    "    df_height = df.select(pl.len()).collect().item()\n",
    "    print(f\"{neighborhood}: {df_height}\")\n",
    "    total += df_height\n",
    "print(f\"Total: {total}\")"
   ]
  },
  {
   "cell_type": "code",
   "execution_count": 9,
   "metadata": {},
   "outputs": [
    {
     "name": "stdout",
     "output_type": "stream",
     "text": [
      "Temos 5 colunas: listing, account, medias, accountLink, link.\n"
     ]
    }
   ],
   "source": [
    "columns = neighborhoods_df_map[\"cidade_baixa\"].collect_schema().names()\n",
    "print(f'Temos {len(columns)} colunas: {\", \".join(columns)}.')"
   ]
  },
  {
   "cell_type": "markdown",
   "metadata": {},
   "source": [
    "#### Pré-processamento inicial - `listing`"
   ]
  },
  {
   "cell_type": "markdown",
   "metadata": {},
   "source": [
    "Todas as informações que consideramos importantes para nossa análise estão na coluna\n",
    "`listing`, que tem uma estrutura aninhada complexa.\n",
    "Aplainamos a estrutura para simplificar a análise."
   ]
  },
  {
   "cell_type": "code",
   "execution_count": 10,
   "metadata": {},
   "outputs": [],
   "source": [
    "listings_df_map = {\n",
    "    neighborhood: df.select(pl.col(\"listing\").struct.unnest())\n",
    "    for neighborhood, df in neighborhoods_df_map.items()\n",
    "}"
   ]
  },
  {
   "cell_type": "code",
   "execution_count": 11,
   "metadata": {},
   "outputs": [
    {
     "data": {
      "text/html": [
       "<div><style>\n",
       ".dataframe > thead > tr,\n",
       ".dataframe > tbody > tr {\n",
       "  text-align: right;\n",
       "  white-space: pre-wrap;\n",
       "}\n",
       "</style>\n",
       "<small>shape: (3, 43)</small><table border=\"1\" class=\"dataframe\"><thead><tr><th>advertiserId</th><th>bathrooms</th><th>bedrooms</th><th>propertyType</th><th>resale</th><th>totalAreas</th><th>legacyId</th><th>amenities</th><th>providerId</th><th>createdAt</th><th>constructionStatus</th><th>floors</th><th>nonActivationReason</th><th>address</th><th>suites</th><th>unitFloor</th><th>whatsappNumber</th><th>acceptExchange</th><th>status</th><th>updatedAt</th><th>capacityLimit</th><th>usableAreas</th><th>displayAddressType</th><th>listingsCount</th><th>listingType</th><th>description</th><th>parkingSpaces</th><th>contractType</th><th>usageTypes</th><th>buildings</th><th>stamps</th><th>publicationType</th><th>title</th><th>id</th><th>sourceId</th><th>unitsOnTheFloor</th><th>unitSubTypes</th><th>advertiserContact</th><th>pricingInfos</th><th>showPrice</th><th>portal</th><th>externalId</th><th>unitTypes</th></tr><tr><td>str</td><td>list[i64]</td><td>list[i64]</td><td>str</td><td>bool</td><td>list[i64]</td><td>str</td><td>list[str]</td><td>str</td><td>str</td><td>str</td><td>list[i64]</td><td>str</td><td>struct[6]</td><td>list[i64]</td><td>i64</td><td>str</td><td>bool</td><td>str</td><td>str</td><td>list[i64]</td><td>list[i64]</td><td>str</td><td>i64</td><td>str</td><td>str</td><td>list[i64]</td><td>str</td><td>list[str]</td><td>i64</td><td>list[str]</td><td>str</td><td>str</td><td>str</td><td>str</td><td>i64</td><td>list[str]</td><td>struct[2]</td><td>list[struct[5]]</td><td>bool</td><td>str</td><td>str</td><td>list[str]</td></tr></thead><tbody><tr><td>&quot;dfadbe19-2554-5480-56eb-0780d0…</td><td>[1]</td><td>[1]</td><td>&quot;UNIT&quot;</td><td>false</td><td>[48]</td><td>&quot;26349587&quot;</td><td>[&quot;DISABLED_ACCESS&quot;, &quot;INTEGRATED_ENVIRONMENTS&quot;, … &quot;PARTY_HALL&quot;]</td><td>&quot;&quot;</td><td>&quot;2019-11-05T13:09:45.557+00:00&quot;</td><td>&quot;ConstructionStatus_NONE&quot;</td><td>[8]</td><td>&quot;NonActivationReason_NONE&quot;</td><td>{&quot;Porto Alegre&quot;,&quot;Cidade Baixa&quot;,&quot;Rua Joaquim Nabuco&quot;,null,{&quot;GOOGLE&quot;,-30.041,-51.219,140,null,null},&quot;RS&quot;}</td><td>[]</td><td>0</td><td>&quot;&quot;</td><td>true</td><td>&quot;ACTIVE&quot;</td><td>&quot;2024-12-17T11:12:11.169+00:00&quot;</td><td>[0]</td><td>[46]</td><td>&quot;STREET&quot;</td><td>null</td><td>&quot;USED&quot;</td><td>&quot;Apartamento em excelente estad…</td><td>[]</td><td>&quot;OWNER&quot;</td><td>[&quot;RESIDENTIAL&quot;]</td><td>0</td><td>[]</td><td>&quot;PREMIUM&quot;</td><td>&quot;Apartamento de 46 metros quadr…</td><td>&quot;2463567709&quot;</td><td>&quot;a5adbade-589d-3c61-97b7-e4014f…</td><td>4</td><td>[]</td><td>{&quot;&quot;,[&quot;5130130100&quot;]}</td><td>[{&quot;SALE&quot;,600,290000,300,null}]</td><td>true</td><td>&quot;GRUPOZAP&quot;</td><td>&quot;ZAP1593841&quot;</td><td>[&quot;APARTMENT&quot;]</td></tr><tr><td>&quot;90879777-b9cc-65b9-28c8-c86f00…</td><td>[1]</td><td>[2]</td><td>&quot;UNIT&quot;</td><td>false</td><td>[66]</td><td>&quot;&quot;</td><td>[]</td><td>&quot;13887&quot;</td><td>&quot;2024-12-01T21:22:02.001+00:00&quot;</td><td>&quot;ConstructionStatus_NONE&quot;</td><td>[]</td><td>&quot;NonActivationReason_NONE&quot;</td><td>{&quot;Porto Alegre&quot;,&quot;Cidade Baixa&quot;,&quot;Rua José do Patrocínio&quot;,&quot;357&quot;,{&quot;GOOGLE&quot;,null,null,null,-30.038562,-51.224749},&quot;RS&quot;}</td><td>[0]</td><td>0</td><td>&quot;51999671489&quot;</td><td>false</td><td>&quot;ACTIVE&quot;</td><td>&quot;2024-12-26T12:00:41.422+00:00&quot;</td><td>[]</td><td>[56]</td><td>&quot;ALL&quot;</td><td>7</td><td>&quot;USED&quot;</td><td>&quot;Compre apartamento silencioso,…</td><td>[]</td><td>&quot;REAL_ESTATE&quot;</td><td>[&quot;RESIDENTIAL&quot;]</td><td>0</td><td>[]</td><td>&quot;PREMIUM&quot;</td><td>&quot;Compre apartamento silencioso,…</td><td>&quot;2760694515&quot;</td><td>&quot;40017671-36da-3cb2-98e7-116dd4…</td><td>0</td><td>[]</td><td>{&quot;&quot;,[&quot;5132084035&quot;, &quot;51999671489&quot;]}</td><td>[{&quot;SALE&quot;,0,275000,290,null}]</td><td>true</td><td>&quot;GRUPOZAP&quot;</td><td>&quot;VR527903&quot;</td><td>[&quot;APARTMENT&quot;]</td></tr><tr><td>&quot;a70a64d3-0e45-b5bc-5b75-0ed9fc…</td><td>[1]</td><td>[1]</td><td>&quot;UNIT&quot;</td><td>false</td><td>[56]</td><td>&quot;&quot;</td><td>[&quot;PETS_ALLOWED&quot;, &quot;FURNISHED&quot;]</td><td>&quot;63639&quot;</td><td>&quot;2024-12-19T05:29:55.171+00:00&quot;</td><td>&quot;ConstructionStatus_NONE&quot;</td><td>[]</td><td>&quot;NonActivationReason_NONE&quot;</td><td>{&quot;Porto Alegre&quot;,&quot;Centro Histórico&quot;,&quot;Avenida João Pessoa&quot;,&quot;371&quot;,{&quot;GOOGLE&quot;,null,null,null,-30.035694,-51.221204},&quot;RS&quot;}</td><td>[]</td><td>3</td><td>&quot;51998432762&quot;</td><td>false</td><td>&quot;ACTIVE&quot;</td><td>&quot;2024-12-26T18:08:02.605+00:00&quot;</td><td>[]</td><td>[42]</td><td>&quot;ALL&quot;</td><td>null</td><td>&quot;USED&quot;</td><td>&quot;Ótimo apartamento à venda no E…</td><td>[]</td><td>&quot;REAL_ESTATE&quot;</td><td>[&quot;RESIDENTIAL&quot;]</td><td>0</td><td>[]</td><td>&quot;STANDARD&quot;</td><td>&quot;Apartamento à venda em Porto A…</td><td>&quot;2765177708&quot;</td><td>&quot;38efd784-97ce-3b42-a7a2-2bb74b…</td><td>0</td><td>[]</td><td>{&quot;&quot;,[&quot;51998432762&quot;]}</td><td>[{&quot;SALE&quot;,335,175000,530,null}]</td><td>true</td><td>&quot;GRUPOZAP&quot;</td><td>&quot;460784&quot;</td><td>[&quot;APARTMENT&quot;]</td></tr></tbody></table></div>"
      ],
      "text/plain": [
       "shape: (3, 43)\n",
       "┌───────────┬───────────┬───────────┬───────────┬───┬───────────┬──────────┬───────────┬───────────┐\n",
       "│ advertise ┆ bathrooms ┆ bedrooms  ┆ propertyT ┆ … ┆ showPrice ┆ portal   ┆ externalI ┆ unitTypes │\n",
       "│ rId       ┆ ---       ┆ ---       ┆ ype       ┆   ┆ ---       ┆ ---      ┆ d         ┆ ---       │\n",
       "│ ---       ┆ list[i64] ┆ list[i64] ┆ ---       ┆   ┆ bool      ┆ str      ┆ ---       ┆ list[str] │\n",
       "│ str       ┆           ┆           ┆ str       ┆   ┆           ┆          ┆ str       ┆           │\n",
       "╞═══════════╪═══════════╪═══════════╪═══════════╪═══╪═══════════╪══════════╪═══════════╪═══════════╡\n",
       "│ dfadbe19- ┆ [1]       ┆ [1]       ┆ UNIT      ┆ … ┆ true      ┆ GRUPOZAP ┆ ZAP159384 ┆ [\"APARTME │\n",
       "│ 2554-5480 ┆           ┆           ┆           ┆   ┆           ┆          ┆ 1         ┆ NT\"]      │\n",
       "│ -56eb-078 ┆           ┆           ┆           ┆   ┆           ┆          ┆           ┆           │\n",
       "│ 0d0…      ┆           ┆           ┆           ┆   ┆           ┆          ┆           ┆           │\n",
       "│ 90879777- ┆ [1]       ┆ [2]       ┆ UNIT      ┆ … ┆ true      ┆ GRUPOZAP ┆ VR527903  ┆ [\"APARTME │\n",
       "│ b9cc-65b9 ┆           ┆           ┆           ┆   ┆           ┆          ┆           ┆ NT\"]      │\n",
       "│ -28c8-c86 ┆           ┆           ┆           ┆   ┆           ┆          ┆           ┆           │\n",
       "│ f00…      ┆           ┆           ┆           ┆   ┆           ┆          ┆           ┆           │\n",
       "│ a70a64d3- ┆ [1]       ┆ [1]       ┆ UNIT      ┆ … ┆ true      ┆ GRUPOZAP ┆ 460784    ┆ [\"APARTME │\n",
       "│ 0e45-b5bc ┆           ┆           ┆           ┆   ┆           ┆          ┆           ┆ NT\"]      │\n",
       "│ -5b75-0ed ┆           ┆           ┆           ┆   ┆           ┆          ┆           ┆           │\n",
       "│ 9fc…      ┆           ┆           ┆           ┆   ┆           ┆          ┆           ┆           │\n",
       "└───────────┴───────────┴───────────┴───────────┴───┴───────────┴──────────┴───────────┴───────────┘"
      ]
     },
     "execution_count": 11,
     "metadata": {},
     "output_type": "execute_result"
    }
   ],
   "source": [
    "listings_df_map[\"cidade_baixa\"].head(3).collect()"
   ]
  },
  {
   "cell_type": "markdown",
   "metadata": {},
   "source": [
    "#### Descarte de informações não importantes"
   ]
  },
  {
   "cell_type": "markdown",
   "metadata": {},
   "source": [
    "Existe muita informação ruidosa nesses dados.\n",
    "Escolhemos as seguintes colunas para descarte."
   ]
  },
  {
   "cell_type": "code",
   "execution_count": 12,
   "metadata": {},
   "outputs": [],
   "source": [
    "COLUMNS_TO_DROP = [\n",
    "    \"advertiserId\",\n",
    "    \"constructionStatus\",\n",
    "    \"portal\",\n",
    "    \"stamps\",\n",
    "    \"advertiserContact\",\n",
    "    \"whatsappNumber\",\n",
    "    \"title\",\n",
    "    \"nonActivationReason\",\n",
    "    \"status\",\n",
    "    \"legacyId\",\n",
    "    \"externalId\",\n",
    "    \"listingsCount\",\n",
    "    \"createdAt\",\n",
    "    \"updatedAt\",\n",
    "    \"showPrice\",\n",
    "    \"acceptExchange\",\n",
    "    \"description\",\n",
    "    \"sourceId\",\n",
    "    \"providerId\"\n",
    "]"
   ]
  },
  {
   "cell_type": "code",
   "execution_count": 13,
   "metadata": {},
   "outputs": [],
   "source": [
    "listings_df_map = {\n",
    "    name: df.drop(COLUMNS_TO_DROP)\n",
    "    for name, df in listings_df_map.items()\n",
    "}"
   ]
  },
  {
   "cell_type": "code",
   "execution_count": 14,
   "metadata": {},
   "outputs": [
    {
     "data": {
      "text/html": [
       "<div><style>\n",
       ".dataframe > thead > tr,\n",
       ".dataframe > tbody > tr {\n",
       "  text-align: right;\n",
       "  white-space: pre-wrap;\n",
       "}\n",
       "</style>\n",
       "<small>shape: (3, 24)</small><table border=\"1\" class=\"dataframe\"><thead><tr><th>bathrooms</th><th>bedrooms</th><th>propertyType</th><th>resale</th><th>totalAreas</th><th>amenities</th><th>floors</th><th>address</th><th>suites</th><th>unitFloor</th><th>capacityLimit</th><th>usableAreas</th><th>displayAddressType</th><th>listingType</th><th>parkingSpaces</th><th>contractType</th><th>usageTypes</th><th>buildings</th><th>publicationType</th><th>id</th><th>unitsOnTheFloor</th><th>unitSubTypes</th><th>pricingInfos</th><th>unitTypes</th></tr><tr><td>list[i64]</td><td>list[i64]</td><td>str</td><td>bool</td><td>list[i64]</td><td>list[str]</td><td>list[i64]</td><td>struct[6]</td><td>list[i64]</td><td>i64</td><td>list[i64]</td><td>list[i64]</td><td>str</td><td>str</td><td>list[i64]</td><td>str</td><td>list[str]</td><td>i64</td><td>str</td><td>str</td><td>i64</td><td>list[str]</td><td>list[struct[5]]</td><td>list[str]</td></tr></thead><tbody><tr><td>[1]</td><td>[1]</td><td>&quot;UNIT&quot;</td><td>false</td><td>[48]</td><td>[&quot;DISABLED_ACCESS&quot;, &quot;INTEGRATED_ENVIRONMENTS&quot;, … &quot;PARTY_HALL&quot;]</td><td>[8]</td><td>{&quot;Porto Alegre&quot;,&quot;Cidade Baixa&quot;,&quot;Rua Joaquim Nabuco&quot;,null,{&quot;GOOGLE&quot;,-30.041,-51.219,140,null,null},&quot;RS&quot;}</td><td>[]</td><td>0</td><td>[0]</td><td>[46]</td><td>&quot;STREET&quot;</td><td>&quot;USED&quot;</td><td>[]</td><td>&quot;OWNER&quot;</td><td>[&quot;RESIDENTIAL&quot;]</td><td>0</td><td>&quot;PREMIUM&quot;</td><td>&quot;2463567709&quot;</td><td>4</td><td>[]</td><td>[{&quot;SALE&quot;,600,290000,300,null}]</td><td>[&quot;APARTMENT&quot;]</td></tr><tr><td>[1]</td><td>[2]</td><td>&quot;UNIT&quot;</td><td>false</td><td>[66]</td><td>[]</td><td>[]</td><td>{&quot;Porto Alegre&quot;,&quot;Cidade Baixa&quot;,&quot;Rua José do Patrocínio&quot;,&quot;357&quot;,{&quot;GOOGLE&quot;,null,null,null,-30.038562,-51.224749},&quot;RS&quot;}</td><td>[0]</td><td>0</td><td>[]</td><td>[56]</td><td>&quot;ALL&quot;</td><td>&quot;USED&quot;</td><td>[]</td><td>&quot;REAL_ESTATE&quot;</td><td>[&quot;RESIDENTIAL&quot;]</td><td>0</td><td>&quot;PREMIUM&quot;</td><td>&quot;2760694515&quot;</td><td>0</td><td>[]</td><td>[{&quot;SALE&quot;,0,275000,290,null}]</td><td>[&quot;APARTMENT&quot;]</td></tr><tr><td>[1]</td><td>[1]</td><td>&quot;UNIT&quot;</td><td>false</td><td>[56]</td><td>[&quot;PETS_ALLOWED&quot;, &quot;FURNISHED&quot;]</td><td>[]</td><td>{&quot;Porto Alegre&quot;,&quot;Centro Histórico&quot;,&quot;Avenida João Pessoa&quot;,&quot;371&quot;,{&quot;GOOGLE&quot;,null,null,null,-30.035694,-51.221204},&quot;RS&quot;}</td><td>[]</td><td>3</td><td>[]</td><td>[42]</td><td>&quot;ALL&quot;</td><td>&quot;USED&quot;</td><td>[]</td><td>&quot;REAL_ESTATE&quot;</td><td>[&quot;RESIDENTIAL&quot;]</td><td>0</td><td>&quot;STANDARD&quot;</td><td>&quot;2765177708&quot;</td><td>0</td><td>[]</td><td>[{&quot;SALE&quot;,335,175000,530,null}]</td><td>[&quot;APARTMENT&quot;]</td></tr></tbody></table></div>"
      ],
      "text/plain": [
       "shape: (3, 24)\n",
       "┌───────────┬───────────┬────────────┬────────┬───┬────────────┬───────────┬───────────┬───────────┐\n",
       "│ bathrooms ┆ bedrooms  ┆ propertyTy ┆ resale ┆ … ┆ unitsOnThe ┆ unitSubTy ┆ pricingIn ┆ unitTypes │\n",
       "│ ---       ┆ ---       ┆ pe         ┆ ---    ┆   ┆ Floor      ┆ pes       ┆ fos       ┆ ---       │\n",
       "│ list[i64] ┆ list[i64] ┆ ---        ┆ bool   ┆   ┆ ---        ┆ ---       ┆ ---       ┆ list[str] │\n",
       "│           ┆           ┆ str        ┆        ┆   ┆ i64        ┆ list[str] ┆ list[stru ┆           │\n",
       "│           ┆           ┆            ┆        ┆   ┆            ┆           ┆ ct[5]]    ┆           │\n",
       "╞═══════════╪═══════════╪════════════╪════════╪═══╪════════════╪═══════════╪═══════════╪═══════════╡\n",
       "│ [1]       ┆ [1]       ┆ UNIT       ┆ false  ┆ … ┆ 4          ┆ []        ┆ [{\"SALE\", ┆ [\"APARTME │\n",
       "│           ┆           ┆            ┆        ┆   ┆            ┆           ┆ 600,29000 ┆ NT\"]      │\n",
       "│           ┆           ┆            ┆        ┆   ┆            ┆           ┆ 0,300,nul ┆           │\n",
       "│           ┆           ┆            ┆        ┆   ┆            ┆           ┆ l}]       ┆           │\n",
       "│ [1]       ┆ [2]       ┆ UNIT       ┆ false  ┆ … ┆ 0          ┆ []        ┆ [{\"SALE\", ┆ [\"APARTME │\n",
       "│           ┆           ┆            ┆        ┆   ┆            ┆           ┆ 0,275000, ┆ NT\"]      │\n",
       "│           ┆           ┆            ┆        ┆   ┆            ┆           ┆ 290,null} ┆           │\n",
       "│           ┆           ┆            ┆        ┆   ┆            ┆           ┆ ]         ┆           │\n",
       "│ [1]       ┆ [1]       ┆ UNIT       ┆ false  ┆ … ┆ 0          ┆ []        ┆ [{\"SALE\", ┆ [\"APARTME │\n",
       "│           ┆           ┆            ┆        ┆   ┆            ┆           ┆ 335,17500 ┆ NT\"]      │\n",
       "│           ┆           ┆            ┆        ┆   ┆            ┆           ┆ 0,530,nul ┆           │\n",
       "│           ┆           ┆            ┆        ┆   ┆            ┆           ┆ l}]       ┆           │\n",
       "└───────────┴───────────┴────────────┴────────┴───┴────────────┴───────────┴───────────┴───────────┘"
      ]
     },
     "execution_count": 14,
     "metadata": {},
     "output_type": "execute_result"
    }
   ],
   "source": [
    "listings_df_map[\"cidade_baixa\"].head(3).collect()"
   ]
  },
  {
   "cell_type": "markdown",
   "metadata": {},
   "source": [
    "#### Atributos em forma de lista"
   ]
  },
  {
   "cell_type": "markdown",
   "metadata": {},
   "source": [
    "Sabemos que `amenities` descrevem as amenidades presentes em um dado imóvel,\n",
    "o que pode ser interessante transformar em atributos preditores para nossas regressões.\n",
    "\n",
    "Entretanto, ainda precisamos entender outras colunas que tem listas como valores.\n",
    "Várias delas não parecem fazer sentido em ter multiplicidade: em que contexto o número\n",
    "de quartos (bedrooms) precisa ser uma lista? Número de banheiros? Área utilizável?\n",
    "Uma unidade pode pertencer ao mesmo tempo a mais de um tipo (comercial, casa)?\n",
    "\n",
    "Em primeiro lugar, tentamos entender quais listas de fato vêm a possuir mais de um\n",
    "elemento.\n"
   ]
  },
  {
   "cell_type": "code",
   "execution_count": 46,
   "metadata": {},
   "outputs": [
    {
     "name": "stdout",
     "output_type": "stream",
     "text": [
      "cidade_baixa\n",
      "============\n",
      "floors       : 1\n",
      "unitSubTypes : 2\n",
      "suites       : 1\n",
      "unitTypes    : 1\n",
      "pricingInfos : 2\n",
      "parkingSpaces: 2\n",
      "totalAreas   : 2\n",
      "bathrooms    : 2\n",
      "bedrooms     : 2\n",
      "usableAreas  : 2\n",
      "usageTypes   : 2\n",
      "capacityLimit: 1\n",
      "\n",
      "\n",
      "centro_historico\n",
      "================\n",
      "floors       : 1\n",
      "unitSubTypes : 2\n",
      "suites       : 1\n",
      "unitTypes    : 1\n",
      "pricingInfos : 2\n",
      "parkingSpaces: 2\n",
      "totalAreas   : 2\n",
      "bathrooms    : 2\n",
      "bedrooms     : 2\n",
      "usableAreas  : 2\n",
      "usageTypes   : 2\n",
      "capacityLimit: 1\n",
      "\n",
      "\n",
      "menino_deus\n",
      "===========\n",
      "floors       : 1\n",
      "unitSubTypes : 2\n",
      "suites       : 1\n",
      "unitTypes    : 1\n",
      "pricingInfos : 2\n",
      "parkingSpaces: 2\n",
      "totalAreas   : 2\n",
      "bathrooms    : 2\n",
      "bedrooms     : 2\n",
      "usableAreas  : 2\n",
      "usageTypes   : 2\n",
      "capacityLimit: 1\n",
      "\n",
      "\n",
      "sarandi\n",
      "=======\n",
      "floors       : 1\n",
      "unitSubTypes : 2\n",
      "suites       : 1\n",
      "unitTypes    : 1\n",
      "pricingInfos : 2\n",
      "parkingSpaces: 2\n",
      "totalAreas   : 2\n",
      "bathrooms    : 2\n",
      "bedrooms     : 2\n",
      "usableAreas  : 2\n",
      "usageTypes   : 2\n",
      "capacityLimit: 1\n",
      "\n",
      "\n"
     ]
    }
   ],
   "source": [
    "LIST_COLUMNS = [\n",
    "    \"floors\",\n",
    "    \"unitSubTypes\",\n",
    "    \"suites\",\n",
    "    \"unitTypes\",\n",
    "    \"pricingInfos\",\n",
    "    \"parkingSpaces\",\n",
    "    \"totalAreas\",\n",
    "    \"bathrooms\",\n",
    "    \"bedrooms\",\n",
    "    \"usableAreas\",\n",
    "    \"usageTypes\",\n",
    "    \"capacityLimit\",\n",
    "]\n",
    "\n",
    "max_colname_width = max(len(name) for name in LIST_COLUMNS)\n",
    "arrays_with_size_larger_than_one = []\n",
    "for name, df in listings_df_map.items():\n",
    "    print(name)\n",
    "    print(\"=\" * len(name))\n",
    "    for colname in LIST_COLUMNS:\n",
    "        column_max_length = get_list_column_max_len(df, colname)\n",
    "        print(f\"{colname:<{max_colname_width}}: {column_max_length}\")\n",
    "        if column_max_length > 1:\n",
    "            arrays_with_size_larger_than_one.append(colname)\n",
    "    print(\"\\n\")"
   ]
  },
  {
   "cell_type": "markdown",
   "metadata": {},
   "source": [
    "Para entender melhor esses atributos, filtramos nossos dados para as situações em que\n",
    "essas multiplicidades ocorrem."
   ]
  },
  {
   "cell_type": "code",
   "execution_count": 63,
   "metadata": {},
   "outputs": [
    {
     "data": {
      "text/html": [
       "<div><style>\n",
       ".dataframe > thead > tr,\n",
       ".dataframe > tbody > tr {\n",
       "  text-align: right;\n",
       "  white-space: pre-wrap;\n",
       "}\n",
       "</style>\n",
       "<small>shape: (2, 24)</small><table border=\"1\" class=\"dataframe\"><thead><tr><th>bathrooms</th><th>bedrooms</th><th>propertyType</th><th>resale</th><th>totalAreas</th><th>amenities</th><th>floors</th><th>address</th><th>suites</th><th>unitFloor</th><th>capacityLimit</th><th>usableAreas</th><th>displayAddressType</th><th>listingType</th><th>parkingSpaces</th><th>contractType</th><th>usageTypes</th><th>buildings</th><th>publicationType</th><th>id</th><th>unitsOnTheFloor</th><th>unitSubTypes</th><th>pricingInfos</th><th>unitTypes</th></tr><tr><td>list[i64]</td><td>list[i64]</td><td>str</td><td>bool</td><td>list[i64]</td><td>list[str]</td><td>list[i64]</td><td>struct[6]</td><td>list[i64]</td><td>i64</td><td>list[null]</td><td>list[i64]</td><td>str</td><td>str</td><td>list[i64]</td><td>str</td><td>list[str]</td><td>i64</td><td>str</td><td>str</td><td>i64</td><td>list[str]</td><td>list[struct[5]]</td><td>list[str]</td></tr></thead><tbody><tr><td>[3]</td><td>[3]</td><td>&quot;UNIT&quot;</td><td>false</td><td>[253]</td><td>[&quot;BICYCLES_PLACE&quot;, &quot;ELEVATOR&quot;, … &quot;PETS_ALLOWED&quot;]</td><td>[8]</td><td>{&quot;Porto Alegre&quot;,&quot;Centro Histórico&quot;,&quot;Rua Avaí&quot;,&quot;40&quot;,{&quot;GOOGLE&quot;,null,null,null,-30.034,-51.222745},&quot;RS&quot;}</td><td>[1]</td><td>8</td><td>[]</td><td>[192]</td><td>&quot;ALL&quot;</td><td>&quot;USED&quot;</td><td>[1]</td><td>&quot;REAL_ESTATE&quot;</td><td>[&quot;RESIDENTIAL&quot;]</td><td>1</td><td>&quot;STANDARD&quot;</td><td>&quot;2685510440&quot;</td><td>2</td><td>[&quot;PENTHOUSE&quot;, &quot;DUPLEX&quot;]</td><td>[{&quot;SALE&quot;,3400,975000,1200,null}]</td><td>[&quot;APARTMENT&quot;]</td></tr><tr><td>[2]</td><td>[3]</td><td>&quot;UNIT&quot;</td><td>false</td><td>[184]</td><td>[&quot;PARTY_HALL&quot;, &quot;BALCONY&quot;, … &quot;ELEVATOR&quot;]</td><td>[9]</td><td>{&quot;Porto Alegre&quot;,&quot;Centro Histórico&quot;,&quot;Avenida João Pessoa&quot;,&quot;721&quot;,{&quot;GOOGLE&quot;,null,null,null,-30.038406,-51.219321},&quot;RS&quot;}</td><td>[1]</td><td>0</td><td>[]</td><td>[133]</td><td>&quot;ALL&quot;</td><td>&quot;USED&quot;</td><td>[1]</td><td>&quot;REAL_ESTATE&quot;</td><td>[&quot;RESIDENTIAL&quot;]</td><td>0</td><td>&quot;STANDARD&quot;</td><td>&quot;2761198831&quot;</td><td>4</td><td>[&quot;PENTHOUSE&quot;, &quot;DUPLEX&quot;]</td><td>[{&quot;SALE&quot;,2400,660000,909,null}]</td><td>[&quot;APARTMENT&quot;]</td></tr></tbody></table></div>"
      ],
      "text/plain": [
       "shape: (2, 24)\n",
       "┌───────────┬───────────┬────────────┬────────┬───┬────────────┬───────────┬───────────┬───────────┐\n",
       "│ bathrooms ┆ bedrooms  ┆ propertyTy ┆ resale ┆ … ┆ unitsOnThe ┆ unitSubTy ┆ pricingIn ┆ unitTypes │\n",
       "│ ---       ┆ ---       ┆ pe         ┆ ---    ┆   ┆ Floor      ┆ pes       ┆ fos       ┆ ---       │\n",
       "│ list[i64] ┆ list[i64] ┆ ---        ┆ bool   ┆   ┆ ---        ┆ ---       ┆ ---       ┆ list[str] │\n",
       "│           ┆           ┆ str        ┆        ┆   ┆ i64        ┆ list[str] ┆ list[stru ┆           │\n",
       "│           ┆           ┆            ┆        ┆   ┆            ┆           ┆ ct[5]]    ┆           │\n",
       "╞═══════════╪═══════════╪════════════╪════════╪═══╪════════════╪═══════════╪═══════════╪═══════════╡\n",
       "│ [3]       ┆ [3]       ┆ UNIT       ┆ false  ┆ … ┆ 2          ┆ [\"PENTHOU ┆ [{\"SALE\", ┆ [\"APARTME │\n",
       "│           ┆           ┆            ┆        ┆   ┆            ┆ SE\",      ┆ 3400,9750 ┆ NT\"]      │\n",
       "│           ┆           ┆            ┆        ┆   ┆            ┆ \"DUPLEX\"] ┆ 00,1200,n ┆           │\n",
       "│           ┆           ┆            ┆        ┆   ┆            ┆           ┆ ull…      ┆           │\n",
       "│ [2]       ┆ [3]       ┆ UNIT       ┆ false  ┆ … ┆ 4          ┆ [\"PENTHOU ┆ [{\"SALE\", ┆ [\"APARTME │\n",
       "│           ┆           ┆            ┆        ┆   ┆            ┆ SE\",      ┆ 2400,6600 ┆ NT\"]      │\n",
       "│           ┆           ┆            ┆        ┆   ┆            ┆ \"DUPLEX\"] ┆ 00,909,nu ┆           │\n",
       "│           ┆           ┆            ┆        ┆   ┆            ┆           ┆ ll}…      ┆           │\n",
       "└───────────┴───────────┴────────────┴────────┴───┴────────────┴───────────┴───────────┴───────────┘"
      ]
     },
     "execution_count": 63,
     "metadata": {},
     "output_type": "execute_result"
    }
   ],
   "source": [
    "listings_df_map[\"centro_historico\"].filter(\n",
    "    pl.col(\"unitSubTypes\").list.len() > 1\n",
    ").collect().head(3)"
   ]
  },
  {
   "cell_type": "markdown",
   "metadata": {},
   "source": [
    "`unitSubTypes`, neste caso, define duas categorias que se aplicam ao imóvel:\n",
    "ser uma cobertura, e ser um duplex. Faz sentido transformar os valores desta coluna\n",
    "em possíveis preditores para nossas regressões."
   ]
  },
  {
   "cell_type": "code",
   "execution_count": 62,
   "metadata": {},
   "outputs": [
    {
     "data": {
      "text/html": [
       "<div><style>\n",
       ".dataframe > thead > tr,\n",
       ".dataframe > tbody > tr {\n",
       "  text-align: right;\n",
       "  white-space: pre-wrap;\n",
       "}\n",
       "</style>\n",
       "<small>shape: (3, 24)</small><table border=\"1\" class=\"dataframe\"><thead><tr><th>bathrooms</th><th>bedrooms</th><th>propertyType</th><th>resale</th><th>totalAreas</th><th>amenities</th><th>floors</th><th>address</th><th>suites</th><th>unitFloor</th><th>capacityLimit</th><th>usableAreas</th><th>displayAddressType</th><th>listingType</th><th>parkingSpaces</th><th>contractType</th><th>usageTypes</th><th>buildings</th><th>publicationType</th><th>id</th><th>unitsOnTheFloor</th><th>unitSubTypes</th><th>pricingInfos</th><th>unitTypes</th></tr><tr><td>list[i64]</td><td>list[i64]</td><td>str</td><td>bool</td><td>list[i64]</td><td>list[str]</td><td>list[i64]</td><td>struct[6]</td><td>list[i64]</td><td>i64</td><td>list[null]</td><td>list[i64]</td><td>str</td><td>str</td><td>list[i64]</td><td>str</td><td>list[str]</td><td>i64</td><td>str</td><td>str</td><td>i64</td><td>list[str]</td><td>list[struct[5]]</td><td>list[str]</td></tr></thead><tbody><tr><td>[1]</td><td>[0]</td><td>&quot;UNIT&quot;</td><td>false</td><td>[42]</td><td>[]</td><td>[]</td><td>{&quot;Porto Alegre&quot;,&quot;Centro Histórico&quot;,&quot;Rua dos Andradas&quot;,&quot;1137&quot;,{&quot;GOOGLE&quot;,null,null,null,-30.030361,-51.230258},&quot;RS&quot;}</td><td>[0]</td><td>0</td><td>[]</td><td>[42]</td><td>&quot;ALL&quot;</td><td>&quot;USED&quot;</td><td>[0]</td><td>&quot;REAL_ESTATE&quot;</td><td>[&quot;COMMERCIAL&quot;]</td><td>0</td><td>&quot;PREMIUM&quot;</td><td>&quot;2712201134&quot;</td><td>0</td><td>[]</td><td>[{&quot;RENTAL&quot;,1289,1200,500,{&quot;MONTHLY&quot;,[],1700}}, {&quot;SALE&quot;,1289,160000,500,null}]</td><td>[&quot;OFFICE&quot;]</td></tr><tr><td>[1]</td><td>[0]</td><td>&quot;UNIT&quot;</td><td>false</td><td>[35]</td><td>[]</td><td>[]</td><td>{&quot;Porto Alegre&quot;,&quot;Cidade Baixa&quot;,&quot;Avenida Loureiro da Silva&quot;,&quot;2001&quot;,{&quot;GOOGLE&quot;,null,null,null,-30.035203,-51.221879},&quot;RS&quot;}</td><td>[0]</td><td>0</td><td>[]</td><td>[35]</td><td>&quot;ALL&quot;</td><td>&quot;USED&quot;</td><td>[2]</td><td>&quot;REAL_ESTATE&quot;</td><td>[&quot;COMMERCIAL&quot;]</td><td>0</td><td>&quot;STANDARD&quot;</td><td>&quot;2570524388&quot;</td><td>0</td><td>[]</td><td>[{&quot;RENTAL&quot;,331,1350,739,{&quot;MONTHLY&quot;,[],2089}}, {&quot;SALE&quot;,331,265000,739,null}]</td><td>[&quot;OFFICE&quot;]</td></tr><tr><td>[2]</td><td>[0]</td><td>&quot;UNIT&quot;</td><td>false</td><td>[65]</td><td>[&quot;ELEVATOR&quot;]</td><td>[22]</td><td>{&quot;Porto Alegre&quot;,&quot;Centro Histórico&quot;,&quot;Avenida Senador Salgado Filho&quot;,null,{&quot;GOOGLE&quot;,-30.031,-51.224,140,null,null},&quot;RS&quot;}</td><td>[0]</td><td>0</td><td>[]</td><td>[52]</td><td>&quot;STREET&quot;</td><td>&quot;USED&quot;</td><td>[1]</td><td>&quot;REAL_ESTATE&quot;</td><td>[&quot;COMMERCIAL&quot;]</td><td>0</td><td>&quot;STANDARD&quot;</td><td>&quot;2743763450&quot;</td><td>0</td><td>[]</td><td>[{&quot;RENTAL&quot;,150,1100,160,{&quot;MONTHLY&quot;,[],1260}}, {&quot;SALE&quot;,150,275000,160,null}]</td><td>[&quot;OFFICE&quot;]</td></tr></tbody></table></div>"
      ],
      "text/plain": [
       "shape: (3, 24)\n",
       "┌───────────┬───────────┬────────────┬────────┬───┬────────────┬───────────┬───────────┬───────────┐\n",
       "│ bathrooms ┆ bedrooms  ┆ propertyTy ┆ resale ┆ … ┆ unitsOnThe ┆ unitSubTy ┆ pricingIn ┆ unitTypes │\n",
       "│ ---       ┆ ---       ┆ pe         ┆ ---    ┆   ┆ Floor      ┆ pes       ┆ fos       ┆ ---       │\n",
       "│ list[i64] ┆ list[i64] ┆ ---        ┆ bool   ┆   ┆ ---        ┆ ---       ┆ ---       ┆ list[str] │\n",
       "│           ┆           ┆ str        ┆        ┆   ┆ i64        ┆ list[str] ┆ list[stru ┆           │\n",
       "│           ┆           ┆            ┆        ┆   ┆            ┆           ┆ ct[5]]    ┆           │\n",
       "╞═══════════╪═══════════╪════════════╪════════╪═══╪════════════╪═══════════╪═══════════╪═══════════╡\n",
       "│ [1]       ┆ [0]       ┆ UNIT       ┆ false  ┆ … ┆ 0          ┆ []        ┆ [{\"RENTAL ┆ [\"OFFICE\" │\n",
       "│           ┆           ┆            ┆        ┆   ┆            ┆           ┆ \",1289,12 ┆ ]         │\n",
       "│           ┆           ┆            ┆        ┆   ┆            ┆           ┆ 00,500,{\" ┆           │\n",
       "│           ┆           ┆            ┆        ┆   ┆            ┆           ┆ MON…      ┆           │\n",
       "│ [1]       ┆ [0]       ┆ UNIT       ┆ false  ┆ … ┆ 0          ┆ []        ┆ [{\"RENTAL ┆ [\"OFFICE\" │\n",
       "│           ┆           ┆            ┆        ┆   ┆            ┆           ┆ \",331,135 ┆ ]         │\n",
       "│           ┆           ┆            ┆        ┆   ┆            ┆           ┆ 0,739,{\"M ┆           │\n",
       "│           ┆           ┆            ┆        ┆   ┆            ┆           ┆ ONT…      ┆           │\n",
       "│ [2]       ┆ [0]       ┆ UNIT       ┆ false  ┆ … ┆ 0          ┆ []        ┆ [{\"RENTAL ┆ [\"OFFICE\" │\n",
       "│           ┆           ┆            ┆        ┆   ┆            ┆           ┆ \",150,110 ┆ ]         │\n",
       "│           ┆           ┆            ┆        ┆   ┆            ┆           ┆ 0,160,{\"M ┆           │\n",
       "│           ┆           ┆            ┆        ┆   ┆            ┆           ┆ ONT…      ┆           │\n",
       "└───────────┴───────────┴────────────┴────────┴───┴────────────┴───────────┴───────────┴───────────┘"
      ]
     },
     "execution_count": 62,
     "metadata": {},
     "output_type": "execute_result"
    }
   ],
   "source": [
    "listings_df_map[\"centro_historico\"].filter(\n",
    "    pl.col(\"pricingInfos\").list.len() > 1\n",
    ").collect().head(3)"
   ]
  },
  {
   "cell_type": "markdown",
   "metadata": {},
   "source": [
    "`pricingInfos` tem multiplicidade quando é possível comprar _ou_ alugar um imóvel.\n",
    "Para nossos propósitos, nos interessamos tão somente pelo valor de compra."
   ]
  },
  {
   "cell_type": "markdown",
   "metadata": {},
   "source": [
    "Existem dados duplicados?"
   ]
  },
  {
   "cell_type": "code",
   "execution_count": 39,
   "metadata": {},
   "outputs": [
    {
     "name": "stdout",
     "output_type": "stream",
     "text": [
      "cidade_baixa: 102 duplicatas\n",
      "centro_historico: 712 duplicatas\n",
      "menino_deus: 904 duplicatas\n",
      "sarandi: 132 duplicatas\n"
     ]
    }
   ],
   "source": [
    "for name, df in listings_df_map.items():\n",
    "    num_dupes = df.filter(pl.col(\"id\").is_duplicated()).collect().height\n",
    "    print(f\"{name}: {num_dupes} duplicatas\")"
   ]
  },
  {
   "cell_type": "code",
   "execution_count": 37,
   "metadata": {},
   "outputs": [
    {
     "data": {
      "text/html": [
       "<div><style>\n",
       ".dataframe > thead > tr,\n",
       ".dataframe > tbody > tr {\n",
       "  text-align: right;\n",
       "  white-space: pre-wrap;\n",
       "}\n",
       "</style>\n",
       "<small>shape: (2, 5)</small><table border=\"1\" class=\"dataframe\"><thead><tr><th>listing</th><th>account</th><th>medias</th><th>accountLink</th><th>link</th></tr><tr><td>struct[43]</td><td>struct[9]</td><td>list[struct[3]]</td><td>struct[4]</td><td>struct[4]</td></tr></thead><tbody><tr><td>{&quot;10929a8c-7227-5aff-fb05-6bf3945bf5b7&quot;,[1],[2],&quot;UNIT&quot;,false,[104],&quot;&quot;,[],&quot;83977&quot;,&quot;2024-12-04T20:20:07.087+00:00&quot;,&quot;ConstructionStatus_NONE&quot;,[],&quot;NonActivationReason_NONE&quot;,{&quot;Porto Alegre&quot;,&quot;Farroupilha&quot;,&quot;Avenida Venâncio Aires&quot;,&quot;449&quot;,{&quot;GOOGLE&quot;,null,null,null,-30.041217,-51.215602},&quot;RS&quot;},[0],0,&quot;51992941900&quot;,false,&quot;ACTIVE&quot;,&quot;2024-12-25T20:16:09.176+00:00&quot;,[],[82],&quot;ALL&quot;,7,&quot;USED&quot;,&quot;Excelente oportunidade no coração de Porto Alegre!&lt;BR&gt;&lt;BR&gt;Este apartamento encantador de 81m² de área privativa está localizado na Avenida Venâncio Aires, em uma região privilegiada, próximo à Avenida João Pessoa, Parque Farroupilha (Redenção) e ao bairro Bom Fim.&lt;BR&gt;&lt;BR&gt;Destaques do imóvel:&lt;BR&gt;02 dormitórios espaçosos;&lt;BR&gt;Amplo living com 02 ambientes (estar e jantar);&lt;BR&gt;Cozinha separada e área de serviço ampliada;&lt;BR&gt;Piso em parquet, que adiciona charme e conforto aos ambientes;&lt;BR&gt;Imóvel semimobiliado, bem ventilado, ensolarado e reformado.&lt;BR&gt;&lt;BR&gt;Localização estratégica:&lt;BR&gt;Fácil acesso aos principais serviços, comércio e lazer dos bairros Cidade Baixa, Santana e Bom Fim.&lt;BR&gt;&lt;BR&gt;Ideal para quem busca conforto, praticidade e qualidade de vida!&lt;BR&gt;&lt;BR&gt;Entre em contato e agende sua visita. Não perca essa oportunidade de viver bem em Porto Alegre! ]]&gt;&quot;,[],&quot;REAL_ESTATE&quot;,[&quot;RESIDENTIAL&quot;],0,[],&quot;STANDARD&quot;,&quot;Excelente oportunidade no coração de Porto Alegre!Este apartamento encantador de 81m² de área privat&quot;,&quot;2761415335&quot;,&quot;c6773be8-271d-36e2-95b9-07d1d405165c&quot;,0,[],{&quot;&quot;,[&quot;5137373337&quot;, &quot;51992941900&quot;]},[{&quot;SALE&quot;,0,430000,550,null}],true,&quot;GRUPOZAP&quot;,&quot;BE11051&quot;,[&quot;APARTMENT&quot;]}</td><td>{&quot;10929a8c-7227-5aff-fb05-6bf3945bf5b7&quot;,&quot;Orientta Negócios Imobiliários&quot;,&quot;https://resizedimgs.zapimoveis.com.br/{action}/{width}x{height}/vr.images.sp/700237e1377fef8be63496af3d015bcc.webp&quot;,&quot;36071-F-RS&quot;,true,54505,2594899,&quot;2018-03-27T16:55:54Z&quot;,&quot;gold&quot;}</td><td>[{&quot;02cb37650ba179846553f62e62610c71&quot;,&quot;https://resizedimgs.zapimoveis.com.br/{action}/{width}x{height}/vr.images.sp/02cb37650ba179846553f62e62610c71.webp&quot;,&quot;IMAGE&quot;}, {&quot;a6593237d8c622c272b7149661d39ffc&quot;,&quot;https://resizedimgs.zapimoveis.com.br/{action}/{width}x{height}/vr.images.sp/a6593237d8c622c272b7149661d39ffc.webp&quot;,&quot;IMAGE&quot;}, … {&quot;ae5c0129d8206466ddaa81ed822f9c90&quot;,&quot;https://resizedimgs.zapimoveis.com.br/{action}/{width}x{height}/vr.images.sp/ae5c0129d8206466ddaa81ed822f9c90.webp&quot;,&quot;IMAGE&quot;}]</td><td>{&quot;Orientta Negócios Imobiliários&quot;,&quot;/imobiliaria/54505/&quot;,&quot;&quot;,{}}</td><td>{&quot;Apartamento com 2 Quartos à venda, 82m²&quot;,&quot;/imovel/venda-apartamento-2-quartos-farroupilha-porto-alegre-82m2-id-2761415335/&quot;,&quot;&quot;,{&quot;Porto Alegre&quot;,&quot;Farroupilha&quot;,&quot;&quot;,&quot;Avenida Venâncio Aires&quot;,&quot;449&quot;,&quot;&quot;}}</td></tr><tr><td>{&quot;10929a8c-7227-5aff-fb05-6bf3945bf5b7&quot;,[1],[2],&quot;UNIT&quot;,false,[102],&quot;&quot;,[],&quot;83977&quot;,&quot;2024-12-04T20:20:07.087+00:00&quot;,&quot;ConstructionStatus_NONE&quot;,[],&quot;NonActivationReason_NONE&quot;,{&quot;Porto Alegre&quot;,&quot;Farroupilha&quot;,&quot;Avenida Venâncio Aires&quot;,&quot;449&quot;,{&quot;GOOGLE&quot;,null,null,null,-30.041217,-51.215602},&quot;RS&quot;},[0],0,&quot;51992941900&quot;,false,&quot;ACTIVE&quot;,&quot;2024-12-26T20:27:47.915+00:00&quot;,[],[80],&quot;ALL&quot;,2,&quot;USED&quot;,&quot;Excelente oportunidade no coração de Porto Alegre!&lt;BR&gt;&lt;BR&gt;Este apartamento encantador de 81m² de área privativa está localizado na Avenida Venâncio Aires, em uma região privilegiada, próximo à Avenida João Pessoa, Parque Farroupilha (Redenção) e ao bairro Bom Fim.&lt;BR&gt;&lt;BR&gt;Destaques do imóvel:&lt;BR&gt;02 dormitórios espaçosos;&lt;BR&gt;Amplo living com 02 ambientes (estar e jantar);&lt;BR&gt;Cozinha separada e área de serviço ampliada;&lt;BR&gt;Piso em parquet, que adiciona charme e conforto aos ambientes;&lt;BR&gt;Imóvel semimobiliado, bem ventilado, ensolarado e reformado.&lt;BR&gt;&lt;BR&gt;Localização estratégica:&lt;BR&gt;Fácil acesso aos principais serviços, comércio e lazer dos bairros Cidade Baixa, Santana e Bom Fim.&lt;BR&gt;&lt;BR&gt;Ideal para quem busca conforto, praticidade e qualidade de vida!&lt;BR&gt;&lt;BR&gt;Entre em contato e agende sua visita. Não perca essa oportunidade de viver bem em Porto Alegre! ]]&gt;&quot;,[],&quot;REAL_ESTATE&quot;,[&quot;RESIDENTIAL&quot;],0,[],&quot;PREMIUM&quot;,&quot;Excelente oportunidade no coração de Porto Alegre!Este apartamento encantador de 81m² de área privat&quot;,&quot;2761415335&quot;,&quot;fb8d8024-8263-3ee0-bcbe-fab04593c3a1&quot;,0,[],{&quot;&quot;,[&quot;5137373337&quot;, &quot;51992941900&quot;]},[{&quot;SALE&quot;,0,430000,550,null}],true,&quot;GRUPOZAP&quot;,&quot;BE11051&quot;,[&quot;APARTMENT&quot;]}</td><td>{&quot;10929a8c-7227-5aff-fb05-6bf3945bf5b7&quot;,&quot;Orientta Negócios Imobiliários&quot;,&quot;https://resizedimgs.zapimoveis.com.br/{action}/{width}x{height}/vr.images.sp/700237e1377fef8be63496af3d015bcc.webp&quot;,&quot;36071-F-RS&quot;,true,54505,2594899,&quot;2018-03-27T16:55:54Z&quot;,&quot;gold&quot;}</td><td>[{&quot;02cb37650ba179846553f62e62610c71&quot;,&quot;https://resizedimgs.zapimoveis.com.br/{action}/{width}x{height}/vr.images.sp/02cb37650ba179846553f62e62610c71.webp&quot;,&quot;IMAGE&quot;}, {&quot;a6593237d8c622c272b7149661d39ffc&quot;,&quot;https://resizedimgs.zapimoveis.com.br/{action}/{width}x{height}/vr.images.sp/a6593237d8c622c272b7149661d39ffc.webp&quot;,&quot;IMAGE&quot;}, … {&quot;ae5c0129d8206466ddaa81ed822f9c90&quot;,&quot;https://resizedimgs.zapimoveis.com.br/{action}/{width}x{height}/vr.images.sp/ae5c0129d8206466ddaa81ed822f9c90.webp&quot;,&quot;IMAGE&quot;}]</td><td>{&quot;Orientta Negócios Imobiliários&quot;,&quot;/imobiliaria/54505/&quot;,&quot;&quot;,{}}</td><td>{&quot;Apartamento com 2 Quartos à venda, 80m²&quot;,&quot;/imovel/venda-apartamento-2-quartos-farroupilha-porto-alegre-80m2-id-2761415335/&quot;,&quot;&quot;,{&quot;Porto Alegre&quot;,&quot;Farroupilha&quot;,&quot;&quot;,&quot;Avenida Venâncio Aires&quot;,&quot;449&quot;,&quot;&quot;}}</td></tr></tbody></table></div>"
      ],
      "text/plain": [
       "shape: (2, 5)\n",
       "┌─────────────────────┬────────────────────┬────────────────────┬─────────────┬────────────────────┐\n",
       "│ listing             ┆ account            ┆ medias             ┆ accountLink ┆ link               │\n",
       "│ ---                 ┆ ---                ┆ ---                ┆ ---         ┆ ---                │\n",
       "│ struct[43]          ┆ struct[9]          ┆ list[struct[3]]    ┆ struct[4]   ┆ struct[4]          │\n",
       "╞═════════════════════╪════════════════════╪════════════════════╪═════════════╪════════════════════╡\n",
       "│ {\"10929a8c-7227-5af ┆ {\"10929a8c-7227-5a ┆ [{\"02cb37650ba1798 ┆ {\"Orientta  ┆ {\"Apartamento com  │\n",
       "│ f-fb05-6bf3…        ┆ ff-fb05-6bf3…      ┆ 46553f62e626…      ┆ Negócios    ┆ 2 Quartos à …      │\n",
       "│                     ┆                    ┆                    ┆ Imobiliári… ┆                    │\n",
       "│ {\"10929a8c-7227-5af ┆ {\"10929a8c-7227-5a ┆ [{\"02cb37650ba1798 ┆ {\"Orientta  ┆ {\"Apartamento com  │\n",
       "│ f-fb05-6bf3…        ┆ ff-fb05-6bf3…      ┆ 46553f62e626…      ┆ Negócios    ┆ 2 Quartos à …      │\n",
       "│                     ┆                    ┆                    ┆ Imobiliári… ┆                    │\n",
       "└─────────────────────┴────────────────────┴────────────────────┴─────────────┴────────────────────┘"
      ]
     },
     "execution_count": 37,
     "metadata": {},
     "output_type": "execute_result"
    }
   ],
   "source": [
    "neighborhoods_df_map[\"cidade_baixa\"].filter(pl.col(\"listing\").struct.field(\"id\") == \"2761415335\").collect()"
   ]
  },
  {
   "cell_type": "code",
   "execution_count": null,
   "metadata": {},
   "outputs": [],
   "source": [
    "kml_data_file = \"data/cheias_em_porto_alegre.kml\"\n",
    "polygons = extract_polygons_from_folder(\n",
    "    kml_data_file, \"Inundação simulada com nível 500 cm (5.0 m)\"\n",
    ")"
   ]
  }
 ],
 "metadata": {
  "kernelspec": {
   "display_name": ".venv",
   "language": "python",
   "name": "python3"
  },
  "language_info": {
   "codemirror_mode": {
    "name": "ipython",
    "version": 3
   },
   "file_extension": ".py",
   "mimetype": "text/x-python",
   "name": "python",
   "nbconvert_exporter": "python",
   "pygments_lexer": "ipython3",
   "version": "3.11.1"
  }
 },
 "nbformat": 4,
 "nbformat_minor": 2
}
